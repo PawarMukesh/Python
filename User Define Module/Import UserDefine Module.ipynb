{
 "cells": [
  {
   "cell_type": "code",
   "execution_count": 24,
   "id": "aa61aff8",
   "metadata": {},
   "outputs": [],
   "source": [
    "import Module\n",
    "from Module import add, sub, division, multiply, cube, cubeRoot, prime, even, odd "
   ]
  },
  {
   "cell_type": "code",
   "execution_count": 11,
   "id": "6ce07665",
   "metadata": {},
   "outputs": [
    {
     "data": {
      "text/plain": [
       "20"
      ]
     },
     "execution_count": 11,
     "metadata": {},
     "output_type": "execute_result"
    }
   ],
   "source": [
    "add(10,10)"
   ]
  },
  {
   "cell_type": "code",
   "execution_count": 8,
   "id": "47af1a1d",
   "metadata": {},
   "outputs": [
    {
     "data": {
      "text/plain": [
       "5"
      ]
     },
     "execution_count": 8,
     "metadata": {},
     "output_type": "execute_result"
    }
   ],
   "source": [
    "sub(10,5)"
   ]
  },
  {
   "cell_type": "code",
   "execution_count": 12,
   "id": "2527ef48",
   "metadata": {},
   "outputs": [
    {
     "data": {
      "text/plain": [
       "200"
      ]
     },
     "execution_count": 12,
     "metadata": {},
     "output_type": "execute_result"
    }
   ],
   "source": [
    "multiply(2,100)"
   ]
  },
  {
   "cell_type": "code",
   "execution_count": 14,
   "id": "a5a7be41",
   "metadata": {},
   "outputs": [
    {
     "data": {
      "text/plain": [
       "1.3125"
      ]
     },
     "execution_count": 14,
     "metadata": {},
     "output_type": "execute_result"
    }
   ],
   "source": [
    "division(10.5,8)"
   ]
  },
  {
   "cell_type": "code",
   "execution_count": 17,
   "id": "ebe93e03",
   "metadata": {},
   "outputs": [
    {
     "data": {
      "text/plain": [
       "1157.625"
      ]
     },
     "execution_count": 17,
     "metadata": {},
     "output_type": "execute_result"
    }
   ],
   "source": [
    "cube(10.5)"
   ]
  },
  {
   "cell_type": "code",
   "execution_count": 20,
   "id": "71924c9e",
   "metadata": {},
   "outputs": [
    {
     "data": {
      "text/plain": [
       "4.986630952238645"
      ]
     },
     "execution_count": 20,
     "metadata": {},
     "output_type": "execute_result"
    }
   ],
   "source": [
    "cubeRoot(124)"
   ]
  },
  {
   "cell_type": "code",
   "execution_count": 26,
   "id": "c7616d41",
   "metadata": {},
   "outputs": [
    {
     "data": {
      "text/plain": [
       "False"
      ]
     },
     "execution_count": 26,
     "metadata": {},
     "output_type": "execute_result"
    }
   ],
   "source": [
    "prime(3)"
   ]
  },
  {
   "cell_type": "code",
   "execution_count": 29,
   "id": "5f396efa",
   "metadata": {},
   "outputs": [
    {
     "data": {
      "text/plain": [
       "True"
      ]
     },
     "execution_count": 29,
     "metadata": {},
     "output_type": "execute_result"
    }
   ],
   "source": [
    "even(12)"
   ]
  },
  {
   "cell_type": "code",
   "execution_count": 30,
   "id": "48f36b78",
   "metadata": {},
   "outputs": [
    {
     "data": {
      "text/plain": [
       "True"
      ]
     },
     "execution_count": 30,
     "metadata": {},
     "output_type": "execute_result"
    }
   ],
   "source": [
    "odd(12.24)"
   ]
  },
  {
   "cell_type": "code",
   "execution_count": null,
   "id": "1409606b",
   "metadata": {},
   "outputs": [],
   "source": []
  }
 ],
 "metadata": {
  "kernelspec": {
   "display_name": "Python 3 (ipykernel)",
   "language": "python",
   "name": "python3"
  },
  "language_info": {
   "codemirror_mode": {
    "name": "ipython",
    "version": 3
   },
   "file_extension": ".py",
   "mimetype": "text/x-python",
   "name": "python",
   "nbconvert_exporter": "python",
   "pygments_lexer": "ipython3",
   "version": "3.9.13"
  }
 },
 "nbformat": 4,
 "nbformat_minor": 5
}

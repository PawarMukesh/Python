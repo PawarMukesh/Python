{
 "cells": [
  {
   "cell_type": "markdown",
   "id": "f332594f",
   "metadata": {},
   "source": [
    "# LAB: 1\n"
   ]
  },
  {
   "cell_type": "markdown",
   "id": "3c686b30",
   "metadata": {},
   "source": [
    "## Q 1. Write a program which uses a while loop to sum the squares of integers (starting from 1) until the total exceeds 200.print the final total and the last number to be squared and added."
   ]
  },
  {
   "cell_type": "code",
   "execution_count": 4,
   "id": "2664115d",
   "metadata": {},
   "outputs": [
    {
     "name": "stdout",
     "output_type": "stream",
     "text": [
      "Final Total: 204\n",
      "Last number suqared and to be added: 8\n"
     ]
    }
   ],
   "source": [
    "total = 0  # Initalize with zero to store the sum\n",
    "num = 1 # Number start from 1\n",
    "while total <= 200:   # Use while loop to contiune until the total is greater than 200\n",
    "    square = num**2   # Square of number start from 1\n",
    "    total += square   # Total of square\n",
    "    num = num+1       # Increment \n",
    "print(f\"Final Total: {total}\")\n",
    "print(f\"Last number suqared and to be added: {num-1}\")"
   ]
  },
  {
   "cell_type": "markdown",
   "id": "641f0740",
   "metadata": {},
   "source": [
    "## Q 2.Write a Python code to accept the 10 elements from the user and count the elements whose value lies between 20 to 25. "
   ]
  },
  {
   "cell_type": "code",
   "execution_count": 10,
   "id": "c4059fc3",
   "metadata": {},
   "outputs": [
    {
     "name": "stdout",
     "output_type": "stream",
     "text": [
      "15\n",
      "20\n",
      "22\n",
      "20\n",
      "25\n",
      "24\n",
      "7\n",
      "8\n",
      "54\n",
      "62\n",
      "Total no of element lies between 20 to 25: 5\n"
     ]
    }
   ],
   "source": [
    "count = 0  # Initalize with zero to count the number lies between 20 to 25\n",
    "for i in range(10):                     # 1000000\n",
    "    user = int(input())\n",
    "    if user >= 20 and user <=25:        # Condition to check the numbers between 20 to 25\n",
    "        count+=1   # Count the number\n",
    "print(f\"Total no of element lies between 20 to 25: {count}\")"
   ]
  },
  {
   "cell_type": "markdown",
   "id": "86df3d6f",
   "metadata": {},
   "source": [
    "## Q 3.Write a program which repeatedly prompts the user for an integer using while If the integer is even, print the integer. If the integer is odd, do not print anything Exit the program if the user enters the integer 95."
   ]
  },
  {
   "cell_type": "code",
   "execution_count": 24,
   "id": "49feb3fc",
   "metadata": {},
   "outputs": [
    {
     "name": "stdout",
     "output_type": "stream",
     "text": [
      "Enter the number: 2\n",
      "2\n",
      "Enter the number: 1\n",
      "Enter the number: 62\n",
      "62\n",
      "Enter the number: 4\n",
      "4\n",
      "Enter the number: 6\n",
      "6\n",
      "Enter the number: 8\n",
      "8\n",
      "Enter the number: 55\n",
      "Enter the number: 22\n",
      "22\n",
      "Enter the number: 41\n",
      "Enter the number: 95\n"
     ]
    }
   ],
   "source": [
    "while True:    # Used True Because of infinite loop & And break if the crtain conditon is met.\n",
    "    user = int(input(\"Enter the number: \"))\n",
    "    if user==95:\n",
    "        break\n",
    "    elif user%2==0:\n",
    "        print(user)\n",
    "   "
   ]
  },
  {
   "cell_type": "markdown",
   "id": "c9a98951",
   "metadata": {},
   "source": [
    "## Q.4 Write a Python code to read a string from user and count only the lower case vowels from the string."
   ]
  },
  {
   "cell_type": "code",
   "execution_count": 27,
   "id": "77d3b852",
   "metadata": {},
   "outputs": [
    {
     "name": "stdout",
     "output_type": "stream",
     "text": [
      "Enter the string: MuKeSH\n",
      "Total count of lower case vowel in string: 2\n"
     ]
    }
   ],
   "source": [
    "mystring = input(\"Enter the string: \")\n",
    "count = 0\n",
    "for char in mystring: \n",
    "    if char in 'aeiou':\n",
    "        count+=1\n",
    "print(f\"Total count of lower case vowel in string: {count}\")"
   ]
  },
  {
   "cell_type": "markdown",
   "id": "0acbeeae",
   "metadata": {},
   "source": [
    "## Q.5 write a python code to store the 5 train details and their tations list Use suitable data structures in python\n"
   ]
  },
  {
   "cell_type": "code",
   "execution_count": 38,
   "id": "1d656f82",
   "metadata": {},
   "outputs": [
    {
     "name": "stdout",
     "output_type": "stream",
     "text": [
      "---------------------------------------First Train Details-------------------------------------------------\n",
      "['Igatpuri', 'Nashik', 'Manmad', 'chalisgoan', 'Pachora', 'Jalgoan', 'Bhusaval']\n",
      "---------------------------------------Second Train Details-------------------------------------------------\n",
      "['Thane', 'Igatpuri', 'Ghoti']\n",
      "---------------------------------------Third Train Details-------------------------------------------------\n",
      "['Naded', 'Sambhaji Nagar', 'Manmad', 'Malegoan']\n",
      "---------------------------------------Fourth Train Details-------------------------------------------------\n",
      "['Lonvala', 'talegoan', 'Khadki']\n",
      "---------------------------------------Fifth Train Details-------------------------------------------------\n",
      "['Ayudhya', 'Mumbai', 'Pune']\n"
     ]
    }
   ],
   "source": [
    "train = {\"Igatpuri_Bhusaval_Passenger\":['Igatpuri','Nashik','Manmad','chalisgoan','Pachora','Jalgoan','Bhusaval'],\n",
    "        \"Kalyan_Express\":['Thane','Igatpuri','Ghoti'],\n",
    "        \"Amrutsar_Express\":['Naded','Sambhaji Nagar','Manmad','Malegoan'],\n",
    "        \"Pune_Mumbai\":['Lonvala','talegoan','Khadki'],\n",
    "        \"Ramghat_Express\":['Ayudhya','Mumbai','Pune']}\n",
    "\n",
    "print(\"---------------------------------------First Train Details-------------------------------------------------\")\n",
    "print(train['Igatpuri_Bhusaval_Passenger'])\n",
    "\n",
    "print(\"---------------------------------------Second Train Details-------------------------------------------------\")\n",
    "print(train['Kalyan_Express'])\n",
    "\n",
    "print(\"---------------------------------------Third Train Details-------------------------------------------------\")\n",
    "print(train['Amrutsar_Express'])\n",
    "\n",
    "print(\"---------------------------------------Fourth Train Details-------------------------------------------------\")\n",
    "print(train['Pune_Mumbai'])\n",
    "\n",
    "print(\"---------------------------------------Fifth Train Details-------------------------------------------------\")\n",
    "print(train['Ramghat_Express'])"
   ]
  },
  {
   "cell_type": "code",
   "execution_count": null,
   "id": "285bbf4c",
   "metadata": {},
   "outputs": [],
   "source": []
  }
 ],
 "metadata": {
  "kernelspec": {
   "display_name": "Python 3 (ipykernel)",
   "language": "python",
   "name": "python3"
  },
  "language_info": {
   "codemirror_mode": {
    "name": "ipython",
    "version": 3
   },
   "file_extension": ".py",
   "mimetype": "text/x-python",
   "name": "python",
   "nbconvert_exporter": "python",
   "pygments_lexer": "ipython3",
   "version": "3.12.4"
  }
 },
 "nbformat": 4,
 "nbformat_minor": 5
}

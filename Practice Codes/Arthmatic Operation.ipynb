{
 "cells": [
  {
   "cell_type": "code",
   "execution_count": 3,
   "id": "1ed1d732",
   "metadata": {},
   "outputs": [],
   "source": [
    "import math\n",
    "\n",
    "def add(n1,n2):\n",
    "    return n1+n2\n",
    "\n",
    "def sub(n1,n2):\n",
    "    return n1-n2\n",
    "\n",
    "def multiply(n1,n2):\n",
    "    return n1*n2\n",
    "\n",
    "def division(n1,n2):\n",
    "    return n1/n2\n",
    "\n",
    "def odd(n):\n",
    "    return n%2!=0\n",
    "\n",
    "def even(n):\n",
    "    return n%2==0\n",
    "\n",
    "def prime(n):\n",
    "    # A prime is a natural number which is more than 1, the no is divisible by 1 and itself is called prime no\n",
    "    c=0\n",
    "    for i in range(1,n+1):\n",
    "        c+=1\n",
    "        if n==2:\n",
    "            return True\n",
    "        else:\n",
    "            return False\n",
    "        \n",
    "def factorial(n):\n",
    "    fact = math.factorial(n)\n",
    "    return fact\n",
    "\n",
    "def cube(n):\n",
    "    return n**3\n",
    "\n",
    "def square(n):\n",
    "    return n*n\n",
    "\n",
    "def cubeRoot(n):\n",
    "    return n**(1/3)\n",
    "\n",
    "\n",
    "        "
   ]
  },
  {
   "cell_type": "code",
   "execution_count": null,
   "id": "f010d12e",
   "metadata": {},
   "outputs": [],
   "source": []
  }
 ],
 "metadata": {
  "kernelspec": {
   "display_name": "Python 3 (ipykernel)",
   "language": "python",
   "name": "python3"
  },
  "language_info": {
   "codemirror_mode": {
    "name": "ipython",
    "version": 3
   },
   "file_extension": ".py",
   "mimetype": "text/x-python",
   "name": "python",
   "nbconvert_exporter": "python",
   "pygments_lexer": "ipython3",
   "version": "3.9.13"
  }
 },
 "nbformat": 4,
 "nbformat_minor": 5
}

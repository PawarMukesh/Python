{
 "cells": [
  {
   "cell_type": "markdown",
   "id": "d71e238a",
   "metadata": {},
   "source": [
    "# Control Statements\n",
    "- Used to control the flow of execution of statements\n",
    "\n",
    "## Conditional Control Statements\n",
    "\n",
    "**1.if**\n",
    "\n",
    "**2.if__else**\n",
    "\n",
    "**3.if__elif__else**\n",
    "\n",
    "**4.Nested if**\n",
    "\n",
    "**5.match**"
   ]
  },
  {
   "cell_type": "markdown",
   "id": "434f28eb",
   "metadata": {},
   "source": [
    "## **1.simple if**"
   ]
  },
  {
   "cell_type": "code",
   "execution_count": 2,
   "id": "0f3b4b31",
   "metadata": {},
   "outputs": [
    {
     "name": "stdout",
     "output_type": "stream",
     "text": [
      "Greater\n"
     ]
    }
   ],
   "source": [
    "if 10>5:\n",
    "    print(\"Greater\")\n"
   ]
  },
  {
   "cell_type": "code",
   "execution_count": 10,
   "id": "27ee302c",
   "metadata": {},
   "outputs": [
    {
     "name": "stdout",
     "output_type": "stream",
     "text": [
      "10\n",
      "12\n",
      "14\n",
      "16\n",
      "18\n",
      "20\n",
      "22\n",
      "24\n",
      "26\n",
      "28\n",
      "30\n",
      "32\n",
      "34\n",
      "36\n",
      "38\n",
      "40\n",
      "42\n",
      "44\n",
      "46\n",
      "48\n",
      "50\n",
      "52\n",
      "54\n",
      "56\n",
      "58\n"
     ]
    }
   ],
   "source": [
    "list1 = list(range(10,60,2))\n",
    "for value in list1:\n",
    "    if value%2==0:\n",
    "        print(value)\n",
    "        "
   ]
  },
  {
   "cell_type": "code",
   "execution_count": 11,
   "id": "2919b66c",
   "metadata": {},
   "outputs": [
    {
     "name": "stdout",
     "output_type": "stream",
     "text": [
      "101\n"
     ]
    }
   ],
   "source": [
    "stud_dict={101:['Python','Mukesh'],\n",
    "          102:['Java','Suresh']}\n",
    "for key in stud_dict:\n",
    "    if key<102:\n",
    "        print(key)"
   ]
  },
  {
   "cell_type": "code",
   "execution_count": 23,
   "id": "361ce15d",
   "metadata": {},
   "outputs": [],
   "source": [
    "stud_dict1={101:['Python','Mukesh'],\n",
    "          102:['Java','Suresh'],\n",
    "          103:['Python','Vijay']}\n",
    "\n",
    "for rno in stud_dict1:\n",
    "    l=stud_dict1[rno]\n",
    "    if l[1]=='Python':\n",
    "        print(rno,l)\n",
    "    \n",
    "    "
   ]
  },
  {
   "cell_type": "markdown",
   "id": "6ad89a51",
   "metadata": {},
   "source": [
    "### **pass keyword or statement**\n",
    "- Represent null operation or empty block"
   ]
  },
  {
   "cell_type": "code",
   "execution_count": 26,
   "id": "f52ce179",
   "metadata": {},
   "outputs": [
    {
     "name": "stdout",
     "output_type": "stream",
     "text": [
      "Python\n"
     ]
    }
   ],
   "source": [
    "if 10==5:\n",
    "    pass\n",
    "print(\"Python\")"
   ]
  },
  {
   "cell_type": "markdown",
   "id": "250c8a62",
   "metadata": {},
   "source": [
    "## **if___else statement**\n",
    "- This syntax having 2 block\n",
    "\n",
    "if condition:\n",
    "    \n",
    "    statement-1\n",
    "    \n",
    "    statement-2\n",
    "    \n",
    "else:\n",
    "    \n",
    "    statement-3"
   ]
  },
  {
   "cell_type": "code",
   "execution_count": 28,
   "id": "ed7b3bf2",
   "metadata": {},
   "outputs": [
    {
     "name": "stdout",
     "output_type": "stream",
     "text": [
      "True\n"
     ]
    }
   ],
   "source": [
    "if 10>2:\n",
    "    print(\"True\")\n",
    "else:\n",
    "    print(\"False\")"
   ]
  },
  {
   "cell_type": "code",
   "execution_count": 29,
   "id": "d37d58af",
   "metadata": {},
   "outputs": [
    {
     "name": "stdout",
     "output_type": "stream",
     "text": [
      "False\n"
     ]
    }
   ],
   "source": [
    "if 10<2:\n",
    "    print(\"True\")\n",
    "else:\n",
    "    print(\"False\")"
   ]
  },
  {
   "cell_type": "code",
   "execution_count": 32,
   "id": "f5927031",
   "metadata": {},
   "outputs": [
    {
     "name": "stdout",
     "output_type": "stream",
     "text": [
      "Even 12\n",
      "odd 12\n"
     ]
    }
   ],
   "source": [
    "list1 = list(range(1,25,1))\n",
    "even_count, odd_count = 0, 0\n",
    "\n",
    "for value in list1:\n",
    "    if value%2==0:\n",
    "        even_count+=1\n",
    "    else:\n",
    "        odd_count+=1\n",
    "print(\"Even\",even_count)\n",
    "print(\"odd\",odd_count)\n",
    "        "
   ]
  },
  {
   "cell_type": "markdown",
   "id": "855bbad7",
   "metadata": {},
   "source": [
    "**Write a program to check the person is eligible or not for vaoting**"
   ]
  },
  {
   "cell_type": "code",
   "execution_count": 37,
   "id": "fe3a44ff",
   "metadata": {},
   "outputs": [
    {
     "name": "stdout",
     "output_type": "stream",
     "text": [
      "Enter Age: 18\n",
      "Eligible for vote \n"
     ]
    }
   ],
   "source": [
    "age = int(input(\"Enter Age: \"))\n",
    "if age>=18:\n",
    "    print(\"Eligible for vote \")\n",
    "else:\n",
    "    print(\"Not Eligible \")"
   ]
  },
  {
   "cell_type": "markdown",
   "id": "cf380f8d",
   "metadata": {},
   "source": [
    "**Write program to check person those who are elg to vote in follwing dict**"
   ]
  },
  {
   "cell_type": "code",
   "execution_count": 42,
   "id": "c344bb87",
   "metadata": {},
   "outputs": [
    {
     "name": "stdout",
     "output_type": "stream",
     "text": [
      "Mukesh 23 Eligible\n",
      "suresh 22 Eligible\n",
      "kalyani 20 Eligible\n",
      "Sakshi 27 Eligible\n",
      "Monika 12 Not Eligible\n"
     ]
    }
   ],
   "source": [
    "person_dict = {'Mukesh':23,'suresh':22,\n",
    "              'kalyani':20,'Sakshi':27,\n",
    "              'Monika':12}\n",
    "\n",
    "for name, age in person_dict.items():\n",
    "    if age>=18:\n",
    "        print(name,age,\"Eligible\")\n",
    "    else:\n",
    "        print(name,age,\"Not Eligible\")"
   ]
  },
  {
   "cell_type": "markdown",
   "id": "4303c141",
   "metadata": {},
   "source": [
    "### 3.if__elif__else (if.....else lader)\n",
    "- Used to verify multiple condtion"
   ]
  },
  {
   "cell_type": "markdown",
   "id": "489cc287",
   "metadata": {},
   "source": [
    "**Write a program to calculate the eletricity bill**"
   ]
  },
  {
   "cell_type": "code",
   "execution_count": 9,
   "id": "f0baa9e1",
   "metadata": {},
   "outputs": [
    {
     "name": "stdout",
     "output_type": "stream",
     "text": [
      "Enter the Units: 350\n",
      "Total Amount:  2000\n"
     ]
    }
   ],
   "source": [
    "units = int(input(\"Enter the Units: \"))\n",
    "if units<=100:\n",
    "    amt=0\n",
    "elif units>100 and units<=200:\n",
    "    amt=(units-100)*5\n",
    "elif units>200:\n",
    "    amt=500+(units-200)*10\n",
    "print(\"Total Amount: \",amt)"
   ]
  },
  {
   "cell_type": "markdown",
   "id": "e7b72a78",
   "metadata": {},
   "source": [
    "**Write a program to accept percentage from the user and display the grade according to criteria**"
   ]
  },
  {
   "cell_type": "code",
   "execution_count": 14,
   "id": "dc6bc9fa",
   "metadata": {},
   "outputs": [
    {
     "name": "stdout",
     "output_type": "stream",
     "text": [
      "Enter the percentage: 78\n",
      "C Grade\n"
     ]
    }
   ],
   "source": [
    "p = float(input(\"Enter the percentage: \"))\n",
    "if p>90:\n",
    "    print(\"A Grade\")\n",
    "elif p>80 and p<=90:\n",
    "    print(\"B Grade\")\n",
    "elif p>=60 and p<=80:\n",
    "    print(\"C Grade\")\n",
    "else:\n",
    "    print(\"D Grade\")"
   ]
  },
  {
   "cell_type": "markdown",
   "id": "067fe252",
   "metadata": {},
   "source": [
    "**Write a progrom to find +ve,-ve and zeros in given list**"
   ]
  },
  {
   "cell_type": "markdown",
   "id": "4c9c68e6",
   "metadata": {},
   "source": [
    "### 4.Nested if\n",
    "- If follwed by if is called nested if"
   ]
  },
  {
   "cell_type": "code",
   "execution_count": 15,
   "id": "54b03187",
   "metadata": {},
   "outputs": [
    {
     "name": "stdout",
     "output_type": "stream",
     "text": [
      "UserName: Naresh\n",
      "PassWord: n123\n",
      "Naresh Welcome\n"
     ]
    }
   ],
   "source": [
    "# Login Application\n",
    "user_dict = {'Naresh':'n123',\n",
    "            'Mukesh':'m123',\n",
    "            \"Sonika\":'s123',\n",
    "            'Roshni':'r123'}\n",
    "user =input(\"UserName: \")\n",
    "pwd = input(\"PassWord: \")\n",
    "if user in user_dict:\n",
    "    if pwd==user_dict[user]:\n",
    "        print(user,'Welcome')\n",
    "    else:\n",
    "        print(\"Invalid Password\")\n",
    "else:\n",
    "    print(\"Invalid Username\")"
   ]
  },
  {
   "cell_type": "code",
   "execution_count": 19,
   "id": "7974cc22",
   "metadata": {},
   "outputs": [
    {
     "name": "stdout",
     "output_type": "stream",
     "text": [
      "Enter first no: 1\n",
      "Enter second no: 1\n",
      "Enter third no: 478\n",
      "478 Max No\n"
     ]
    }
   ],
   "source": [
    "# Write a program to find a max of three no without logical operater\n",
    "a = int(input(\"Enter first no: \"))\n",
    "b = int(input(\"Enter second no: \"))\n",
    "c = int(input(\"Enter third no: \"))\n",
    "\n",
    "if a>b:\n",
    "    if a>c:\n",
    "        print(a,\"Max No\")\n",
    "    else:\n",
    "        print(c,\"Max No\")\n",
    "elif b>a:\n",
    "    if b>c:\n",
    "        print(b,\"Max No\")\n",
    "    else:\n",
    "        print(c,'Max No')\n",
    "elif c>a:\n",
    "    if c>b:\n",
    "        print(c,\"Max No\")\n",
    "    else:\n",
    "        print(b,\"Max No\")\n",
    "else:\n",
    "    print(a,b,c,\"Equal\")\n",
    "        "
   ]
  },
  {
   "cell_type": "markdown",
   "id": "b7e5e911",
   "metadata": {},
   "source": [
    "### New-----> match conditional Statement\n",
    "- Introduce in python 3.10\n",
    "- used to pattern matching\n",
    "- used to execute block of statement based on pattern matching or equality\n",
    "- Just like switchcase\n",
    "\n",
    "**Syntax:**\n",
    "\n",
    "match(expression/variable):\n",
    "  \n",
    "  \n",
    "  case value 1:\n",
    "  \n",
    "     statement-1\n",
    "     \n",
    "  case value 2:\n",
    "  \n",
    "     statement-2\n",
    "     \n",
    "   case_:\n",
    "      \n",
    "      statement-3"
   ]
  },
  {
   "cell_type": "code",
   "execution_count": null,
   "id": "e54372fe",
   "metadata": {},
   "outputs": [],
   "source": [
    "num = int(input(\"Enter integer between 1-10\"))\n",
    "match(num):\n",
    "    case 1:\n",
    "        print(\"I\")\n",
    "    case 2:\n",
    "        print(\"II\")\n",
    "    case 3:\n",
    "        print(\"III\")\n",
    "    case 4:\n",
    "        print(\"IV\")\n",
    "    case 5:\n",
    "        print(\"V\")\n",
    "    case 6:\n",
    "        print(\"VI\")\n",
    "    case 7:\n",
    "        print(\"VII\")\n",
    "    case 8:\n",
    "        print(\"VIII\")\n",
    "    case 9:\n",
    "        print(\"IX\")\n",
    "    case 10:\n",
    "        print(\"X\")\n",
    "    case _:\n",
    "        print(\"Invalid Integer\")\n",
    "        "
   ]
  },
  {
   "cell_type": "code",
   "execution_count": 20,
   "id": "6dce6ec6",
   "metadata": {},
   "outputs": [],
   "source": [
    "import sys"
   ]
  },
  {
   "cell_type": "code",
   "execution_count": 22,
   "id": "024eb1ba",
   "metadata": {},
   "outputs": [
    {
     "data": {
      "text/plain": [
       "'3.9.13 (main, Aug 25 2022, 23:51:50) [MSC v.1916 64 bit (AMD64)]'"
      ]
     },
     "execution_count": 22,
     "metadata": {},
     "output_type": "execute_result"
    }
   ],
   "source": [
    "sys.version"
   ]
  },
  {
   "cell_type": "code",
   "execution_count": null,
   "id": "f1bd5df2",
   "metadata": {},
   "outputs": [],
   "source": [
    "print(\"1.Area of triangle\")\n",
    "print(\"2.Area of circle\")\n",
    "print(\"3.Exit\")\n",
    "opt=int(input(\"Enter your option: \"))\n",
    "match(opt):\n",
    "    case 1:\n",
    "        base=float(input(\"Enter the base: \"))\n",
    "        height=float(input(\"Enter the height: \"))\n",
    "        area = 0.5*base*height\n",
    "        print(\"Area of traingle: \",area)\n",
    "    case 2:\n",
    "        r=float(input(\"Radius of circle: \"))\n",
    "        area = 3.147*r**2\n",
    "        print(\"Area of circle is: \",area)\n",
    "    case 3:\n",
    "        print(\"Thanks.....\")\n",
    "    case _:\n",
    "        print(\"Invalid Option\")\n"
   ]
  }
 ],
 "metadata": {
  "kernelspec": {
   "display_name": "Python 3 (ipykernel)",
   "language": "python",
   "name": "python3"
  },
  "language_info": {
   "codemirror_mode": {
    "name": "ipython",
    "version": 3
   },
   "file_extension": ".py",
   "mimetype": "text/x-python",
   "name": "python",
   "nbconvert_exporter": "python",
   "pygments_lexer": "ipython3",
   "version": "3.9.13"
  }
 },
 "nbformat": 4,
 "nbformat_minor": 5
}

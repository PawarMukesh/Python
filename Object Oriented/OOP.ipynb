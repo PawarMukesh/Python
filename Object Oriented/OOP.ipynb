{
 "cells": [
  {
   "cell_type": "code",
   "execution_count": 1,
   "id": "df79968a",
   "metadata": {},
   "outputs": [
    {
     "name": "stdout",
     "output_type": "stream",
     "text": [
      "<class '__main__.Car'>\n",
      "car Start.....\n",
      "car Start.....\n",
      "car Stop......\n",
      "car Stop......\n"
     ]
    }
   ],
   "source": [
    "class Car:\n",
    "    def start(self): # instance method/object level method\n",
    "        print(\"car Start.....\")\n",
    "    def stop(self):   # instance method/object level method\n",
    "        print(\"car Stop......\")\n",
    "        \n",
    "\n",
    "car1 = Car() # Creating of object\n",
    "car2 = Car() # Creating of object\n",
    "print(type(car1))\n",
    "car1.start()\n",
    "car2.start()\n",
    "car1.stop()\n",
    "car2.stop()"
   ]
  },
  {
   "cell_type": "code",
   "execution_count": 2,
   "id": "c50baff6",
   "metadata": {},
   "outputs": [
    {
     "name": "stdout",
     "output_type": "stream",
     "text": [
      "Person Talks\n",
      "Person Talks\n"
     ]
    }
   ],
   "source": [
    "class Person():\n",
    "    def talk(self):\n",
    "        print(\"Person Talks\")\n",
    "        \n",
    "def main():\n",
    "    p1 = Person()\n",
    "    p2 = Person()\n",
    "    p1.talk()\n",
    "    p2.talk()\n",
    "    \n",
    "main() "
   ]
  },
  {
   "cell_type": "code",
   "execution_count": 3,
   "id": "662b563d",
   "metadata": {},
   "outputs": [
    {
     "name": "stdout",
     "output_type": "stream",
     "text": [
      "Hello Python\n",
      "Python is easy\n"
     ]
    }
   ],
   "source": [
    "class Person():\n",
    "    def talk(self,msg):\n",
    "        print(msg)\n",
    "        \n",
    "def main():\n",
    "    p1 = Person()\n",
    "    p2 = Person()\n",
    "    p1.talk(\"Hello Python\")\n",
    "    p2.talk(\"Python is easy\")\n",
    "    \n",
    "main() "
   ]
  },
  {
   "cell_type": "code",
   "execution_count": 4,
   "id": "a4159b9f",
   "metadata": {},
   "outputs": [
    {
     "name": "stdout",
     "output_type": "stream",
     "text": [
      "101 Naresh\n",
      "102 Suresh\n"
     ]
    }
   ],
   "source": [
    "# Constructer woth argument\n",
    "class student:\n",
    "    def __init__(self,r,n):\n",
    "        self.rollno=r\n",
    "        self.name=n\n",
    "        \n",
    "def main():\n",
    "    stud1 = student(101,'Naresh') # 1st object\n",
    "    stud2 = student(102,'Suresh')  # 2nd object\n",
    "    print(stud1.rollno, stud1.name)\n",
    "    print(stud2.rollno, stud2.name)\n",
    "    \n",
    "    \n",
    "main()"
   ]
  },
  {
   "cell_type": "code",
   "execution_count": 5,
   "id": "b0390e23",
   "metadata": {},
   "outputs": [
    {
     "name": "stdout",
     "output_type": "stream",
     "text": [
      "100\n",
      "200\n"
     ]
    }
   ],
   "source": [
    "# Private\n",
    "\n",
    "class A:\n",
    "    def __init__(self):\n",
    "        self.__x=100\n",
    "        self.__y=200 # X & y both are private instance variable\n",
    "    def printXY(self): # instance method\n",
    "        print(self.__x)\n",
    "        print(self.__y)\n",
    "        \n",
    "def main():\n",
    "    obj1=A()\n",
    "    # print(obj1.__x) Error\n",
    "    obj1.printXY()\n",
    "    \n",
    "main()\n",
    "    "
   ]
  },
  {
   "cell_type": "code",
   "execution_count": 6,
   "id": "bad06ec4",
   "metadata": {},
   "outputs": [
    {
     "name": "stdout",
     "output_type": "stream",
     "text": [
      "100\n"
     ]
    }
   ],
   "source": [
    "# Public\n",
    "class B:\n",
    "    def __init__(self):\n",
    "        self.x=100 # Public variable\n",
    "        self.__y=20 # Private instance veriable\n",
    "        \n",
    "def main():\n",
    "    obj1=B() # Object creation\n",
    "    print(obj1.x)\n",
    "    \n",
    "main()"
   ]
  },
  {
   "cell_type": "code",
   "execution_count": 7,
   "id": "6daa5443",
   "metadata": {},
   "outputs": [
    {
     "name": "stdout",
     "output_type": "stream",
     "text": [
      "101,Naresh,50000\n"
     ]
    }
   ],
   "source": [
    "# Protected\n",
    "class Employee():\n",
    "    def __init__(self):\n",
    "        self.__empno=None\n",
    "        self.__ename=None\n",
    "        self.__salary=None\n",
    "    def setEmployee(self,e,en,s):\n",
    "        self.__empno=e\n",
    "        self.__ename=en\n",
    "        self.__salary=s\n",
    "    def printEmployee(self):\n",
    "        print(f'{self.__empno},{self.__ename},{self.__salary}')\n",
    "        \n",
    "        \n",
    "def main():\n",
    "    emp1=Employee()\n",
    "    emp1.setEmployee(101,\"Naresh\",50000)\n",
    "    emp1.printEmployee()\n",
    "    \n",
    "    \n",
    "main()\n",
    "    "
   ]
  },
  {
   "cell_type": "code",
   "execution_count": 8,
   "id": "ca11855c",
   "metadata": {},
   "outputs": [
    {
     "name": "stdout",
     "output_type": "stream",
     "text": [
      "Date of Birth: 13/5/2000\n"
     ]
    }
   ],
   "source": [
    "class Date:\n",
    "    def __init__(self, d,m,y):\n",
    "        self.__dd=d\n",
    "        self.__mm=m\n",
    "        self.__yy=y\n",
    "    def getyear(self):\n",
    "        return self.__yy\n",
    "    \n",
    "    def getMonth(self):\n",
    "        return self.__mm\n",
    "    \n",
    "    def getDate(self):\n",
    "        return self.__dd\n",
    "    \n",
    "    def setyear(self):\n",
    "        self.__yy=y\n",
    "        \n",
    "    \n",
    "    \n",
    "        \n",
    "def main():\n",
    "    dob=Date(13,5,2000)\n",
    "    y=dob.getyear()\n",
    "    m = dob.getMonth()\n",
    "    d=dob.getDate()\n",
    "    print(f'Date of Birth: {d}/{m}/{y}')\n",
    "    \n",
    "main()"
   ]
  },
  {
   "cell_type": "code",
   "execution_count": 10,
   "id": "0a8405c8",
   "metadata": {},
   "outputs": [
    {
     "name": "stdin",
     "output_type": "stream",
     "text": [
      "Enter the how many player:  2\n",
      "Enter the name:  Mukesh\n",
      "Enter the Score:  80\n"
     ]
    },
    {
     "name": "stdout",
     "output_type": "stream",
     "text": [
      "Mukesh\t80\n"
     ]
    },
    {
     "name": "stdin",
     "output_type": "stream",
     "text": [
      "Enter the name:  Vijay\n",
      "Enter the Score:  90\n"
     ]
    },
    {
     "name": "stdout",
     "output_type": "stream",
     "text": [
      "Vijay\t90\n",
      "[2, 2]\n"
     ]
    }
   ],
   "source": [
    "# Write a program to represent details of n players\n",
    "class Player:\n",
    "    def __init__(self):\n",
    "        self.__name=None\n",
    "        self.__score=None\n",
    "        \n",
    "    def read(self):\n",
    "        self.__name=input(\"Enter the name: \")\n",
    "        self.__score=int(input(\"Enter the Score: \"))\n",
    "    \n",
    "    def print_player(self):\n",
    "        print(f'{self.__name}\\t{self.__score}')\n",
    "        \n",
    "def main():\n",
    "    n=int(input(\"Enter the how many player: \"))\n",
    "    playList=[]\n",
    "    for i in range(n):\n",
    "        p=Player()\n",
    "        p.read()\n",
    "        p.print_player()\n",
    "        playList.append(n)\n",
    "    print(playList)\n",
    "        \n",
    "            \n",
    "main()"
   ]
  },
  {
   "cell_type": "code",
   "execution_count": null,
   "id": "8c64e6a5",
   "metadata": {},
   "outputs": [],
   "source": []
  }
 ],
 "metadata": {
  "kernelspec": {
   "display_name": "Python 3 (ipykernel)",
   "language": "python",
   "name": "python3"
  },
  "language_info": {
   "codemirror_mode": {
    "name": "ipython",
    "version": 3
   },
   "file_extension": ".py",
   "mimetype": "text/x-python",
   "name": "python",
   "nbconvert_exporter": "python",
   "pygments_lexer": "ipython3",
   "version": "3.12.4"
  }
 },
 "nbformat": 4,
 "nbformat_minor": 5
}

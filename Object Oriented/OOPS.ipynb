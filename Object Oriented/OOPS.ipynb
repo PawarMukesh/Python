{
 "cells": [
  {
   "cell_type": "code",
   "execution_count": 4,
   "id": "1a704bbe",
   "metadata": {},
   "outputs": [
    {
     "name": "stdout",
     "output_type": "stream",
     "text": [
      "College Information:\n",
      "Name: Symboisis University\n",
      "Location: Maharastra\n",
      "Founded Year: 1971\n"
     ]
    }
   ],
   "source": [
    "class College:\n",
    "    def __init__(self, name, location, founded_year):\n",
    "        self.name = name\n",
    "        self.location = location\n",
    "        self.founded_year = founded_year\n",
    "\n",
    "    def display_info(self):\n",
    "        print(f\"Name: {self.name}\")\n",
    "        print(f\"Location: {self.location}\")\n",
    "        print(f\"Founded Year: {self.founded_year}\")\n",
    "\n",
    "\n",
    "# Creating instances of the College class\n",
    "college = College(\"Symboisis University\", \"Maharastra\", 1971)\n",
    "\n",
    "# Displaying information about the colleges\n",
    "print(\"College Information:\")\n",
    "college.display_info()"
   ]
  },
  {
   "cell_type": "code",
   "execution_count": 8,
   "id": "2d9f2d1a",
   "metadata": {},
   "outputs": [
    {
     "name": "stdout",
     "output_type": "stream",
     "text": [
      "Total attendance: 3\n"
     ]
    }
   ],
   "source": [
    "class CollegeAttendance:\n",
    "    total_attendance = 0  # Class attribute\n",
    "\n",
    "    def __init__(self, student_name):\n",
    "        self.student_name = student_name\n",
    "        CollegeAttendance.total_attendance += 1  \n",
    "\n",
    "    @classmethod\n",
    "    def display_total_attendance(cls):\n",
    "        print(f\"Total attendance: {cls.total_attendance}\")\n",
    "\n",
    "\n",
    "# Creating instances of the CollegeAttendance class\n",
    "student1 = CollegeAttendance(\"Mukesh\")\n",
    "student2 = CollegeAttendance(\"Ratul\")\n",
    "student3 = CollegeAttendance(\"Rahul\")\n",
    "\n",
    "# total attendance\n",
    "CollegeAttendance.display_total_attendance()\n"
   ]
  }
 ],
 "metadata": {
  "kernelspec": {
   "display_name": "Python 3 (ipykernel)",
   "language": "python",
   "name": "python3"
  },
  "language_info": {
   "codemirror_mode": {
    "name": "ipython",
    "version": 3
   },
   "file_extension": ".py",
   "mimetype": "text/x-python",
   "name": "python",
   "nbconvert_exporter": "python",
   "pygments_lexer": "ipython3",
   "version": "3.12.4"
  }
 },
 "nbformat": 4,
 "nbformat_minor": 5
}

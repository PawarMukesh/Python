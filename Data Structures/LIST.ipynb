{
 "cells": [
  {
   "cell_type": "markdown",
   "id": "a27a749d",
   "metadata": {},
   "source": [
    "# LIST"
   ]
  },
  {
   "cell_type": "code",
   "execution_count": 2,
   "id": "af8cc0d8",
   "metadata": {},
   "outputs": [
    {
     "data": {
      "text/plain": [
       "[]"
      ]
     },
     "execution_count": 2,
     "metadata": {},
     "output_type": "execute_result"
    }
   ],
   "source": [
    "# Create empty list\n",
    "L = []\n",
    "L"
   ]
  },
  {
   "cell_type": "code",
   "execution_count": 3,
   "id": "db6991b8",
   "metadata": {},
   "outputs": [
    {
     "name": "stdout",
     "output_type": "stream",
     "text": [
      "[10, 20, 30, 40, 50]\n"
     ]
    }
   ],
   "source": [
    "# List with element\n",
    "list1=[10,20,30,40,50]\n",
    "print(list1)"
   ]
  },
  {
   "cell_type": "code",
   "execution_count": 4,
   "id": "141caaba",
   "metadata": {},
   "outputs": [
    {
     "name": "stdout",
     "output_type": "stream",
     "text": [
      "['mukeshpawar@gmail.com', 'pawar@gmail.com', 'pmukesh@gmail.com']\n"
     ]
    }
   ],
   "source": [
    "# List of emails\n",
    "list2=['mukeshpawar@gmail.com','pawar@gmail.com','pmukesh@gmail.com']\n",
    "print(list2)"
   ]
  },
  {
   "cell_type": "code",
   "execution_count": 5,
   "id": "bf2cdb3a",
   "metadata": {},
   "outputs": [
    {
     "name": "stdout",
     "output_type": "stream",
     "text": [
      "[1, 2, 3, 4, 5]\n"
     ]
    }
   ],
   "source": [
    "# Homogeneous list\n",
    "list3=[1,2,3,4,5]\n",
    "print(list3)"
   ]
  },
  {
   "cell_type": "code",
   "execution_count": 6,
   "id": "476d4d2e",
   "metadata": {},
   "outputs": [
    {
     "name": "stdout",
     "output_type": "stream",
     "text": [
      "[10, 'Data', 'Science']\n"
     ]
    }
   ],
   "source": [
    "# Hetrogeneous list\n",
    "list4=[10,\"Data\",\"Science\"]\n",
    "print(list4)"
   ]
  },
  {
   "cell_type": "code",
   "execution_count": 8,
   "id": "758ce7b8",
   "metadata": {},
   "outputs": [
    {
     "name": "stdout",
     "output_type": "stream",
     "text": [
      "<class 'list'>\n"
     ]
    }
   ],
   "source": [
    "# Get type of mail records\n",
    "print(type(list2))"
   ]
  },
  {
   "cell_type": "code",
   "execution_count": 9,
   "id": "c42c9957",
   "metadata": {},
   "outputs": [
    {
     "name": "stdout",
     "output_type": "stream",
     "text": [
      "['P', 'Y', 'T', 'H', 'O', 'N']\n"
     ]
    }
   ],
   "source": [
    "# Convert existing collection into list type\n",
    "list5= list(\"PYTHON\")\n",
    "print(list5)"
   ]
  },
  {
   "cell_type": "code",
   "execution_count": 10,
   "id": "f349ad87",
   "metadata": {},
   "outputs": [
    {
     "name": "stdout",
     "output_type": "stream",
     "text": [
      "[10, 20, 30, 40]\n"
     ]
    }
   ],
   "source": [
    "list6=list([10,20,30,40])\n",
    "print(list6)"
   ]
  },
  {
   "cell_type": "markdown",
   "id": "b0f72bae",
   "metadata": {},
   "source": [
    "## **Read Data From List**\n",
    "1. Using Index\n",
    "2. Using Slice\n",
    "3. Using for loop\n",
    "4. Iterator\n",
    "5. Enumerate"
   ]
  },
  {
   "cell_type": "markdown",
   "id": "45b3d9c7",
   "metadata": {},
   "source": [
    "**Using Index**\n",
    "1. using index read only one value not more"
   ]
  },
  {
   "cell_type": "code",
   "execution_count": 1,
   "id": "25c0c796",
   "metadata": {},
   "outputs": [
    {
     "name": "stdout",
     "output_type": "stream",
     "text": [
      "10\n"
     ]
    }
   ],
   "source": [
    "l=[10,20,30,40,50]\n",
    "print(l[0])"
   ]
  },
  {
   "cell_type": "code",
   "execution_count": 3,
   "id": "f0a57c3f",
   "metadata": {},
   "outputs": [
    {
     "name": "stdout",
     "output_type": "stream",
     "text": [
      "10 20 30\n"
     ]
    }
   ],
   "source": [
    "# Forword indexing\n",
    "print(l[0],l[1],l[2])"
   ]
  },
  {
   "cell_type": "code",
   "execution_count": 4,
   "id": "b98a9735",
   "metadata": {},
   "outputs": [
    {
     "name": "stdout",
     "output_type": "stream",
     "text": [
      "50 40 30\n"
     ]
    }
   ],
   "source": [
    "# Backword indexing\n",
    "print(l[-1],l[-2],l[-3])"
   ]
  },
  {
   "cell_type": "markdown",
   "id": "da513ce2",
   "metadata": {},
   "source": [
    "**Python Program to interchange the first and last elements in list**"
   ]
  },
  {
   "cell_type": "code",
   "execution_count": 8,
   "id": "b074a097",
   "metadata": {},
   "outputs": [
    {
     "data": {
      "text/plain": [
       "[60, 20, 30, 40, 50, 10]"
      ]
     },
     "execution_count": 8,
     "metadata": {},
     "output_type": "execute_result"
    }
   ],
   "source": [
    "# Swapping elements\n",
    "list7 = [10,20,30,40,50,60]\n",
    "list7[0],list7[-1] = list7[-1], list7[0]\n",
    "list7"
   ]
  },
  {
   "cell_type": "code",
   "execution_count": 5,
   "id": "015f2644",
   "metadata": {},
   "outputs": [
    {
     "name": "stdout",
     "output_type": "stream",
     "text": [
      "[60, 20, 30, 40, 50, 10]\n"
     ]
    }
   ],
   "source": [
    "# Swap element using different variable\n",
    "list8 = [10,20,30,40,50,60]\n",
    "temp = list8[0]\n",
    "list8[0]=list8[-1]\n",
    "list8[-1]=temp\n",
    "print(list8)"
   ]
  },
  {
   "cell_type": "code",
   "execution_count": 13,
   "id": "bd4fc305",
   "metadata": {},
   "outputs": [
    {
     "data": {
      "text/plain": [
       "[2, 4, 7, 8, 1]"
      ]
     },
     "execution_count": 13,
     "metadata": {},
     "output_type": "execute_result"
    }
   ],
   "source": [
    "# Write a function to swap element in list\n",
    "def swap(list, pos1, pos2):\n",
    "    list[pos1], list[pos2] = list[pos2], list[pos1]\n",
    "    return list\n",
    "\n",
    "# Driver function\n",
    "l = [1,4,7,8,2]\n",
    "pos1, pos2 = 0,-1  # Idex position\n",
    "swap(l, pos1, pos2)"
   ]
  },
  {
   "cell_type": "markdown",
   "id": "e2e10218",
   "metadata": {},
   "source": [
    "**Using Slicing**"
   ]
  },
  {
   "cell_type": "code",
   "execution_count": 10,
   "id": "2ec0a5c0",
   "metadata": {},
   "outputs": [
    {
     "data": {
      "text/plain": [
       "[1, 4, 7, 8, 5]"
      ]
     },
     "execution_count": 10,
     "metadata": {},
     "output_type": "execute_result"
    }
   ],
   "source": [
    "list9=[1,4,7,8,5,6,2]\n",
    "list9[0:5]  # Give start position and end position"
   ]
  },
  {
   "cell_type": "code",
   "execution_count": 11,
   "id": "9d26e2d5",
   "metadata": {},
   "outputs": [
    {
     "data": {
      "text/plain": [
       "[10, 30, 50]"
      ]
     },
     "execution_count": 11,
     "metadata": {},
     "output_type": "execute_result"
    }
   ],
   "source": [
    "list10=[10,20,30,40,50,60,70,80,90]\n",
    "list10[0:6:2] # Start, End & Step position are given"
   ]
  },
  {
   "cell_type": "code",
   "execution_count": 12,
   "id": "0596d4f6",
   "metadata": {},
   "outputs": [
    {
     "data": {
      "text/plain": [
       "[90, 80, 70, 60, 50]"
      ]
     },
     "execution_count": 12,
     "metadata": {},
     "output_type": "execute_result"
    }
   ],
   "source": [
    "list10[-1:-6:-1]"
   ]
  },
  {
   "cell_type": "code",
   "execution_count": 14,
   "id": "7c486abf",
   "metadata": {},
   "outputs": [
    {
     "data": {
      "text/plain": [
       "[10, 20, 30, 40, 50]"
      ]
     },
     "execution_count": 14,
     "metadata": {},
     "output_type": "execute_result"
    }
   ],
   "source": [
    "# Creating copy of list\n",
    "list10 = [10,20,30,40,50]\n",
    "list11 = list10[::]\n",
    "list11"
   ]
  },
  {
   "cell_type": "code",
   "execution_count": 18,
   "id": "62b30d0f",
   "metadata": {},
   "outputs": [
    {
     "data": {
      "text/plain": [
       "[10, 20, 30, 40, 50]"
      ]
     },
     "execution_count": 18,
     "metadata": {},
     "output_type": "execute_result"
    }
   ],
   "source": [
    "list11[::]"
   ]
  },
  {
   "cell_type": "code",
   "execution_count": 19,
   "id": "f1f10491",
   "metadata": {},
   "outputs": [
    {
     "data": {
      "text/plain": [
       "[50, 40, 30, 20, 10]"
      ]
     },
     "execution_count": 19,
     "metadata": {},
     "output_type": "execute_result"
    }
   ],
   "source": [
    "# Reverse the list\n",
    "list11[::-1]"
   ]
  },
  {
   "cell_type": "code",
   "execution_count": 20,
   "id": "42001d5f",
   "metadata": {},
   "outputs": [
    {
     "data": {
      "text/plain": [
       "[50, 30, 10]"
      ]
     },
     "execution_count": 20,
     "metadata": {},
     "output_type": "execute_result"
    }
   ],
   "source": [
    "# Gets element from list with two steps with reverse order\n",
    "list11[::-2]"
   ]
  },
  {
   "cell_type": "code",
   "execution_count": 21,
   "id": "b8e7a6d6",
   "metadata": {},
   "outputs": [
    {
     "data": {
      "text/plain": [
       "[10, 20, 30, 40, 50]"
      ]
     },
     "execution_count": 21,
     "metadata": {},
     "output_type": "execute_result"
    }
   ],
   "source": [
    "# READ first 5 element from list\n",
    "list12=[10,20,30,40,50,60,70,80,90,100]\n",
    "list12[:5]"
   ]
  },
  {
   "cell_type": "code",
   "execution_count": 22,
   "id": "e22e1fcf",
   "metadata": {},
   "outputs": [
    {
     "data": {
      "text/plain": [
       "[10, 20, 30, 40, 50, 60]"
      ]
     },
     "execution_count": 22,
     "metadata": {},
     "output_type": "execute_result"
    }
   ],
   "source": [
    "list12[:-4]\n",
    "# If the stop is -ve , it converts into +ve"
   ]
  },
  {
   "cell_type": "code",
   "execution_count": 25,
   "id": "08a445fa",
   "metadata": {},
   "outputs": [
    {
     "name": "stdout",
     "output_type": "stream",
     "text": [
      "[10, 20, 30, 40, 50, 60, 70, 80, 90, 100]\n"
     ]
    },
    {
     "data": {
      "text/plain": [
       "[40, 50, 60, 70, 80, 90, 100]"
      ]
     },
     "execution_count": 25,
     "metadata": {},
     "output_type": "execute_result"
    }
   ],
   "source": [
    "# Get element from particular index position\n",
    "list13=[10,20,30,40,50,60,70,80,90,100]\n",
    "print(list13)\n",
    "list13[3:] "
   ]
  },
  {
   "cell_type": "code",
   "execution_count": 26,
   "id": "d1dbe9b0",
   "metadata": {},
   "outputs": [
    {
     "data": {
      "text/plain": [
       "[80, 90, 100]"
      ]
     },
     "execution_count": 26,
     "metadata": {},
     "output_type": "execute_result"
    }
   ],
   "source": [
    "list13[-3:]"
   ]
  },
  {
   "cell_type": "code",
   "execution_count": 27,
   "id": "3e10eeaa",
   "metadata": {},
   "outputs": [
    {
     "data": {
      "text/plain": [
       "[20, 30, 40, 50, 60]"
      ]
     },
     "execution_count": 27,
     "metadata": {},
     "output_type": "execute_result"
    }
   ],
   "source": [
    "# list-name[Start:Stop:Step]\n",
    "list13[1:6:1]"
   ]
  },
  {
   "cell_type": "code",
   "execution_count": 28,
   "id": "bb6b2602",
   "metadata": {},
   "outputs": [
    {
     "data": {
      "text/plain": [
       "[40, 50, 60, 70]"
      ]
     },
     "execution_count": 28,
     "metadata": {},
     "output_type": "execute_result"
    }
   ],
   "source": [
    "list13[3:-3]"
   ]
  },
  {
   "cell_type": "markdown",
   "id": "7b886599",
   "metadata": {},
   "source": [
    "**Read Element Using **FOR LOOP****"
   ]
  },
  {
   "cell_type": "code",
   "execution_count": 30,
   "id": "00ce1ef8",
   "metadata": {},
   "outputs": [
    {
     "name": "stdout",
     "output_type": "stream",
     "text": [
      "Python\n",
      "C\n",
      "C++\n",
      "Java\n",
      ".Net\n",
      "Lenght of List: 5\n"
     ]
    }
   ],
   "source": [
    "courseList=[\"Python\",\"C\",\"C++\",\"Java\",\".Net\"]\n",
    "for name in courseList:\n",
    "    print(name)\n",
    "print(\"Lenght of List:\",len(courseList))"
   ]
  },
  {
   "cell_type": "markdown",
   "id": "d969679a",
   "metadata": {},
   "source": [
    "**Write a program to print all even no in list**"
   ]
  },
  {
   "cell_type": "code",
   "execution_count": 1,
   "id": "55d98a07",
   "metadata": {},
   "outputs": [
    {
     "name": "stdout",
     "output_type": "stream",
     "text": [
      "10 4 8 2 6 "
     ]
    }
   ],
   "source": [
    "list1=[10,4,7,8,2,5,6]\n",
    "for values in list1:\n",
    "    if values%2==0:\n",
    "        print(values,end=' ')"
   ]
  },
  {
   "cell_type": "markdown",
   "id": "26118dd7",
   "metadata": {},
   "source": [
    "**Write a program to print odd no in list**"
   ]
  },
  {
   "cell_type": "code",
   "execution_count": 7,
   "id": "360305bb",
   "metadata": {},
   "outputs": [
    {
     "name": "stdout",
     "output_type": "stream",
     "text": [
      "1 3 5 9 "
     ]
    }
   ],
   "source": [
    "list2=[1,4,2,3,5,8,9]\n",
    "for no in list2:\n",
    "    if no%2!=0:\n",
    "        print(no,end=' ')"
   ]
  },
  {
   "cell_type": "markdown",
   "id": "7839db52",
   "metadata": {},
   "source": [
    "**Write a python program to print all positive no in list**"
   ]
  },
  {
   "cell_type": "code",
   "execution_count": 8,
   "id": "f4be9e5e",
   "metadata": {},
   "outputs": [
    {
     "name": "stdout",
     "output_type": "stream",
     "text": [
      "0\n",
      "4\n",
      "52\n"
     ]
    }
   ],
   "source": [
    "list3=[0,-1,4,-8,-32,52]\n",
    "for value in list3:\n",
    "    if value>=0:\n",
    "        print(value)"
   ]
  },
  {
   "cell_type": "markdown",
   "id": "457cab3d",
   "metadata": {},
   "source": [
    "**write a python program to print all negative no in list**"
   ]
  },
  {
   "cell_type": "code",
   "execution_count": 9,
   "id": "6cc76eaa",
   "metadata": {},
   "outputs": [
    {
     "name": "stdout",
     "output_type": "stream",
     "text": [
      "-1 -2 -4 "
     ]
    }
   ],
   "source": [
    "list4=[-1,0,-2,-4,7]\n",
    "for number in list4:\n",
    "    if number<0:\n",
    "        print(number,end=' ')"
   ]
  },
  {
   "cell_type": "markdown",
   "id": "c931cde7",
   "metadata": {},
   "source": [
    "### Read List Element Using iter() Function\n",
    "1. iterator object iterate element from collection\n",
    "2. It allows to read elements in forword direction\n",
    "3. iterator is for read only\n",
    "4. Used for non-index based collection"
   ]
  },
  {
   "cell_type": "code",
   "execution_count": 11,
   "id": "fdcf6807",
   "metadata": {},
   "outputs": [
    {
     "name": "stdout",
     "output_type": "stream",
     "text": [
      "Read Single value using iter function:\n",
      "1\n",
      "4\n",
      "7\n",
      "8\n",
      "5\n",
      "2\n",
      "9\n",
      "6\n",
      "3\n",
      "0\n"
     ]
    }
   ],
   "source": [
    "l=[1,4,7,8,5,2,9,6,3,0]\n",
    "a=iter(l)\n",
    "v1=next(a)\n",
    "v2=next(a)\n",
    "v3=next(a)\n",
    "v4=next(a)\n",
    "v5=next(a)\n",
    "v6=next(a)\n",
    "v7=next(a)\n",
    "v8=next(a)\n",
    "v9=next(a)\n",
    "v10=next(a)\n",
    "print(\"Read Single value using iter function:\",v1,v2,v3,v4,v5,v6,v7,v8,v9,v10, sep='\\n')"
   ]
  },
  {
   "cell_type": "code",
   "execution_count": 13,
   "id": "a965573e",
   "metadata": {},
   "outputs": [
    {
     "name": "stdout",
     "output_type": "stream",
     "text": [
      "1\n",
      "4\n",
      "7\n",
      "8\n",
      "5\n",
      "2\n",
      "9\n",
      "6\n",
      "3\n",
      "0\n"
     ]
    }
   ],
   "source": [
    "# Easy way to read element using iter\n",
    "l=[1,4,7,8,5,2,9,6,3,0]\n",
    "a=iter(l)\n",
    "for values in a:\n",
    "    print(values)"
   ]
  },
  {
   "cell_type": "markdown",
   "id": "cf1e4ba9",
   "metadata": {},
   "source": [
    "### Read List Element Using Enumerate\n",
    "* Enumerator is similar to the iterator but return the two values\n",
    "1. Count\n",
    "2. Value read from collection\n",
    "\n",
    "**Syntax**\n",
    "\n",
    "enumerate(iterable/collection, strat=0)"
   ]
  },
  {
   "cell_type": "code",
   "execution_count": 17,
   "id": "3ef03ad6",
   "metadata": {},
   "outputs": [
    {
     "name": "stdout",
     "output_type": "stream",
     "text": [
      "(0, 1)\n",
      "(1, 4)\n",
      "(2, 7)\n",
      "(3, 8)\n",
      "(4, -10)\n"
     ]
    }
   ],
   "source": [
    "l = [1,4,7,8,-10]\n",
    "a=enumerate(l)  # Default count start from zero\n",
    "for no in a:\n",
    "    print(no)"
   ]
  },
  {
   "cell_type": "markdown",
   "id": "2ab320ef",
   "metadata": {},
   "source": [
    "**Create Sales list with year**"
   ]
  },
  {
   "cell_type": "code",
   "execution_count": 19,
   "id": "2e503241",
   "metadata": {},
   "outputs": [
    {
     "name": "stdout",
     "output_type": "stream",
     "text": [
      "(2010, 1000)\n",
      "(2011, 2000)\n",
      "(2012, 3000)\n",
      "(2013, 4000)\n",
      "(2014, 5000)\n"
     ]
    }
   ],
   "source": [
    "sales = [1000,2000,3000,4000,5000]\n",
    "a = enumerate(sales, start=2010)\n",
    "for sale in a:\n",
    "    print(sale)"
   ]
  },
  {
   "cell_type": "markdown",
   "id": "17aa461a",
   "metadata": {},
   "source": [
    "## List Function"
   ]
  },
  {
   "cell_type": "markdown",
   "id": "46b3e4ad",
   "metadata": {},
   "source": [
    "**1. append()------      Add single element** "
   ]
  },
  {
   "cell_type": "code",
   "execution_count": 24,
   "id": "4eb3e84d",
   "metadata": {},
   "outputs": [
    {
     "data": {
      "text/plain": [
       "[1, 4, 7, 8, 3, 10]"
      ]
     },
     "execution_count": 24,
     "metadata": {},
     "output_type": "execute_result"
    }
   ],
   "source": [
    "l=[1,4,7,8,3]\n",
    "l.append(10)\n",
    "l"
   ]
  },
  {
   "cell_type": "markdown",
   "id": "985b5abd",
   "metadata": {},
   "source": [
    "**2. extend()-------Add Multiple element**"
   ]
  },
  {
   "cell_type": "code",
   "execution_count": 4,
   "id": "24b26d02",
   "metadata": {},
   "outputs": [
    {
     "name": "stdout",
     "output_type": "stream",
     "text": [
      "[1, 3, 5, 7, 9, 10, 45, 30]\n"
     ]
    }
   ],
   "source": [
    "# extend()\n",
    "l=list(range(1,10,2))\n",
    "l.extend([10,45,30])\n",
    "print(l)"
   ]
  },
  {
   "cell_type": "markdown",
   "id": "8c19d013",
   "metadata": {},
   "source": [
    "**3.Replace Multiple element in index position using slicing**"
   ]
  },
  {
   "cell_type": "code",
   "execution_count": 6,
   "id": "f5d43943",
   "metadata": {},
   "outputs": [
    {
     "name": "stdout",
     "output_type": "stream",
     "text": [
      "[1, 3, 5, 7, 9, 10, 45, 30]\n",
      "[100, 200, 300, 7, 9, 10, 45, 30]\n"
     ]
    }
   ],
   "source": [
    "# Add element using slicing\n",
    "print(l)\n",
    "l[0:3]=[100,200,300]\n",
    "print(l)"
   ]
  },
  {
   "cell_type": "code",
   "execution_count": 8,
   "id": "b8438017",
   "metadata": {},
   "outputs": [
    {
     "name": "stdout",
     "output_type": "stream",
     "text": [
      "[100, 200, 300, 7, 9, 10, 45, 30]\n",
      "[100, 200, 300, 7, 9, 1, 2, 3]\n"
     ]
    }
   ],
   "source": [
    "print(l)\n",
    "l[-3:]=[1,2,3]\n",
    "print(l)"
   ]
  },
  {
   "cell_type": "markdown",
   "id": "794624b0",
   "metadata": {},
   "source": [
    "**4.Deleting & Removing Element**\n",
    "1. del ---- delete one item or more than one item\n",
    "2. remove ---- delete specific element\n",
    "3. pop ------ read and remove last element from list\n",
    "4. clear ------ remove all element from list and make list empty"
   ]
  },
  {
   "cell_type": "markdown",
   "id": "b6dcde01",
   "metadata": {},
   "source": [
    "**1.del**"
   ]
  },
  {
   "cell_type": "code",
   "execution_count": 9,
   "id": "e939a922",
   "metadata": {},
   "outputs": [
    {
     "name": "stdout",
     "output_type": "stream",
     "text": [
      "[2, 5, 7, 8, 9, 5]\n"
     ]
    }
   ],
   "source": [
    "l=[4,2,5,7,8,9,5]\n",
    "# Remove element from list\n",
    "del l[0] # Need to mention index position\n",
    "print(l)"
   ]
  },
  {
   "cell_type": "code",
   "execution_count": 13,
   "id": "9b60ed53",
   "metadata": {},
   "outputs": [
    {
     "name": "stdout",
     "output_type": "stream",
     "text": [
      "[7, 8, 9, 5]\n"
     ]
    }
   ],
   "source": [
    "# Delete multiple element\n",
    "del l[0:2]\n",
    "print(l)"
   ]
  },
  {
   "cell_type": "markdown",
   "id": "4cade0ec",
   "metadata": {},
   "source": [
    "**2.remove()**"
   ]
  },
  {
   "cell_type": "code",
   "execution_count": 14,
   "id": "dd2b4b20",
   "metadata": {},
   "outputs": [
    {
     "name": "stdout",
     "output_type": "stream",
     "text": [
      "[7, 8, 4, 2, 1]\n"
     ]
    }
   ],
   "source": [
    "l=[7,8,5,4,2,1]\n",
    "l.remove(5)\n",
    "print(l)"
   ]
  },
  {
   "cell_type": "markdown",
   "id": "efb14e81",
   "metadata": {},
   "source": [
    "**3.pop()**"
   ]
  },
  {
   "cell_type": "code",
   "execution_count": 16,
   "id": "76b051d0",
   "metadata": {},
   "outputs": [
    {
     "name": "stdout",
     "output_type": "stream",
     "text": [
      "5 6\n",
      "[78, 74.0, 45.1, 25, 65.0, 1.2]\n"
     ]
    }
   ],
   "source": [
    "l=[78,74.0,45.1,25,65.0,1.2,6,5]\n",
    "x=l.pop()\n",
    "y=l.pop()\n",
    "print(x,y)\n",
    "print(l)"
   ]
  },
  {
   "cell_type": "markdown",
   "id": "a5975572",
   "metadata": {},
   "source": [
    "**4.clear()**"
   ]
  },
  {
   "cell_type": "code",
   "execution_count": 17,
   "id": "080e44f2",
   "metadata": {},
   "outputs": [
    {
     "name": "stdout",
     "output_type": "stream",
     "text": [
      "[]\n"
     ]
    }
   ],
   "source": [
    "l=[7,4,1,2,5,5,6,3]\n",
    "l.clear()\n",
    "print(l)"
   ]
  },
  {
   "cell_type": "markdown",
   "id": "16b254e8",
   "metadata": {},
   "source": [
    "**5.sort(), sorted()**\n",
    "* Sorting the element of list in ascending or descending order\n",
    "* If vlaue is false, then it will start into ascending order\n",
    "* If the value is True, then it will start into descending order"
   ]
  },
  {
   "cell_type": "code",
   "execution_count": 19,
   "id": "6366b634",
   "metadata": {},
   "outputs": [
    {
     "name": "stdout",
     "output_type": "stream",
     "text": [
      "[1.0, 4.2, 7, 8.4, 25, 25, 45, 65, 89]\n"
     ]
    }
   ],
   "source": [
    "l=[1.0,4.2,8.4,7,25,25,45,65,89]\n",
    "l.sort()\n",
    "print(l)"
   ]
  },
  {
   "cell_type": "code",
   "execution_count": 20,
   "id": "d1fc759a",
   "metadata": {},
   "outputs": [
    {
     "data": {
      "text/plain": [
       "[1.0, 4.2, 7, 8.4, 25, 25, 45, 65, 89]"
      ]
     },
     "execution_count": 20,
     "metadata": {},
     "output_type": "execute_result"
    }
   ],
   "source": [
    "sorted(l)"
   ]
  },
  {
   "cell_type": "code",
   "execution_count": 23,
   "id": "c5c04bed",
   "metadata": {},
   "outputs": [
    {
     "name": "stdout",
     "output_type": "stream",
     "text": [
      "['A', 'z', 'c', 'Z', 'K', 'l', 'm']\n",
      "['A', 'K', 'Z', 'c', 'l', 'm', 'z']\n"
     ]
    }
   ],
   "source": [
    "l=['A','z','c','Z','K','l',\"m\"]\n",
    "print(l)\n",
    "l.sort(reverse=False) # It will give the first A because of ASCII value of a is 65\n",
    "print(l) "
   ]
  },
  {
   "cell_type": "code",
   "execution_count": 24,
   "id": "d2cc65b9",
   "metadata": {},
   "outputs": [
    {
     "name": "stdout",
     "output_type": "stream",
     "text": [
      "['A', 'z', 'c', 'Z', 'K', 'l', 'm']\n",
      "['A', 'c', 'K', 'l', 'm', 'z', 'Z']\n"
     ]
    }
   ],
   "source": [
    "l=['A','z','c','Z','K','l',\"m\"]\n",
    "print(l)\n",
    "# Here we add one str function called as upper\n",
    "l.sort(key=str.upper,reverse=False) # It will give the first A because of ASCII value of a is 65\n",
    "print(l) "
   ]
  },
  {
   "cell_type": "markdown",
   "id": "f88258ed",
   "metadata": {},
   "source": [
    "**6.insert(index position, new element)**\n",
    "* add element in index position"
   ]
  },
  {
   "cell_type": "code",
   "execution_count": 25,
   "id": "26961f07",
   "metadata": {},
   "outputs": [
    {
     "name": "stdout",
     "output_type": "stream",
     "text": [
      "[1, 1000, 4, 5, 2]\n"
     ]
    }
   ],
   "source": [
    "l=[1,4,5,2]\n",
    "l.insert(1,1000)\n",
    "print(l)"
   ]
  },
  {
   "cell_type": "markdown",
   "id": "6a500746",
   "metadata": {},
   "source": [
    "**7.count(element)**\n",
    "* get the count of repeated element"
   ]
  },
  {
   "cell_type": "code",
   "execution_count": 26,
   "id": "c3b9f063",
   "metadata": {},
   "outputs": [
    {
     "data": {
      "text/plain": [
       "3"
      ]
     },
     "execution_count": 26,
     "metadata": {},
     "output_type": "execute_result"
    }
   ],
   "source": [
    "l=[10,20,30,40,50,10,40,10]\n",
    "l.count(10) # Get count "
   ]
  },
  {
   "cell_type": "markdown",
   "id": "c2d3cfea",
   "metadata": {},
   "source": [
    "**8.reverse()**\n",
    "* Reverse a list"
   ]
  },
  {
   "cell_type": "code",
   "execution_count": 28,
   "id": "fed2d099",
   "metadata": {},
   "outputs": [
    {
     "data": {
      "text/plain": [
       "[70, 60, 50, 40, 30, 20, 10]"
      ]
     },
     "execution_count": 28,
     "metadata": {},
     "output_type": "execute_result"
    }
   ],
   "source": [
    "l=[10,20,30,40,50,60,70]\n",
    "l.reverse()\n",
    "l"
   ]
  },
  {
   "cell_type": "markdown",
   "id": "4f953958",
   "metadata": {},
   "source": [
    "**9.copy()**\n",
    "1. Shallow copy: is also know as refrence copy,this shallow copy the adress of element, If we make change in one copy then change will happen in all copy\n",
    "2. Deep copy: Create new object, if we make changes in one list, then the changes will not happen in other list\n"
   ]
  },
  {
   "cell_type": "code",
   "execution_count": 29,
   "id": "a0e8d6ae",
   "metadata": {},
   "outputs": [
    {
     "data": {
      "text/plain": [
       "[10, 20, 30, 40, 50, 60, 70]"
      ]
     },
     "execution_count": 29,
     "metadata": {},
     "output_type": "execute_result"
    }
   ],
   "source": [
    "l=[10,20,30,40,50,60,70]\n",
    "l1 = l.copy()\n",
    "l1"
   ]
  },
  {
   "cell_type": "code",
   "execution_count": 1,
   "id": "dbf86843",
   "metadata": {},
   "outputs": [
    {
     "name": "stdout",
     "output_type": "stream",
     "text": [
      "[10, 20, [30, 40]]\n"
     ]
    }
   ],
   "source": [
    "list1=[10,20,[30,40]]\n",
    "list2 = list1.copy()\n",
    "print(list2)"
   ]
  },
  {
   "cell_type": "code",
   "execution_count": 2,
   "id": "5766609e",
   "metadata": {},
   "outputs": [],
   "source": [
    "# Replace value\n",
    "list1[2][0]=99"
   ]
  },
  {
   "cell_type": "code",
   "execution_count": 3,
   "id": "d1e4a5e4",
   "metadata": {},
   "outputs": [
    {
     "data": {
      "text/plain": [
       "[10, 20, [99, 40]]"
      ]
     },
     "execution_count": 3,
     "metadata": {},
     "output_type": "execute_result"
    }
   ],
   "source": [
    "list1"
   ]
  },
  {
   "cell_type": "code",
   "execution_count": 4,
   "id": "a0736602",
   "metadata": {},
   "outputs": [
    {
     "data": {
      "text/plain": [
       "[10, 20, [99, 40]]"
      ]
     },
     "execution_count": 4,
     "metadata": {},
     "output_type": "execute_result"
    }
   ],
   "source": [
    "list2"
   ]
  },
  {
   "cell_type": "markdown",
   "id": "2eaad18b",
   "metadata": {},
   "source": [
    "**2.Deep Copy**"
   ]
  },
  {
   "cell_type": "code",
   "execution_count": 6,
   "id": "b060e025",
   "metadata": {},
   "outputs": [],
   "source": [
    "import copy"
   ]
  },
  {
   "cell_type": "code",
   "execution_count": 7,
   "id": "324a9035",
   "metadata": {},
   "outputs": [
    {
     "data": {
      "text/plain": [
       "[10, 20, [30, 40]]"
      ]
     },
     "execution_count": 7,
     "metadata": {},
     "output_type": "execute_result"
    }
   ],
   "source": [
    "list1=[10,20,[30,40]]\n",
    "list2=copy.deepcopy(list1)\n",
    "list2"
   ]
  },
  {
   "cell_type": "code",
   "execution_count": 8,
   "id": "67af29b0",
   "metadata": {},
   "outputs": [],
   "source": [
    "# Replcae\n",
    "list1[2][0]=100"
   ]
  },
  {
   "cell_type": "code",
   "execution_count": 10,
   "id": "eb958d67",
   "metadata": {},
   "outputs": [
    {
     "data": {
      "text/plain": [
       "[10, 20, [30, 40]]"
      ]
     },
     "execution_count": 10,
     "metadata": {},
     "output_type": "execute_result"
    }
   ],
   "source": [
    "list2  # Changes not reflect in deep copy"
   ]
  },
  {
   "cell_type": "markdown",
   "id": "eecd26de",
   "metadata": {},
   "source": [
    "### Nested List"
   ]
  },
  {
   "cell_type": "code",
   "execution_count": 11,
   "id": "9c9ac8d7",
   "metadata": {},
   "outputs": [
    {
     "data": {
      "text/plain": [
       "[[100, 200, 300, 400], [450, 256, 123, 456]]"
      ]
     },
     "execution_count": 11,
     "metadata": {},
     "output_type": "execute_result"
    }
   ],
   "source": [
    "sales=[[100,200,300,400],[450,256,123,456]]\n",
    "sales"
   ]
  },
  {
   "cell_type": "code",
   "execution_count": 12,
   "id": "05ae53b4",
   "metadata": {},
   "outputs": [
    {
     "name": "stdout",
     "output_type": "stream",
     "text": [
      "[['Data', 'Science'], ['ML', 'DL']]\n"
     ]
    }
   ],
   "source": [
    "name=[[\"Data\",\"Science\"],[\"ML\",\"DL\"]]\n",
    "print(name)"
   ]
  },
  {
   "cell_type": "code",
   "execution_count": 13,
   "id": "058c7b3e",
   "metadata": {},
   "outputs": [
    {
     "name": "stdout",
     "output_type": "stream",
     "text": [
      "[[1, 2, 3], [4, 5, 6], [7, 8, 9]]\n"
     ]
    }
   ],
   "source": [
    "matrix=[[1,2,3],[4,5,6],[7,8,9]]\n",
    "print(matrix)"
   ]
  },
  {
   "cell_type": "markdown",
   "id": "5c994979",
   "metadata": {},
   "source": [
    "**Nested List indexing**"
   ]
  },
  {
   "cell_type": "code",
   "execution_count": 14,
   "id": "ff765994",
   "metadata": {},
   "outputs": [
    {
     "data": {
      "text/plain": [
       "256"
      ]
     },
     "execution_count": 14,
     "metadata": {},
     "output_type": "execute_result"
    }
   ],
   "source": [
    "sales[1][1]"
   ]
  },
  {
   "cell_type": "code",
   "execution_count": 15,
   "id": "adb834cb",
   "metadata": {},
   "outputs": [
    {
     "data": {
      "text/plain": [
       "'Science'"
      ]
     },
     "execution_count": 15,
     "metadata": {},
     "output_type": "execute_result"
    }
   ],
   "source": [
    "name[0][1]"
   ]
  },
  {
   "cell_type": "code",
   "execution_count": 16,
   "id": "4090690b",
   "metadata": {},
   "outputs": [
    {
     "data": {
      "text/plain": [
       "9"
      ]
     },
     "execution_count": 16,
     "metadata": {},
     "output_type": "execute_result"
    }
   ],
   "source": [
    "matrix[2][2]"
   ]
  },
  {
   "cell_type": "markdown",
   "id": "d1a0dd14",
   "metadata": {},
   "source": [
    "**Write a program to create 3x3 Matix and display**"
   ]
  },
  {
   "cell_type": "code",
   "execution_count": 17,
   "id": "719b1488",
   "metadata": {},
   "outputs": [
    {
     "name": "stdout",
     "output_type": "stream",
     "text": [
      "1\n",
      "4\n",
      "7\n",
      "8\n",
      "5\n",
      "2\n",
      "9\n",
      "6\n",
      "3\n",
      "[[1, 4, 7], [8, 5, 2], [9, 6, 3]]\n"
     ]
    }
   ],
   "source": [
    "matrix=[]\n",
    "for i in range(3):\n",
    "    row=[]\n",
    "    for j in range(3):\n",
    "        value=int(input())\n",
    "        row.append(value)\n",
    "    matrix.append(row)\n",
    "print(matrix)"
   ]
  },
  {
   "cell_type": "markdown",
   "id": "d4b3ef7a",
   "metadata": {},
   "source": [
    "# Read value from nested list\n",
    "1. Using For loop\n",
    "2. Using Indexing\n",
    "3. Using Slicing"
   ]
  },
  {
   "cell_type": "code",
   "execution_count": 3,
   "id": "4405c366",
   "metadata": {},
   "outputs": [
    {
     "name": "stdout",
     "output_type": "stream",
     "text": [
      "[[100, 200, 300], ['ML', 'DL', 'AI']]\n"
     ]
    },
    {
     "data": {
      "text/plain": [
       "'AI'"
      ]
     },
     "execution_count": 3,
     "metadata": {},
     "output_type": "execute_result"
    }
   ],
   "source": [
    "\"\"\" Nesred list creation \"\"\"\n",
    "list1 = [[100,200,300],[\"ML\",\"DL\",\"AI\"]]\n",
    "print(list1)\n",
    "\n",
    "\n",
    "# Nested list indexing\n",
    "list1[1][2]"
   ]
  },
  {
   "cell_type": "code",
   "execution_count": 26,
   "id": "b7b91ccc",
   "metadata": {},
   "outputs": [
    {
     "name": "stdout",
     "output_type": "stream",
     "text": [
      "[1, 4, 7]\n",
      "[8, 5, 2]\n",
      "[9, 6, 3]\n"
     ]
    }
   ],
   "source": [
    "# Using For loop\n",
    "for i in range(3):\n",
    "    print(matrix[i])"
   ]
  },
  {
   "cell_type": "code",
   "execution_count": 32,
   "id": "378233d6",
   "metadata": {},
   "outputs": [
    {
     "name": "stdout",
     "output_type": "stream",
     "text": [
      "1 4 7 8 5 2 9 6 3 "
     ]
    }
   ],
   "source": [
    "for i in range(3):\n",
    "    for j in range(3):\n",
    "        print(matrix[i][j],end=' ')"
   ]
  },
  {
   "cell_type": "markdown",
   "id": "11497a9b",
   "metadata": {},
   "source": [
    "**Write a program to input a string of four no and if no in more 10, then print the count**"
   ]
  },
  {
   "cell_type": "code",
   "execution_count": 46,
   "id": "96aa74b2",
   "metadata": {},
   "outputs": [
    {
     "name": "stdout",
     "output_type": "stream",
     "text": [
      "15 18 10 1\n",
      "3\n"
     ]
    }
   ],
   "source": [
    "list1=list(map(int,input().split()))\n",
    "c=0\n",
    "for x in list1:\n",
    "    if x>=10:\n",
    "        c+=1\n",
    "print(c)"
   ]
  },
  {
   "cell_type": "markdown",
   "id": "2b2ee31a",
   "metadata": {},
   "source": [
    "**Write a program to add two matrices with the size of MxN**"
   ]
  },
  {
   "cell_type": "code",
   "execution_count": 2,
   "id": "f19a6882",
   "metadata": {},
   "outputs": [
    {
     "name": "stdout",
     "output_type": "stream",
     "text": [
      "4\n",
      "4\n",
      "Enter values of matrix1:\n",
      "1\n",
      "2\n",
      "3\n",
      "4\n",
      "4\n",
      "5\n",
      "6\n",
      "7\n",
      "1\n",
      "2\n",
      "3\n",
      "4\n",
      "45\n",
      "6\n",
      "7\n",
      "7\n",
      "4\n",
      "4\n",
      "1\n",
      "1\n",
      "1\n",
      "1\n",
      "1\n",
      "1\n",
      "1\n",
      "1\n",
      "1\n",
      "7\n",
      "8\n",
      "8\n",
      "8\n",
      "8\n",
      "[[1, 2, 3, 4], [4, 5, 6, 7], [1, 2, 3, 4], [45, 6, 7, 7]]\n",
      "[[4, 4, 1, 1], [1, 1, 1, 1], [1, 1, 1, 7], [8, 8, 8, 8]]\n",
      "[[5, 6, 4, 5], [5, 6, 7, 8], [2, 3, 4, 11], [53, 14, 15, 15]]\n"
     ]
    }
   ],
   "source": [
    "m=int(input())\n",
    "n=int(input())\n",
    "matrix0=[]\n",
    "matrix1=[]\n",
    "matrix2=[]\n",
    "print(\"Enter values of matrix1:\")\n",
    "for i in range(m):\n",
    "    row=[]\n",
    "    for j in range(n):\n",
    "        value=int(input())\n",
    "        row.append(value)\n",
    "    matrix0.append(row)\n",
    "\n",
    "for i in range(m):\n",
    "    row=[]\n",
    "    for j in range(n):\n",
    "        value=int(input())\n",
    "        row.append(value)\n",
    "    matrix1.append(row)\n",
    "    \n",
    "for i in range(m):\n",
    "    row=[]\n",
    "    for j in range(n):\n",
    "        row.append(matrix0[i][j]+matrix1[i][j])\n",
    "    matrix2.append(row)\n",
    "\n",
    "print(matrix0)\n",
    "print(matrix1)\n",
    "print(matrix2)\n",
    "        \n",
    "    "
   ]
  },
  {
   "cell_type": "markdown",
   "id": "c7eaa4c6",
   "metadata": {},
   "source": [
    "**Write a program to create 2x2 matrix**"
   ]
  },
  {
   "cell_type": "code",
   "execution_count": 3,
   "id": "5faa866c",
   "metadata": {},
   "outputs": [
    {
     "name": "stdout",
     "output_type": "stream",
     "text": [
      "Enter rows:2\n",
      "Enter column2\n",
      "1\n",
      "4\n",
      "7\n",
      "8\n",
      "[[1, 4], [7, 8]]\n"
     ]
    }
   ],
   "source": [
    "row=int(input(\"Enter rows:\"))\n",
    "column=int(input(\"Enter column\"))\n",
    "martix=[]\n",
    "for i in range(row):\n",
    "    row=[]\n",
    "    for j in range(column):\n",
    "        value=int(input())\n",
    "        row.append(value)\n",
    "    martix.append(row)\n",
    "print(martix)"
   ]
  },
  {
   "cell_type": "markdown",
   "id": "9b957b94",
   "metadata": {},
   "source": [
    "### List Comprehension\n",
    "- One of the easieast way to create list, set and dictionary\n",
    "\n",
    "* For constructing a list or set or dictionary, python provides a special syntax each of them two flavours\n",
    "\n",
    "**1. Syntax-1**\n",
    "- [Expression for variable in iterable]\n",
    "\n",
    "**2. Syntax-2**\n",
    "- [Expression for variable in iterable if test]\n",
    "- it works on condition, if the expression is true then it evaluates the element and store in list"
   ]
  },
  {
   "cell_type": "markdown",
   "id": "fff6f282",
   "metadata": {},
   "source": [
    "**Syntax-1**\n",
    "----- [Expression for variable in iterable]"
   ]
  },
  {
   "cell_type": "code",
   "execution_count": 4,
   "id": "9e0d4d97",
   "metadata": {},
   "outputs": [
    {
     "name": "stdout",
     "output_type": "stream",
     "text": [
      "[1, 4, 9, 16, 25, 36, 49, 64, 81, 100]\n"
     ]
    }
   ],
   "source": [
    "l= [num**2 for num in range(1,11)]\n",
    "print(l)"
   ]
  },
  {
   "cell_type": "code",
   "execution_count": 3,
   "id": "ffa77853",
   "metadata": {},
   "outputs": [
    {
     "name": "stdout",
     "output_type": "stream",
     "text": [
      "Enter the No:10\n",
      "10\n",
      "4\n",
      "7\n",
      "8\n",
      "5\n",
      "2\n",
      "9\n",
      "6\n",
      "2\n",
      "2\n"
     ]
    },
    {
     "data": {
      "text/plain": [
       "[10, 4, 7, 8, 5, 2, 9, 6, 2, 2]"
      ]
     },
     "execution_count": 3,
     "metadata": {},
     "output_type": "execute_result"
    }
   ],
   "source": [
    "# Create list using list comprehension\n",
    "n=int(input(\"Enter the No:\"))\n",
    "l1=[int(input()) for i in range(n)]\n",
    "l1"
   ]
  },
  {
   "cell_type": "markdown",
   "id": "d8000c97",
   "metadata": {},
   "source": [
    "**Syntax-2**\n",
    "------- [Expresion for variable in iterable if test]"
   ]
  },
  {
   "cell_type": "code",
   "execution_count": 4,
   "id": "f44037a4",
   "metadata": {},
   "outputs": [
    {
     "name": "stdout",
     "output_type": "stream",
     "text": [
      "[2, 4, 8, 6, 4, 32, 24, 78, 94]\n"
     ]
    }
   ],
   "source": [
    "l = [1,2,4,5,7,8,9,6,3,4,45,65,32,23,33,25,24,78,94]\n",
    "l1=[value for value in l if value%2==0]\n",
    "print(l1)"
   ]
  },
  {
   "cell_type": "markdown",
   "id": "49f10072",
   "metadata": {},
   "source": [
    "### Comman Operation"
   ]
  },
  {
   "cell_type": "markdown",
   "id": "d65dab0a",
   "metadata": {},
   "source": [
    "**1.in**\n",
    "- Used for searching, and return boolean output"
   ]
  },
  {
   "cell_type": "code",
   "execution_count": 5,
   "id": "8c079ebb",
   "metadata": {},
   "outputs": [
    {
     "data": {
      "text/plain": [
       "True"
      ]
     },
     "execution_count": 5,
     "metadata": {},
     "output_type": "execute_result"
    }
   ],
   "source": [
    "l=[10,20,30,40]\n",
    "10 in l"
   ]
  },
  {
   "cell_type": "code",
   "execution_count": 7,
   "id": "e8ec4d3d",
   "metadata": {},
   "outputs": [
    {
     "name": "stdout",
     "output_type": "stream",
     "text": [
      "['Python', 'Java', '.Net', 'C', 'C++']\n",
      "Enter Course Name:C++\n",
      "Yes,Course is available\n"
     ]
    }
   ],
   "source": [
    "courseList=['Python','Java','.Net','C','C++']\n",
    "print(courseList)\n",
    "cname=input(\"Enter Course Name:\")\n",
    "if cname in courseList:\n",
    "    print(\"Yes,Course is available\")\n",
    "else:\n",
    "    print(\"Not available\")"
   ]
  },
  {
   "cell_type": "markdown",
   "id": "9d06ddf6",
   "metadata": {},
   "source": [
    "**2. not in**\n",
    "- return false if element is present, otherwise is true"
   ]
  },
  {
   "cell_type": "code",
   "execution_count": 8,
   "id": "f3c3ee43",
   "metadata": {},
   "outputs": [
    {
     "data": {
      "text/plain": [
       "False"
      ]
     },
     "execution_count": 8,
     "metadata": {},
     "output_type": "execute_result"
    }
   ],
   "source": [
    "l=[10,20,30,40,50,60]\n",
    "10 not in l"
   ]
  },
  {
   "cell_type": "code",
   "execution_count": 9,
   "id": "f862cdea",
   "metadata": {},
   "outputs": [
    {
     "data": {
      "text/plain": [
       "True"
      ]
     },
     "execution_count": 9,
     "metadata": {},
     "output_type": "execute_result"
    }
   ],
   "source": [
    "70 not in l"
   ]
  },
  {
   "cell_type": "markdown",
   "id": "4bdf7f5e",
   "metadata": {},
   "source": [
    "**3.Concatination +**"
   ]
  },
  {
   "cell_type": "code",
   "execution_count": 10,
   "id": "fe72b53c",
   "metadata": {},
   "outputs": [
    {
     "data": {
      "text/plain": [
       "['Ml', 'Dl', 'NLP', 'Data Science']"
      ]
     },
     "execution_count": 10,
     "metadata": {},
     "output_type": "execute_result"
    }
   ],
   "source": [
    "name=[\"Ml\",\"Dl\",\"NLP\"]\n",
    "name1=[\"Data Science\"]\n",
    "name2=name+name1\n",
    "name2"
   ]
  },
  {
   "cell_type": "markdown",
   "id": "a76733f1",
   "metadata": {},
   "source": [
    "**4.** *\n",
    "- Repeat sequance n times"
   ]
  },
  {
   "cell_type": "code",
   "execution_count": 11,
   "id": "068881e7",
   "metadata": {},
   "outputs": [
    {
     "data": {
      "text/plain": [
       "[1, 2, 3, 4, 1, 2, 3, 4]"
      ]
     },
     "execution_count": 11,
     "metadata": {},
     "output_type": "execute_result"
    }
   ],
   "source": [
    "l=[1,2,3,4]\n",
    "l1=l*2\n",
    "l1"
   ]
  },
  {
   "cell_type": "markdown",
   "id": "4d3b592c",
   "metadata": {},
   "source": [
    "**5.len()**\n",
    "- Counting the total element/item"
   ]
  },
  {
   "cell_type": "code",
   "execution_count": 12,
   "id": "cdb9eb75",
   "metadata": {},
   "outputs": [
    {
     "data": {
      "text/plain": [
       "11"
      ]
     },
     "execution_count": 12,
     "metadata": {},
     "output_type": "execute_result"
    }
   ],
   "source": [
    "l=[1,4,7,8,5,5,2,0,0,0,1]\n",
    "len(l)"
   ]
  },
  {
   "cell_type": "markdown",
   "id": "1f60306b",
   "metadata": {},
   "source": [
    "**6.min()**\n",
    "- Return  minimum value"
   ]
  },
  {
   "cell_type": "code",
   "execution_count": 13,
   "id": "6d6ba15d",
   "metadata": {},
   "outputs": [
    {
     "data": {
      "text/plain": [
       "0"
      ]
     },
     "execution_count": 13,
     "metadata": {},
     "output_type": "execute_result"
    }
   ],
   "source": [
    "l=[1,4,7,8,5,5,2,0,0,0,1]\n",
    "min(l)"
   ]
  },
  {
   "cell_type": "markdown",
   "id": "97951b42",
   "metadata": {},
   "source": [
    "**7.max()**\n",
    "- Return maximum value"
   ]
  },
  {
   "cell_type": "code",
   "execution_count": 14,
   "id": "87473b4b",
   "metadata": {},
   "outputs": [
    {
     "data": {
      "text/plain": [
       "8"
      ]
     },
     "execution_count": 14,
     "metadata": {},
     "output_type": "execute_result"
    }
   ],
   "source": [
    "l=[1,4,7,8,5,5,2,0,0,0,1]\n",
    "max(l)"
   ]
  },
  {
   "cell_type": "markdown",
   "id": "3e390d1c",
   "metadata": {},
   "source": [
    "**8.index()**\n",
    "- Used to get index position as well as insert value"
   ]
  },
  {
   "cell_type": "code",
   "execution_count": 16,
   "id": "02339969",
   "metadata": {},
   "outputs": [
    {
     "data": {
      "text/plain": [
       "1"
      ]
     },
     "execution_count": 16,
     "metadata": {},
     "output_type": "execute_result"
    }
   ],
   "source": [
    "l=[1,4,7,8,5,5,2,0,0,0,1]\n",
    "l.index(4)"
   ]
  },
  {
   "cell_type": "code",
   "execution_count": 17,
   "id": "1583fcb3",
   "metadata": {},
   "outputs": [
    {
     "data": {
      "text/plain": [
       "7"
      ]
     },
     "execution_count": 17,
     "metadata": {},
     "output_type": "execute_result"
    }
   ],
   "source": [
    "l.index(0)"
   ]
  },
  {
   "cell_type": "code",
   "execution_count": 18,
   "id": "7a56712a",
   "metadata": {},
   "outputs": [],
   "source": [
    "del l[7]"
   ]
  },
  {
   "cell_type": "code",
   "execution_count": 19,
   "id": "460648b1",
   "metadata": {},
   "outputs": [
    {
     "data": {
      "text/plain": [
       "[1, 4, 7, 8, 5, 5, 2, 0, 0, 1]"
      ]
     },
     "execution_count": 19,
     "metadata": {},
     "output_type": "execute_result"
    }
   ],
   "source": [
    "l"
   ]
  },
  {
   "cell_type": "code",
   "execution_count": 23,
   "id": "78d93355",
   "metadata": {},
   "outputs": [
    {
     "data": {
      "text/plain": [
       "4"
      ]
     },
     "execution_count": 23,
     "metadata": {},
     "output_type": "execute_result"
    }
   ],
   "source": [
    "# Find index location where to where\n",
    "l.index(5,1)"
   ]
  },
  {
   "cell_type": "markdown",
   "id": "0a16a0db",
   "metadata": {},
   "source": [
    "**9.count()**\n",
    "- Used to get the element occurance"
   ]
  },
  {
   "cell_type": "code",
   "execution_count": 24,
   "id": "e180a02f",
   "metadata": {},
   "outputs": [
    {
     "data": {
      "text/plain": [
       "3"
      ]
     },
     "execution_count": 24,
     "metadata": {},
     "output_type": "execute_result"
    }
   ],
   "source": [
    "l=[1,1,1,2,3,4]\n",
    "l.count(1)"
   ]
  },
  {
   "cell_type": "code",
   "execution_count": null,
   "id": "765efb20",
   "metadata": {},
   "outputs": [],
   "source": []
  }
 ],
 "metadata": {
  "kernelspec": {
   "display_name": "Python 3 (ipykernel)",
   "language": "python",
   "name": "python3"
  },
  "language_info": {
   "codemirror_mode": {
    "name": "ipython",
    "version": 3
   },
   "file_extension": ".py",
   "mimetype": "text/x-python",
   "name": "python",
   "nbconvert_exporter": "python",
   "pygments_lexer": "ipython3",
   "version": "3.9.13"
  }
 },
 "nbformat": 4,
 "nbformat_minor": 5
}

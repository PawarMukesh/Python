{
 "cells": [
  {
   "cell_type": "markdown",
   "id": "4c94f130",
   "metadata": {},
   "source": [
    "# dict"
   ]
  },
  {
   "cell_type": "markdown",
   "id": "910ee0f1",
   "metadata": {},
   "source": [
    "- It gives the meaning of key\n",
    "- dict key is immuatable and value is mutable\n",
    "- In dict data is orgnized in key & value pair"
   ]
  },
  {
   "cell_type": "markdown",
   "id": "7dcc6fdb",
   "metadata": {},
   "source": [
    "### How to create dictionary\n",
    "1. Use a comman seprated list or key: -------> {\"Jayesh\":10,\"Sachin\":20} or {10:\"Jayesh\",20:\"Sachin\"}\n",
    "2. use dict comprehension: ----------> {}, {x:x**2 for x in range(10)}\n",
    "3. Use type constructor: --------> \n",
    "    1. dict()\n",
    "    2.dict(['foo':100])\n",
    "    3.dict(foo=100,bar=20)"
   ]
  },
  {
   "cell_type": "markdown",
   "id": "8f08d98b",
   "metadata": {},
   "source": [
    "**1.Empty dict**"
   ]
  },
  {
   "cell_type": "code",
   "execution_count": 2,
   "id": "d8ab9be7",
   "metadata": {},
   "outputs": [
    {
     "name": "stdout",
     "output_type": "stream",
     "text": [
      "<class 'dict'>\n"
     ]
    }
   ],
   "source": [
    "d = {}\n",
    "print(type(d))"
   ]
  },
  {
   "cell_type": "markdown",
   "id": "d6f4513e",
   "metadata": {},
   "source": [
    "**2.Use a comman seprated list or key**"
   ]
  },
  {
   "cell_type": "code",
   "execution_count": 3,
   "id": "82510a0e",
   "metadata": {},
   "outputs": [
    {
     "name": "stdout",
     "output_type": "stream",
     "text": [
      "{'roll_no': 101, 'Name': 'Mukesh', 'Course': 'Python', 'Fees': 4000}\n"
     ]
    }
   ],
   "source": [
    "stud_record={\"roll_no\":101,\"Name\":\"Mukesh\",\"Course\":\"Python\",\"Fees\":4000}\n",
    "print(stud_record)"
   ]
  },
  {
   "cell_type": "code",
   "execution_count": 4,
   "id": "a64f06d5",
   "metadata": {},
   "outputs": [
    {
     "name": "stdout",
     "output_type": "stream",
     "text": [
      "{2000: 60000, 2001: 70000}\n"
     ]
    }
   ],
   "source": [
    "sales={2000:60000,2001:70000}\n",
    "print(sales)"
   ]
  },
  {
   "cell_type": "code",
   "execution_count": 6,
   "id": "c088c8cd",
   "metadata": {},
   "outputs": [
    {
     "name": "stdout",
     "output_type": "stream",
     "text": [
      "{'rollno': [1, 2, 3], 'name': ['ramesh', 'kishore', 'kiran'], 'course': ['c', 'c++', '.net']}\n"
     ]
    }
   ],
   "source": [
    "stud_data={'rollno':[1,2,3],'name':['ramesh','kishore','kiran'],'course':['c','c++','.net']}\n",
    "print(stud_data)"
   ]
  },
  {
   "cell_type": "markdown",
   "id": "2cf0cc15",
   "metadata": {},
   "source": [
    "**3.use dict comprehension:**"
   ]
  },
  {
   "cell_type": "code",
   "execution_count": null,
   "id": "b2fcb817",
   "metadata": {},
   "outputs": [],
   "source": []
  },
  {
   "cell_type": "code",
   "execution_count": 16,
   "id": "77ca7a0a",
   "metadata": {},
   "outputs": [
    {
     "name": "stdout",
     "output_type": "stream",
     "text": [
      "{1: 45, 2: 46, 3: 47}\n"
     ]
    }
   ],
   "source": [
    "l2=[1,2,3]\n",
    "l3=[45,46,47]\n",
    "l4=[(l2[i],l3[i])for i in range(3)]\n",
    "d3=dict(l4)\n",
    "print(d3)"
   ]
  },
  {
   "cell_type": "code",
   "execution_count": 20,
   "id": "36e7cf35",
   "metadata": {},
   "outputs": [
    {
     "data": {
      "text/plain": [
       "{1: 45, 2: 46, 3: 47}"
      ]
     },
     "execution_count": 20,
     "metadata": {},
     "output_type": "execute_result"
    }
   ],
   "source": [
    "d4= zip(l2,l3)\n",
    "dict(d4)"
   ]
  },
  {
   "cell_type": "markdown",
   "id": "7842a8fd",
   "metadata": {},
   "source": [
    "**4.Function**\n",
    "- dict()-----> Create empty dict\n",
    "\n",
    "- dict(iterable) ------> Create dict using existing collection"
   ]
  },
  {
   "cell_type": "code",
   "execution_count": 7,
   "id": "3bf56467",
   "metadata": {},
   "outputs": [
    {
     "name": "stdout",
     "output_type": "stream",
     "text": [
      "{}\n"
     ]
    }
   ],
   "source": [
    "d = dict()\n",
    "print(d)"
   ]
  },
  {
   "cell_type": "code",
   "execution_count": 9,
   "id": "eba1ffbd",
   "metadata": {},
   "outputs": [
    {
     "name": "stdout",
     "output_type": "stream",
     "text": [
      "{1: 10, 2: 20, 3: 30, 4: 40}\n"
     ]
    }
   ],
   "source": [
    "d1=dict([(1,10),(2,20),(3,30),(4,40)])\n",
    "print(d1)"
   ]
  },
  {
   "cell_type": "markdown",
   "id": "3ea4620b",
   "metadata": {},
   "source": [
    "**Convert list into dict with the help of dict**"
   ]
  },
  {
   "cell_type": "code",
   "execution_count": 10,
   "id": "4ef7188a",
   "metadata": {},
   "outputs": [
    {
     "name": "stdout",
     "output_type": "stream",
     "text": [
      "{0: 10, 1: 20, 2: 30, 3: 40, 4: 50}\n"
     ]
    }
   ],
   "source": [
    "l1 = [10,20,30,40,50]\n",
    "e = enumerate(l1)\n",
    "d1 = dict(e)\n",
    "print(d1)"
   ]
  },
  {
   "cell_type": "markdown",
   "id": "09c6fd33",
   "metadata": {},
   "source": [
    "### zip(iterable)\n",
    "- Combine more than two collection and return dict"
   ]
  },
  {
   "cell_type": "code",
   "execution_count": 40,
   "id": "8919564f",
   "metadata": {},
   "outputs": [
    {
     "data": {
      "text/plain": [
       "{10: 2, 20: 6, 30: 10, 40: 14, 50: 18, 60: 22, 70: 26, 80: 30, 90: 34, 100: 38}"
      ]
     },
     "execution_count": 40,
     "metadata": {},
     "output_type": "execute_result"
    }
   ],
   "source": [
    "l = list(range(10,110,10))\n",
    "l1 = list(range(2,40,4))\n",
    "combine=zip(l,l1)\n",
    "c = dict(combine)\n",
    "c"
   ]
  },
  {
   "cell_type": "markdown",
   "id": "74d67a49",
   "metadata": {},
   "source": [
    "### How to read content of dict"
   ]
  },
  {
   "cell_type": "markdown",
   "id": "947fabdf",
   "metadata": {},
   "source": [
    "1. using key\n",
    "2. using for loop\n",
    "3. using functions:\n",
    "\n",
    "**Dict view Object**\n",
    "\n",
    "    1.keys()\n",
    "    \n",
    "    2.values()\n",
    "    \n",
    "    3.items()\n",
    "    \n",
    "    4.getkeys()\n",
    "    \n",
    "    5.setdefault()"
   ]
  },
  {
   "cell_type": "code",
   "execution_count": 27,
   "id": "6475b916",
   "metadata": {},
   "outputs": [
    {
     "data": {
      "text/plain": [
       "{'Java': 4000, 'C++': 5000, '.Net': 6000}"
      ]
     },
     "execution_count": 27,
     "metadata": {},
     "output_type": "execute_result"
    }
   ],
   "source": [
    "l = [\"Java\",\"C++\",\".Net\"]\n",
    "l1 = [4000,5000,6000]\n",
    "d6 = dict(zip(l,l1))\n",
    "d6"
   ]
  },
  {
   "cell_type": "markdown",
   "id": "dc231c34",
   "metadata": {},
   "source": [
    "**1.Read value using key**"
   ]
  },
  {
   "cell_type": "code",
   "execution_count": 29,
   "id": "138ba690",
   "metadata": {},
   "outputs": [
    {
     "name": "stdout",
     "output_type": "stream",
     "text": [
      "4000\n"
     ]
    }
   ],
   "source": [
    "print(d6['Java'])"
   ]
  },
  {
   "cell_type": "code",
   "execution_count": 31,
   "id": "221fcd51",
   "metadata": {},
   "outputs": [
    {
     "data": {
      "text/plain": [
       "5000"
      ]
     },
     "execution_count": 31,
     "metadata": {},
     "output_type": "execute_result"
    }
   ],
   "source": [
    "d6['C++']"
   ]
  },
  {
   "cell_type": "markdown",
   "id": "c81a5a2b",
   "metadata": {},
   "source": [
    "**2.Read content of dict uisng for loop**"
   ]
  },
  {
   "cell_type": "code",
   "execution_count": 38,
   "id": "ac13a6fc",
   "metadata": {},
   "outputs": [
    {
     "name": "stdout",
     "output_type": "stream",
     "text": [
      "Java 4000\n",
      "C++ 5000\n",
      ".Net 6000\n"
     ]
    }
   ],
   "source": [
    "for i in d6:\n",
    "    print(i,d6[i])"
   ]
  },
  {
   "cell_type": "markdown",
   "id": "e2f9c3fa",
   "metadata": {},
   "source": [
    "**3.View object functions**"
   ]
  },
  {
   "cell_type": "code",
   "execution_count": 41,
   "id": "1c27158a",
   "metadata": {},
   "outputs": [
    {
     "name": "stdout",
     "output_type": "stream",
     "text": [
      "{10: 2, 20: 6, 30: 10, 40: 14, 50: 18, 60: 22, 70: 26, 80: 30, 90: 34, 100: 38}\n"
     ]
    }
   ],
   "source": [
    "print(c)"
   ]
  },
  {
   "cell_type": "markdown",
   "id": "deaf8b4e",
   "metadata": {},
   "source": [
    "**1.keys()**"
   ]
  },
  {
   "cell_type": "code",
   "execution_count": 42,
   "id": "bf595412",
   "metadata": {},
   "outputs": [
    {
     "data": {
      "text/plain": [
       "dict_keys([10, 20, 30, 40, 50, 60, 70, 80, 90, 100])"
      ]
     },
     "execution_count": 42,
     "metadata": {},
     "output_type": "execute_result"
    }
   ],
   "source": [
    "c.keys()"
   ]
  },
  {
   "cell_type": "markdown",
   "id": "467e21a7",
   "metadata": {},
   "source": [
    "**2.values()**"
   ]
  },
  {
   "cell_type": "code",
   "execution_count": 43,
   "id": "43442a83",
   "metadata": {},
   "outputs": [
    {
     "data": {
      "text/plain": [
       "dict_values([2, 6, 10, 14, 18, 22, 26, 30, 34, 38])"
      ]
     },
     "execution_count": 43,
     "metadata": {},
     "output_type": "execute_result"
    }
   ],
   "source": [
    "c.values()"
   ]
  },
  {
   "cell_type": "code",
   "execution_count": 45,
   "id": "696dd441",
   "metadata": {},
   "outputs": [],
   "source": [
    "# Add one key\n",
    "c[\"J\"]=2000"
   ]
  },
  {
   "cell_type": "code",
   "execution_count": 46,
   "id": "a33fe8d6",
   "metadata": {},
   "outputs": [
    {
     "data": {
      "text/plain": [
       "{10: 2,\n",
       " 20: 6,\n",
       " 30: 10,\n",
       " 40: 14,\n",
       " 50: 18,\n",
       " 60: 22,\n",
       " 70: 26,\n",
       " 80: 30,\n",
       " 90: 34,\n",
       " 100: 38,\n",
       " 'J': 2000}"
      ]
     },
     "execution_count": 46,
     "metadata": {},
     "output_type": "execute_result"
    }
   ],
   "source": [
    "c"
   ]
  },
  {
   "cell_type": "markdown",
   "id": "f1791a9a",
   "metadata": {},
   "source": [
    "**3.items()**"
   ]
  },
  {
   "cell_type": "code",
   "execution_count": 48,
   "id": "4804d8bf",
   "metadata": {},
   "outputs": [
    {
     "name": "stdout",
     "output_type": "stream",
     "text": [
      "(10, 2)\n",
      "(20, 6)\n",
      "(30, 10)\n",
      "(40, 14)\n",
      "(50, 18)\n",
      "(60, 22)\n",
      "(70, 26)\n",
      "(80, 30)\n",
      "(90, 34)\n",
      "(100, 38)\n",
      "('J', 2000)\n"
     ]
    }
   ],
   "source": [
    "data = c.items()\n",
    "for c in data:\n",
    "    print(c)"
   ]
  },
  {
   "cell_type": "code",
   "execution_count": 49,
   "id": "ba8f10ef",
   "metadata": {},
   "outputs": [
    {
     "name": "stdout",
     "output_type": "stream",
     "text": [
      "10 2\n",
      "20 6\n",
      "30 10\n",
      "40 14\n",
      "50 18\n",
      "60 22\n",
      "70 26\n",
      "80 30\n",
      "90 34\n",
      "100 38\n",
      "J 2000\n"
     ]
    }
   ],
   "source": [
    "for score, over in data:\n",
    "    print(score,over)"
   ]
  },
  {
   "cell_type": "markdown",
   "id": "9aa71144",
   "metadata": {},
   "source": [
    "**4.setdefault()**\n",
    "- Adding and reading"
   ]
  },
  {
   "cell_type": "code",
   "execution_count": 51,
   "id": "a74d5190",
   "metadata": {},
   "outputs": [
    {
     "data": {
      "text/plain": [
       "{'Java': 4000, 'C++': 5000, '.Net': 6000}"
      ]
     },
     "execution_count": 51,
     "metadata": {},
     "output_type": "execute_result"
    }
   ],
   "source": [
    "d6"
   ]
  },
  {
   "cell_type": "code",
   "execution_count": 55,
   "id": "5605b511",
   "metadata": {},
   "outputs": [
    {
     "data": {
      "text/plain": [
       "5000"
      ]
     },
     "execution_count": 55,
     "metadata": {},
     "output_type": "execute_result"
    }
   ],
   "source": [
    "# Adding\n",
    "d6.setdefault(\"D\",5000)"
   ]
  },
  {
   "cell_type": "code",
   "execution_count": 56,
   "id": "63052cc9",
   "metadata": {},
   "outputs": [
    {
     "data": {
      "text/plain": [
       "{'Java': 4000, 'C++': 5000, '.Net': 6000, 'D': 5000}"
      ]
     },
     "execution_count": 56,
     "metadata": {},
     "output_type": "execute_result"
    }
   ],
   "source": [
    "d6"
   ]
  },
  {
   "cell_type": "code",
   "execution_count": 57,
   "id": "2c62b6d4",
   "metadata": {},
   "outputs": [
    {
     "data": {
      "text/plain": [
       "5000"
      ]
     },
     "execution_count": 57,
     "metadata": {},
     "output_type": "execute_result"
    }
   ],
   "source": [
    "# Reading\n",
    "d6.setdefault('C++')"
   ]
  },
  {
   "cell_type": "markdown",
   "id": "bb271f02",
   "metadata": {},
   "source": [
    "### Dict Mutable Operations"
   ]
  },
  {
   "cell_type": "markdown",
   "id": "f9e41743",
   "metadata": {},
   "source": [
    "1. adding\n",
    "2.Updating\n",
    "3.deleting"
   ]
  },
  {
   "cell_type": "markdown",
   "id": "2d653994",
   "metadata": {},
   "source": [
    "**1.Adding**"
   ]
  },
  {
   "cell_type": "code",
   "execution_count": 58,
   "id": "31d9ad8c",
   "metadata": {},
   "outputs": [
    {
     "name": "stdout",
     "output_type": "stream",
     "text": [
      "{'Java': 4000, 'C++': 5000, '.Net': 6000, 'D': 5000}\n"
     ]
    }
   ],
   "source": [
    "print(d6)"
   ]
  },
  {
   "cell_type": "code",
   "execution_count": 59,
   "id": "9649b9dd",
   "metadata": {},
   "outputs": [
    {
     "name": "stdout",
     "output_type": "stream",
     "text": [
      "{'Java': 4000, 'C++': 5000, '.Net': 6000, 'D': 5000, 'Python': 10000}\n"
     ]
    }
   ],
   "source": [
    "d6[\"Python\"]=10000\n",
    "print(d6)"
   ]
  },
  {
   "cell_type": "code",
   "execution_count": 60,
   "id": "234e193f",
   "metadata": {},
   "outputs": [
    {
     "name": "stdout",
     "output_type": "stream",
     "text": [
      "{1: 10, 2: 20, 3: 30, 4: 40}\n"
     ]
    }
   ],
   "source": [
    "d = {}\n",
    "d[1]=10\n",
    "d[2]=20\n",
    "d[3]=30\n",
    "d[4]=40\n",
    "print(d)"
   ]
  },
  {
   "cell_type": "markdown",
   "id": "4c9581db",
   "metadata": {},
   "source": [
    "**2.Updating**"
   ]
  },
  {
   "cell_type": "code",
   "execution_count": 61,
   "id": "a0490f37",
   "metadata": {},
   "outputs": [],
   "source": [
    "d[1]=99"
   ]
  },
  {
   "cell_type": "code",
   "execution_count": 62,
   "id": "cc2824d9",
   "metadata": {},
   "outputs": [
    {
     "data": {
      "text/plain": [
       "{1: 99, 2: 20, 3: 30, 4: 40}"
      ]
     },
     "execution_count": 62,
     "metadata": {},
     "output_type": "execute_result"
    }
   ],
   "source": [
    "d"
   ]
  },
  {
   "cell_type": "markdown",
   "id": "7b556b51",
   "metadata": {},
   "source": [
    "**Write a python program to find a sum of all item in dict**"
   ]
  },
  {
   "cell_type": "code",
   "execution_count": 72,
   "id": "6d01418f",
   "metadata": {},
   "outputs": [
    {
     "name": "stdout",
     "output_type": "stream",
     "text": [
      "{'Java': 4000, 'C++': 5000, '.Net': 6000, 'D': 5000, 'Python': 10000}\n",
      "sum: 30000\n"
     ]
    }
   ],
   "source": [
    "print(d6)\n",
    "s=0\n",
    "for value in d6.values():\n",
    "    s+=value\n",
    "print(\"sum:\",s)\n",
    "    "
   ]
  },
  {
   "cell_type": "markdown",
   "id": "e0f29423",
   "metadata": {},
   "source": [
    "### Other Function"
   ]
  },
  {
   "cell_type": "markdown",
   "id": "871bbd86",
   "metadata": {},
   "source": [
    "**Removing Element from dict**\n",
    "1. del\n",
    "2. clear\n",
    "3. pop\n",
    "4. popitem"
   ]
  },
  {
   "cell_type": "markdown",
   "id": "9925f7e7",
   "metadata": {},
   "source": [
    "**1.del d[key]**"
   ]
  },
  {
   "cell_type": "code",
   "execution_count": 1,
   "id": "6c8368f3",
   "metadata": {},
   "outputs": [
    {
     "name": "stdout",
     "output_type": "stream",
     "text": [
      "{'Java': 4000, 'C++': 5000, '.Net': 6000, 'D': 5000, 'Python': 10000}\n"
     ]
    }
   ],
   "source": [
    "d = {'Java': 4000, 'C++': 5000, '.Net': 6000, 'D': 5000, 'Python': 10000}\n",
    "print(d)"
   ]
  },
  {
   "cell_type": "code",
   "execution_count": 2,
   "id": "0a9cebe4",
   "metadata": {},
   "outputs": [],
   "source": [
    "del d['C++']"
   ]
  },
  {
   "cell_type": "code",
   "execution_count": 3,
   "id": "08f5a23d",
   "metadata": {},
   "outputs": [
    {
     "data": {
      "text/plain": [
       "{'Java': 4000, '.Net': 6000, 'D': 5000, 'Python': 10000}"
      ]
     },
     "execution_count": 3,
     "metadata": {},
     "output_type": "execute_result"
    }
   ],
   "source": [
    "d"
   ]
  },
  {
   "cell_type": "markdown",
   "id": "e5066b37",
   "metadata": {},
   "source": [
    "**2.clear()**\n",
    "- remove all item from dictionary"
   ]
  },
  {
   "cell_type": "code",
   "execution_count": 1,
   "id": "899ed384",
   "metadata": {},
   "outputs": [],
   "source": [
    "d7 = {'Java': 4000, '.Net': 6000, 'D': 5000, 'Python': 10000}\n",
    "d7.clear()"
   ]
  },
  {
   "cell_type": "code",
   "execution_count": 2,
   "id": "ceeb4ab0",
   "metadata": {},
   "outputs": [
    {
     "data": {
      "text/plain": [
       "{}"
      ]
     },
     "execution_count": 2,
     "metadata": {},
     "output_type": "execute_result"
    }
   ],
   "source": [
    "d7"
   ]
  },
  {
   "cell_type": "markdown",
   "id": "b411ec2e",
   "metadata": {},
   "source": [
    "**3.pop()**\n",
    "- Remove key and print it"
   ]
  },
  {
   "cell_type": "code",
   "execution_count": 4,
   "id": "ec5f3157",
   "metadata": {},
   "outputs": [
    {
     "data": {
      "text/plain": [
       "6000"
      ]
     },
     "execution_count": 4,
     "metadata": {},
     "output_type": "execute_result"
    }
   ],
   "source": [
    "d8 = {'Java': 4000, '.Net': 6000, 'D': 5000, 'Python': 10000}\n",
    "d8.pop('.Net')"
   ]
  },
  {
   "cell_type": "code",
   "execution_count": 5,
   "id": "b601e1ed",
   "metadata": {},
   "outputs": [
    {
     "name": "stdout",
     "output_type": "stream",
     "text": [
      "{'Java': 4000, 'D': 5000, 'Python': 10000}\n"
     ]
    }
   ],
   "source": [
    "print(d8)"
   ]
  },
  {
   "cell_type": "markdown",
   "id": "2517cedd",
   "metadata": {},
   "source": [
    "**4.popitem()**\n",
    "- Remove last element from dict  [Last in first out]"
   ]
  },
  {
   "cell_type": "code",
   "execution_count": 8,
   "id": "47d31026",
   "metadata": {},
   "outputs": [
    {
     "name": "stdout",
     "output_type": "stream",
     "text": [
      "(5, 50)\n",
      "{1: 10, 2: 20, 3: 30, 4: 40}\n"
     ]
    }
   ],
   "source": [
    "d1 = dict(zip(range(1,6),range(10,60,10)))\n",
    "d2 = d1.popitem()\n",
    "print(d2)\n",
    "print(d1)"
   ]
  },
  {
   "cell_type": "markdown",
   "id": "7d96c5bc",
   "metadata": {},
   "source": [
    "**wrtie a program to remove a item from dictionary using key**"
   ]
  },
  {
   "cell_type": "code",
   "execution_count": 11,
   "id": "350f6f2f",
   "metadata": {},
   "outputs": [
    {
     "name": "stdout",
     "output_type": "stream",
     "text": [
      "Enter how many item: 2\n",
      "Enter Key1\n",
      "Enter value 20\n",
      "Enter Key2\n",
      "Enter value 40\n",
      "{1: '20', 2: '40'}\n",
      "Enter key to remove1\n",
      "1\n"
     ]
    }
   ],
   "source": [
    "n = int(input(\"Enter how many item: \"))\n",
    "dict1 = {}\n",
    "for i in range(n):\n",
    "    k = int(input(\"Enter Key\"))\n",
    "    v = input(\"Enter value \")\n",
    "    dict1[k] = v\n",
    "print(dict1)\n",
    "    \n",
    "k=int(input(\"Enter key to remove\"))\n",
    "if k in dict1:\n",
    "    del dict1[k]\n",
    "    print(k)\n",
    "else:\n",
    "    print(\"Invalid key\")"
   ]
  },
  {
   "cell_type": "markdown",
   "id": "d16176d4",
   "metadata": {},
   "source": [
    "**Login Application**"
   ]
  },
  {
   "cell_type": "code",
   "execution_count": 13,
   "id": "4f13ea7e",
   "metadata": {},
   "outputs": [
    {
     "name": "stdout",
     "output_type": "stream",
     "text": [
      "Username: ramesh\n",
      "Password: nit123\n",
      "Invalid Username Or Password\n"
     ]
    }
   ],
   "source": [
    "user_dict = {'nit':'nit123',\n",
    "            'ramesh':'ramesh123',\n",
    "            'jayesh':'jayesh123'}\n",
    "\n",
    "user = input(\"Username: \")\n",
    "pwd = input(\"Password: \")\n",
    "if user in user_dict and user_dict[user]==pwd:\n",
    "    print(user,\"Welcome\")\n",
    "else:\n",
    "    print(\"Invalid Username Or Password\")\n",
    "    "
   ]
  },
  {
   "cell_type": "markdown",
   "id": "c06a8e8a",
   "metadata": {},
   "source": [
    "**Develop Address Book**"
   ]
  },
  {
   "cell_type": "code",
   "execution_count": 16,
   "id": "3e95fcdb",
   "metadata": {},
   "outputs": [
    {
     "name": "stdout",
     "output_type": "stream",
     "text": [
      "1. Add Address\n",
      "2. Update Address\n",
      "3. Remove Address\n",
      "4. Search Address\n",
      "5. List Address\n",
      "6. Exit\n",
      "Enter option1\n",
      "Enter Name: naresh\n",
      "Enter Address: hydrabad\n",
      " **Address Added** \n",
      "1. Add Address\n",
      "2. Update Address\n",
      "3. Remove Address\n",
      "4. Search Address\n",
      "5. List Address\n",
      "6. Exit\n",
      "Enter option1\n",
      "Enter Name: mukesh\n",
      "Enter Address: nashik\n",
      " **Address Added** \n",
      "1. Add Address\n",
      "2. Update Address\n",
      "3. Remove Address\n",
      "4. Search Address\n",
      "5. List Address\n",
      "6. Exit\n",
      "Enter option5\n",
      "naresh hydrabad\n",
      "mukesh nashik\n",
      "1. Add Address\n",
      "2. Update Address\n",
      "3. Remove Address\n",
      "4. Search Address\n",
      "5. List Address\n",
      "6. Exit\n",
      "Enter option2\n",
      "Enter Name To Update: mukesh\n",
      "Enter Udated Address: Banglore\n",
      " **Address Is Updated** \n",
      "1. Add Address\n",
      "2. Update Address\n",
      "3. Remove Address\n",
      "4. Search Address\n",
      "5. List Address\n",
      "6. Exit\n",
      "Enter option5\n",
      "naresh hydrabad\n",
      "mukesh Banglore\n",
      "1. Add Address\n",
      "2. Update Address\n",
      "3. Remove Address\n",
      "4. Search Address\n",
      "5. List Address\n",
      "6. Exit\n",
      "Enter option3\n",
      "Enter name to remove: mukesh\n",
      "1. Add Address\n",
      "2. Update Address\n",
      "3. Remove Address\n",
      "4. Search Address\n",
      "5. List Address\n",
      "6. Exit\n",
      "Enter option5\n",
      "naresh hydrabad\n",
      "1. Add Address\n",
      "2. Update Address\n",
      "3. Remove Address\n",
      "4. Search Address\n",
      "5. List Address\n",
      "6. Exit\n",
      "Enter option4\n",
      "Enter Name To Search: naresh\n",
      "hydrabad\n",
      "1. Add Address\n",
      "2. Update Address\n",
      "3. Remove Address\n",
      "4. Search Address\n",
      "5. List Address\n",
      "6. Exit\n",
      "Enter option6\n"
     ]
    }
   ],
   "source": [
    "addressBook = {} # Empty\n",
    "opt = 0\n",
    "\n",
    "while opt!=6:\n",
    "    print(\"1. Add Address\")\n",
    "    print(\"2. Update Address\")\n",
    "    print(\"3. Remove Address\")\n",
    "    print(\"4. Search Address\")\n",
    "    print(\"5. List Address\")\n",
    "    print(\"6. Exit\")\n",
    "    opt=int(input(\"Enter option\"))\n",
    "    if opt==1:\n",
    "        name = input(\"Enter Name: \")\n",
    "        add = input(\"Enter Address: \")\n",
    "        addressBook[name]=add\n",
    "        print(\" **Address Added** \")\n",
    "    elif opt==2:\n",
    "        name = input(\"Enter Name To Update: \")\n",
    "        add = input(\"Enter Udated Address: \")\n",
    "        addressBook[name]=add\n",
    "        print(\" **Address Is Updated** \")\n",
    "    elif opt==3:\n",
    "        name = input(\"Enter name to remove: \")\n",
    "        if name in addressBook:\n",
    "            del addressBook[name]\n",
    "        else: \n",
    "            print(\"Invalid Name\")\n",
    "    elif opt==4:\n",
    "        name = input(\"Enter Name To Search: \")\n",
    "        if name in addressBook:\n",
    "            print(addressBook[name])\n",
    "        else:\n",
    "            print(name,\"Not Found\")\n",
    "    elif opt==5:\n",
    "        for name,add in addressBook.items():\n",
    "            print(name, add)\n",
    "    elif opt==6:\n",
    "        break;\n",
    "    else:\n",
    "        print(\"**Invalid Option**\")\n",
    "        \n",
    "        "
   ]
  },
  {
   "cell_type": "markdown",
   "id": "c96b9f3f",
   "metadata": {},
   "source": [
    "### reversed(d)\n",
    "- reversed the dictionary key"
   ]
  },
  {
   "cell_type": "code",
   "execution_count": 21,
   "id": "6b317c67",
   "metadata": {},
   "outputs": [
    {
     "name": "stdout",
     "output_type": "stream",
     "text": [
      "{1: 10, 2: 20, 3: 30, 4: 40, 5: 50}\n",
      "dict_keys([1, 2, 3, 4, 5])\n",
      "5\n",
      "4\n",
      "3\n",
      "2\n",
      "1\n"
     ]
    }
   ],
   "source": [
    "d = dict(zip(range(1,6),range(10,60,10)))\n",
    "print(d)\n",
    "k1 = d.keys()\n",
    "print(k1)\n",
    "k2 = reversed(k1)\n",
    "for i in k2:\n",
    "    print(i)"
   ]
  },
  {
   "cell_type": "code",
   "execution_count": 28,
   "id": "e4d67565",
   "metadata": {},
   "outputs": [
    {
     "name": "stdout",
     "output_type": "stream",
     "text": [
      "5\n",
      "4\n",
      "3\n",
      "2\n",
      "1\n"
     ]
    }
   ],
   "source": [
    "k = reversed(d)\n",
    "v = d.values()\n",
    "for i in k:\n",
    "    print(i)"
   ]
  },
  {
   "cell_type": "markdown",
   "id": "a36236b9",
   "metadata": {},
   "source": [
    "### update([others])\n",
    "- Adding two dict\n",
    "- replcing value"
   ]
  },
  {
   "cell_type": "code",
   "execution_count": 35,
   "id": "150ae3a3",
   "metadata": {},
   "outputs": [
    {
     "name": "stdout",
     "output_type": "stream",
     "text": [
      "{1: 10, 2: 20, 3: 30, 4: 40, 5: 50, 6: 60, 7: 70}\n"
     ]
    }
   ],
   "source": [
    "d1 = {1:10,2:20,3:30}\n",
    "d2 = {4:40,5:50,6:60,7:70}\n",
    "d1.update(d2)\n",
    "print(d1)"
   ]
  },
  {
   "cell_type": "markdown",
   "id": "097c082e",
   "metadata": {},
   "source": [
    "### Merge Two dict\n",
    "**syntax: d | others**"
   ]
  },
  {
   "cell_type": "code",
   "execution_count": 36,
   "id": "e7aeffb6",
   "metadata": {},
   "outputs": [
    {
     "data": {
      "text/plain": [
       "{1: 10, 2: 20, 3: 30, 4: 40, 5: 50, 6: 60, 7: 70}"
      ]
     },
     "execution_count": 36,
     "metadata": {},
     "output_type": "execute_result"
    }
   ],
   "source": [
    "d1 = {1:10,2:20,3:30}\n",
    "d2 = {4:40,5:50,6:60,7:70}\n",
    "d1 | d2"
   ]
  },
  {
   "cell_type": "markdown",
   "id": "85e1b3c6",
   "metadata": {},
   "source": [
    "### Made changes in same dict\n",
    "**Syntax: d |= other**"
   ]
  },
  {
   "cell_type": "code",
   "execution_count": 40,
   "id": "86a230ef",
   "metadata": {},
   "outputs": [
    {
     "data": {
      "text/plain": [
       "{1: 10, 2: 20, 3: 30, 4: 40, 5: 50, 6: 60, 7: 70}"
      ]
     },
     "execution_count": 40,
     "metadata": {},
     "output_type": "execute_result"
    }
   ],
   "source": [
    "d1 = {1:10,2:20,3:30}\n",
    "d2 = {4:40,5:50,6:60,7:70}\n",
    "d1 |= d2\n",
    "d1"
   ]
  },
  {
   "cell_type": "markdown",
   "id": "614eb131",
   "metadata": {},
   "source": [
    "## Create Dict using Comprehension\n",
    "- For loop and if\n",
    "\n",
    "**Syntax:1  {Key:value for variable in iterable}**\n",
    "\n",
    "**Syntax:1  {Key:value for variable in iterable if test}**"
   ]
  },
  {
   "cell_type": "markdown",
   "id": "7d8311a7",
   "metadata": {},
   "source": [
    "**Syntax:1**"
   ]
  },
  {
   "cell_type": "code",
   "execution_count": 44,
   "id": "67604828",
   "metadata": {},
   "outputs": [
    {
     "name": "stdout",
     "output_type": "stream",
     "text": [
      "With Comprehension:  {1: 1, 2: 4, 3: 9, 4: 16, 5: 25, 6: 36, 7: 49, 8: 64, 9: 81, 10: 100}\n",
      "With Comprehension:  {1: 1, 2: 4, 3: 9, 4: 16, 5: 25, 6: 36, 7: 49, 8: 64, 9: 81, 10: 100}\n"
     ]
    }
   ],
   "source": [
    "\"\"\" Write a program to create dict with \n",
    "key as a no & value as a square of that no \"\"\"\n",
    "\n",
    "# Without comprehension\n",
    "dict1 = {}\n",
    "for n in range(1,11):\n",
    "    dict1[n]=n**2\n",
    "print(\"With Comprehension: \",dict1)\n",
    "\n",
    "# With Comprehension\n",
    "dict2 = {n:n**2 for n in range(1,11)}\n",
    "print(\"With Comprehension: \",dict2)"
   ]
  },
  {
   "cell_type": "code",
   "execution_count": 50,
   "id": "a1c72083",
   "metadata": {},
   "outputs": [
    {
     "name": "stdout",
     "output_type": "stream",
     "text": [
      "Enter how many students: 2\n",
      "Enter nameMukesh\n",
      "Enter gradeA\n",
      "Enter nameSuresh \n",
      "Enter gradeA\n",
      "{'Mukesh': 'A', 'Suresh ': 'A'}\n"
     ]
    }
   ],
   "source": [
    "\"\"\" Write a program to read details of  n students \n",
    "each student having name and grade\n",
    "\"\"\"\n",
    "\n",
    "n = int(input(\"Enter how many students: \"))\n",
    "# With comprehension\n",
    "stud_dict1 = {input(\"Enter name\"): input(\"Enter grade\") for i in range(n)}\n",
    "print(stud_dict1)"
   ]
  },
  {
   "cell_type": "markdown",
   "id": "184ab232",
   "metadata": {},
   "source": [
    "**Syntax2: {key:value for variable in iterable if test}**\n"
   ]
  },
  {
   "cell_type": "code",
   "execution_count": 4,
   "id": "658c6767",
   "metadata": {},
   "outputs": [
    {
     "name": "stdout",
     "output_type": "stream",
     "text": [
      "{'Naresh': 'A', 'Mukesh': 'A', 'Vijay': 'A'}\n",
      "{'Ram': 'C'}\n"
     ]
    }
   ],
   "source": [
    "stud_dict = {'Naresh':'A',\n",
    "            'Suresh':'B',\n",
    "            'Mukesh':'A',\n",
    "            'Ram':'C',\n",
    "            'Vijay':'A'}\n",
    "\n",
    "\n",
    "# Condation based\n",
    "dict1 = {name:grade for name,grade in stud_dict.items() if grade=='A'}\n",
    "dict2 = {name:grade for name, grade in stud_dict.items() if grade=='C'}\n",
    "print(dict1)\n",
    "print(dict2)"
   ]
  },
  {
   "cell_type": "markdown",
   "id": "6cb80e02",
   "metadata": {},
   "source": [
    "## Nested Dict"
   ]
  },
  {
   "cell_type": "markdown",
   "id": "5411fc72",
   "metadata": {},
   "source": [
    "- Defining dict inside dict"
   ]
  },
  {
   "cell_type": "code",
   "execution_count": 8,
   "id": "e144cf51",
   "metadata": {},
   "outputs": [
    {
     "name": "stdout",
     "output_type": "stream",
     "text": [
      "{2001: {'Jan': 4000, 'Feb': 50000, 'March': 40000}, 2002: {'Jan': 45000, 'Feb': 50000, 'March': 405600}}\n"
     ]
    }
   ],
   "source": [
    "salesData = {2001:{'Jan':4000,'Feb':50000,'March':40000},\n",
    "            2002:{'Jan':45000,'Feb':50000,'March':405600}}\n",
    "print(salesData)"
   ]
  },
  {
   "cell_type": "code",
   "execution_count": 9,
   "id": "fc80ac6d",
   "metadata": {},
   "outputs": [
    {
     "name": "stdout",
     "output_type": "stream",
     "text": [
      "50000\n"
     ]
    }
   ],
   "source": [
    "# To know the sales data of 2001 in the month of Feb\n",
    "print(salesData[2001]['Feb'])"
   ]
  },
  {
   "cell_type": "code",
   "execution_count": 10,
   "id": "acfe4e97",
   "metadata": {},
   "outputs": [
    {
     "data": {
      "text/plain": [
       "45000"
      ]
     },
     "execution_count": 10,
     "metadata": {},
     "output_type": "execute_result"
    }
   ],
   "source": [
    "salesData[2002]['Jan']"
   ]
  }
 ],
 "metadata": {
  "kernelspec": {
   "display_name": "Python 3 (ipykernel)",
   "language": "python",
   "name": "python3"
  },
  "language_info": {
   "codemirror_mode": {
    "name": "ipython",
    "version": 3
   },
   "file_extension": ".py",
   "mimetype": "text/x-python",
   "name": "python",
   "nbconvert_exporter": "python",
   "pygments_lexer": "ipython3",
   "version": "3.9.13"
  }
 },
 "nbformat": 4,
 "nbformat_minor": 5
}

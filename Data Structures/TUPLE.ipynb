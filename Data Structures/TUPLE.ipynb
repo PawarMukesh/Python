{
 "cells": [
  {
   "cell_type": "markdown",
   "id": "400db0a1",
   "metadata": {},
   "source": [
    "# Tuple"
   ]
  },
  {
   "cell_type": "markdown",
   "id": "58d74d98",
   "metadata": {},
   "source": [
    "- Tupel is sequenace data type but Tuple is immuatable\n",
    "- After creating tuple we can not do any changes\n",
    "- Tuple dosent provide following methods:\n",
    "    1. Append()\n",
    "    2. insert()\n",
    "    3. remove()\n",
    "    4. clear()\n",
    "    5. del()\n",
    "    6. pop()\n",
    "    7. extend()"
   ]
  },
  {
   "cell_type": "markdown",
   "id": "eb45cf80",
   "metadata": {},
   "source": [
    "- Tuple encloses with parenthisis"
   ]
  },
  {
   "cell_type": "markdown",
   "id": "266b8e84",
   "metadata": {},
   "source": [
    "### Tuple Application\n",
    "1. To represent data in set and dictionary collection\n",
    "2. Tuple is used by enumerate, to read value from collection\n",
    "3. To represent immutable list"
   ]
  },
  {
   "cell_type": "markdown",
   "id": "339554c1",
   "metadata": {},
   "source": [
    "### Tuple Creation Ways:"
   ]
  },
  {
   "cell_type": "markdown",
   "id": "af7dd52b",
   "metadata": {},
   "source": [
    "**1.Empty tuple**"
   ]
  },
  {
   "cell_type": "code",
   "execution_count": 7,
   "id": "2c469911",
   "metadata": {},
   "outputs": [
    {
     "data": {
      "text/plain": [
       "()"
      ]
     },
     "execution_count": 7,
     "metadata": {},
     "output_type": "execute_result"
    }
   ],
   "source": [
    "t = ()\n",
    "t"
   ]
  },
  {
   "cell_type": "markdown",
   "id": "1f05d45b",
   "metadata": {},
   "source": [
    "**2.Singletone tuple**\n",
    "- Tuple with one object with comma"
   ]
  },
  {
   "cell_type": "code",
   "execution_count": 4,
   "id": "b180177a",
   "metadata": {},
   "outputs": [
    {
     "name": "stdout",
     "output_type": "stream",
     "text": [
      "(1,)\n"
     ]
    },
    {
     "data": {
      "text/plain": [
       "tuple"
      ]
     },
     "execution_count": 4,
     "metadata": {},
     "output_type": "execute_result"
    }
   ],
   "source": [
    "t = 1,\n",
    "print(t)\n",
    "type(t)"
   ]
  },
  {
   "cell_type": "markdown",
   "id": "035bbcd3",
   "metadata": {},
   "source": [
    "**3.Multiple element seprated with comma**"
   ]
  },
  {
   "cell_type": "code",
   "execution_count": 5,
   "id": "26b12d04",
   "metadata": {},
   "outputs": [
    {
     "name": "stdout",
     "output_type": "stream",
     "text": [
      "(10, 20, 30, 40)\n"
     ]
    }
   ],
   "source": [
    "t=(10,20,30,40)\n",
    "print(t)"
   ]
  },
  {
   "cell_type": "code",
   "execution_count": 6,
   "id": "c5018a2c",
   "metadata": {},
   "outputs": [
    {
     "name": "stdout",
     "output_type": "stream",
     "text": [
      "(10, 20, 30, 40, 50)\n"
     ]
    }
   ],
   "source": [
    "t=10,20,30,40,50\n",
    "print(t)"
   ]
  },
  {
   "cell_type": "markdown",
   "id": "8c9b9f7e",
   "metadata": {},
   "source": [
    "**4.Create tuple using build in functions**"
   ]
  },
  {
   "cell_type": "code",
   "execution_count": 8,
   "id": "6c738872",
   "metadata": {},
   "outputs": [
    {
     "data": {
      "text/plain": [
       "()"
      ]
     },
     "execution_count": 8,
     "metadata": {},
     "output_type": "execute_result"
    }
   ],
   "source": [
    "t = tuple()\n",
    "t"
   ]
  },
  {
   "cell_type": "markdown",
   "id": "673cec53",
   "metadata": {},
   "source": [
    "### **Convert Mutable to immutable**"
   ]
  },
  {
   "cell_type": "code",
   "execution_count": 9,
   "id": "854acace",
   "metadata": {},
   "outputs": [
    {
     "name": "stdout",
     "output_type": "stream",
     "text": [
      "(10, 20, 30, 40, 50)\n"
     ]
    }
   ],
   "source": [
    "t = tuple([10,20,30,40,50])\n",
    "print(t)"
   ]
  },
  {
   "cell_type": "code",
   "execution_count": 10,
   "id": "2b23d0bb",
   "metadata": {},
   "outputs": [
    {
     "name": "stdout",
     "output_type": "stream",
     "text": [
      "(1, 21, 41, 61, 81)\n"
     ]
    }
   ],
   "source": [
    "t = tuple(range(1,100,20))\n",
    "print(t)"
   ]
  },
  {
   "cell_type": "code",
   "execution_count": 11,
   "id": "bc07c7fc",
   "metadata": {},
   "outputs": [
    {
     "name": "stdout",
     "output_type": "stream",
     "text": [
      "(1, 21, 41, 61, 81)\n"
     ]
    }
   ],
   "source": [
    "# create tuple using existing collection\n",
    "t1 = tuple(t)\n",
    "print(t1)"
   ]
  },
  {
   "cell_type": "markdown",
   "id": "c1a6e208",
   "metadata": {},
   "source": [
    "#### Find the size of object in python\n",
    "- getsizeof()"
   ]
  },
  {
   "cell_type": "code",
   "execution_count": 12,
   "id": "7f29b581",
   "metadata": {},
   "outputs": [
    {
     "data": {
      "text/plain": [
       "80"
      ]
     },
     "execution_count": 12,
     "metadata": {},
     "output_type": "execute_result"
    }
   ],
   "source": [
    "import sys\n",
    "sys.getsizeof(t1)"
   ]
  },
  {
   "cell_type": "markdown",
   "id": "f0ec2753",
   "metadata": {},
   "source": [
    "### Python – Maximum and Minimum K elements in Tuple"
   ]
  },
  {
   "cell_type": "markdown",
   "id": "714133b5",
   "metadata": {},
   "source": [
    "Sometimes, while dealing with tuples, we can have problem in which we\n",
    "need to extract only extreme K elements, i.e maximum and minimum K\n",
    "elements in Tuple. This problem can have applications across domains\n",
    "such as web development and Data Science\n",
    "\n",
    "Input : test_tup = (3, 7, 1, 18, 9), k = 2 \n",
    "\n",
    "Output : (3, 1, 9, 18)\n",
    "\n",
    "Input : test_tup = (3, 7, 1), k=1 \n",
    "\n",
    "Output : (1, 7)"
   ]
  },
  {
   "cell_type": "code",
   "execution_count": 19,
   "id": "838097be",
   "metadata": {},
   "outputs": [
    {
     "name": "stdout",
     "output_type": "stream",
     "text": [
      "Enter the value:5\n",
      "4\n",
      "7\n",
      "8\n",
      "2\n",
      "5\n",
      "Original Tuple: (4, 7, 8, 2, 5)\n",
      "Min & Max element: (2, 4, 7, 8)\n"
     ]
    }
   ],
   "source": [
    "no=int(input(\"Enter the value:\"))\n",
    "tuple1=[]\n",
    "k=2\n",
    "for i in range(no):\n",
    "    value=eval(input())\n",
    "    tuple1.append(value)\n",
    "    t = tuple(tuple1)\n",
    "print(\"Original Tuple:\",t)\n",
    "sort = sorted(t)\n",
    "minimum_element=sort[:k]\n",
    "maximum_element=sort[-k:]\n",
    "min_max = minimum_element+maximum_element\n",
    "print(\"Min & Max element:\",tuple(min_max))"
   ]
  },
  {
   "cell_type": "code",
   "execution_count": 20,
   "id": "e36ff663",
   "metadata": {},
   "outputs": [
    {
     "name": "stdout",
     "output_type": "stream",
     "text": [
      "(1, 3, 9, 18)\n"
     ]
    }
   ],
   "source": [
    "# Another way\n",
    "test_tup=(3,7,1,18,9)\n",
    "t1=tuple(sorted(test_tup))\n",
    "k=2\n",
    "min_values=t1[:k]\n",
    "max_values=t1[-k:]\n",
    "t2=min_values+max_values\n",
    "print(t2)"
   ]
  },
  {
   "cell_type": "markdown",
   "id": "9f5708af",
   "metadata": {},
   "source": [
    "### Python program to create a list of tuples from given list havingnumber and its cube in each tuple"
   ]
  },
  {
   "cell_type": "markdown",
   "id": "ea5bf984",
   "metadata": {},
   "source": [
    "Given a list of numbers of list, write a Python program to create a list of\n",
    "tuples having first element as the number and second element as the cube\n",
    "\n",
    "of the number. Example:\n",
    "\n",
    "Input: list = [1, 2, 3]\n",
    "\n",
    "Output: [(1, 1), (2, 8), (3, 27)]\n",
    "\n",
    "Input: list = [9, 5, 6]\n",
    "\n",
    "Output: [(9, 729), (5, 125), (6, 216)]"
   ]
  },
  {
   "cell_type": "code",
   "execution_count": 24,
   "id": "7df82533",
   "metadata": {},
   "outputs": [
    {
     "name": "stdout",
     "output_type": "stream",
     "text": [
      "[(1, 1), (2, 8), (3, 27)]\n"
     ]
    }
   ],
   "source": [
    "# Here we are use list comprehension\n",
    "t= [1, 2, 3]\n",
    "t1 = [(no,no**3) for no in t]\n",
    "print(t1)"
   ]
  },
  {
   "cell_type": "code",
   "execution_count": 27,
   "id": "8bf126d8",
   "metadata": {},
   "outputs": [
    {
     "name": "stdout",
     "output_type": "stream",
     "text": [
      "[(1, 1), (2, 8), (3, 27)]\n"
     ]
    }
   ],
   "source": [
    "# Another way\n",
    "t=[1, 2, 3]\n",
    "t1=[]\n",
    "for i in t:\n",
    "    t1.append((i,i**3))\n",
    "print(t1)\n",
    "    "
   ]
  },
  {
   "cell_type": "markdown",
   "id": "04f9df26",
   "metadata": {},
   "source": [
    "### Python – Adding Tuple to List and vice – versa\n",
    "Sometimes, while working with Python containers, we can have a problem\n",
    "in which we need to perform addition of one container with another. This\n",
    "kind of problem can have occurrence in many data domains across\n",
    "Computer Science and Programming"
   ]
  },
  {
   "cell_type": "code",
   "execution_count": 3,
   "id": "8eca77dc",
   "metadata": {},
   "outputs": [
    {
     "name": "stdout",
     "output_type": "stream",
     "text": [
      "[1, 2, 3, 4, 5, 6]\n",
      "(4, 5, 6, 1, 2, 3)\n"
     ]
    }
   ],
   "source": [
    "list1=[1,2,3]\n",
    "tuple1=(4,5,6)\n",
    "res=list1+list(tuple1)\n",
    "print(res)\n",
    "res=tuple1+tuple(list1)\n",
    "print(res)\n"
   ]
  },
  {
   "cell_type": "markdown",
   "id": "c251abd2",
   "metadata": {},
   "source": [
    "### Python – Join Tuples if similar initial element\n",
    "Sometimes, while working with Python tuples, we can have a problem in\n",
    "which we need to perform concatenation of records from the similarity of\n",
    "initial element. This problem can have applications in data domains such as Data Science.\n",
    "\n",
    "Input : test_list = [(5, 6), (5, 7), (5, 8), (6, 10), (7, 13)]\n",
    "\n",
    "Output : [(5, 6, 7, 8), (6, 10), (7, 13)]\n",
    "\n",
    "Input : test_list = [(5, 6), (6, 7), (6, 8), (6, 10), (7, 13)]\n",
    "\n",
    "Output : [(5, 6), (6, 7, 8, 10), (7, 13)]"
   ]
  },
  {
   "cell_type": "code",
   "execution_count": 5,
   "id": "c34251df",
   "metadata": {},
   "outputs": [
    {
     "name": "stdout",
     "output_type": "stream",
     "text": [
      "[(5, 6, 7, 8), (6, 10), (7, 13)]\n"
     ]
    }
   ],
   "source": [
    "test_list = [(5, 6), (5, 7), (5, 8), (6, 10), (7, 13)]\n",
    "res=[]\n",
    "for sub in test_list:\n",
    "    if res and res[-1][0]== sub[0]:\n",
    "        res[-1].extend(sub[1:])\n",
    "    else:\n",
    "        res.append([ele for ele in sub])\n",
    "res = list(map(tuple,res))\n",
    "print(res)"
   ]
  },
  {
   "cell_type": "markdown",
   "id": "3fbc375a",
   "metadata": {},
   "source": [
    "### Python – All pair combinations of 2 tuples\n",
    "Sometimes, while working with Python tuples data, we can have a\n",
    "problem in which we need to extract all possible combination of 2\n",
    "argument tuples. This kind of application can come in Data Science or\n",
    "gaming domains\n",
    "\n",
    "Input : test_tuple1 = (7, 2), test_tuple2 = (7, 8)\n",
    "\n",
    "Output : [(7, 7), (7, 8), (2, 7), (2, 8), (7, 7), (7, 2), (8, 7), (8, 2)]\n",
    "\n",
    "Input : test_tuple1 = (9, 2), test_tuple2 = (7, 8)\n",
    "\n",
    "Output : [(9, 7), (9, 8), (2, 7), (2, 8), (7, 9), (7, 2), (8, 9), (8, 2)]"
   ]
  },
  {
   "cell_type": "code",
   "execution_count": 6,
   "id": "4a31cd34",
   "metadata": {},
   "outputs": [
    {
     "name": "stdout",
     "output_type": "stream",
     "text": [
      "[(7, 7), (7, 8), (2, 7), (2, 8), (7, 7), (7, 2), (8, 7), (8, 2)]\n"
     ]
    }
   ],
   "source": [
    "test_tuple1 = (7, 2)\n",
    "test_tuple2 = (7, 8)\n",
    "res=[]\n",
    "for a in test_tuple1:\n",
    "    for b in test_tuple2:\n",
    "        res.append((a,b))\n",
    "for a in test_tuple2:\n",
    "    for b in test_tuple1:\n",
    "        res.append((a,b))\n",
    "print(res)"
   ]
  },
  {
   "cell_type": "markdown",
   "id": "b72df413",
   "metadata": {},
   "source": [
    "### Python – Remove Tuples of Length K\n",
    "Given list of tuples, remove all the tuples with length K.\n",
    "\n",
    "Input : test_list = [(4, 5), (4, ), (8, 6, 7), (1, ), (3, 4, 6, 7)], K = 2\n",
    "    \n",
    "Output : [(4, ), (8, 6, 7), (1, ), (3, 4, 6, 7)]\n",
    "    \n",
    "Explanation : (4, 5) of len = 2 is removed.\n",
    "    \n",
    "Input : test_list = [(4, 5), (4, ), (8, 6, 7), (1, ), (3, 4, 6, 7)], K = 3\n",
    "    \n",
    "Output : [(4, 5), (4, ), (1, ), (3, 4, 6, 7)]\n",
    "    \n",
    "Explanation : 3 length tuple is removed."
   ]
  },
  {
   "cell_type": "code",
   "execution_count": 12,
   "id": "7930ffb0",
   "metadata": {},
   "outputs": [
    {
     "name": "stdout",
     "output_type": "stream",
     "text": [
      "[(4,), (8, 6, 7), (1,), (3, 4, 6, 7)]\n"
     ]
    }
   ],
   "source": [
    "test_list = [(4, 5), (4, ), (8, 6, 7), (1, ), (3, 4, 6, 7)]\n",
    "K = 2\n",
    "output = [value for value in test_list if len(value)!=K]\n",
    "print(output)"
   ]
  },
  {
   "cell_type": "code",
   "execution_count": null,
   "id": "65923eef",
   "metadata": {},
   "outputs": [],
   "source": []
  }
 ],
 "metadata": {
  "kernelspec": {
   "display_name": "Python 3 (ipykernel)",
   "language": "python",
   "name": "python3"
  },
  "language_info": {
   "codemirror_mode": {
    "name": "ipython",
    "version": 3
   },
   "file_extension": ".py",
   "mimetype": "text/x-python",
   "name": "python",
   "nbconvert_exporter": "python",
   "pygments_lexer": "ipython3",
   "version": "3.9.13"
  }
 },
 "nbformat": 4,
 "nbformat_minor": 5
}

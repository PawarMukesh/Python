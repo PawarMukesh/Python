{
 "cells": [
  {
   "cell_type": "markdown",
   "id": "9500ccfc",
   "metadata": {},
   "source": [
    "## Write a program to create n values in list & Calculate the sum of even as well as odd no in list"
   ]
  },
  {
   "cell_type": "code",
   "execution_count": 46,
   "id": "4e02bdf8",
   "metadata": {},
   "outputs": [
    {
     "name": "stdout",
     "output_type": "stream",
     "text": [
      "Enter the number:6\n",
      "1\n",
      "2\n",
      "3\n",
      "4\n",
      "5\n",
      "6\n",
      "[1, 2, 3, 4, 5, 6]\n",
      "Even element: [2, 4, 6]\n",
      "Sum of even element: 12\n",
      "Odd element: [1, 3, 5]\n",
      "Sum of odd element 9\n"
     ]
    }
   ],
   "source": [
    "list1=[]\n",
    "even_element=[]\n",
    "odd_element=[]\n",
    "even_add = 0\n",
    "odd_add = 0\n",
    "no=int(input(\"Enter the number:\"))\n",
    "for i in range(no):\n",
    "    value = int(input())\n",
    "    list1.append(value)\n",
    "    if value%2==0:\n",
    "            even_element.append(value)\n",
    "            even_add=even_add+value\n",
    "    else:\n",
    "        odd_element.append(value)\n",
    "        odd_add=odd_add+value\n",
    "print(list1)\n",
    "print(\"Even element:\",even_element)\n",
    "print(\"Sum of even element:\",even_add)\n",
    "print(\"Odd element:\",odd_element)\n",
    "print(\"Sum of odd element\",odd_add)"
   ]
  },
  {
   "cell_type": "markdown",
   "id": "6e91cf3c",
   "metadata": {},
   "source": [
    "## Write a program to input name and n subject marks and calculate Total,Avg..."
   ]
  },
  {
   "cell_type": "code",
   "execution_count": 51,
   "id": "f6a9dc95",
   "metadata": {},
   "outputs": [
    {
     "name": "stdout",
     "output_type": "stream",
     "text": [
      "Enter Name: Mukesh\n",
      "Enter how many subject: 6\n",
      "Enter marks:45\n",
      "Enter marks:46\n",
      "Enter marks:42\n",
      "Enter marks:48\n",
      "Enter marks:40\n",
      "Enter marks:30\n",
      "Name Mukesh\n",
      "Marks [45, 46, 42, 48, 40, 30]\n",
      "Total 251\n",
      "Avg 41.833333333333336\n"
     ]
    }
   ],
   "source": [
    "name=input(\"Enter Name: \")\n",
    "no = int(input(\"Enter how many subject: \"))\n",
    "list1=[]\n",
    "for i in range(no):\n",
    "    m=int(input(\"Enter marks:\"))\n",
    "    list1.append(m)\n",
    "print(\"Name\",name)\n",
    "print(\"Marks\",list1)\n",
    "print(\"Total\",sum(list1))\n",
    "print(\"Avg\",sum(list1)/no)"
   ]
  },
  {
   "cell_type": "code",
   "execution_count": null,
   "id": "657bc4f1",
   "metadata": {},
   "outputs": [],
   "source": [
    "list1=[]\n",
    "total=0\n",
    "no = int(input(\"How many student matks: \"))\n",
    "for i in range(no):\n",
    "    mark=int(input())\n",
    "        list1.append(mark)\n",
    "        total=total+mark\n",
    "        avg=total/len(list1)  \n",
    "print(\"Student names:\",list1)\n",
    "print(\"Total mark of student:\",total)\n",
    "print(\"Average of marks:\",avg)"
   ]
  },
  {
   "cell_type": "markdown",
   "id": "8989de87",
   "metadata": {},
   "source": [
    "## Write a program to input n value in list and find mean & median"
   ]
  },
  {
   "cell_type": "code",
   "execution_count": 53,
   "id": "67a646e3",
   "metadata": {},
   "outputs": [
    {
     "name": "stdout",
     "output_type": "stream",
     "text": [
      "Enter the number: 5\n",
      "1\n",
      "2\n",
      "3\n",
      "4\n",
      "5\n",
      "Mean 3.0\n",
      "Median 3\n"
     ]
    }
   ],
   "source": [
    "import math\n",
    "list1=[]\n",
    "no=int(input(\"Enter the number: \"))\n",
    "for i in range(no):\n",
    "    values=int(input())\n",
    "    list1.append(values)\n",
    "mean=sum(list1)/no\n",
    "list1.sort()\n",
    "if no%2==0:\n",
    "    i1=n//2\n",
    "    i2=i1-1\n",
    "    median=(list1[i1]+list1[i2])/2\n",
    "else:\n",
    "    i=no//2\n",
    "    median=list1[i]\n",
    "print(\"Original List:\",list1)\n",
    "print(\"Mean\",mean)\n",
    "print(\"Median\",median)"
   ]
  },
  {
   "cell_type": "code",
   "execution_count": null,
   "id": "781efd24",
   "metadata": {},
   "outputs": [],
   "source": []
  }
 ],
 "metadata": {
  "kernelspec": {
   "display_name": "Python 3 (ipykernel)",
   "language": "python",
   "name": "python3"
  },
  "language_info": {
   "codemirror_mode": {
    "name": "ipython",
    "version": 3
   },
   "file_extension": ".py",
   "mimetype": "text/x-python",
   "name": "python",
   "nbconvert_exporter": "python",
   "pygments_lexer": "ipython3",
   "version": "3.9.13"
  }
 },
 "nbformat": 4,
 "nbformat_minor": 5
}

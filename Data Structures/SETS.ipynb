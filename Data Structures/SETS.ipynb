{
 "cells": [
  {
   "cell_type": "markdown",
   "id": "3b444340",
   "metadata": {},
   "source": [
    "# set data types\n",
    "### Python provides two set data types\n",
    "1. set -- Mutable collection\n",
    "2. frozenset -- Immutable collection\n",
    "\n",
    "* Set is unordered collection type.\n",
    "* Set is non sequence data type or non index based collections\n",
    "* Set is hash based collection, where data is organized using a datastructure called hashing.\n",
    "* Set does not allow duplicate items/values.\n",
    "\n",
    "**A set object is an unordered collection of distinct hashable objects Common uses include membership testing, removing duplicates from a\n",
    "sequence, and computing mathematical operations such as intersection,union, difference, and symmetric difference.**\n",
    "\n",
    "### What is hashable object?\n",
    "An object which generates hash value is called hashable object\n",
    "\n",
    "### What is hash value?\n",
    "- An hash value is integer value, which is used to find position or key in hash based data structure.\n",
    "- Hash value is generated based on some rules\n",
    "1. If two objects are equal, they must generate same hash value.\n",
    "\n",
    "### 1.How to find hash value of object?\n",
    "hash(), returns hash value object"
   ]
  },
  {
   "cell_type": "code",
   "execution_count": 2,
   "id": "67066f74",
   "metadata": {},
   "outputs": [
    {
     "data": {
      "text/plain": [
       "10"
      ]
     },
     "execution_count": 2,
     "metadata": {},
     "output_type": "execute_result"
    }
   ],
   "source": [
    "a=10\n",
    "hash(a)"
   ]
  },
  {
   "cell_type": "code",
   "execution_count": 5,
   "id": "059ad536",
   "metadata": {},
   "outputs": [
    {
     "name": "stdout",
     "output_type": "stream",
     "text": [
      "20\n",
      "20\n"
     ]
    }
   ],
   "source": [
    "a=20\n",
    "b=20\n",
    "a == b\n",
    "print(hash(a))\n",
    "print(hash(b))"
   ]
  },
  {
   "cell_type": "markdown",
   "id": "48809977",
   "metadata": {},
   "source": [
    "### Set is created in different ways?\n",
    "- Use a comma-separated list of elements within braces: {&#39;jack&#39;,&#39;sjoerd&#39;}\n",
    "- Use a set comprehension: {c for c in &#39;abracadabra&#39; if c not in &#39;abc&#39;}\n",
    "- Use the type constructor: set(), set(&#39;foobar&#39;), set([&#39;a&#39;, &#39;b&#39;, &#39;foo&#39;])"
   ]
  },
  {
   "cell_type": "markdown",
   "id": "e5251c5a",
   "metadata": {},
   "source": [
    "**1.Empty set**"
   ]
  },
  {
   "cell_type": "code",
   "execution_count": 7,
   "id": "29087db1",
   "metadata": {},
   "outputs": [
    {
     "name": "stdout",
     "output_type": "stream",
     "text": [
      "set()\n"
     ]
    }
   ],
   "source": [
    "s = set()\n",
    "print(s)"
   ]
  },
  {
   "cell_type": "markdown",
   "id": "fca61e90",
   "metadata": {},
   "source": [
    "**2.set with integer**"
   ]
  },
  {
   "cell_type": "code",
   "execution_count": 8,
   "id": "495b782c",
   "metadata": {},
   "outputs": [
    {
     "name": "stdout",
     "output_type": "stream",
     "text": [
      "{50, 20, 40, 10, 30}\n"
     ]
    }
   ],
   "source": [
    "s={10,20,30,40,50}\n",
    "print(s)"
   ]
  },
  {
   "cell_type": "markdown",
   "id": "4ee977d2",
   "metadata": {},
   "source": [
    "**3.Set creation using range**"
   ]
  },
  {
   "cell_type": "code",
   "execution_count": 9,
   "id": "51042136",
   "metadata": {},
   "outputs": [
    {
     "name": "stdout",
     "output_type": "stream",
     "text": [
      "{100, 70, 40, 10, 80, 50, 20, 90, 60, 30}\n"
     ]
    }
   ],
   "source": [
    "s1 = set(range(10,110,10))\n",
    "print(s1)"
   ]
  },
  {
   "cell_type": "markdown",
   "id": "aa890d3e",
   "metadata": {},
   "source": [
    "**4.Convert list into set**"
   ]
  },
  {
   "cell_type": "code",
   "execution_count": 1,
   "id": "a8238c83",
   "metadata": {},
   "outputs": [
    {
     "name": "stdout",
     "output_type": "stream",
     "text": [
      "{65, 1.1, 10, 47, 54}\n"
     ]
    }
   ],
   "source": [
    "s1=set([10,47,54,65,1.1])\n",
    "print(s1)"
   ]
  },
  {
   "cell_type": "markdown",
   "id": "9aa4e426",
   "metadata": {},
   "source": [
    "### Read Content of the set\n",
    "1. for loop\n",
    "2. iterator\n",
    "3. enumerate"
   ]
  },
  {
   "cell_type": "markdown",
   "id": "c4d359e7",
   "metadata": {},
   "source": [
    "**1.for loop**"
   ]
  },
  {
   "cell_type": "code",
   "execution_count": 4,
   "id": "e6c39d33",
   "metadata": {},
   "outputs": [
    {
     "name": "stdout",
     "output_type": "stream",
     "text": [
      "50\n",
      "20\n",
      "40\n",
      "10\n",
      "30\n"
     ]
    }
   ],
   "source": [
    "set1={10,20,30,40,50}\n",
    "for value in set1:\n",
    "    print(value)"
   ]
  },
  {
   "cell_type": "markdown",
   "id": "485bd45e",
   "metadata": {},
   "source": [
    "**2.iterator**"
   ]
  },
  {
   "cell_type": "code",
   "execution_count": 7,
   "id": "526fa8ca",
   "metadata": {},
   "outputs": [
    {
     "name": "stdout",
     "output_type": "stream",
     "text": [
      "1 2 3\n"
     ]
    }
   ],
   "source": [
    "set2={1,2,3}\n",
    "a=iter(set2)\n",
    "value1=next(a)\n",
    "value2=next(a)\n",
    "value3=next(a)\n",
    "print(value1,value2,value3)"
   ]
  },
  {
   "cell_type": "code",
   "execution_count": 8,
   "id": "0c98b612",
   "metadata": {},
   "outputs": [
    {
     "name": "stdout",
     "output_type": "stream",
     "text": [
      "1\n",
      "2\n",
      "3\n",
      "4\n",
      "5\n",
      "6\n"
     ]
    }
   ],
   "source": [
    "set3={1,2,3,4,5,6,6}\n",
    "a=iter(set3)\n",
    "for values in a:\n",
    "    print(values)"
   ]
  },
  {
   "cell_type": "markdown",
   "id": "1d4df70b",
   "metadata": {},
   "source": [
    "**3.Read element using enumerate**"
   ]
  },
  {
   "cell_type": "code",
   "execution_count": 1,
   "id": "59f3d6bb",
   "metadata": {},
   "outputs": [
    {
     "name": "stdout",
     "output_type": "stream",
     "text": [
      "(1, 100)\n",
      "(2, 40)\n",
      "(3, 10)\n",
      "(4, 80)\n",
      "(5, 50)\n",
      "(6, 20)\n",
      "(7, 90)\n",
      "(8, 30)\n"
     ]
    }
   ],
   "source": [
    "s1={10,20,30,40,50,80,90,100}\n",
    "e = enumerate(s1,start=1)\n",
    "for values in e:\n",
    "    print(values)"
   ]
  },
  {
   "cell_type": "markdown",
   "id": "bf71593b",
   "metadata": {},
   "source": [
    "#### Example of membership testing:\n",
    "**write a program to count how many times each element of list repeated**\n",
    "\n",
    "list1=[10,20,30,30,40,20,10,30,10,10]\n",
    "\n",
    "10--&gt; 4\n",
    "\n",
    "20--&gt; 2\n",
    "\n",
    "30--&gt; 3\n",
    "\n",
    "40--&gt; 1"
   ]
  },
  {
   "cell_type": "code",
   "execution_count": 17,
   "id": "8c2685ad",
   "metadata": {},
   "outputs": [
    {
     "name": "stdout",
     "output_type": "stream",
     "text": [
      "Original List:  [10, 20, 30, 30, 40, 20, 10, 30, 10, 10]\n",
      "List Convert Into Set:  {40, 10, 20, 30}\n",
      "Sort The list:  [10, 20, 30, 40]\n",
      "10 ---> 4\n",
      "20 ---> 2\n",
      "30 ---> 3\n",
      "40 ---> 1\n"
     ]
    }
   ],
   "source": [
    "list1=[10,20,30,30,40,20,10,30,10,10]\n",
    "print(\"Original List: \",list1)\n",
    "set1 = set(list1)\n",
    "print(\"List Convert Into Set: \",set1)\n",
    "list2 = list(set1)\n",
    "list2.sort()\n",
    "print(\"Sort The list: \",list2)\n",
    "for value in list2:\n",
    "    c = list1.count(value)\n",
    "    print(value,\"--->\",c)\n",
    "    "
   ]
  },
  {
   "cell_type": "markdown",
   "id": "2c1128ef",
   "metadata": {},
   "source": [
    "#### Example of membership testing:\n",
    "input: abcaabccccd\n",
    "\n",
    "output: 3a2b5c1d"
   ]
  },
  {
   "cell_type": "code",
   "execution_count": 28,
   "id": "724af8c0",
   "metadata": {},
   "outputs": [
    {
     "name": "stdout",
     "output_type": "stream",
     "text": [
      "String Set:  {'c', 'a', 'b', 'd'}\n",
      "List of Set:  ['c', 'a', 'b', 'd']\n",
      "Sorting the List:  ['a', 'b', 'c', 'd']\n",
      "3a2b5c1d\n"
     ]
    }
   ],
   "source": [
    "str1 = \"abcaabccccd\"\n",
    "set1 = set(str1)\n",
    "print(\"String Set: \",set1)\n",
    "list1 = list(set1)\n",
    "print(\"List of Set: \",list1)\n",
    "str2=\"\"\n",
    "# Sorting the list\n",
    "list1.sort()\n",
    "print(\"Sorting the List: \",list1)\n",
    "for s in list1:\n",
    "    c = str1.count(s)\n",
    "    str2 = str2 + str(c)+s\n",
    "print(str2)"
   ]
  },
  {
   "cell_type": "markdown",
   "id": "fdad241a",
   "metadata": {},
   "source": [
    "### Mutual Operation of Set"
   ]
  },
  {
   "cell_type": "markdown",
   "id": "9933ac46",
   "metadata": {},
   "source": [
    "**1.add(element)**"
   ]
  },
  {
   "cell_type": "code",
   "execution_count": 10,
   "id": "cce509e3",
   "metadata": {},
   "outputs": [
    {
     "name": "stdout",
     "output_type": "stream",
     "text": [
      "{40, 20, 30}\n"
     ]
    }
   ],
   "source": [
    "set1=set()\n",
    "set1.add(20)\n",
    "set1.add(30)\n",
    "set1.add(40)\n",
    "print(set1)"
   ]
  },
  {
   "cell_type": "markdown",
   "id": "9f01bc64",
   "metadata": {},
   "source": [
    "**2.remove(element)**"
   ]
  },
  {
   "cell_type": "code",
   "execution_count": 13,
   "id": "73a40f2a",
   "metadata": {},
   "outputs": [
    {
     "name": "stdout",
     "output_type": "stream",
     "text": [
      "{10, 20, 87}\n"
     ]
    },
    {
     "data": {
      "text/plain": [
       "{20, 87}"
      ]
     },
     "execution_count": 13,
     "metadata": {},
     "output_type": "execute_result"
    }
   ],
   "source": [
    "set1=set()\n",
    "set1.add(10)\n",
    "set1.add(20)\n",
    "set1.add(87)\n",
    "print(set1)\n",
    "set1.remove(10)\n",
    "set1"
   ]
  },
  {
   "cell_type": "code",
   "execution_count": 48,
   "id": "ecc918d9",
   "metadata": {},
   "outputs": [
    {
     "name": "stdout",
     "output_type": "stream",
     "text": [
      "Enter element to remove:20\n",
      "{100, 70, 40, 10, 80, 50, 20, 90, 60, 30}\n",
      "\n"
     ]
    },
    {
     "ename": "RuntimeError",
     "evalue": "Set changed size during iteration",
     "output_type": "error",
     "traceback": [
      "\u001b[1;31m---------------------------------------------------------------------------\u001b[0m",
      "\u001b[1;31mRuntimeError\u001b[0m                              Traceback (most recent call last)",
      "\u001b[1;32m~\\AppData\\Local\\Temp\\ipykernel_12096\\3399281931.py\u001b[0m in \u001b[0;36m<module>\u001b[1;34m\u001b[0m\n\u001b[0;32m      2\u001b[0m \u001b[0mset1\u001b[0m\u001b[1;33m=\u001b[0m\u001b[0mset\u001b[0m\u001b[1;33m(\u001b[0m\u001b[0mrange\u001b[0m\u001b[1;33m(\u001b[0m\u001b[1;36m10\u001b[0m\u001b[1;33m,\u001b[0m\u001b[1;36m110\u001b[0m\u001b[1;33m,\u001b[0m\u001b[1;36m10\u001b[0m\u001b[1;33m)\u001b[0m\u001b[1;33m)\u001b[0m\u001b[1;33m\u001b[0m\u001b[1;33m\u001b[0m\u001b[0m\n\u001b[0;32m      3\u001b[0m \u001b[0mprint\u001b[0m\u001b[1;33m(\u001b[0m\u001b[0mset1\u001b[0m\u001b[1;33m)\u001b[0m\u001b[1;33m\u001b[0m\u001b[1;33m\u001b[0m\u001b[0m\n\u001b[1;32m----> 4\u001b[1;33m \u001b[1;32mfor\u001b[0m \u001b[0mi\u001b[0m \u001b[1;32min\u001b[0m \u001b[0mset1\u001b[0m\u001b[1;33m:\u001b[0m\u001b[1;33m\u001b[0m\u001b[1;33m\u001b[0m\u001b[0m\n\u001b[0m\u001b[0;32m      5\u001b[0m     \u001b[0mremove\u001b[0m \u001b[1;33m=\u001b[0m \u001b[0mset1\u001b[0m\u001b[1;33m.\u001b[0m\u001b[0mremove\u001b[0m\u001b[1;33m(\u001b[0m\u001b[0mele\u001b[0m\u001b[1;33m)\u001b[0m\u001b[1;33m\u001b[0m\u001b[1;33m\u001b[0m\u001b[0m\n\u001b[0;32m      6\u001b[0m     \u001b[0mprint\u001b[0m\u001b[1;33m(\u001b[0m\u001b[1;33m)\u001b[0m\u001b[1;33m\u001b[0m\u001b[1;33m\u001b[0m\u001b[0m\n",
      "\u001b[1;31mRuntimeError\u001b[0m: Set changed size during iteration"
     ]
    }
   ],
   "source": [
    "ele = int(input(\"Enter element to remove:\"))\n",
    "set1=set(range(10,110,10))\n",
    "print(set1)\n",
    "for i in set1:\n",
    "    remove = set1.remove(ele)\n",
    "    print()"
   ]
  },
  {
   "cell_type": "markdown",
   "id": "c6cfa1bb",
   "metadata": {},
   "source": [
    "**3.discard(element)**"
   ]
  },
  {
   "cell_type": "code",
   "execution_count": 16,
   "id": "368ca2ea",
   "metadata": {},
   "outputs": [
    {
     "data": {
      "text/plain": [
       "{10, 20, 30, 40}"
      ]
     },
     "execution_count": 16,
     "metadata": {},
     "output_type": "execute_result"
    }
   ],
   "source": [
    "set1={10,20,30,40,50}\n",
    "set1.discard(50)\n",
    "set1"
   ]
  },
  {
   "cell_type": "code",
   "execution_count": 17,
   "id": "8e59c76b",
   "metadata": {},
   "outputs": [],
   "source": [
    "set1.discard(50) # 50 is not present, this is not through the error"
   ]
  },
  {
   "cell_type": "markdown",
   "id": "722a9b2a",
   "metadata": {},
   "source": [
    "**4.pop(element)**\n",
    "- Remove random element"
   ]
  },
  {
   "cell_type": "code",
   "execution_count": 23,
   "id": "b07a1afe",
   "metadata": {},
   "outputs": [
    {
     "name": "stdout",
     "output_type": "stream",
     "text": [
      "{100, 70, 40, 10, 80, 50, 20, 90, 60, 30}\n",
      "{70, 40, 10, 80, 50, 20, 90, 60, 30}\n"
     ]
    },
    {
     "data": {
      "text/plain": [
       "100"
      ]
     },
     "execution_count": 23,
     "metadata": {},
     "output_type": "execute_result"
    }
   ],
   "source": [
    "set1=set(range(10,110,10))\n",
    "print(set1)\n",
    "a = set1.pop()\n",
    "print(set1)\n",
    "a"
   ]
  },
  {
   "cell_type": "markdown",
   "id": "49492af9",
   "metadata": {},
   "source": [
    "**5.clear(element)**\n",
    "- Remove all element from set"
   ]
  },
  {
   "cell_type": "code",
   "execution_count": 25,
   "id": "961f0090",
   "metadata": {},
   "outputs": [
    {
     "name": "stdout",
     "output_type": "stream",
     "text": [
      "{10, 12, 14, 16, 18}\n",
      "set()\n"
     ]
    }
   ],
   "source": [
    "set1=set(range(10,20,2))\n",
    "print(set1)\n",
    "set1.clear()\n",
    "print(set1)"
   ]
  },
  {
   "cell_type": "markdown",
   "id": "f44cf685",
   "metadata": {},
   "source": [
    "### Mathematical operation on set\n",
    "**Immutable Set Operation**"
   ]
  },
  {
   "cell_type": "markdown",
   "id": "9ecf61b6",
   "metadata": {},
   "source": [
    "**1.union(*others)** eg......    s.union(s1) or s | s1\n",
    "- Return a new set with element from set and all others\n",
    "- Add both set"
   ]
  },
  {
   "cell_type": "code",
   "execution_count": 26,
   "id": "615d74af",
   "metadata": {},
   "outputs": [
    {
     "data": {
      "text/plain": [
       "{1, 2, 3, 4, 10, 20, 30, 40, 55}"
      ]
     },
     "execution_count": 26,
     "metadata": {},
     "output_type": "execute_result"
    }
   ],
   "source": [
    "s1 = {1,2,3,4,55}\n",
    "s2 = {10,20,30,40}\n",
    "s1.union(s2)"
   ]
  },
  {
   "cell_type": "code",
   "execution_count": 27,
   "id": "763505c7",
   "metadata": {},
   "outputs": [
    {
     "name": "stdout",
     "output_type": "stream",
     "text": [
      "{1, 2, 3, 4, 40, 10, 20, 55, 30}\n"
     ]
    }
   ],
   "source": [
    "s3 = s1 | s2\n",
    "print(s3)"
   ]
  },
  {
   "cell_type": "markdown",
   "id": "50118171",
   "metadata": {},
   "source": [
    "**2.interscetion**  **eg....... s.intersection(s1)  or s & s1**\n",
    "- Return a new set of comman element"
   ]
  },
  {
   "cell_type": "code",
   "execution_count": 28,
   "id": "b9dce32b",
   "metadata": {},
   "outputs": [
    {
     "name": "stdout",
     "output_type": "stream",
     "text": [
      "{40, 50, 10}\n"
     ]
    }
   ],
   "source": [
    "s1 = {10,20,30,40,50}\n",
    "s2 = {10,40,50,60,70,80}\n",
    "c = s1.intersection(s2)\n",
    "print(c)"
   ]
  },
  {
   "cell_type": "code",
   "execution_count": 31,
   "id": "1c912a50",
   "metadata": {},
   "outputs": [
    {
     "data": {
      "text/plain": [
       "{4, 5}"
      ]
     },
     "execution_count": 31,
     "metadata": {},
     "output_type": "execute_result"
    }
   ],
   "source": [
    "s1 = {1,2,3,4,5}\n",
    "s2 = {4,5,6,7}\n",
    "s3 = {6,7,4,5,8,9}\n",
    "c = s1 & s2 & s3\n",
    "c"
   ]
  },
  {
   "cell_type": "markdown",
   "id": "c57617c7",
   "metadata": {},
   "source": [
    "**3.difference**\n",
    "- Return new set with elements in the set that are not in other\n",
    "\n"
   ]
  },
  {
   "cell_type": "code",
   "execution_count": 29,
   "id": "ed87c2af",
   "metadata": {},
   "outputs": [
    {
     "name": "stdout",
     "output_type": "stream",
     "text": [
      "{1, 2, 3, 4, 5}\n",
      "{1, 2, 3, 6, 7}\n",
      "{4, 5}\n"
     ]
    }
   ],
   "source": [
    "a={1,2,3,4,5}\n",
    "b={1,2,3,6,7}\n",
    "print(a)\n",
    "print(b)\n",
    "c = a.difference(b)\n",
    "print(c)"
   ]
  },
  {
   "cell_type": "code",
   "execution_count": 30,
   "id": "367c54f8",
   "metadata": {},
   "outputs": [
    {
     "data": {
      "text/plain": [
       "{4, 5}"
      ]
     },
     "execution_count": 30,
     "metadata": {},
     "output_type": "execute_result"
    }
   ],
   "source": [
    "c = a-b\n",
    "c"
   ]
  },
  {
   "cell_type": "code",
   "execution_count": 31,
   "id": "3a0f3af4",
   "metadata": {},
   "outputs": [
    {
     "data": {
      "text/plain": [
       "{'Jayesh', 'Mukesh'}"
      ]
     },
     "execution_count": 31,
     "metadata": {},
     "output_type": "execute_result"
    }
   ],
   "source": [
    "pythonStudent={\"Mukesh\",\"Rajesh\",\"Jayesh\"}\n",
    "javaStudent = {\"Rajesh\",\"Somesh\"}\n",
    "onlyPython = pythonStudent-javaStudent\n",
    "onlyPython"
   ]
  },
  {
   "cell_type": "markdown",
   "id": "c2d832b5",
   "metadata": {},
   "source": [
    "**4.Symmetric_difference**\n",
    "- Return new set from both set except comman element"
   ]
  },
  {
   "cell_type": "code",
   "execution_count": 32,
   "id": "55594403",
   "metadata": {},
   "outputs": [
    {
     "data": {
      "text/plain": [
       "{4, 5, 6, 7}"
      ]
     },
     "execution_count": 32,
     "metadata": {},
     "output_type": "execute_result"
    }
   ],
   "source": [
    "a = {1,2,3,4,5}\n",
    "b = {1,2,3,6,7}\n",
    "a.symmetric_difference(b)"
   ]
  },
  {
   "cell_type": "code",
   "execution_count": 33,
   "id": "c98c60ab",
   "metadata": {},
   "outputs": [
    {
     "data": {
      "text/plain": [
       "{4, 5, 6, 7}"
      ]
     },
     "execution_count": 33,
     "metadata": {},
     "output_type": "execute_result"
    }
   ],
   "source": [
    "a^b"
   ]
  },
  {
   "cell_type": "markdown",
   "id": "0f7a6afa",
   "metadata": {},
   "source": [
    "**Mutable Operation**"
   ]
  },
  {
   "cell_type": "markdown",
   "id": "00e1c875",
   "metadata": {},
   "source": [
    "**1.Update**\n",
    "- Add more than one element,update the set, adding elements from all others"
   ]
  },
  {
   "cell_type": "code",
   "execution_count": 34,
   "id": "be1b2547",
   "metadata": {},
   "outputs": [
    {
     "data": {
      "text/plain": [
       "{1, 2, 4, 5, 6, 10, 40, 50}"
      ]
     },
     "execution_count": 34,
     "metadata": {},
     "output_type": "execute_result"
    }
   ],
   "source": [
    "A = {1,4,5,6,2}\n",
    "A.update([10,40,50])\n",
    "A"
   ]
  },
  {
   "cell_type": "markdown",
   "id": "dc66c35b",
   "metadata": {},
   "source": [
    "**2.difference_update**\n",
    "- Remove multiple element found in other"
   ]
  },
  {
   "cell_type": "code",
   "execution_count": 35,
   "id": "8f0bca52",
   "metadata": {},
   "outputs": [
    {
     "data": {
      "text/plain": [
       "{20}"
      ]
     },
     "execution_count": 35,
     "metadata": {},
     "output_type": "execute_result"
    }
   ],
   "source": [
    "A = {10,20,30,40}\n",
    "A.difference_update({10,30,40,50})\n",
    "A"
   ]
  },
  {
   "cell_type": "markdown",
   "id": "f63b6cab",
   "metadata": {},
   "source": [
    "**3.intersection_update(other)**\n",
    "- update the set removing element found in other"
   ]
  },
  {
   "cell_type": "code",
   "execution_count": 2,
   "id": "2e479af4",
   "metadata": {},
   "outputs": [
    {
     "name": "stdout",
     "output_type": "stream",
     "text": [
      "{1, 2, 3}\n"
     ]
    }
   ],
   "source": [
    "A = {1,2,3,4,5}\n",
    "B = {1,2,3,6,7}\n",
    "A.intersection_update(B)\n",
    "print(A)"
   ]
  },
  {
   "cell_type": "markdown",
   "id": "6ec6c655",
   "metadata": {},
   "source": [
    "**4.symmetric_difference_update(other)**\n",
    "- Update the set keeping only element found in either set, but not in both"
   ]
  },
  {
   "cell_type": "code",
   "execution_count": 8,
   "id": "76d6fe17",
   "metadata": {},
   "outputs": [
    {
     "name": "stdout",
     "output_type": "stream",
     "text": [
      "{4, 5, 6, 7}\n"
     ]
    }
   ],
   "source": [
    "A = {1,2,3,4,5}\n",
    "B = {1,2,3,6,7}\n",
    "A.symmetric_difference_update(B)\n",
    "print(A)"
   ]
  },
  {
   "cell_type": "code",
   "execution_count": 9,
   "id": "3ca75278",
   "metadata": {},
   "outputs": [
    {
     "name": "stdout",
     "output_type": "stream",
     "text": [
      "{1, 2, 3, 4, 5}\n"
     ]
    }
   ],
   "source": [
    "B.symmetric_difference_update(A)\n",
    "print(B)"
   ]
  },
  {
   "cell_type": "markdown",
   "id": "8a7d3842",
   "metadata": {},
   "source": [
    "### Set Test Method\n",
    "- This methods is used to test the set"
   ]
  },
  {
   "cell_type": "markdown",
   "id": "133eea1a",
   "metadata": {},
   "source": [
    "**1.isdisjoint(other)**\n",
    "- It return the boolean value\n",
    "- Their is no comman element"
   ]
  },
  {
   "cell_type": "code",
   "execution_count": 10,
   "id": "cf530b03",
   "metadata": {},
   "outputs": [
    {
     "data": {
      "text/plain": [
       "False"
      ]
     },
     "execution_count": 10,
     "metadata": {},
     "output_type": "execute_result"
    }
   ],
   "source": [
    "s = {1,2,3,4}\n",
    "s1 = {1,2,3,7,8,9}\n",
    "s.isdisjoint(s1)"
   ]
  },
  {
   "cell_type": "code",
   "execution_count": 12,
   "id": "271c8ef6",
   "metadata": {},
   "outputs": [
    {
     "data": {
      "text/plain": [
       "True"
      ]
     },
     "execution_count": 12,
     "metadata": {},
     "output_type": "execute_result"
    }
   ],
   "source": [
    "a = {1,2,3}\n",
    "b = {4,5,6}\n",
    "a.isdisjoint(b)"
   ]
  },
  {
   "cell_type": "markdown",
   "id": "49010f11",
   "metadata": {},
   "source": [
    "**2.issuperset(other)**\n",
    "- test whaether every element in the set in other"
   ]
  },
  {
   "cell_type": "code",
   "execution_count": 14,
   "id": "14f78836",
   "metadata": {},
   "outputs": [
    {
     "data": {
      "text/plain": [
       "True"
      ]
     },
     "execution_count": 14,
     "metadata": {},
     "output_type": "execute_result"
    }
   ],
   "source": [
    "s = {1,2,3,4}\n",
    "s1 = {1,2,3,4,7,8,9}\n",
    "s.issubset(s1)"
   ]
  },
  {
   "cell_type": "code",
   "execution_count": 15,
   "id": "7a64aef7",
   "metadata": {},
   "outputs": [
    {
     "data": {
      "text/plain": [
       "False"
      ]
     },
     "execution_count": 15,
     "metadata": {},
     "output_type": "execute_result"
    }
   ],
   "source": [
    "a = {1,2,3}\n",
    "b = {4,5,6}\n",
    "a.issubset(b)"
   ]
  },
  {
   "cell_type": "code",
   "execution_count": 17,
   "id": "de13545b",
   "metadata": {},
   "outputs": [
    {
     "data": {
      "text/plain": [
       "False"
      ]
     },
     "execution_count": 17,
     "metadata": {},
     "output_type": "execute_result"
    }
   ],
   "source": [
    "a<=b"
   ]
  },
  {
   "cell_type": "code",
   "execution_count": 18,
   "id": "2874158a",
   "metadata": {},
   "outputs": [
    {
     "data": {
      "text/plain": [
       "True"
      ]
     },
     "execution_count": 18,
     "metadata": {},
     "output_type": "execute_result"
    }
   ],
   "source": [
    "s<=s1"
   ]
  },
  {
   "cell_type": "markdown",
   "id": "0892c213",
   "metadata": {},
   "source": [
    "**3.issuperset(other)**\n",
    "- test wheather every element in other is in the set"
   ]
  },
  {
   "cell_type": "code",
   "execution_count": 19,
   "id": "4ae21795",
   "metadata": {},
   "outputs": [
    {
     "data": {
      "text/plain": [
       "False"
      ]
     },
     "execution_count": 19,
     "metadata": {},
     "output_type": "execute_result"
    }
   ],
   "source": [
    "a = {10,20,30,40}\n",
    "b = {10,20,30,50}\n",
    "a.issuperset(b)"
   ]
  },
  {
   "cell_type": "code",
   "execution_count": 20,
   "id": "7cef6e49",
   "metadata": {},
   "outputs": [
    {
     "data": {
      "text/plain": [
       "False"
      ]
     },
     "execution_count": 20,
     "metadata": {},
     "output_type": "execute_result"
    }
   ],
   "source": [
    "s = {10,20,30}\n",
    "s1 = {10,20,30,40}\n",
    "s.issuperset(s1)"
   ]
  },
  {
   "cell_type": "code",
   "execution_count": 21,
   "id": "80d6f0c7",
   "metadata": {},
   "outputs": [
    {
     "data": {
      "text/plain": [
       "True"
      ]
     },
     "execution_count": 21,
     "metadata": {},
     "output_type": "execute_result"
    }
   ],
   "source": [
    "s1.issuperset(s)"
   ]
  },
  {
   "cell_type": "markdown",
   "id": "71896b11",
   "metadata": {},
   "source": [
    "### Frozenset\n",
    "- Is an immutable set\n",
    "- After creating a frozenset mutable operation cannot be execute"
   ]
  },
  {
   "cell_type": "markdown",
   "id": "e1298a95",
   "metadata": {},
   "source": [
    "**Use of frozenset**\n",
    "- Represent immutable set\n",
    "- nested set"
   ]
  },
  {
   "cell_type": "markdown",
   "id": "ee75e289",
   "metadata": {},
   "source": [
    "**HOw to create frozenset**\n",
    "1. frozenset(iterable) --------> Using existing collection\n",
    "2. frozenset(0) -----------> Empty frozenset"
   ]
  },
  {
   "cell_type": "markdown",
   "id": "10936757",
   "metadata": {},
   "source": [
    "**1.Empty frozenset**"
   ]
  },
  {
   "cell_type": "code",
   "execution_count": 22,
   "id": "fa18f0dc",
   "metadata": {},
   "outputs": [
    {
     "name": "stdout",
     "output_type": "stream",
     "text": [
      "frozenset()\n"
     ]
    }
   ],
   "source": [
    "fs = frozenset()\n",
    "print(fs)"
   ]
  },
  {
   "cell_type": "markdown",
   "id": "29e56d68",
   "metadata": {},
   "source": [
    "**2.frozenset(iterable)**"
   ]
  },
  {
   "cell_type": "code",
   "execution_count": 23,
   "id": "f1dfa61c",
   "metadata": {},
   "outputs": [
    {
     "name": "stdout",
     "output_type": "stream",
     "text": [
      "frozenset({40, 10, 50, 20, 30})\n"
     ]
    }
   ],
   "source": [
    "fs1 = frozenset([10,20,30,40,50])\n",
    "print(fs1)"
   ]
  },
  {
   "cell_type": "code",
   "execution_count": 26,
   "id": "56aec451",
   "metadata": {},
   "outputs": [
    {
     "name": "stdout",
     "output_type": "stream",
     "text": [
      "frozenset({100, 70, 40, 10, 80, 50, 20, 90, 60, 30})\n"
     ]
    }
   ],
   "source": [
    "fs2 = frozenset(range(10,110,10))\n",
    "print(fs2)"
   ]
  },
  {
   "cell_type": "code",
   "execution_count": 42,
   "id": "571e1ce9",
   "metadata": {},
   "outputs": [
    {
     "name": "stdout",
     "output_type": "stream",
     "text": [
      "frozenset({1, 2, 3})\n",
      "frozenset({4, 5, 6})\n"
     ]
    }
   ],
   "source": [
    "fs2 = {frozenset((1,2,3)),frozenset((4,5,6))}\n",
    "for value in fs2:\n",
    "    print(value)\n",
    "    "
   ]
  },
  {
   "cell_type": "code",
   "execution_count": null,
   "id": "202a2344",
   "metadata": {},
   "outputs": [],
   "source": []
  },
  {
   "cell_type": "code",
   "execution_count": null,
   "id": "e8924550",
   "metadata": {},
   "outputs": [],
   "source": []
  }
 ],
 "metadata": {
  "kernelspec": {
   "display_name": "Python 3 (ipykernel)",
   "language": "python",
   "name": "python3"
  },
  "language_info": {
   "codemirror_mode": {
    "name": "ipython",
    "version": 3
   },
   "file_extension": ".py",
   "mimetype": "text/x-python",
   "name": "python",
   "nbconvert_exporter": "python",
   "pygments_lexer": "ipython3",
   "version": "3.9.13"
  }
 },
 "nbformat": 4,
 "nbformat_minor": 5
}

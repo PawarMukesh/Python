{
 "cells": [
  {
   "cell_type": "markdown",
   "id": "090b8097",
   "metadata": {},
   "source": [
    "# OS Module"
   ]
  },
  {
   "cell_type": "markdown",
   "id": "6224ae6e",
   "metadata": {},
   "source": [
    "- Is used to communicate operating system\n",
    "- Os module provide set of function to perform operation on operating system"
   ]
  },
  {
   "cell_type": "code",
   "execution_count": 1,
   "id": "b73fff9d",
   "metadata": {},
   "outputs": [],
   "source": [
    "import os"
   ]
  },
  {
   "cell_type": "markdown",
   "id": "d3cc28a6",
   "metadata": {},
   "source": [
    "**1.os.name**\n",
    "- The name of the operating system dependent module imported. The following names have currently been registered: 'posix'(Linux), 'nt'(Window), 'java'(solar)."
   ]
  },
  {
   "cell_type": "code",
   "execution_count": 2,
   "id": "c096a354",
   "metadata": {},
   "outputs": [
    {
     "data": {
      "text/plain": [
       "'nt'"
      ]
     },
     "execution_count": 2,
     "metadata": {},
     "output_type": "execute_result"
    }
   ],
   "source": [
    "os.name"
   ]
  },
  {
   "cell_type": "markdown",
   "id": "9a61c290",
   "metadata": {},
   "source": [
    "- Windows Operating system"
   ]
  },
  {
   "cell_type": "code",
   "execution_count": 3,
   "id": "7ff9d141",
   "metadata": {},
   "outputs": [],
   "source": [
    "## Create one file \n",
    "f = open(\"file1.txt\",\"w\")"
   ]
  },
  {
   "cell_type": "markdown",
   "id": "8ce46a00",
   "metadata": {},
   "source": [
    "**2.os.getcwd()**\n",
    "- Get current working directory"
   ]
  },
  {
   "cell_type": "code",
   "execution_count": 4,
   "id": "75386839",
   "metadata": {},
   "outputs": [
    {
     "data": {
      "text/plain": [
       "'C:\\\\Users\\\\hp\\\\Python Naresh I Technologies'"
      ]
     },
     "execution_count": 4,
     "metadata": {},
     "output_type": "execute_result"
    }
   ],
   "source": [
    "os.getcwd()"
   ]
  },
  {
   "cell_type": "markdown",
   "id": "cab9793a",
   "metadata": {},
   "source": [
    "### Write a program to find current working directory"
   ]
  },
  {
   "cell_type": "code",
   "execution_count": 6,
   "id": "ef32f485",
   "metadata": {},
   "outputs": [
    {
     "name": "stdout",
     "output_type": "stream",
     "text": [
      "Current working directory C:\\Users\\hp\\Python Naresh I Technologies\n"
     ]
    }
   ],
   "source": [
    "import os\n",
    "name = os.getcwd()\n",
    "print(f\"Current working directory {name}\")"
   ]
  },
  {
   "cell_type": "markdown",
   "id": "8ab8cee3",
   "metadata": {},
   "source": [
    "**3.os.chdir(path)**\n",
    "- change the current working directory to path "
   ]
  },
  {
   "cell_type": "code",
   "execution_count": 1,
   "id": "9f287439",
   "metadata": {},
   "outputs": [],
   "source": [
    "import os"
   ]
  },
  {
   "cell_type": "code",
   "execution_count": 2,
   "id": "6abdc2f2",
   "metadata": {},
   "outputs": [
    {
     "name": "stdout",
     "output_type": "stream",
     "text": [
      "Current working directory C:\\Users\\hp\\Python Naresh I Technologies\n",
      "Current workin directory C:\\Users\\hp\\PythonSatishGupta\n"
     ]
    }
   ],
   "source": [
    "# Write a program to change the current working directory\n",
    "print(f'Current working directory {os.getcwd()}')\n",
    "os.chdir('C:\\\\Users\\\\hp\\\\PythonSatishGupta')\n",
    "print(f'Current workin directory {os.getcwd()}')"
   ]
  },
  {
   "cell_type": "markdown",
   "id": "361b924e",
   "metadata": {},
   "source": [
    "**4.os.makedirs(path)**\n",
    "- Create a directory named path"
   ]
  },
  {
   "cell_type": "code",
   "execution_count": 2,
   "id": "083aba13",
   "metadata": {},
   "outputs": [
    {
     "name": "stdout",
     "output_type": "stream",
     "text": [
      "Enter folder name or directory name: python\n",
      "Directory created successfuly........\n"
     ]
    }
   ],
   "source": [
    "# Write a program to create folder/directory\n",
    "import os\n",
    "name = input(\"Enter folder name or directory name: \")\n",
    "os.mkdir(name)\n",
    "print(\"Directory created successfuly........\")"
   ]
  },
  {
   "cell_type": "markdown",
   "id": "2689b153",
   "metadata": {},
   "source": [
    "**5.os.rmdir(path)**\n",
    "- Remove (delete) the directory path, if the directory is not exist"
   ]
  },
  {
   "cell_type": "code",
   "execution_count": 3,
   "id": "a1e02e7d",
   "metadata": {},
   "outputs": [
    {
     "name": "stdout",
     "output_type": "stream",
     "text": [
      "Enter directory name or folder name:python\n",
      "Folder or directory deleted.........\n"
     ]
    }
   ],
   "source": [
    "# Write a program to remove directory or folder \n",
    "import os\n",
    "name=input(\"Enter directory name or folder name:\")\n",
    "os.rmdir(name)\n",
    "print(\"Folder or directory deleted.........\")"
   ]
  },
  {
   "cell_type": "markdown",
   "id": "2ddbcb4f",
   "metadata": {},
   "source": [
    "**6.os.path.exists(path)**\n",
    "- return true if path to an existing path or an open file descriptor, otherwise return fale"
   ]
  },
  {
   "cell_type": "code",
   "execution_count": 6,
   "id": "61cde2fe",
   "metadata": {},
   "outputs": [
    {
     "name": "stdout",
     "output_type": "stream",
     "text": [
      "Enter name: Module\n",
      "Module is exists.....\n"
     ]
    }
   ],
   "source": [
    "# Write a program to fing input file name exists or not\n",
    "import os.path\n",
    "name=input(\"Enter name: \")\n",
    "res=os.path.exists(name)\n",
    "if res:\n",
    "    print(f'{name} is exists.....')\n",
    "else:\n",
    "    print(f'{name} is not exists.....')"
   ]
  },
  {
   "cell_type": "code",
   "execution_count": 7,
   "id": "49eed3fd",
   "metadata": {},
   "outputs": [
    {
     "name": "stdout",
     "output_type": "stream",
     "text": [
      "Enter name: Python\n",
      "Python is not exists.....\n"
     ]
    }
   ],
   "source": [
    "# Write a program to fing input file name exists or not\n",
    "import os.path\n",
    "name=input(\"Enter name: \")\n",
    "res=os.path.exists(name)\n",
    "if res:\n",
    "    print(f'{name} is exists.....')\n",
    "else:\n",
    "    print(f'{name} is not exists.....')"
   ]
  },
  {
   "cell_type": "markdown",
   "id": "a2edf208",
   "metadata": {},
   "source": [
    "**7.os.path.isfile(path)**\n",
    "- Return true if path is an existing regular file"
   ]
  },
  {
   "cell_type": "markdown",
   "id": "4d3ec3ab",
   "metadata": {},
   "source": [
    "**8.os.path.isdir(path)**\n",
    "- Return True if path is an existing directory"
   ]
  },
  {
   "cell_type": "code",
   "execution_count": 10,
   "id": "991cae04",
   "metadata": {},
   "outputs": [
    {
     "name": "stdout",
     "output_type": "stream",
     "text": [
      "Enter filename: Module\n",
      "Directory files.....\n"
     ]
    }
   ],
   "source": [
    "# Write a program to find input file name is regular\n",
    "# file or folder/directory\n",
    "\n",
    "import os\n",
    "name = input(\"Enter filename: \")\n",
    "if os.path.exists(name):\n",
    "    if os.path.isfile(name):\n",
    "        print(\"Regular file.....\")\n",
    "    else:\n",
    "        print(\"Directory files.....\")\n",
    "else:\n",
    "    print(\"Filename is not found.....\")"
   ]
  },
  {
   "cell_type": "code",
   "execution_count": 11,
   "id": "24a644ca",
   "metadata": {},
   "outputs": [
    {
     "name": "stdout",
     "output_type": "stream",
     "text": [
      "Enter filename: SETS.ipynb\n",
      "Regular file.....\n"
     ]
    }
   ],
   "source": [
    "# Write a program to find input file name is regular\n",
    "# file or folder/directory\n",
    "\n",
    "import os\n",
    "name = input(\"Enter filename: \")\n",
    "if os.path.exists(name):\n",
    "    if os.path.isfile(name):\n",
    "        print(\"Regular file.....\")\n",
    "    else:\n",
    "        print(\"Directory files.....\")\n",
    "else:\n",
    "    print(\"Filename is not found.....\")"
   ]
  },
  {
   "cell_type": "markdown",
   "id": "8adf6628",
   "metadata": {},
   "source": [
    "**9.os.listdir(path)**\n",
    "- return a list containg the names of entries in the directory given by path"
   ]
  },
  {
   "cell_type": "code",
   "execution_count": 14,
   "id": "75da7c32",
   "metadata": {},
   "outputs": [
    {
     "name": "stdout",
     "output_type": "stream",
     "text": [
      "Enter folder name: C:\\Users\\hp\\Downloads\\Python Important Notes\n",
      "['Calendar & Gaebage module.pdf', 'DataBase Lec-1.pdf', 'DataBase Lec-2.pdf', 'DataBase Lec-3.pdf', 'Date & TIme Module.pdf', 'Exception Handling 2.pdf', 'Exception Handling or Error Handling.pdf', 'Files.pdf', 'Files2.pdf', 'Files3 & Pickle Modul.pdf', 'Numpy-1.pdf', 'Numpy-2.pdf', 'Numpy-3.pdf', 'OOPs.pdf', 'OS Module.pdf', 'Python Logging.pdf', 'Python Networking(Socket Module).pdf', 'RegEx-2.pdf', 'RegEx.pdf']\n"
     ]
    }
   ],
   "source": [
    "# Write a program to list files exsits in folder\n",
    "import os\n",
    "name = input(\"Enter folder name: \")\n",
    "if os.path.exists(name):\n",
    "    if os.path.isdir(name):\n",
    "        files = os.listdir(name)\n",
    "        print(files)\n",
    "    else:\n",
    "        print(\"not a folder.....\")\n",
    "else:\n",
    "    print(\"folder not found.....\")\n"
   ]
  },
  {
   "cell_type": "code",
   "execution_count": 4,
   "id": "c60d424d",
   "metadata": {},
   "outputs": [
    {
     "name": "stdout",
     "output_type": "stream",
     "text": [
      "Enter the folder name or path: .\n",
      "File count 30\n",
      "Directory count 66\n"
     ]
    }
   ],
   "source": [
    "# Write a program to count files and folders \n",
    "# exists in given path or folder\n",
    "\n",
    "import os\n",
    "import os.path\n",
    "\n",
    "name = input(\"Enter the folder name or path: \")\n",
    "if os.path.exists(name):\n",
    "    if os.path.isdir(name):\n",
    "        os.chdir(name)\n",
    "        files = os.listdir(name)\n",
    "        fc, dc = 0,0\n",
    "        for fname in files:\n",
    "            if os.path.isfile(fname):\n",
    "                fc=fc+1\n",
    "            else:\n",
    "                dc=dc+1\n",
    "        print(f'File count {fc}')\n",
    "        print(f'Directory count {dc}')\n",
    "    else:\n",
    "        print(\"It is not folder....\")\n",
    "else:\n",
    "    print(\"Folder Not found....\")\n"
   ]
  },
  {
   "cell_type": "code",
   "execution_count": 5,
   "id": "67b4c8c1",
   "metadata": {},
   "outputs": [
    {
     "name": "stdout",
     "output_type": "stream",
     "text": [
      "Enter the folder name or path: ..\n",
      "File count 0\n",
      "Directory count 25\n"
     ]
    }
   ],
   "source": [
    "import os\n",
    "import os.path\n",
    "\n",
    "name = input(\"Enter the folder name or path: \")\n",
    "if os.path.exists(name):\n",
    "    if os.path.isdir(name):\n",
    "        os.chdir(name)\n",
    "        files = os.listdir(name)\n",
    "        fc, dc = 0,0\n",
    "        for fname in files:\n",
    "            if os.path.isfile(fname):\n",
    "                fc=fc+1\n",
    "            else:\n",
    "                dc=dc+1\n",
    "        print(f'File count {fc}')\n",
    "        print(f'Directory count {dc}')\n",
    "    else:\n",
    "        print(\"It is not folder....\")\n",
    "else:\n",
    "    print(\"Folder Not found....\")\n"
   ]
  },
  {
   "cell_type": "code",
   "execution_count": null,
   "id": "7590d3af",
   "metadata": {},
   "outputs": [],
   "source": []
  }
 ],
 "metadata": {
  "kernelspec": {
   "display_name": "Python 3 (ipykernel)",
   "language": "python",
   "name": "python3"
  },
  "language_info": {
   "codemirror_mode": {
    "name": "ipython",
    "version": 3
   },
   "file_extension": ".py",
   "mimetype": "text/x-python",
   "name": "python",
   "nbconvert_exporter": "python",
   "pygments_lexer": "ipython3",
   "version": "3.9.13"
  }
 },
 "nbformat": 4,
 "nbformat_minor": 5
}

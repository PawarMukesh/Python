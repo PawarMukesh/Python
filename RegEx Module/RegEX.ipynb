{
 "cells": [
  {
   "cell_type": "markdown",
   "id": "fca1ac68",
   "metadata": {},
   "source": [
    "## Official Document"
   ]
  },
  {
   "cell_type": "markdown",
   "id": "f0120b8a",
   "metadata": {},
   "source": [
    "### https://docs.python.org/3/library/re.html"
   ]
  },
  {
   "cell_type": "markdown",
   "id": "6b4bbef8",
   "metadata": {},
   "source": [
    "### Regex\n",
    "- Regular expression is a special string which defines pattern(Search pattern)\n",
    "\n",
    "- Regular expression are for pattern matching or searching\n",
    "\n",
    "- In application development regular expression used for input validation\n",
    "     - Email validation\n",
    "     - Date validation\n",
    "     - Time Validation\n",
    "     - Mobile No\n",
    "     - User Name\n",
    "     - Password\n",
    "\n",
    "\n",
    "- Chatbots (Deep Learning)\n",
    "- Parsers\n",
    "\n",
    "- To work with regular expression python provides a pre-defined module called 're'\n",
    "    - This module comes with python software"
   ]
  },
  {
   "cell_type": "code",
   "execution_count": 1,
   "id": "8dffa2b1",
   "metadata": {},
   "outputs": [],
   "source": [
    "# Importing regex library\n",
    "import re "
   ]
  },
  {
   "cell_type": "markdown",
   "id": "ef681ce6",
   "metadata": {},
   "source": [
    "**1.re.match(pattern,string,flags=0)**\n",
    "- Search string at the begining"
   ]
  },
  {
   "cell_type": "code",
   "execution_count": 3,
   "id": "27277940",
   "metadata": {},
   "outputs": [
    {
     "name": "stdout",
     "output_type": "stream",
     "text": [
      "<re.Match object; span=(0, 2), match='py'>\n"
     ]
    }
   ],
   "source": [
    "str1 = 'python programming language'\n",
    "m=re.match(r'py',str1)\n",
    "print(m)"
   ]
  },
  {
   "cell_type": "code",
   "execution_count": 2,
   "id": "08160759",
   "metadata": {},
   "outputs": [
    {
     "name": "stdout",
     "output_type": "stream",
     "text": [
      "None\n"
     ]
    }
   ],
   "source": [
    "str2 = 'I am Data Scientist'\n",
    "m =re.match(r'am',str2) # Return None \n",
    "print(m)"
   ]
  },
  {
   "cell_type": "code",
   "execution_count": 3,
   "id": "3ba79fda",
   "metadata": {},
   "outputs": [
    {
     "name": "stdout",
     "output_type": "stream",
     "text": [
      "<re.Match object; span=(0, 2), match='PY'>\n"
     ]
    }
   ],
   "source": [
    "str3 = 'PYthon programming language'\n",
    "m=re.search(r'py',str3,re.IGNORECASE) # Ignorecase used ti ignore the case og the string\n",
    "print(m)"
   ]
  },
  {
   "cell_type": "markdown",
   "id": "479bbb55",
   "metadata": {},
   "source": [
    "**2.re.search(pattern,string,flags=0)**\n",
    "- Search anywhere in string "
   ]
  },
  {
   "cell_type": "code",
   "execution_count": 3,
   "id": "318aee11",
   "metadata": {},
   "outputs": [
    {
     "name": "stdout",
     "output_type": "stream",
     "text": [
      "<re.Match object; span=(7, 11), match='java'>\n"
     ]
    }
   ],
   "source": [
    "m = re.search(r'java','python java oracle java')\n",
    "print(m)"
   ]
  },
  {
   "cell_type": "code",
   "execution_count": 4,
   "id": "6cf8d345",
   "metadata": {},
   "outputs": [
    {
     "name": "stdout",
     "output_type": "stream",
     "text": [
      "None\n"
     ]
    }
   ],
   "source": [
    "m = re.search(r'.Net','python java oracle java')\n",
    "print(m)"
   ]
  },
  {
   "cell_type": "markdown",
   "id": "aba386c9",
   "metadata": {},
   "source": [
    "**3.re.findall(pattern, string, flags=0)**\n",
    "- Return all non overlapping pattern in string as a list of string or tuple,\n",
    "- The string is scanned left to right and matches are return in order found empty matches are included in the result"
   ]
  },
  {
   "cell_type": "code",
   "execution_count": 5,
   "id": "de6b2eed",
   "metadata": {},
   "outputs": [
    {
     "name": "stdout",
     "output_type": "stream",
     "text": [
      "['java', 'java']\n"
     ]
    }
   ],
   "source": [
    "m = re.findall(r'java','python java oracle java')\n",
    "print(m)"
   ]
  },
  {
   "cell_type": "code",
   "execution_count": 8,
   "id": "b034a567",
   "metadata": {},
   "outputs": [
    {
     "name": "stdout",
     "output_type": "stream",
     "text": [
      "[]\n"
     ]
    }
   ],
   "source": [
    "m = re.findall(r'C','python java oracle java')\n",
    "print(m)"
   ]
  },
  {
   "cell_type": "markdown",
   "id": "44ccdcf2",
   "metadata": {},
   "source": [
    "**4.re.split(pattern, string,maxsplit=0,flags=0)**\n",
    "- split the string by occurance of the pattern if capturing parenthisis are used in pattern then the text of all groups in the pattern are also returned as part of the resulting list"
   ]
  },
  {
   "cell_type": "code",
   "execution_count": 9,
   "id": "2222dc2d",
   "metadata": {},
   "outputs": [
    {
     "name": "stdout",
     "output_type": "stream",
     "text": [
      "['python ', ' oracle ', '']\n"
     ]
    }
   ],
   "source": [
    "m = re.split(r'java','python java oracle java')\n",
    "print(m)"
   ]
  },
  {
   "cell_type": "code",
   "execution_count": 13,
   "id": "cc39351d",
   "metadata": {},
   "outputs": [
    {
     "name": "stdout",
     "output_type": "stream",
     "text": [
      "['', ' java oracle java']\n"
     ]
    }
   ],
   "source": [
    "m = re.split('python','python java oracle java')\n",
    "print(m)"
   ]
  },
  {
   "cell_type": "markdown",
   "id": "4aebb786",
   "metadata": {},
   "source": [
    "**5.re.compile(pattern, flags=0)**\n",
    "- compile a regular expression pattern into regular expression object, which can be used for matching using it's **match()**, **search()** and other methods"
   ]
  },
  {
   "cell_type": "code",
   "execution_count": null,
   "id": "1278dc13",
   "metadata": {},
   "outputs": [],
   "source": []
  },
  {
   "cell_type": "markdown",
   "id": "ae606588",
   "metadata": {},
   "source": [
    "## Special Character Used for Creating Pattern"
   ]
  },
  {
   "cell_type": "markdown",
   "id": "3285f3bf",
   "metadata": {},
   "source": [
    "**1.(.)Dot**\n",
    "- Dot(.) in the default mode this matches any charcter except new line"
   ]
  },
  {
   "cell_type": "code",
   "execution_count": 14,
   "id": "4d2aaa18",
   "metadata": {},
   "outputs": [
    {
     "name": "stdout",
     "output_type": "stream",
     "text": [
      "['a', 'a', 'a', 'a']\n"
     ]
    }
   ],
   "source": [
    "m = re.findall(r'a','python java javascript')\n",
    "print(m)"
   ]
  },
  {
   "cell_type": "code",
   "execution_count": 15,
   "id": "6f492077",
   "metadata": {},
   "outputs": [
    {
     "name": "stdout",
     "output_type": "stream",
     "text": [
      "['p', 'y', 't', 'h', 'o', 'n', ' ', 'j', 'a', 'v', 'a', ' ', 'j', 'a', 'v', 'a', 's', 'c', 'r', 'i', 'p', 't']\n"
     ]
    }
   ],
   "source": [
    "m = re.findall(r'.','python java javascript')\n",
    "print(m)"
   ]
  },
  {
   "cell_type": "code",
   "execution_count": 16,
   "id": "818ad65b",
   "metadata": {},
   "outputs": [
    {
     "name": "stdout",
     "output_type": "stream",
     "text": [
      "['p', 'y', 't', 'h', 'o', 'n', 'j', 'a', 'v', 'a']\n"
     ]
    }
   ],
   "source": [
    "m = re.findall(r'.','python\\njava')\n",
    "print(m)"
   ]
  },
  {
   "cell_type": "code",
   "execution_count": 17,
   "id": "76232dd1",
   "metadata": {},
   "outputs": [
    {
     "name": "stdout",
     "output_type": "stream",
     "text": [
      "['p', 'y', 't', 'h', 'o', 'n', '\\n', 'j', 'a', 'v', 'a']\n"
     ]
    }
   ],
   "source": [
    "m = re.findall(r'.','python\\njava',re.DOTALL)\n",
    "print(m)"
   ]
  },
  {
   "cell_type": "code",
   "execution_count": 18,
   "id": "d09e0613",
   "metadata": {},
   "outputs": [
    {
     "name": "stdout",
     "output_type": "stream",
     "text": [
      "['py', 'pt']\n"
     ]
    }
   ],
   "source": [
    "m = re.findall(r'p.','python java javascript') \n",
    "print(m)"
   ]
  },
  {
   "cell_type": "code",
   "execution_count": 20,
   "id": "959fafb9",
   "metadata": {},
   "outputs": [
    {
     "name": "stdout",
     "output_type": "stream",
     "text": [
      "['bat', 'bot']\n"
     ]
    }
   ],
   "source": [
    "m = re.findall(r'b.t','bat ball box bot') # Start and end\n",
    "print(m)"
   ]
  },
  {
   "cell_type": "code",
   "execution_count": 22,
   "id": "84d7c73a",
   "metadata": {},
   "outputs": [
    {
     "name": "stdout",
     "output_type": "stream",
     "text": [
      "['bag', 'dog']\n"
     ]
    }
   ],
   "source": [
    "m = re.findall(r'..g','bag dog ball doll') # Two dots means two character\n",
    "print(m)"
   ]
  },
  {
   "cell_type": "markdown",
   "id": "f40e22a8",
   "metadata": {},
   "source": [
    "**2. ^ (caret)**\n",
    "- Caret matches the start of the string and in **Multipline** Mode also matches immediately after each Newline"
   ]
  },
  {
   "cell_type": "code",
   "execution_count": 25,
   "id": "e7a76442",
   "metadata": {},
   "outputs": [
    {
     "name": "stdout",
     "output_type": "stream",
     "text": [
      "ramesh\n",
      "rajest\n",
      "raman\n"
     ]
    }
   ],
   "source": [
    "list1 = ['naresh','ramesh','kishore','rajest','raman']\n",
    "for name in list1:\n",
    "    m=re.search(r'^r',name) # Get name starting with r\n",
    "    if m!=None:\n",
    "        print(name)"
   ]
  },
  {
   "cell_type": "code",
   "execution_count": 26,
   "id": "ff734502",
   "metadata": {},
   "outputs": [
    {
     "name": "stdout",
     "output_type": "stream",
     "text": [
      "['py']\n"
     ]
    }
   ],
   "source": [
    "str1= '''python is easy language\n",
    "      python is a object oriented language\n",
    "      python is a general purpose language'''\n",
    "l = re.findall(r'^py',str1)\n",
    "print(l)"
   ]
  },
  {
   "cell_type": "code",
   "execution_count": 32,
   "id": "a1b789fa",
   "metadata": {},
   "outputs": [
    {
     "name": "stdout",
     "output_type": "stream",
     "text": [
      "['py', 'py', 'py']\n"
     ]
    }
   ],
   "source": [
    "str2= '''python is easy language\n",
    "python is a object oriented language\n",
    "python is a general purpose language'''\n",
    "\n",
    "l1 = re.findall(r'^py',str2,re.MULTILINE)\n",
    "print(l1)"
   ]
  },
  {
   "cell_type": "markdown",
   "id": "852fb3a7",
   "metadata": {},
   "source": [
    "**3. ($) Doller**\n",
    "- Matches the end of the string or just before the newline at the end of the string, and in MULTILINE mode also matches before a newline. "
   ]
  },
  {
   "cell_type": "code",
   "execution_count": 33,
   "id": "bcb81237",
   "metadata": {},
   "outputs": [
    {
     "name": "stdout",
     "output_type": "stream",
     "text": [
      "naresh\n",
      "ramesh\n"
     ]
    }
   ],
   "source": [
    "list1 = ['naresh','ramesh','kishore','rajest','raman']\n",
    "for name in list1:\n",
    "    m=re.search(r'h$',name)\n",
    "    if m!=None:\n",
    "        print(name)"
   ]
  },
  {
   "cell_type": "markdown",
   "id": "1879c85b",
   "metadata": {},
   "source": [
    "**4.(*)**"
   ]
  },
  {
   "cell_type": "markdown",
   "id": "88349daa",
   "metadata": {},
   "source": [
    "- Causes the resulting RE to match 0 or more repetitions of the preceding RE, as many repetitions as are possible. ab* will match ‘a’, ‘ab’, or ‘a’ followed by any number of ‘b’s."
   ]
  },
  {
   "cell_type": "code",
   "execution_count": 1,
   "id": "fd89bfd1",
   "metadata": {},
   "outputs": [],
   "source": [
    "import re"
   ]
  },
  {
   "cell_type": "code",
   "execution_count": 3,
   "id": "3cd9d32b",
   "metadata": {},
   "outputs": [
    {
     "name": "stdout",
     "output_type": "stream",
     "text": [
      "['ab', 'abb', 'abb', 'a', 'abbbb']\n"
     ]
    }
   ],
   "source": [
    "str1='ab abb abb a abbbb'\n",
    "l=re.findall(r'ab*',str1)\n",
    "print(l)"
   ]
  },
  {
   "cell_type": "code",
   "execution_count": 6,
   "id": "f89dc1bf",
   "metadata": {},
   "outputs": [
    {
     "name": "stdout",
     "output_type": "stream",
     "text": [
      "ramesh\n",
      "rajesh\n"
     ]
    }
   ],
   "source": [
    "list1 = ['naresh','ramesh','kishore','rajesh','raman']\n",
    "for name in list1:\n",
    "    m=re.search(r'^r.*h$',name)\n",
    "    if m!=None:\n",
    "        print(name)"
   ]
  },
  {
   "cell_type": "markdown",
   "id": "5cf9b353",
   "metadata": {},
   "source": [
    "**5.(+)**\n",
    "- Causes the resulting RE to match 1 or more repetitions of the preceding RE. ab+ will match ‘a’ followed by any non-zero number of ‘b’s; it will not match just ‘a’."
   ]
  },
  {
   "cell_type": "code",
   "execution_count": 2,
   "id": "c1f3cd89",
   "metadata": {},
   "outputs": [
    {
     "name": "stdout",
     "output_type": "stream",
     "text": [
      "['ab', 'abb', 'abb', 'abbbb']\n"
     ]
    }
   ],
   "source": [
    "str1='ab abb abb a abbbb'\n",
    "l=re.findall(r'ab+',str1)\n",
    "print(l)"
   ]
  },
  {
   "cell_type": "markdown",
   "id": "f295c4ba",
   "metadata": {},
   "source": [
    "**6.(?)**\n",
    "- Causes the resulting RE to match 0 or 1 repetitions of the preceding RE. ab? will match either ‘a’ or ‘ab’."
   ]
  },
  {
   "cell_type": "code",
   "execution_count": 3,
   "id": "2270e66a",
   "metadata": {},
   "outputs": [
    {
     "name": "stdout",
     "output_type": "stream",
     "text": [
      "['ab', 'abc']\n"
     ]
    }
   ],
   "source": [
    "str1=\"a ab abc bca\"\n",
    "l=re.findall(r'ab+c?',str1)\n",
    "print(l)"
   ]
  },
  {
   "cell_type": "markdown",
   "id": "f9248c84",
   "metadata": {},
   "source": [
    "**7.{m}**\n",
    "- Specifies that exactly m copies of the previous RE should be matched; fewer matches cause the entire RE not to match. For example, a{6} will match exactly six 'a' characters, but not five."
   ]
  },
  {
   "cell_type": "code",
   "execution_count": 7,
   "id": "9b5544d0",
   "metadata": {},
   "outputs": [
    {
     "name": "stdout",
     "output_type": "stream",
     "text": [
      "['abbbbb', 'abbbbb']\n"
     ]
    }
   ],
   "source": [
    "str1=\"ab abbb abbbbb abbbbbb\"\n",
    "l=re.findall(r'ab{5}',str1)\n",
    "print(l)"
   ]
  },
  {
   "cell_type": "markdown",
   "id": "06b3d64e",
   "metadata": {},
   "source": [
    "**8.{m,n} Range**\n",
    "- Causes the resulting RE to match from m to n repetitions of the preceding RE, attempting to match as many repetitions as possible. For example, a{3,5} will match from 3 to 5 'a' characters. "
   ]
  },
  {
   "cell_type": "code",
   "execution_count": 8,
   "id": "bc35ffd2",
   "metadata": {},
   "outputs": [
    {
     "name": "stdout",
     "output_type": "stream",
     "text": [
      "['abbb', 'abbbbb', 'abbbbb']\n"
     ]
    }
   ],
   "source": [
    "str1=\"ab abbb abbbbb abbbbbb\"\n",
    "l=re.findall(r'ab{3,5}',str1)\n",
    "print(l)"
   ]
  },
  {
   "cell_type": "markdown",
   "id": "756cdb10",
   "metadata": {},
   "source": [
    "**9.[ ]**\n",
    "- Characters can be listed individually, e.g. [amk] will match 'a', 'm', or 'k'."
   ]
  },
  {
   "cell_type": "code",
   "execution_count": 11,
   "id": "ef9e491e",
   "metadata": {},
   "outputs": [
    {
     "name": "stdout",
     "output_type": "stream",
     "text": [
      "<re.Match object; span=(0, 6), match='ramesh'>\n",
      "<re.Match object; span=(0, 7), match='kishore'>\n",
      "<re.Match object; span=(0, 6), match='rajesh'>\n",
      "<re.Match object; span=(0, 5), match='raman'>\n"
     ]
    }
   ],
   "source": [
    "list1 = ['naresh','ramesh','kishore','rajesh','raman']\n",
    "for name in list1:\n",
    "    m=re.search(r'^[rk].*',name)\n",
    "    if m!=None:\n",
    "        print(m)"
   ]
  },
  {
   "cell_type": "code",
   "execution_count": null,
   "id": "607d0bd1",
   "metadata": {},
   "outputs": [],
   "source": []
  }
 ],
 "metadata": {
  "kernelspec": {
   "display_name": "Python 3 (ipykernel)",
   "language": "python",
   "name": "python3"
  },
  "language_info": {
   "codemirror_mode": {
    "name": "ipython",
    "version": 3
   },
   "file_extension": ".py",
   "mimetype": "text/x-python",
   "name": "python",
   "nbconvert_exporter": "python",
   "pygments_lexer": "ipython3",
   "version": "3.9.13"
  }
 },
 "nbformat": 4,
 "nbformat_minor": 5
}

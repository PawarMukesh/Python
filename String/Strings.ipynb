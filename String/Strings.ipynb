{
 "cells": [
  {
   "cell_type": "markdown",
   "id": "18812235",
   "metadata": {},
   "source": [
    "# String \n",
    "- String is a collection of character\n",
    "- String is a sequance DataType\n",
    "- String is immutable\n",
    "- A string which contain only alphabate this string is called as Alphabatic string\n",
    "- A string which contain only alphabate & Digit this string is called as Alphanumeric string"
   ]
  },
  {
   "cell_type": "markdown",
   "id": "c2ca7c28",
   "metadata": {},
   "source": [
    "**Wrtie a program to find length of string without using len() function**"
   ]
  },
  {
   "cell_type": "code",
   "execution_count": 3,
   "id": "7590cc51",
   "metadata": {},
   "outputs": [
    {
     "name": "stdout",
     "output_type": "stream",
     "text": [
      "Enter the string: integer\n",
      "Length of string: 7\n"
     ]
    }
   ],
   "source": [
    "str1 = input(\"Enter the string: \")\n",
    "c=0\n",
    "for chr in str1:\n",
    "    c+=1\n",
    "print(\"Length of string:\",c)"
   ]
  },
  {
   "cell_type": "code",
   "execution_count": 6,
   "id": "810a8cb6",
   "metadata": {},
   "outputs": [
    {
     "name": "stdout",
     "output_type": "stream",
     "text": [
      "Enter the string: inAHI4589@\n",
      "Alphabate Count:  5\n",
      "Digit Count:  4\n",
      "Special Character Count:  1\n"
     ]
    }
   ],
   "source": [
    "\"\"\" Write a program to count alphabates, \n",
    "digits and special charcter in input string \"\"\" \n",
    "\n",
    "str1=input(\"Enter the string: \")\n",
    "ac, dc, sc= 0,0,0\n",
    "for ch in str1:\n",
    "    if (ch>=\"A\" and ch<=\"Z\") or (ch>=\"a\" and ch<=\"z\"):\n",
    "        ac+=1\n",
    "    elif ch>=\"0\" and ch<=\"9\":\n",
    "        dc+=1\n",
    "    else:\n",
    "        sc+=1\n",
    "print(\"Alphabate Count: \",ac)\n",
    "print(\"Digit Count: \",dc)\n",
    "print(\"Special Character Count: \",sc)\n"
   ]
  },
  {
   "cell_type": "markdown",
   "id": "d190f8e2",
   "metadata": {},
   "source": [
    "# Read String "
   ]
  },
  {
   "cell_type": "markdown",
   "id": "34c6ec1b",
   "metadata": {},
   "source": [
    "- Using Indexing\n",
    "- Using Slicing\n",
    "- Using for loop\n",
    "- Using iterator\n",
    "- Using enumerate"
   ]
  },
  {
   "cell_type": "code",
   "execution_count": 9,
   "id": "0e24078e",
   "metadata": {},
   "outputs": [
    {
     "name": "stdout",
     "output_type": "stream",
     "text": [
      "P\n",
      "Y\n",
      "T\n",
      "H\n",
      "O\n",
      "N\n",
      "PYTHONN\tO\tH\tT\tY\tP\t"
     ]
    }
   ],
   "source": [
    "str1= \"PYTHON\"\n",
    "\n",
    "for ch in str1:\n",
    "    print(ch)\n",
    "    \n",
    "    \n",
    "# Using indexing\n",
    "for i in range(len(str1)):\n",
    "              print(str1[i],end='')\n",
    "        \n",
    "# Reverse order\n",
    "for i in range(-1,-(len(str1)+1),-1):\n",
    "    print(str1[i],end='\\t')\n",
    "    "
   ]
  },
  {
   "cell_type": "code",
   "execution_count": 5,
   "id": "0e9e8eb0",
   "metadata": {},
   "outputs": [
    {
     "name": "stdout",
     "output_type": "stream",
     "text": [
      "Enter the String: mukesh\n",
      "MUKESH\n",
      "Enter the String: pawar\n",
      "pawarR\n"
     ]
    }
   ],
   "source": [
    "# Convert input string into Uppercase\n",
    "str2 = input(\"Enter the String: \")\n",
    "print(str2.upper())\n",
    "\n",
    "\n",
    "# Another Way\n",
    "str2 = input(\"Enter the String: \")\n",
    "str3 = \"\" # Empty string\n",
    "for ch in str2:\n",
    "    if ch>='a' and ch<'z':\n",
    "        str3 =str2+chr(ord(ch)-32)  # Ord return ascci value of character\n",
    "    else:\n",
    "        str3=str3+ch\n",
    "print(str3)\n",
    "        "
   ]
  },
  {
   "cell_type": "markdown",
   "id": "69720a96",
   "metadata": {},
   "source": [
    "## Pre-defined method of string class"
   ]
  },
  {
   "cell_type": "markdown",
   "id": "297217fc",
   "metadata": {},
   "source": [
    "**1.capitalize()**\n",
    "- Make first character capital"
   ]
  },
  {
   "cell_type": "code",
   "execution_count": 10,
   "id": "ff69f513",
   "metadata": {},
   "outputs": [
    {
     "name": "stdout",
     "output_type": "stream",
     "text": [
      "PYTHON Python\n"
     ]
    }
   ],
   "source": [
    "str1=\"PYTHON\"\n",
    "str2=str1.capitalize()\n",
    "print(str1, str2)"
   ]
  },
  {
   "cell_type": "code",
   "execution_count": 11,
   "id": "99f05837",
   "metadata": {},
   "outputs": [
    {
     "name": "stdout",
     "output_type": "stream",
     "text": [
      "Naresh\n",
      "Suresh\n",
      "Mukesh\n"
     ]
    }
   ],
   "source": [
    "nameList=['naresh','Suresh','mukesh']\n",
    "for name in nameList:\n",
    "    print(name.capitalize())"
   ]
  },
  {
   "cell_type": "markdown",
   "id": "8a912c4f",
   "metadata": {},
   "source": [
    "**2.lower()**\n",
    "- Convert string into lower case"
   ]
  },
  {
   "cell_type": "code",
   "execution_count": 12,
   "id": "171cd921",
   "metadata": {},
   "outputs": [
    {
     "data": {
      "text/plain": [
       "'mukesh'"
      ]
     },
     "execution_count": 12,
     "metadata": {},
     "output_type": "execute_result"
    }
   ],
   "source": [
    "str1='MUKESH'\n",
    "str1.lower()"
   ]
  },
  {
   "cell_type": "markdown",
   "id": "bc4dcbd1",
   "metadata": {},
   "source": [
    "**3.swapcase()**\n",
    "- convert upper to lower and lower to upper"
   ]
  },
  {
   "cell_type": "code",
   "execution_count": 13,
   "id": "73da1a20",
   "metadata": {},
   "outputs": [
    {
     "name": "stdout",
     "output_type": "stream",
     "text": [
      "nARESH Naresh\n"
     ]
    }
   ],
   "source": [
    "str1='nARESH'\n",
    "str2=str1.swapcase()\n",
    "print(str1, str2)"
   ]
  },
  {
   "cell_type": "code",
   "execution_count": 14,
   "id": "fde0172f",
   "metadata": {},
   "outputs": [
    {
     "name": "stdout",
     "output_type": "stream",
     "text": [
      "Enter any string: nARESH\n",
      "nARESH  Naresh\n"
     ]
    }
   ],
   "source": [
    "# program for swapcase of string\n",
    "str1=input(\"Enter any string: \")\n",
    "str2=\" \"\n",
    "for ch in str1:\n",
    "    if ch>='a' and ch<='z':\n",
    "        str2=str2+chr(ord(ch)-32)\n",
    "    elif ch>='A' and ch<='Z':\n",
    "        str2=str2+chr(ord(ch)+32)\n",
    "    else:\n",
    "        str2=str2+ch\n",
    "        \n",
    "print(str1, str2)\n",
    "        "
   ]
  },
  {
   "cell_type": "markdown",
   "id": "f1359dc4",
   "metadata": {},
   "source": [
    "**4.title()**\n",
    "- Every word first letter in uppercase and remaning characgter in lowercase "
   ]
  },
  {
   "cell_type": "code",
   "execution_count": 15,
   "id": "42e4912d",
   "metadata": {},
   "outputs": [
    {
     "data": {
      "text/plain": [
       "'Python Is A Programming Language'"
      ]
     },
     "execution_count": 15,
     "metadata": {},
     "output_type": "execute_result"
    }
   ],
   "source": [
    "str1=\"python is a programming language\"\n",
    "str1.title()"
   ]
  },
  {
   "cell_type": "code",
   "execution_count": 16,
   "id": "67ef79e6",
   "metadata": {},
   "outputs": [
    {
     "name": "stdout",
     "output_type": "stream",
     "text": [
      "Enter any string: madam\n",
      "String is palindrome \n"
     ]
    }
   ],
   "source": [
    "\"\"\" Python program to check input string is palindrome or not \"\"\"\n",
    "str1=input(\"Enter any string: \")\n",
    "str2=str1[::-1]\n",
    "if str1==str2:\n",
    "    print(\"String is palindrome \")\n",
    "else:\n",
    "    print(\"Not palindrome \")"
   ]
  },
  {
   "cell_type": "code",
   "execution_count": 17,
   "id": "1420e73d",
   "metadata": {},
   "outputs": [
    {
     "name": "stdout",
     "output_type": "stream",
     "text": [
      "Enter any string: Python Programming Language\n",
      "Language Programming Python \n"
     ]
    }
   ],
   "source": [
    "\"\"\" reverse every word in string using python \"\"\"\n",
    "\n",
    "str1=input(\"Enter any string: \")\n",
    "l = str1.split()\n",
    "str2=\"\"\n",
    "for i in range(-1,-(len(l)+1),-1):\n",
    "    str2=str2+l[i]+\" \"\n",
    "print(str2)\n",
    "               "
   ]
  },
  {
   "cell_type": "markdown",
   "id": "a84d3de0",
   "metadata": {},
   "source": [
    "**5.upper()**\n",
    "- convert into upper case"
   ]
  },
  {
   "cell_type": "code",
   "execution_count": 18,
   "id": "5eecd275",
   "metadata": {},
   "outputs": [
    {
     "data": {
      "text/plain": [
       "'PYTHON'"
      ]
     },
     "execution_count": 18,
     "metadata": {},
     "output_type": "execute_result"
    }
   ],
   "source": [
    "s='python'\n",
    "s.upper()"
   ]
  },
  {
   "cell_type": "markdown",
   "id": "f098a3fa",
   "metadata": {},
   "source": [
    "## Split Method"
   ]
  },
  {
   "cell_type": "markdown",
   "id": "633b9dc2",
   "metadata": {},
   "source": [
    "**1.str1.split(sep=None, maxsplit=-1)**\n",
    "- Return a list of the words in the string, using sep as the delimiter string."
   ]
  },
  {
   "cell_type": "code",
   "execution_count": 19,
   "id": "8ec173c6",
   "metadata": {},
   "outputs": [
    {
     "name": "stdout",
     "output_type": "stream",
     "text": [
      "['a', 'b', 'c', 'd', 'e']\n"
     ]
    }
   ],
   "source": [
    "str1=\"a b c d e\"\n",
    "l=str1.split()\n",
    "print(l)"
   ]
  },
  {
   "cell_type": "code",
   "execution_count": 20,
   "id": "50d18eb7",
   "metadata": {},
   "outputs": [
    {
     "name": "stdout",
     "output_type": "stream",
     "text": [
      "['a', 'b', 'c', 'd e']\n"
     ]
    }
   ],
   "source": [
    "str1=\"a b c d e\"\n",
    "l=str1.split(maxsplit=3)\n",
    "print(l)"
   ]
  },
  {
   "cell_type": "code",
   "execution_count": 23,
   "id": "8d307be8",
   "metadata": {},
   "outputs": [
    {
     "name": "stdout",
     "output_type": "stream",
     "text": [
      "['a b c d e']\n"
     ]
    }
   ],
   "source": [
    "str1=\"a b c d e\"\n",
    "l=str1.split(\",\",maxsplit=2)\n",
    "print(l)"
   ]
  },
  {
   "cell_type": "markdown",
   "id": "8cde1f1d",
   "metadata": {},
   "source": [
    "**2.str1.rsplit(sep=None, maxsplit=-1)**"
   ]
  },
  {
   "cell_type": "code",
   "execution_count": 24,
   "id": "7fad5d21",
   "metadata": {},
   "outputs": [
    {
     "name": "stdout",
     "output_type": "stream",
     "text": [
      "['a b c d e f', 'g', 'h']\n"
     ]
    }
   ],
   "source": [
    "s = 'a b c d e f g h'\n",
    "l=s.rsplit(maxsplit=2)\n",
    "print(l)"
   ]
  },
  {
   "cell_type": "markdown",
   "id": "a658340c",
   "metadata": {},
   "source": [
    "## Joining methos"
   ]
  },
  {
   "cell_type": "markdown",
   "id": "19e736e3",
   "metadata": {},
   "source": [
    "**1.join()**\n",
    "- return a string which is the concatenation of the string in iterable"
   ]
  },
  {
   "cell_type": "code",
   "execution_count": 29,
   "id": "3bf32006",
   "metadata": {},
   "outputs": [
    {
     "name": "stdout",
     "output_type": "stream",
     "text": [
      "a,b,c,d,f\n"
     ]
    }
   ],
   "source": [
    "l1=['a','b','c','d','f']\n",
    "s3=\",\".join(l1)\n",
    "print(s3)"
   ]
  },
  {
   "cell_type": "code",
   "execution_count": 30,
   "id": "24b4658a",
   "metadata": {},
   "outputs": [
    {
     "name": "stdout",
     "output_type": "stream",
     "text": [
      "a:b:c:d:f\n"
     ]
    }
   ],
   "source": [
    "l1=['a','b','c','d','f']\n",
    "s3=\":\".join(l1)\n",
    "print(s3)"
   ]
  },
  {
   "cell_type": "markdown",
   "id": "e8bc6071",
   "metadata": {},
   "source": [
    "## Strip methods"
   ]
  },
  {
   "cell_type": "markdown",
   "id": "74d7d29b",
   "metadata": {},
   "source": [
    "- helpful for remove leading character/spaces"
   ]
  },
  {
   "cell_type": "markdown",
   "id": "c014d736",
   "metadata": {},
   "source": [
    "**1.lstrip([chracters])**\n",
    "- delete charcter found in left side"
   ]
  },
  {
   "cell_type": "code",
   "execution_count": 32,
   "id": "5db76614",
   "metadata": {},
   "outputs": [
    {
     "data": {
      "text/plain": [
       "'abc'"
      ]
     },
     "execution_count": 32,
     "metadata": {},
     "output_type": "execute_result"
    }
   ],
   "source": [
    "str1=\"******abc\"\n",
    "str2=str1.lstrip('*')\n",
    "str2"
   ]
  },
  {
   "cell_type": "code",
   "execution_count": 35,
   "id": "e2ed4e51",
   "metadata": {},
   "outputs": [
    {
     "data": {
      "text/plain": [
       "'abc'"
      ]
     },
     "execution_count": 35,
     "metadata": {},
     "output_type": "execute_result"
    }
   ],
   "source": [
    "str1=\"       abc\"\n",
    "str2=str1.lstrip()\n",
    "str2"
   ]
  },
  {
   "cell_type": "markdown",
   "id": "e46f6915",
   "metadata": {},
   "source": [
    "**1.lstrip([chracters])**\n",
    "\n",
    "- delete charcter found in right side"
   ]
  },
  {
   "cell_type": "code",
   "execution_count": 37,
   "id": "5d0788bf",
   "metadata": {},
   "outputs": [
    {
     "data": {
      "text/plain": [
       "'abc'"
      ]
     },
     "execution_count": 37,
     "metadata": {},
     "output_type": "execute_result"
    }
   ],
   "source": [
    "str1=\"abc@@%!#^&\"\n",
    "str2=str1.rstrip(\"@@%!#^&\")\n",
    "str2"
   ]
  },
  {
   "cell_type": "markdown",
   "id": "0ea82659",
   "metadata": {},
   "source": [
    "**3.strip([chracters])**\n",
    "\n",
    "- delete charcter found in both side"
   ]
  },
  {
   "cell_type": "code",
   "execution_count": 38,
   "id": "cb45bc7d",
   "metadata": {},
   "outputs": [
    {
     "data": {
      "text/plain": [
       "'abc'"
      ]
     },
     "execution_count": 38,
     "metadata": {},
     "output_type": "execute_result"
    }
   ],
   "source": [
    "str1=\"@@@abc@@%!#^&\"\n",
    "str2=str1.strip(\"@@%!#^&\")\n",
    "str2"
   ]
  },
  {
   "cell_type": "code",
   "execution_count": 39,
   "id": "9d7f4a26",
   "metadata": {},
   "outputs": [
    {
     "data": {
      "text/plain": [
       "'abc'"
      ]
     },
     "execution_count": 39,
     "metadata": {},
     "output_type": "execute_result"
    }
   ],
   "source": [
    "str1=\"@@@abc@@%!456#^&\"\n",
    "str2=str1.strip(\"@@%456!#^&\")\n",
    "str2"
   ]
  },
  {
   "cell_type": "markdown",
   "id": "873bbd25",
   "metadata": {},
   "source": [
    "## String Formatting/ Fomatting Outputs"
   ]
  },
  {
   "cell_type": "markdown",
   "id": "602662e4",
   "metadata": {},
   "source": [
    "### What is formatting string?\n",
    "- Formatting fields is called format string, it is ued to format string"
   ]
  },
  {
   "cell_type": "markdown",
   "id": "e0ffe801",
   "metadata": {},
   "source": [
    "**String formatting in python done in three ways**\n",
    "1. Old style\n",
    "2. New style\n",
    "3. f-style"
   ]
  },
  {
   "cell_type": "markdown",
   "id": "b07bb85a",
   "metadata": {},
   "source": [
    "**1.Old Style**\n",
    "- Is also callled as c style string formatting\n",
    "- Operator ---- % (Modulo or interplotation)"
   ]
  },
  {
   "cell_type": "code",
   "execution_count": 6,
   "id": "05baa6d4",
   "metadata": {},
   "outputs": [
    {
     "name": "stdout",
     "output_type": "stream",
     "text": [
      "Sum of 10 and 20 is 30\n",
      "30 is a sum of 10 & 20\n"
     ]
    }
   ],
   "source": [
    "a=10\n",
    "b=20\n",
    "c=a+b\n",
    "print(\"Sum of %d and %d is %d\"%(a,b,c))\n",
    "print(\"%d is a sum of %d & %d\"%(c,a,b))"
   ]
  },
  {
   "cell_type": "code",
   "execution_count": 10,
   "id": "9efedcf8",
   "metadata": {},
   "outputs": [
    {
     "name": "stdout",
     "output_type": "stream",
     "text": [
      "10,12,a\n"
     ]
    }
   ],
   "source": [
    "\"\"\" d---- Decimal\n",
    "o---- Octal\n",
    "x-------Hexa decimal \"\"\"\n",
    "\n",
    "n=10\n",
    "print(\"%d,%o,%x\"%(n,n,n))"
   ]
  },
  {
   "cell_type": "markdown",
   "id": "90d1fc9d",
   "metadata": {},
   "source": [
    "#### Formatting Specifiers\n",
    "1. **%d** -----------> decimal int\n",
    "2. **%o** -----------> octal int\n",
    "3. **%x** -----------> hexadecimal int\n",
    "4. **%f** -----------> float in fixed notation\n",
    "5. **%e** -----------> float in exponent notation\n",
    "6. **%s** -----------> String"
   ]
  },
  {
   "cell_type": "code",
   "execution_count": 13,
   "id": "b9bfa09e",
   "metadata": {},
   "outputs": [
    {
     "name": "stdout",
     "output_type": "stream",
     "text": [
      "Enter the base: 4\n",
      "Enter the height: 80\n",
      "Area of triangle with base 4 & height 80 is 160\n",
      "Area of triangle with base 4.000000& height 80.000000 is 160.000000\n",
      "Area of triangle with base 4.00 & height 80.00 is 160.00\n"
     ]
    }
   ],
   "source": [
    "\"\"\" Write a program to find a area of triangle \"\"\"\n",
    "base = float(input(\"Enter the base: \"))\n",
    "height = float(input(\"Enter the height: \"))\n",
    "area = 0.5*base*height\n",
    "print(\"Area of triangle with base %d & height %d is %d\"%(base,height,area))\n",
    "print(\"Area of triangle with base %f& height %f is %f\"%(base,height,area))\n",
    "print(\"Area of triangle with base %.2f & height %.2f is %.2f\"%(base,height,area))"
   ]
  },
  {
   "cell_type": "markdown",
   "id": "96d79f72",
   "metadata": {},
   "source": [
    "### 2.New style string formatting"
   ]
  },
  {
   "cell_type": "markdown",
   "id": "9760c906",
   "metadata": {},
   "source": [
    "- In this formatting method strinf is contain replacement fields represented using curly bases"
   ]
  },
  {
   "cell_type": "markdown",
   "id": "df329c0e",
   "metadata": {},
   "source": [
    "**Syntax:-**\n",
    "    - \"{},{},{}\".format(value,value,value)"
   ]
  },
  {
   "cell_type": "code",
   "execution_count": 14,
   "id": "01d927d0",
   "metadata": {},
   "outputs": [
    {
     "name": "stdout",
     "output_type": "stream",
     "text": [
      "Sum of 10 & 20 is 30\n"
     ]
    }
   ],
   "source": [
    "a=10\n",
    "b=20\n",
    "c=a+b\n",
    "print(\"Sum of {} & {} is {}\".format(a,b,c))"
   ]
  },
  {
   "cell_type": "code",
   "execution_count": 19,
   "id": "967c6bb4",
   "metadata": {},
   "outputs": [
    {
     "name": "stdout",
     "output_type": "stream",
     "text": [
      "100,144,64,1100100\n",
      "1.50\n",
      "Python\n"
     ]
    }
   ],
   "source": [
    "n1=100\n",
    "n2=1.5\n",
    "c=\"Python\"\n",
    "print(\"{a:d},{b:o},{c:x},{d:b}\".format(a=n1,b=n1,c=n1,d=n1))\n",
    "print(\"{:.2f}\".format(n2))\n",
    "print(\"{:s}\".format(c))"
   ]
  },
  {
   "cell_type": "markdown",
   "id": "371ef8de",
   "metadata": {},
   "source": [
    "### 3.F-string\n",
    "- Introduce in python3.6\n",
    "- String which prefix with f is called format string"
   ]
  },
  {
   "cell_type": "code",
   "execution_count": 21,
   "id": "b73e45ac",
   "metadata": {},
   "outputs": [
    {
     "name": "stdout",
     "output_type": "stream",
     "text": [
      "sum of 10 and 20 is 30\n",
      "10,12,a,1010\n"
     ]
    }
   ],
   "source": [
    "a=10\n",
    "b=20\n",
    "c=a+b\n",
    "print(f\"sum of {a} and {b} is {c}\")\n",
    "\n",
    "print(f\"{a:d},{a:o},{a:x},{a:b}\")"
   ]
  },
  {
   "cell_type": "markdown",
   "id": "50e1611e",
   "metadata": {},
   "source": [
    "## String Testing Method"
   ]
  },
  {
   "cell_type": "markdown",
   "id": "97c0d61b",
   "metadata": {},
   "source": [
    "**1.isalpha()**\n",
    "- return true if all char in string is alphabate, otherwise false"
   ]
  },
  {
   "cell_type": "code",
   "execution_count": 22,
   "id": "f949fb2b",
   "metadata": {},
   "outputs": [
    {
     "data": {
      "text/plain": [
       "True"
      ]
     },
     "execution_count": 22,
     "metadata": {},
     "output_type": "execute_result"
    }
   ],
   "source": [
    "str1=\"abd\"\n",
    "str1.isalpha()"
   ]
  },
  {
   "cell_type": "code",
   "execution_count": 23,
   "id": "5ffb8027",
   "metadata": {},
   "outputs": [
    {
     "data": {
      "text/plain": [
       "False"
      ]
     },
     "execution_count": 23,
     "metadata": {},
     "output_type": "execute_result"
    }
   ],
   "source": [
    "str2=\"abc123\"\n",
    "str2.isalpha()"
   ]
  },
  {
   "cell_type": "code",
   "execution_count": 25,
   "id": "1a37005c",
   "metadata": {},
   "outputs": [
    {
     "data": {
      "text/plain": [
       "False"
      ]
     },
     "execution_count": 25,
     "metadata": {},
     "output_type": "execute_result"
    }
   ],
   "source": [
    "str3=\"abc*$#\"\n",
    "str3.isalpha()"
   ]
  },
  {
   "cell_type": "markdown",
   "id": "6b8ad801",
   "metadata": {},
   "source": [
    "**2.isalnum()**\n",
    "- return true if all char in string are alpha numeric, otherwise false"
   ]
  },
  {
   "cell_type": "code",
   "execution_count": 26,
   "id": "aa9f534c",
   "metadata": {},
   "outputs": [
    {
     "data": {
      "text/plain": [
       "True"
      ]
     },
     "execution_count": 26,
     "metadata": {},
     "output_type": "execute_result"
    }
   ],
   "source": [
    "a='abc'\n",
    "a.isalnum()"
   ]
  },
  {
   "cell_type": "code",
   "execution_count": 27,
   "id": "fb97d484",
   "metadata": {},
   "outputs": [
    {
     "data": {
      "text/plain": [
       "True"
      ]
     },
     "execution_count": 27,
     "metadata": {},
     "output_type": "execute_result"
    }
   ],
   "source": [
    "b='abd22'\n",
    "b.isalnum()"
   ]
  },
  {
   "cell_type": "code",
   "execution_count": 28,
   "id": "5424c2e5",
   "metadata": {},
   "outputs": [
    {
     "data": {
      "text/plain": [
       "False"
      ]
     },
     "execution_count": 28,
     "metadata": {},
     "output_type": "execute_result"
    }
   ],
   "source": [
    "c='abf#$@'\n",
    "c.isalnum()"
   ]
  },
  {
   "cell_type": "code",
   "execution_count": 29,
   "id": "f5e5b277",
   "metadata": {},
   "outputs": [
    {
     "data": {
      "text/plain": [
       "True"
      ]
     },
     "execution_count": 29,
     "metadata": {},
     "output_type": "execute_result"
    }
   ],
   "source": [
    "a='1235'\n",
    "a.isalnum()"
   ]
  },
  {
   "cell_type": "markdown",
   "id": "f95e4f75",
   "metadata": {},
   "source": [
    "**3.isdecimal()**\n",
    "- return true, if all char in the string are decimal char & there is at least one char, otherwise false"
   ]
  },
  {
   "cell_type": "code",
   "execution_count": 30,
   "id": "d34c17c9",
   "metadata": {},
   "outputs": [
    {
     "data": {
      "text/plain": [
       "True"
      ]
     },
     "execution_count": 30,
     "metadata": {},
     "output_type": "execute_result"
    }
   ],
   "source": [
    "s=\"12\"\n",
    "s.isdecimal()"
   ]
  },
  {
   "cell_type": "code",
   "execution_count": 31,
   "id": "9921b80e",
   "metadata": {},
   "outputs": [
    {
     "data": {
      "text/plain": [
       "False"
      ]
     },
     "execution_count": 31,
     "metadata": {},
     "output_type": "execute_result"
    }
   ],
   "source": [
    "s=\"0o12\"\n",
    "s.isdecimal()"
   ]
  },
  {
   "cell_type": "code",
   "execution_count": 33,
   "id": "a0f46acf",
   "metadata": {},
   "outputs": [
    {
     "name": "stdout",
     "output_type": "stream",
     "text": [
      "Enter username: Mukesh123\n",
      "Mukesh123 is Invalid\n"
     ]
    }
   ],
   "source": [
    "\"\"\" Wrtie a program to check username is valid or not \"\"\"\n",
    "name = input(\"Enter username: \")\n",
    "if name.isalpha():\n",
    "    print(f\"{name} is valid \")\n",
    "else:\n",
    "    print(f\"{name} is Invalid\")"
   ]
  },
  {
   "cell_type": "markdown",
   "id": "059221c5",
   "metadata": {},
   "source": [
    "**4.isupper()**\n",
    "- Find string in upper case or not, if string in lowercase that time return false"
   ]
  },
  {
   "cell_type": "code",
   "execution_count": 1,
   "id": "a7f6a399",
   "metadata": {},
   "outputs": [
    {
     "data": {
      "text/plain": [
       "False"
      ]
     },
     "execution_count": 1,
     "metadata": {},
     "output_type": "execute_result"
    }
   ],
   "source": [
    "str1='abc'\n",
    "str1.isupper()"
   ]
  },
  {
   "cell_type": "code",
   "execution_count": 2,
   "id": "19870a24",
   "metadata": {},
   "outputs": [
    {
     "data": {
      "text/plain": [
       "True"
      ]
     },
     "execution_count": 2,
     "metadata": {},
     "output_type": "execute_result"
    }
   ],
   "source": [
    "str2='ABC'\n",
    "str2.isupper()"
   ]
  },
  {
   "cell_type": "code",
   "execution_count": 3,
   "id": "eb024fb6",
   "metadata": {},
   "outputs": [
    {
     "data": {
      "text/plain": [
       "False"
      ]
     },
     "execution_count": 3,
     "metadata": {},
     "output_type": "execute_result"
    }
   ],
   "source": [
    "str3='Abc'\n",
    "str3.isupper()"
   ]
  },
  {
   "cell_type": "markdown",
   "id": "1dedc240",
   "metadata": {},
   "source": [
    "**5.islower()**\n",
    "- return true if string in lower case, otherwise false"
   ]
  },
  {
   "cell_type": "code",
   "execution_count": 4,
   "id": "fa10ff5e",
   "metadata": {},
   "outputs": [
    {
     "data": {
      "text/plain": [
       "True"
      ]
     },
     "execution_count": 4,
     "metadata": {},
     "output_type": "execute_result"
    }
   ],
   "source": [
    "s='abc'\n",
    "s.islower()"
   ]
  },
  {
   "cell_type": "code",
   "execution_count": 5,
   "id": "0ffe6bc2",
   "metadata": {},
   "outputs": [
    {
     "data": {
      "text/plain": [
       "False"
      ]
     },
     "execution_count": 5,
     "metadata": {},
     "output_type": "execute_result"
    }
   ],
   "source": [
    "s1='Abc'\n",
    "s1.islower()"
   ]
  },
  {
   "cell_type": "markdown",
   "id": "13d3ffbf",
   "metadata": {},
   "source": [
    "**6.istitle()**\n",
    "- return true if every word in charchter is capital, otherwise fase"
   ]
  },
  {
   "cell_type": "code",
   "execution_count": 6,
   "id": "2293c89b",
   "metadata": {},
   "outputs": [
    {
     "data": {
      "text/plain": [
       "False"
      ]
     },
     "execution_count": 6,
     "metadata": {},
     "output_type": "execute_result"
    }
   ],
   "source": [
    "s='data science'\n",
    "s.istitle()"
   ]
  },
  {
   "cell_type": "code",
   "execution_count": 7,
   "id": "4bf341be",
   "metadata": {},
   "outputs": [
    {
     "data": {
      "text/plain": [
       "True"
      ]
     },
     "execution_count": 7,
     "metadata": {},
     "output_type": "execute_result"
    }
   ],
   "source": [
    "s1='Data Science'\n",
    "s1.istitle()"
   ]
  },
  {
   "cell_type": "markdown",
   "id": "368536c4",
   "metadata": {},
   "source": [
    "**7.isspace()**\n",
    "- return true if string contain spaces, char are not allowed"
   ]
  },
  {
   "cell_type": "code",
   "execution_count": 8,
   "id": "a8ab2e38",
   "metadata": {},
   "outputs": [
    {
     "data": {
      "text/plain": [
       "True"
      ]
     },
     "execution_count": 8,
     "metadata": {},
     "output_type": "execute_result"
    }
   ],
   "source": [
    "s=' '\n",
    "s.isspace()"
   ]
  },
  {
   "cell_type": "code",
   "execution_count": 9,
   "id": "922b0801",
   "metadata": {},
   "outputs": [
    {
     "data": {
      "text/plain": [
       "False"
      ]
     },
     "execution_count": 9,
     "metadata": {},
     "output_type": "execute_result"
    }
   ],
   "source": [
    "s=' abc'\n",
    "s.isspace()"
   ]
  },
  {
   "cell_type": "code",
   "execution_count": 11,
   "id": "5e38ff04",
   "metadata": {},
   "outputs": [
    {
     "data": {
      "text/plain": [
       "False"
      ]
     },
     "execution_count": 11,
     "metadata": {},
     "output_type": "execute_result"
    }
   ],
   "source": [
    "s='abc def'\n",
    "s.isspace()"
   ]
  },
  {
   "cell_type": "markdown",
   "id": "ce652deb",
   "metadata": {},
   "source": [
    "### String Allignment Method"
   ]
  },
  {
   "cell_type": "markdown",
   "id": "90f8b686",
   "metadata": {},
   "source": [
    "- used to generate tabuler data"
   ]
  },
  {
   "cell_type": "markdown",
   "id": "300a53f8",
   "metadata": {},
   "source": [
    "**1.ljust(width,[fillchar])**\n",
    "- Left justification\n",
    "- Allignment is done using given width"
   ]
  },
  {
   "cell_type": "code",
   "execution_count": 17,
   "id": "320a328d",
   "metadata": {},
   "outputs": [
    {
     "name": "stdout",
     "output_type": "stream",
     "text": [
      "Data--------------------------\n",
      "Science-----------------------\n",
      "AI----------------------------\n",
      "ML----------------------------\n",
      "DL----------------------------\n"
     ]
    }
   ],
   "source": [
    "nl = ['Data','Science','AI','ML','DL']\n",
    "for name in nl:\n",
    "    print(name.ljust(30,'-'))"
   ]
  },
  {
   "cell_type": "markdown",
   "id": "65997eac",
   "metadata": {},
   "source": [
    "**2.rjust(width,[fillchar])**\n",
    "\n",
    "- right justification\n",
    "- Allignment is done using given width"
   ]
  },
  {
   "cell_type": "code",
   "execution_count": 19,
   "id": "c69ddd53",
   "metadata": {},
   "outputs": [
    {
     "name": "stdout",
     "output_type": "stream",
     "text": [
      "----------------------------------------------Data\n",
      "-------------------------------------------Science\n",
      "------------------------------------------------AI\n",
      "------------------------------------------------ML\n",
      "------------------------------------------------DL\n"
     ]
    }
   ],
   "source": [
    "for name in nl:\n",
    "    print(name.rjust(50,'-'))"
   ]
  },
  {
   "cell_type": "markdown",
   "id": "ae9d170c",
   "metadata": {},
   "source": [
    "**3.center(width,[fillchar])**\n",
    "- return centerd in a string right justified in string of length width"
   ]
  },
  {
   "cell_type": "code",
   "execution_count": 24,
   "id": "c67ed0b5",
   "metadata": {},
   "outputs": [
    {
     "data": {
      "text/plain": [
       "'---------------------------------------------------------Python---------------------------------------------------------'"
      ]
     },
     "execution_count": 24,
     "metadata": {},
     "output_type": "execute_result"
    }
   ],
   "source": [
    "str1='Python'\n",
    "str1.center(120,'-')"
   ]
  },
  {
   "cell_type": "markdown",
   "id": "7576e38c",
   "metadata": {},
   "source": [
    "### Searching and Filtering Method"
   ]
  },
  {
   "cell_type": "markdown",
   "id": "2a9c1c9a",
   "metadata": {},
   "source": [
    "**1.endswith(suffix,[start,[end]])**\n",
    "- Return true if the string with the specified char suffix, otherwise return false"
   ]
  },
  {
   "cell_type": "code",
   "execution_count": 29,
   "id": "049604d9",
   "metadata": {},
   "outputs": [
    {
     "name": "stdout",
     "output_type": "stream",
     "text": [
      "naresh\n",
      "suresh\n",
      "rajesh\n"
     ]
    }
   ],
   "source": [
    "nl=[\"naresh\",'suresh','rajesh','vivek']\n",
    "for name in nl:\n",
    "    if name.endswith(('h')):\n",
    "        print(name)"
   ]
  },
  {
   "cell_type": "markdown",
   "id": "e80573c4",
   "metadata": {},
   "source": [
    "**2.stratswith(suffix,[start,[end]])**\n",
    "- To check a starting words"
   ]
  },
  {
   "cell_type": "code",
   "execution_count": 32,
   "id": "209be97a",
   "metadata": {},
   "outputs": [
    {
     "name": "stdout",
     "output_type": "stream",
     "text": [
      "Pyhton\n",
      ".net\n"
     ]
    }
   ],
   "source": [
    "nl=[\"Pyhton\",\"Java\",\".net\"]\n",
    "for name in nl:\n",
    "    if name.startswith(('P','.')):\n",
    "        print(name)"
   ]
  },
  {
   "cell_type": "markdown",
   "id": "460ec5b9",
   "metadata": {},
   "source": [
    "**3.find(sub,[start,[end]])**\n",
    "- similar to the in operator but this in opertor return true or false\n",
    "- this method return index location\n",
    "- if the string is not present it return -1"
   ]
  },
  {
   "cell_type": "code",
   "execution_count": 39,
   "id": "8624eceb",
   "metadata": {},
   "outputs": [
    {
     "data": {
      "text/plain": [
       "1"
      ]
     },
     "execution_count": 39,
     "metadata": {},
     "output_type": "execute_result"
    }
   ],
   "source": [
    "l=\"Data\"\n",
    "l.find('a')"
   ]
  },
  {
   "cell_type": "code",
   "execution_count": 40,
   "id": "48146f9b",
   "metadata": {},
   "outputs": [
    {
     "data": {
      "text/plain": [
       "-1"
      ]
     },
     "execution_count": 40,
     "metadata": {},
     "output_type": "execute_result"
    }
   ],
   "source": [
    "l=\"Data\"\n",
    "l.find('z')"
   ]
  },
  {
   "cell_type": "code",
   "execution_count": null,
   "id": "bf8fdb7e",
   "metadata": {},
   "outputs": [],
   "source": []
  }
 ],
 "metadata": {
  "kernelspec": {
   "display_name": "Python 3 (ipykernel)",
   "language": "python",
   "name": "python3"
  },
  "language_info": {
   "codemirror_mode": {
    "name": "ipython",
    "version": 3
   },
   "file_extension": ".py",
   "mimetype": "text/x-python",
   "name": "python",
   "nbconvert_exporter": "python",
   "pygments_lexer": "ipython3",
   "version": "3.9.13"
  }
 },
 "nbformat": 4,
 "nbformat_minor": 5
}

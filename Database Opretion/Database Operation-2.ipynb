{
 "cells": [
  {
   "cell_type": "markdown",
   "id": "f9ead3f7",
   "metadata": {},
   "source": [
    "1. Write a python function Display the list of members who has issued 'Python for Beginners Book'\n",
    "\n",
    "2. Write a python function which will display title of the books issued in the month of March\n"
   ]
  },
  {
   "cell_type": "code",
   "execution_count": 3,
   "id": "48144a36",
   "metadata": {},
   "outputs": [],
   "source": [
    "import psycopg2 as ps\n",
    "import datetime"
   ]
  },
  {
   "cell_type": "code",
   "execution_count": 7,
   "id": "111e2a18",
   "metadata": {},
   "outputs": [
    {
     "name": "stdout",
     "output_type": "stream",
     "text": [
      "Database connected successfully......\n",
      "\n",
      "Cursor is created successfully.......\n",
      "\n",
      "------------------------------------------------------------------\n",
      "\n",
      "List of members who have issued 'Python for Beginners Book': [('Mukesh',)]\n",
      "\n",
      "------------------------------------------------------------------------\n",
      "Display the titles of the books issued in the month of March: [('Python for Beginners Book',), ('Human Compatible',), ('Machine Learning',), ('Artificial Intelligence',)]\n"
     ]
    }
   ],
   "source": [
    "class Library:\n",
    "    def __init__(self):\n",
    "        # Use a context manager for better resource management\n",
    "        self.connection = ps.connect(database='insititue', user='postgres', password='Mukesh@4912')\n",
    "        with self.connection:\n",
    "            self.cursor = self.connection.cursor()\n",
    "            print(\"Database connected successfully......\\n\")\n",
    "            print(\"Cursor is created successfully.......\\n\")\n",
    "            print(\"------------------------------------------------------------------\\n\")\n",
    "            \n",
    "    def MemberList(self):\n",
    "        query = ''' SELECT m.name FROM member m \n",
    "                    JOIN book_issue bi ON m.member_id = bi.member_id\n",
    "                    JOIN book b ON bi.book_id = b.book_id\n",
    "                    WHERE b.title = 'Python for Beginners Book'; '''\n",
    "        self.cursor.execute(query)\n",
    "        members = self.cursor.fetchall()\n",
    "        print(f\"List of members who have issued 'Python for Beginners Book': {members}\\n\")\n",
    "        print('------------------------------------------------------------------------')\n",
    "        \n",
    "    def DisplayTitle(self):\n",
    "        query = ''' SELECT book.title FROM book \n",
    "                    JOIN book_issue ON book.book_id = book_issue.book_id\n",
    "                    WHERE EXTRACT(MONTH FROM book_issue.issue_date) = 3;'''\n",
    "        self.cursor.execute(query)\n",
    "        titles = self.cursor.fetchall()\n",
    "        print(f\"Display the titles of the books issued in the month of March: {titles}\")\n",
    "\n",
    "# Creating an object \n",
    "lb = Library()\n",
    "lb.MemberList()\n",
    "lb.DisplayTitle()\n"
   ]
  },
  {
   "cell_type": "code",
   "execution_count": null,
   "id": "64f90fce",
   "metadata": {},
   "outputs": [],
   "source": []
  }
 ],
 "metadata": {
  "kernelspec": {
   "display_name": "Python 3 (ipykernel)",
   "language": "python",
   "name": "python3"
  },
  "language_info": {
   "codemirror_mode": {
    "name": "ipython",
    "version": 3
   },
   "file_extension": ".py",
   "mimetype": "text/x-python",
   "name": "python",
   "nbconvert_exporter": "python",
   "pygments_lexer": "ipython3",
   "version": "3.12.4"
  }
 },
 "nbformat": 4,
 "nbformat_minor": 5
}

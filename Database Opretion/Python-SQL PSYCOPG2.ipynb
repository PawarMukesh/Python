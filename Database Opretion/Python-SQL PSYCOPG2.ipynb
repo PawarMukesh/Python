{
 "cells": [
  {
   "cell_type": "markdown",
   "id": "51edefe3",
   "metadata": {},
   "source": [
    "The institute conducts TWO postgraduate  named as Msc(DSSA) and M.Sc(CA). The curriculum of the two programmes offers different  specializations and each specialization offers the list of courses. The  details of the specializations  and courses offered are stored in the \"Specialization\"  and \"Courses\" table created in \"Institute\" database in POSTGRESQL respectively. Specialization  table has a structure as (specialization code  int (10) , specialization name varchar(20) and Course table has a structure (course code  int (10) , course name varchar(20).  Write a python Code  \n",
    "1. To create tables with appropriate constraints. Define constraints by considering the relationship mentioned in the case.\n",
    "2. Insert 03 records in each table.\n",
    "3. Also, display the specialization name and different courses offered under that specialization."
   ]
  },
  {
   "cell_type": "code",
   "execution_count": 3,
   "id": "e9e7e409",
   "metadata": {},
   "outputs": [],
   "source": [
    "import psycopg2 as ps"
   ]
  },
  {
   "cell_type": "code",
   "execution_count": 6,
   "id": "e479a75b",
   "metadata": {},
   "outputs": [],
   "source": [
    "class Operation:\n",
    "    def __init__(self):\n",
    "        print(\"Inside init method.....\\n\")\n",
    "        self.connection = ps.connect(database='insititue', user='postgres',password='Mukesh@4912')\n",
    "        print(\"Connection Created.....\\n\")\n",
    "        self.cursor = self.connection.cursor()\n",
    "        print(\"Cursor Created.....\\n\")\n",
    "        \n",
    "    def create_table(self):\n",
    "        \n",
    "        query = \"DROP TABLE IF EXISTS Specialization cascade\"\n",
    "        self.cursor.execute(query)\n",
    "        print(\"Table is dropped...\\n\")\n",
    "\n",
    "        query = \"CREATE TABLE Specialization(scode int PRIMARY KEY, sname VARCHAR(20) NOT NULL)\"\n",
    "        self.cursor.execute(query)\n",
    "        print(\"Table is created...\\n\")\n",
    "\n",
    "        query = \"DROP TABLE IF EXISTS Course cascade\"\n",
    "        self.cursor.execute(query)\n",
    "        print(\"Table is dropped...\\n\")\n",
    "\n",
    "        query = \"CREATE TABLE Course(ccode int PRIMARY KEY, cname VARCHAR(20) NOT NULL, scode INT REFERENCES Specialization(scode))\"\n",
    "        self.cursor.execute(query)\n",
    "        print(\"Table is created...\\n\")\n",
    "    \n",
    "    def insert_records(self):\n",
    "        query = \"INSERT INTO Specialization (scode, sname) VALUES (%s, %s)\"\n",
    "        records = [(1, 'Data Science'), (2, 'Machine Learning'), (3, 'Cybersecurity')]\n",
    "        for record in records:\n",
    "            self.cursor.execute(query, record)\n",
    "        print(\"Records inserted into Specialization table.\\n\")\n",
    "\n",
    "        \n",
    "        query = \"INSERT INTO Course (ccode, cname, scode) VALUES (%s, %s, %s)\"\n",
    "        records = [(101, 'Python Programming', 1), (102, 'Statistical Methods', 1), (103, 'Deep Learning', 2),\n",
    "                   (104, 'Network Security', 3), (105, 'Cryptography', 3)]\n",
    "        for record in records:\n",
    "            self.cursor.execute(query, record)\n",
    "        print(\"Records inserted into Course table.\\n\")\n",
    "\n",
    "        self.connection.commit()\n",
    "        \n",
    "    def Specialization_and_Courses(self):\n",
    "        query = \"\"\" SELECT s.sname, c.cname FROM Specialization s\n",
    "                    LEFT JOIN Course c ON s.scode=c.scode\n",
    "                    ORDER BY s.sname, c.cname \"\"\"\n",
    "        self.cursor.execute(query)\n",
    "        results = self.cursor.fetchall()\n",
    "        for result in results:\n",
    "            print(result)\n",
    "        \n",
    "    def closedConnection(self):\n",
    "        self.connection.close()\n",
    "        self.cursor.close()\n",
    "        print(\"Connection Closed.....\") "
   ]
  },
  {
   "cell_type": "code",
   "execution_count": 7,
   "id": "31595408",
   "metadata": {},
   "outputs": [
    {
     "name": "stdout",
     "output_type": "stream",
     "text": [
      "Inside init method.....\n",
      "\n",
      "Connection Created.....\n",
      "\n",
      "Cursor Created.....\n",
      "\n",
      "Table is dropped...\n",
      "\n",
      "Table is created...\n",
      "\n",
      "Table is dropped...\n",
      "\n",
      "Table is created...\n",
      "\n",
      "Records inserted into Specialization table.\n",
      "\n",
      "Records inserted into Course table.\n",
      "\n",
      "('Cybersecurity', 'Cryptography')\n",
      "('Cybersecurity', 'Network Security')\n",
      "('Data Science', 'Python Programming')\n",
      "('Data Science', 'Statistical Methods')\n",
      "('Machine Learning', 'Deep Learning')\n"
     ]
    }
   ],
   "source": [
    "# Create object\n",
    "op = Operation()\n",
    "\n",
    "# Create Table\n",
    "op.create_table()\n",
    "\n",
    "# Insert records into table\n",
    "op.insert_records()\n",
    "\n",
    "# Courses under that specilization\n",
    "op.Specialization_and_Courses()"
   ]
  },
  {
   "cell_type": "code",
   "execution_count": null,
   "id": "bc5b5980",
   "metadata": {},
   "outputs": [],
   "source": []
  }
 ],
 "metadata": {
  "kernelspec": {
   "display_name": "Python 3 (ipykernel)",
   "language": "python",
   "name": "python3"
  },
  "language_info": {
   "codemirror_mode": {
    "name": "ipython",
    "version": 3
   },
   "file_extension": ".py",
   "mimetype": "text/x-python",
   "name": "python",
   "nbconvert_exporter": "python",
   "pygments_lexer": "ipython3",
   "version": "3.12.4"
  }
 },
 "nbformat": 4,
 "nbformat_minor": 5
}

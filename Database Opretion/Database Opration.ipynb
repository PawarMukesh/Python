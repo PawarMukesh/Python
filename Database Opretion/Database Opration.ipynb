{
 "cells": [
  {
   "cell_type": "code",
   "execution_count": 1,
   "id": "ca641a15",
   "metadata": {},
   "outputs": [],
   "source": [
    "import psycopg2 as ps\n",
    "import datetime as dt"
   ]
  },
  {
   "cell_type": "code",
   "execution_count": 7,
   "id": "dcc7ced1",
   "metadata": {},
   "outputs": [
    {
     "name": "stdout",
     "output_type": "stream",
     "text": [
      "Connection established successfully.\n",
      "The table is dropped.\n",
      "The table is created.\n",
      "Records inserted\n",
      "Search results:\n",
      "(3, 'Sita', 'sita@sig.ac.in')\n",
      "Records deleted.\n",
      "The data from csv file is\n",
      "[(4, 'Rachana', 'rachana@email.com'), (5, 'Ritesh', 'ritesh@email.com')]\n",
      "Columns are prn,name,email\n",
      "executemany() done\n"
     ]
    }
   ],
   "source": [
    "import psycopg2\n",
    "import pandas as pd\n",
    "import numpy as np\n",
    "\n",
    "class DatabaseOperations:\n",
    "    def __init__(self):\n",
    "        self.connection = psycopg2.connect(database=\"insititue\", \n",
    "                                           user=\"postgres\", \n",
    "                                           password=\"Mukesh@4912\")\n",
    "        self.cursor = self.connection.cursor()\n",
    "        print(\"Connection established successfully.\")\n",
    "\n",
    "    def create_table(self):\n",
    "        # Drop a table if it exists.\n",
    "        query_drop = \"DROP TABLE IF EXISTS student\"\n",
    "        self.cursor.execute(query_drop)\n",
    "        print(\"The table is dropped.\")\n",
    "\n",
    "        # Create a table\n",
    "        query_create = \"CREATE TABLE student (prn INT, name VARCHAR(39), email VARCHAR(50))\"\n",
    "        self.cursor.execute(query_create)\n",
    "        print(\"The table is created.\")\n",
    "    \n",
    "    # Insert multiple records\n",
    "    def multiple_inserts(self):\n",
    "        values = [(1, 'Heena', 'heena@sig.ac.in'),\n",
    "                  (2, 'Geeta', 'geeta@sig.ac.in'),\n",
    "                  (3, 'Sita', 'sita@sig.ac.in')]\n",
    "        args = ','.join(self.cursor.mogrify(\"(%s,%s,%s)\", i).decode('utf-8') for i in values)\n",
    "        self.cursor.execute(\"INSERT INTO student VALUES\" + args)\n",
    "        print(\"Records inserted\")\n",
    "        \n",
    "    # Search for a record \n",
    "    def search_record(self, search_criteria):\n",
    "        query = \"SELECT * FROM student WHERE prn = %s\"\n",
    "        self.cursor.execute(query, search_criteria)\n",
    "        records = self.cursor.fetchall()\n",
    "        if records:\n",
    "            print(\"Search results:\")\n",
    "            for record in records:\n",
    "                print(record)\n",
    "\n",
    "    # Delete records\n",
    "    def delete_record(self, fname):\n",
    "        query = \"DELETE FROM student WHERE name = %s\"\n",
    "        self.cursor.execute(query, (fname,))\n",
    "        self.connection.commit()\n",
    "        print(\"Records deleted.\")\n",
    "\n",
    "    # Execute many query\n",
    "    def execute_many(self, table, df):\n",
    "        # Using cursor.executemany() to insert the dataframe\n",
    "\n",
    "        # Create a list of tuples from the dataframe values\n",
    "        tuples = [tuple(x) for x in df.to_numpy()]\n",
    "        print(\"The data from csv file is\")\n",
    "        print(tuples)\n",
    "\n",
    "        # Comma-separated dataframe columns\n",
    "        cols = ','.join(list(df.columns))\n",
    "        print(\"Columns are\", cols)\n",
    "\n",
    "        # SQL query to execute\n",
    "        query = \"INSERT INTO %s(%s) VALUES (%s, %s, %s)\" % (table, cols, '%s', '%s', '%s')\n",
    "\n",
    "        try:\n",
    "            self.cursor.executemany(query, tuples)\n",
    "            self.connection.commit()\n",
    "        except (Exception, psycopg2.DatabaseError) as error:\n",
    "            print(\"Error: %s\" % error)\n",
    "            self.connection.rollback()\n",
    "            self.cursor.close()\n",
    "            return 1\n",
    "\n",
    "        print(\"executemany() done\")\n",
    "\n",
    "# cre\n",
    "db_operations = DatabaseOperations()\n",
    "db_operations.create_table()\n",
    "db_operations.multiple_inserts()\n",
    "db_operations.search_record((3,))\n",
    "db_operations.delete_record('Sita')\n",
    "\n",
    "# dataframe for execution (replace it with your actual dataframe)\n",
    "data = {'prn': [4, 5], 'name': ['Rachana', 'Ritesh'], 'email': ['rachana@email.com', 'ritesh@email.com']}\n",
    "df = pd.DataFrame(data)\n",
    "\n",
    "# Uncomment and provide the appropriate DataFrame for execution\n",
    "db_operations.execute_many('student', df)\n",
    "\n",
    "# Close connection outside the class methods\n",
    "db_operations.connection.commit()\n",
    "db_operations.connection.close()"
   ]
  },
  {
   "cell_type": "code",
   "execution_count": 9,
   "id": "8ae5a456",
   "metadata": {},
   "outputs": [
    {
     "name": "stdout",
     "output_type": "stream",
     "text": [
      "   prn     name              email\n",
      "0    1    Heena    heena@sig.ac.in\n",
      "1    2    Geeta    geeta@sig.ac.in\n",
      "2    4  Rachana  rachana@email.com\n",
      "3    5   Ritesh   ritesh@email.com\n"
     ]
    }
   ],
   "source": [
    "#Converting the database into csv file\n",
    "import pandas as pd\n",
    "csv_file = \"data1.csv\"\n",
    "df = pd.read_csv(csv_file)\n",
    "df = df.rename(columns = {\n",
    "    \"PRN\" : \"prn\" ,\n",
    "    \"Name\" : \"name\" ,\n",
    "    \"Email\": \"email\" \n",
    "})\n",
    "print(df)"
   ]
  },
  {
   "cell_type": "code",
   "execution_count": null,
   "id": "3d677c47",
   "metadata": {},
   "outputs": [],
   "source": []
  }
 ],
 "metadata": {
  "kernelspec": {
   "display_name": "Python 3 (ipykernel)",
   "language": "python",
   "name": "python3"
  },
  "language_info": {
   "codemirror_mode": {
    "name": "ipython",
    "version": 3
   },
   "file_extension": ".py",
   "mimetype": "text/x-python",
   "name": "python",
   "nbconvert_exporter": "python",
   "pygments_lexer": "ipython3",
   "version": "3.12.4"
  }
 },
 "nbformat": 4,
 "nbformat_minor": 5
}

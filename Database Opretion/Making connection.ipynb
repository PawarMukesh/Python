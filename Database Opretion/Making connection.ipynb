{
 "cells": [
  {
   "cell_type": "code",
   "execution_count": null,
   "id": "6aaa5c33",
   "metadata": {},
   "outputs": [],
   "source": [
    "!pip install mysql-connector-python"
   ]
  },
  {
   "cell_type": "code",
   "execution_count": null,
   "id": "f4711a99",
   "metadata": {},
   "outputs": [],
   "source": [
    "!pip install psycopg2"
   ]
  },
  {
   "cell_type": "code",
   "execution_count": 2,
   "id": "06a0e992",
   "metadata": {},
   "outputs": [],
   "source": [
    "import psycopg2"
   ]
  },
  {
   "cell_type": "markdown",
   "id": "d8daa561",
   "metadata": {},
   "source": [
    "# Establish the connection"
   ]
  },
  {
   "cell_type": "code",
   "execution_count": 19,
   "id": "bb47418e",
   "metadata": {
    "scrolled": false
   },
   "outputs": [],
   "source": [
    "connection = psycopg2.connect(host='localhost',\n",
    "                              database='insititue',\n",
    "                             user='postgres',\n",
    "                             password='Mukesh@4912')"
   ]
  },
  {
   "cell_type": "markdown",
   "id": "c6751ff7",
   "metadata": {},
   "source": [
    "# Establish Connection with database"
   ]
  },
  {
   "cell_type": "code",
   "execution_count": 20,
   "id": "212c1b74",
   "metadata": {},
   "outputs": [],
   "source": [
    "cursor = connection.cursor()"
   ]
  },
  {
   "cell_type": "code",
   "execution_count": 21,
   "id": "6fc969f6",
   "metadata": {},
   "outputs": [
    {
     "name": "stdout",
     "output_type": "stream",
     "text": [
      "<cursor object at 0x0000022EDD621C40; closed: 0>\n"
     ]
    }
   ],
   "source": [
    "print(cursor)"
   ]
  },
  {
   "cell_type": "markdown",
   "id": "dab36b71",
   "metadata": {},
   "source": [
    "# Excute Query"
   ]
  },
  {
   "cell_type": "code",
   "execution_count": 22,
   "id": "f9d66eb3",
   "metadata": {},
   "outputs": [
    {
     "name": "stdout",
     "output_type": "stream",
     "text": [
      "Table is created\n"
     ]
    }
   ],
   "source": [
    "cursor.execute(\"DROP TABLE IF EXISTS student\")\n",
    "cursor.execute(\"CREATE TABLE student(prn int primary key, name varchar(30), mail_id varchar(50) unique, phone_no varchar(10))\")\n",
    "\n",
    "# Commit \n",
    "connection.commit()\n",
    "print(\"Table is created\")"
   ]
  },
  {
   "cell_type": "markdown",
   "id": "84abfd56",
   "metadata": {},
   "source": [
    "# Insert value into table"
   ]
  },
  {
   "cell_type": "code",
   "execution_count": 23,
   "id": "0da7d909",
   "metadata": {},
   "outputs": [],
   "source": [
    "cursor.execute(\"insert into student values(1,'Mukesh','mukesh.pawar.nsk@gmail.com','8793303799'),(2,'Vijay','vijay.pawar.nsk@gmail.com','9623549871')\")\n",
    "connection.commit()"
   ]
  },
  {
   "cell_type": "code",
   "execution_count": 24,
   "id": "ff7b6485",
   "metadata": {},
   "outputs": [
    {
     "name": "stdout",
     "output_type": "stream",
     "text": [
      "insert into student values(3,'Rohit','rohit.shinde.nsk@gmail.com','9420271154')\n"
     ]
    }
   ],
   "source": [
    "query1 = \"insert into student values(%s,'%s','%s','%s')\" % (3,'Rohit','rohit.shinde.nsk@gmail.com','9420271154')\n",
    "\n",
    "print(query1)\n",
    "cursor.execute(query1)\n",
    "connection.commit()"
   ]
  },
  {
   "cell_type": "markdown",
   "id": "0d62d5da",
   "metadata": {},
   "source": [
    "# Fetch records"
   ]
  },
  {
   "cell_type": "code",
   "execution_count": 25,
   "id": "c99e83b8",
   "metadata": {},
   "outputs": [
    {
     "name": "stdout",
     "output_type": "stream",
     "text": [
      "(1, 'Mukesh', 'mukesh.pawar.nsk@gmail.com', '8793303799')\n",
      "(2, 'Vijay', 'vijay.pawar.nsk@gmail.com', '9623549871')\n",
      "(3, 'Rohit', 'rohit.shinde.nsk@gmail.com', '9420271154')\n"
     ]
    }
   ],
   "source": [
    "my_data = 'select * from student'\n",
    "cursor.execute(my_data)\n",
    "\n",
    "# Fetch all the records\n",
    "records = cursor.fetchall()\n",
    "\n",
    "for row in records:\n",
    "    print(row)"
   ]
  },
  {
   "cell_type": "code",
   "execution_count": null,
   "id": "ce8c0128",
   "metadata": {},
   "outputs": [],
   "source": []
  }
 ],
 "metadata": {
  "kernelspec": {
   "display_name": "Python 3 (ipykernel)",
   "language": "python",
   "name": "python3"
  },
  "language_info": {
   "codemirror_mode": {
    "name": "ipython",
    "version": 3
   },
   "file_extension": ".py",
   "mimetype": "text/x-python",
   "name": "python",
   "nbconvert_exporter": "python",
   "pygments_lexer": "ipython3",
   "version": "3.11.5"
  }
 },
 "nbformat": 4,
 "nbformat_minor": 5
}

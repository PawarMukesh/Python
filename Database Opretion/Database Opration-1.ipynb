{
 "cells": [
  {
   "cell_type": "code",
   "execution_count": null,
   "id": "9676b7b1",
   "metadata": {},
   "outputs": [],
   "source": [
    "\"\"\" 1. Define a Python class named Student with attributes name and age. Create an object of this\n",
    "class and print out its attributes. \n",
    "\n",
    "2. Write a Python class named Rectangle constructed from length and width and a method that\n",
    "will compute the area of a rectangle\n",
    "\n",
    "3. Write a Python class named Circle constructed from a radius and two methods \n",
    "that will compute the area and the perimeter of a circle.\n",
    "\n",
    "4. Design a Python class named Student with attributes name, roll_number, and marks. \n",
    "Implement methods to calculate the grade and display student details. Create multiple student objects and test the methods.\"\"\""
   ]
  },
  {
   "cell_type": "code",
   "execution_count": 2,
   "id": "0f3420ee",
   "metadata": {},
   "outputs": [
    {
     "name": "stdout",
     "output_type": "stream",
     "text": [
      "Student Name: Mukesh\n",
      "Student Name: 24\n"
     ]
    }
   ],
   "source": [
    "class student:\n",
    "    def __init__(self, name, age):\n",
    "        self.name = name\n",
    "        self.age = age\n",
    "        \n",
    "# Creating object of student class\n",
    "student1 = student(name=\"Mukesh\",age=24)\n",
    "print(f\"Student Name: {student1.name}\")\n",
    "print(f\"Student Name: {student1.age}\")"
   ]
  },
  {
   "cell_type": "code",
   "execution_count": 20,
   "id": "61f3193f",
   "metadata": {},
   "outputs": [
    {
     "name": "stdout",
     "output_type": "stream",
     "text": [
      "Area of rectangle is: 50\n"
     ]
    }
   ],
   "source": [
    "class rectangle:\n",
    "    def __init__(self, length, width):\n",
    "        self.length = length\n",
    "        self.width = width\n",
    "        \n",
    "    def area(self):\n",
    "        return self.length * self.width\n",
    "    \n",
    "# Creating object \n",
    "area_of_rectangle = rectangle(10,5)\n",
    "print(f\"Area of rectangle is: {area_of_rectangle.area()}\")"
   ]
  },
  {
   "cell_type": "code",
   "execution_count": 24,
   "id": "e20bdb83",
   "metadata": {},
   "outputs": [
    {
     "name": "stdout",
     "output_type": "stream",
     "text": [
      "Area of circle is: 200.96\n",
      "Circle perimeter is: 50.24\n"
     ]
    }
   ],
   "source": [
    "import math\n",
    "class Circle:\n",
    "    def __init__(self, radius):\n",
    "        self.radius = radius\n",
    "    \n",
    "    def Circlearea(self):\n",
    "        return 3.14 * (self.radius ** 2)\n",
    "    \n",
    "    def CirclePerimeter(self):\n",
    "        return 2 * 3.14 * self.radius\n",
    "\n",
    "# Creating object \n",
    "circle_radius = Circle(8)\n",
    "\n",
    "print(f\"Area of circle is: {circle_radius.Circlearea()}\")\n",
    "print(f\"Circle perimeter is: {circle_radius.CirclePerimeter()}\")"
   ]
  },
  {
   "cell_type": "code",
   "execution_count": 25,
   "id": "c8e9be76",
   "metadata": {},
   "outputs": [
    {
     "name": "stdout",
     "output_type": "stream",
     "text": [
      "Name: Mukesh\n",
      "Roll No: 35\n",
      "Marks: 85\n",
      "Grade: A\n",
      "\n",
      "Name: Rahul\n",
      "Roll No: 36\n",
      "Marks: 92\n",
      "Grade: A+\n",
      "\n",
      "Name: Vaibhav\n",
      "Roll No: 34\n",
      "Marks: 87\n",
      "Grade: A\n"
     ]
    }
   ],
   "source": [
    "class Student:\n",
    "    def __init__(self, name, roll_no, marks):\n",
    "        self.name = name\n",
    "        self.roll_no = roll_no\n",
    "        self.marks = marks\n",
    "        \n",
    "    def calculate_grade(self):\n",
    "        if self.marks >= 90:\n",
    "            return 'A+'\n",
    "        elif 70 <= self.marks < 90:\n",
    "            return 'A'\n",
    "        elif 60 <= self.marks < 70:\n",
    "            return 'B'\n",
    "        elif 40 <= self.marks < 60:\n",
    "            return 'C'\n",
    "        else:\n",
    "            return 'Fail'\n",
    "        \n",
    "    def DisplayDetails(self):\n",
    "        print(f\"Name: {self.name}\")\n",
    "        print(f\"Roll No: {self.roll_no}\")\n",
    "        print(f\"Marks: {self.marks}\")\n",
    "        print(f\"Grade: {self.calculate_grade()}\")\n",
    "        \n",
    "        \n",
    "# Creating the object\n",
    "student1 = Student(\"Mukesh\",35, 85)\n",
    "student2 = Student(\"Rahul\",36,92)\n",
    "student3 = Student(\"Vaibhav\",34,87)\n",
    "\n",
    "# Display all the details\n",
    "student1.DisplayDetails()\n",
    "print()\n",
    "\n",
    "student2.DisplayDetails()\n",
    "print()\n",
    "\n",
    "student3.DisplayDetails()"
   ]
  },
  {
   "cell_type": "code",
   "execution_count": null,
   "id": "db5bb882",
   "metadata": {},
   "outputs": [],
   "source": []
  }
 ],
 "metadata": {
  "kernelspec": {
   "display_name": "Python 3 (ipykernel)",
   "language": "python",
   "name": "python3"
  },
  "language_info": {
   "codemirror_mode": {
    "name": "ipython",
    "version": 3
   },
   "file_extension": ".py",
   "mimetype": "text/x-python",
   "name": "python",
   "nbconvert_exporter": "python",
   "pygments_lexer": "ipython3",
   "version": "3.12.4"
  }
 },
 "nbformat": 4,
 "nbformat_minor": 5
}

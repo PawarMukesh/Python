{
 "cells": [
  {
   "cell_type": "code",
   "execution_count": 1,
   "id": "ef08dd4c",
   "metadata": {},
   "outputs": [],
   "source": [
    "# import necessary library\n",
    "import numpy as np"
   ]
  },
  {
   "cell_type": "markdown",
   "id": "871dbc56",
   "metadata": {},
   "source": [
    "### Q 1. Extract all odd numbers from array"
   ]
  },
  {
   "cell_type": "code",
   "execution_count": 4,
   "id": "f6d18bae",
   "metadata": {},
   "outputs": [],
   "source": [
    "def odd_element(array):\n",
    "    mylist=[]\n",
    "    for element in array:\n",
    "        if element%2==1:\n",
    "            mylist.append(element)\n",
    "        convert_into_array = np.array(mylist)\n",
    "    print('Data Type:',type(convert_into_array))\n",
    "    print(\"Odd Element: \",convert_into_array)\n",
    "        \n",
    "        "
   ]
  },
  {
   "cell_type": "code",
   "execution_count": 5,
   "id": "c86d1732",
   "metadata": {},
   "outputs": [
    {
     "name": "stdout",
     "output_type": "stream",
     "text": [
      "Data Type: <class 'numpy.ndarray'>\n",
      "Odd Element:  [1 3 5 7 9]\n"
     ]
    }
   ],
   "source": [
    "odd_element([0,1,2,3,4,5,6,7,8,9])"
   ]
  },
  {
   "cell_type": "markdown",
   "id": "9b1abafc",
   "metadata": {},
   "source": [
    "### Q 2. write a Numpy program to create a 3x3 matrix with values ranging 2 to 10"
   ]
  },
  {
   "cell_type": "code",
   "execution_count": 7,
   "id": "491906aa",
   "metadata": {},
   "outputs": [
    {
     "name": "stdout",
     "output_type": "stream",
     "text": [
      "[[ 2  3  4]\n",
      " [ 5  6  7]\n",
      " [ 8  9 10]]\n"
     ]
    }
   ],
   "source": [
    "array1 = np.array([[2,3,4],[5,6,7],[8,9,10]])\n",
    "print(array1)"
   ]
  },
  {
   "cell_type": "code",
   "execution_count": 12,
   "id": "5c082072",
   "metadata": {},
   "outputs": [],
   "source": [
    "def Array():\n",
    "    array = np.arange(2,11).reshape(3,3)\n",
    "    return array\n",
    "    "
   ]
  },
  {
   "cell_type": "code",
   "execution_count": 13,
   "id": "7a0b5fa7",
   "metadata": {},
   "outputs": [
    {
     "data": {
      "text/plain": [
       "array([[ 2,  3,  4],\n",
       "       [ 5,  6,  7],\n",
       "       [ 8,  9, 10]])"
      ]
     },
     "execution_count": 13,
     "metadata": {},
     "output_type": "execute_result"
    }
   ],
   "source": [
    "Array()"
   ]
  },
  {
   "cell_type": "markdown",
   "id": "3fe8e8c3",
   "metadata": {},
   "source": [
    "### Q3. Write a Numpy program to create a 3x4 matrix filled with values from 10 to 21 using conditional statement\n"
   ]
  },
  {
   "cell_type": "code",
   "execution_count": 24,
   "id": "90668ac3",
   "metadata": {},
   "outputs": [
    {
     "name": "stdout",
     "output_type": "stream",
     "text": [
      "[[10. 11. 12. 13.]\n",
      " [14. 15. 16. 17.]\n",
      " [18. 19. 20. 21.]]\n"
     ]
    }
   ],
   "source": [
    "import numpy as np\n",
    "\n",
    "matrix = np.zeros((3, 4)) # Create a 3x4 zeros matrix\n",
    "\n",
    "# Fill the matrix with values from 10 to 21 using a conditional statement\n",
    "for i in range(3):\n",
    "    for j in range(4):\n",
    "        matrix[i, j] = 10 + i * 4 + j\n",
    "\n",
    "print(matrix)\n"
   ]
  },
  {
   "cell_type": "markdown",
   "id": "1395aea3",
   "metadata": {},
   "source": [
    "### Q 4.Write a numpy program to create a an array of all even integer from 30 to 70.\n",
    "* Using Function\n",
    "* Using Conditional statement"
   ]
  },
  {
   "cell_type": "code",
   "execution_count": 32,
   "id": "6e349f7f",
   "metadata": {},
   "outputs": [],
   "source": [
    "def even():\n",
    "    mylist = []\n",
    "    array = np.arange(30,71)\n",
    "    for element in array:\n",
    "        if element%2==0:\n",
    "            mylist.append(element)\n",
    "    print(np.array(mylist))\n",
    "    \n",
    "        "
   ]
  },
  {
   "cell_type": "code",
   "execution_count": 33,
   "id": "8f809207",
   "metadata": {},
   "outputs": [
    {
     "name": "stdout",
     "output_type": "stream",
     "text": [
      "[30 32 34 36 38 40 42 44 46 48 50 52 54 56 58 60 62 64 66 68 70]\n"
     ]
    }
   ],
   "source": [
    "even()"
   ]
  },
  {
   "cell_type": "markdown",
   "id": "942f9c96",
   "metadata": {},
   "source": [
    "#### Using Conditional Statement"
   ]
  },
  {
   "cell_type": "code",
   "execution_count": 37,
   "id": "58adb425",
   "metadata": {},
   "outputs": [
    {
     "name": "stdout",
     "output_type": "stream",
     "text": [
      "Even Integers: [30 32 34 36 38 40 42 44 46 48 50 52 54 56 58 60 62 64 66 68 70]\n"
     ]
    }
   ],
   "source": [
    "mylist1 = []  # create empty list to store the array element\n",
    "array4 = np.arange(30,71)\n",
    "for i in array4:\n",
    "    if i%2==0:\n",
    "        mylist1.append(i)\n",
    "print(f\"Even Integers: {np.array(mylist1)}\")"
   ]
  },
  {
   "cell_type": "markdown",
   "id": "605d9f98",
   "metadata": {},
   "source": [
    "### Q 5.Write a numpy program to create two 3x3 Matrix and perform addition using function"
   ]
  },
  {
   "cell_type": "code",
   "execution_count": 57,
   "id": "c4f80924",
   "metadata": {},
   "outputs": [
    {
     "name": "stdout",
     "output_type": "stream",
     "text": [
      "First Matrix:\n",
      " [[1 2 3]\n",
      " [4 5 6]\n",
      " [7 8 9]]\n",
      "Second Matrix: \n",
      " [[101 102 103]\n",
      " [104 105 106]\n",
      " [107 108 109]]\n",
      "Addition of matrix using function:\n",
      " [[102 104 106]\n",
      " [108 110 112]\n",
      " [114 116 118]]\n"
     ]
    }
   ],
   "source": [
    "matrix1 = np.arange(1,10).reshape(3,3)\n",
    "print(\"First Matrix:\\n\",matrix1)\n",
    "\n",
    "matrix2 = np.arange(101,110).reshape(3,3)\n",
    "print(\"Second Matrix: \\n\",matrix2)\n",
    "\n",
    "add = np.add(matrix1, matrix2)  # Addition using function\n",
    "print(f\"Addition of matrix using function:\\n {add}\")\n"
   ]
  },
  {
   "cell_type": "markdown",
   "id": "dbca0f88",
   "metadata": {},
   "source": [
    "### Q 6. Extract all odd numbers, Even numbers from array"
   ]
  },
  {
   "cell_type": "code",
   "execution_count": 61,
   "id": "61a1ef27",
   "metadata": {},
   "outputs": [
    {
     "name": "stdout",
     "output_type": "stream",
     "text": [
      "Original Array: [ 0  1  2  3  4  5  6  7  8  9 10 11 12 13 14 15]\n",
      "Even element array: [0, 2, 4, 6, 8, 10, 12, 14]\n",
      "Odd Element array: [1, 3, 5, 7, 9, 11, 13, 15]\n"
     ]
    }
   ],
   "source": [
    "even_array = []\n",
    "odd_array = []\n",
    "array5 = np.arange(16)\n",
    "print(f\"Original Array: {array5}\")\n",
    "for element in array5:\n",
    "    if element%2==0:\n",
    "        even_array.append(element)\n",
    "    else:\n",
    "        odd_array.append(element)\n",
    "print(f\"Even element array: {even_array}\")\n",
    "print(f\"Odd Element array: {odd_array}\")\n",
    "        \n",
    "\n"
   ]
  },
  {
   "cell_type": "code",
   "execution_count": null,
   "id": "ebc44767",
   "metadata": {},
   "outputs": [],
   "source": []
  }
 ],
 "metadata": {
  "kernelspec": {
   "display_name": "Python 3 (ipykernel)",
   "language": "python",
   "name": "python3"
  },
  "language_info": {
   "codemirror_mode": {
    "name": "ipython",
    "version": 3
   },
   "file_extension": ".py",
   "mimetype": "text/x-python",
   "name": "python",
   "nbconvert_exporter": "python",
   "pygments_lexer": "ipython3",
   "version": "3.12.4"
  }
 },
 "nbformat": 4,
 "nbformat_minor": 5
}

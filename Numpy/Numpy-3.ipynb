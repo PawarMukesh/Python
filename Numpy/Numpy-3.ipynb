{
 "cells": [
  {
   "cell_type": "markdown",
   "id": "8782a14a",
   "metadata": {},
   "source": [
    "# CREATE ARRAY WITH DATETIME"
   ]
  },
  {
   "cell_type": "code",
   "execution_count": 1,
   "id": "68a5b879",
   "metadata": {},
   "outputs": [],
   "source": [
    "import pytz\n",
    "import numpy as np"
   ]
  },
  {
   "cell_type": "code",
   "execution_count": 1,
   "id": "604232af",
   "metadata": {},
   "outputs": [
    {
     "data": {
      "text/plain": [
       "array(['2002-10-27T04:30', '2002-10-27T05:30', '2002-10-27T06:30',\n",
       "       '2002-10-27T07:30'], dtype='datetime64[m]')"
      ]
     },
     "execution_count": 1,
     "metadata": {},
     "output_type": "execute_result"
    }
   ],
   "source": [
    "d=np.arange('2002-10-27T04:30', 4*60, 60, dtype='datetime64')\n",
    "d"
   ]
  },
  {
   "cell_type": "code",
   "execution_count": 2,
   "id": "dcfbc6a8",
   "metadata": {},
   "outputs": [
    {
     "data": {
      "text/plain": [
       "array(['2002-10-27T04:30Z', '2002-10-27T05:30Z', '2002-10-27T06:30Z',\n",
       "       '2002-10-27T07:30Z'], dtype='<U35')"
      ]
     },
     "execution_count": 2,
     "metadata": {},
     "output_type": "execute_result"
    }
   ],
   "source": [
    "np.datetime_as_string(d, timezone = 'UTC')"
   ]
  },
  {
   "cell_type": "code",
   "execution_count": 6,
   "id": "b3548b89",
   "metadata": {},
   "outputs": [
    {
     "data": {
      "text/plain": [
       "array(['2002-10-27T00:30-0400', '2002-10-27T01:30-0400',\n",
       "       '2002-10-27T01:30-0500', '2002-10-27T02:30-0500'], dtype='<U39')"
      ]
     },
     "execution_count": 6,
     "metadata": {},
     "output_type": "execute_result"
    }
   ],
   "source": [
    "np.datetime_as_string(d, timezone=pytz.timezone('US/Eastern'))"
   ]
  },
  {
   "cell_type": "code",
   "execution_count": 10,
   "id": "4b165d80",
   "metadata": {},
   "outputs": [
    {
     "data": {
      "text/plain": [
       "array(['2002-10-27T04', '2002-10-27T05', '2002-10-27T06', '2002-10-27T07'],\n",
       "      dtype='<U32')"
      ]
     },
     "execution_count": 10,
     "metadata": {},
     "output_type": "execute_result"
    }
   ],
   "source": [
    "np.datetime_as_string(d, unit='h')"
   ]
  },
  {
   "cell_type": "code",
   "execution_count": 11,
   "id": "a3fb8f82",
   "metadata": {},
   "outputs": [
    {
     "data": {
      "text/plain": [
       "array(['2002-10-27T04:30:00', '2002-10-27T05:30:00',\n",
       "       '2002-10-27T06:30:00', '2002-10-27T07:30:00'], dtype='<U38')"
      ]
     },
     "execution_count": 11,
     "metadata": {},
     "output_type": "execute_result"
    }
   ],
   "source": [
    "np.datetime_as_string(d, unit='s')\n"
   ]
  },
  {
   "cell_type": "markdown",
   "id": "a258d739",
   "metadata": {},
   "source": [
    "# Q1. perform element-wise array string concatenation "
   ]
  },
  {
   "cell_type": "code",
   "execution_count": 4,
   "id": "507e0ea2",
   "metadata": {},
   "outputs": [
    {
     "name": "stdout",
     "output_type": "stream",
     "text": [
      "['VAIBHAV-PATIL' ',MUKESH-PAWAR' 'ADITYA-HIRE']\n"
     ]
    }
   ],
   "source": [
    "array1 = np.array(['VAIBHAV-', ',MUKESH-', 'ADITYA-'])\n",
    "array2 = np.array(['PATIL', 'PAWAR', 'HIRE'])\n",
    "array3 = np.char.add(array1, array2)\n",
    "print(array3)"
   ]
  },
  {
   "cell_type": "markdown",
   "id": "bed0c4a4",
   "metadata": {},
   "source": [
    "# Q2.define array with three string elements, repeat each element in array1 two times"
   ]
  },
  {
   "cell_type": "code",
   "execution_count": 5,
   "id": "d86caae4",
   "metadata": {},
   "outputs": [
    {
     "name": "stdout",
     "output_type": "stream",
     "text": [
      "['VAIBHAV-' 'VAIBHAV-' ',MUKESH-' ',MUKESH-' 'ADITYA-' 'ADITYA-']\n"
     ]
    }
   ],
   "source": [
    "array1= np.repeat(array1,2)\n",
    "print(array1)"
   ]
  },
  {
   "cell_type": "markdown",
   "id": "acce2113",
   "metadata": {},
   "source": [
    "# Q3 capitalize the first letter of each string in array"
   ]
  },
  {
   "cell_type": "code",
   "execution_count": 6,
   "id": "d92cb969",
   "metadata": {},
   "outputs": [
    {
     "name": "stdout",
     "output_type": "stream",
     "text": [
      "['Vaibhav-' 'Vaibhav-' ',mukesh-' ',mukesh-' 'Aditya-' 'Aditya-']\n"
     ]
    }
   ],
   "source": [
    "array1= np.char.capitalize(array1)\n",
    "print(array1)"
   ]
  },
  {
   "cell_type": "markdown",
   "id": "7bdba387",
   "metadata": {},
   "source": [
    "# Q4 define array with string elements\n",
    "* 1. convert all string elements to uppercase\n",
    "* 2. convert all string elements to lowercase"
   ]
  },
  {
   "cell_type": "code",
   "execution_count": null,
   "id": "8a8732ea",
   "metadata": {},
   "outputs": [],
   "source": [
    "array1 = (['vaibhav','mukesh','aditya'])\n",
    "array2 = np.char.upper(array1)\n",
    "print(array1)"
   ]
  }
 ],
 "metadata": {
  "kernelspec": {
   "display_name": "Python 3 (ipykernel)",
   "language": "python",
   "name": "python3"
  },
  "language_info": {
   "codemirror_mode": {
    "name": "ipython",
    "version": 3
   },
   "file_extension": ".py",
   "mimetype": "text/x-python",
   "name": "python",
   "nbconvert_exporter": "python",
   "pygments_lexer": "ipython3",
   "version": "3.12.4"
  }
 },
 "nbformat": 4,
 "nbformat_minor": 5
}

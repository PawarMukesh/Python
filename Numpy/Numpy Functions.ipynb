{
 "cells": [
  {
   "cell_type": "markdown",
   "id": "a2b5b61e",
   "metadata": {},
   "source": [
    "# Numpy"
   ]
  },
  {
   "cell_type": "markdown",
   "id": "eca8ffaf",
   "metadata": {},
   "source": [
    "**Numpy VS List**"
   ]
  },
  {
   "cell_type": "code",
   "execution_count": 2,
   "id": "74c4c892",
   "metadata": {},
   "outputs": [
    {
     "name": "stdout",
     "output_type": "stream",
     "text": [
      "[2, 4, 6, 8]\n"
     ]
    }
   ],
   "source": [
    "# Create a list with different element\n",
    "mylist = [2,4,6,8]\n",
    "print(mylist)"
   ]
  },
  {
   "cell_type": "code",
   "execution_count": 6,
   "id": "fbb488cc",
   "metadata": {},
   "outputs": [
    {
     "ename": "TypeError",
     "evalue": "can't multiply sequence by non-int of type 'str'",
     "output_type": "error",
     "traceback": [
      "\u001b[1;31m---------------------------------------------------------------------------\u001b[0m",
      "\u001b[1;31mTypeError\u001b[0m                                 Traceback (most recent call last)",
      "Cell \u001b[1;32mIn[6], line 2\u001b[0m\n\u001b[0;32m      1\u001b[0m \u001b[38;5;66;03m# try to multiply 2.5 directly to the created list\u001b[39;00m\n\u001b[1;32m----> 2\u001b[0m mylist \u001b[38;5;241m*\u001b[39m \u001b[38;5;28mstr\u001b[39m(\u001b[38;5;241m2.2\u001b[39m)\n",
      "\u001b[1;31mTypeError\u001b[0m: can't multiply sequence by non-int of type 'str'"
     ]
    }
   ],
   "source": [
    "# try to multiply 2.5 directly to the created list\n",
    "mylist * 2.2"
   ]
  },
  {
   "cell_type": "markdown",
   "id": "1906458b",
   "metadata": {},
   "source": [
    "**Lists cannot operate over the entire data together. You need to run map or apply functions to multiply each element with 2.2. Let's try to perform this using a NumPy array**"
   ]
  },
  {
   "cell_type": "code",
   "execution_count": 7,
   "id": "d783248c",
   "metadata": {},
   "outputs": [],
   "source": [
    "# Import numpy\n",
    "import numpy as np"
   ]
  },
  {
   "cell_type": "code",
   "execution_count": 8,
   "id": "9ca2b044",
   "metadata": {},
   "outputs": [
    {
     "name": "stdout",
     "output_type": "stream",
     "text": [
      "[1 3 5 7]\n"
     ]
    }
   ],
   "source": [
    "array = np.array([1,3,5,7])\n",
    "print(array)"
   ]
  },
  {
   "cell_type": "code",
   "execution_count": 9,
   "id": "9dbd2736",
   "metadata": {},
   "outputs": [
    {
     "data": {
      "text/plain": [
       "array([ 2.5,  7.5, 12.5, 17.5])"
      ]
     },
     "execution_count": 9,
     "metadata": {},
     "output_type": "execute_result"
    }
   ],
   "source": [
    "# Multiply element with 2.5\n",
    "array * 2.5"
   ]
  },
  {
   "cell_type": "code",
   "execution_count": 10,
   "id": "83f4be8a",
   "metadata": {},
   "outputs": [
    {
     "data": {
      "text/plain": [
       "array(['1', 'abc', 'True'], dtype='<U11')"
      ]
     },
     "execution_count": 10,
     "metadata": {},
     "output_type": "execute_result"
    }
   ],
   "source": [
    "# Create a 1-D array using with the elements (1, abc, True)\n",
    "myarray = np.array([1,'abc',True])\n",
    "myarray"
   ]
  },
  {
   "cell_type": "markdown",
   "id": "f5496e56",
   "metadata": {},
   "source": [
    "## Operations over Arrays"
   ]
  },
  {
   "cell_type": "code",
   "execution_count": 11,
   "id": "db6213a5",
   "metadata": {},
   "outputs": [
    {
     "data": {
      "text/plain": [
       "[10, 20, 30, 100, 200, 300]"
      ]
     },
     "execution_count": 11,
     "metadata": {},
     "output_type": "execute_result"
    }
   ],
   "source": [
    "list1 = [10,20,30]\n",
    "list2 = [100,200,300]\n",
    "\n",
    "# Add two list using + operator\n",
    "list3 = list1+ list2\n",
    "list3"
   ]
  },
  {
   "cell_type": "code",
   "execution_count": 12,
   "id": "105941f2",
   "metadata": {},
   "outputs": [
    {
     "data": {
      "text/plain": [
       "array([110, 220, 330])"
      ]
     },
     "execution_count": 12,
     "metadata": {},
     "output_type": "execute_result"
    }
   ],
   "source": [
    "array1 = np.array([10,20,30])\n",
    "array2 = np.array([100,200,300])\n",
    "\n",
    "# Additon of two array\n",
    "array1+array2"
   ]
  },
  {
   "cell_type": "markdown",
   "id": "ffd75801",
   "metadata": {},
   "source": [
    "## Create Array Using Python List"
   ]
  },
  {
   "cell_type": "code",
   "execution_count": 13,
   "id": "4cc9d645",
   "metadata": {},
   "outputs": [
    {
     "data": {
      "text/plain": [
       "array([1, 3, 5, 7])"
      ]
     },
     "execution_count": 13,
     "metadata": {},
     "output_type": "execute_result"
    }
   ],
   "source": [
    "# create a list named list1\n",
    "list1 = [1,3,5,7]\n",
    "\n",
    "# Creating array\n",
    "array1 = np.array(list1)\n",
    "array1"
   ]
  },
  {
   "cell_type": "markdown",
   "id": "ea5a26a2",
   "metadata": {},
   "source": [
    "## Create an Array Using np.zeros()"
   ]
  },
  {
   "cell_type": "code",
   "execution_count": 14,
   "id": "07058a89",
   "metadata": {},
   "outputs": [
    {
     "data": {
      "text/plain": [
       "array([0., 0., 0., 0., 0.])"
      ]
     },
     "execution_count": 14,
     "metadata": {},
     "output_type": "execute_result"
    }
   ],
   "source": [
    "array = np.zeros(5)\n",
    "array"
   ]
  },
  {
   "cell_type": "code",
   "execution_count": 6,
   "id": "0e57f87c",
   "metadata": {},
   "outputs": [
    {
     "data": {
      "text/plain": [
       "array([[0, 0, 0],\n",
       "       [0, 0, 0],\n",
       "       [0, 0, 0]])"
      ]
     },
     "execution_count": 6,
     "metadata": {},
     "output_type": "execute_result"
    }
   ],
   "source": [
    "np.zeros((3,3), dtype='int', order='F')"
   ]
  },
  {
   "cell_type": "markdown",
   "id": "69bb1af2",
   "metadata": {},
   "source": [
    "## Create an Array With np.arange()"
   ]
  },
  {
   "cell_type": "code",
   "execution_count": 16,
   "id": "d0a2f6c1",
   "metadata": {},
   "outputs": [
    {
     "data": {
      "text/plain": [
       "array([0, 1, 2, 3, 4, 5, 6])"
      ]
     },
     "execution_count": 16,
     "metadata": {},
     "output_type": "execute_result"
    }
   ],
   "source": [
    "# create an array with values from 0 to 6\n",
    "array = np.arange(7)\n",
    "array"
   ]
  },
  {
   "cell_type": "code",
   "execution_count": 17,
   "id": "08ecd151",
   "metadata": {},
   "outputs": [
    {
     "data": {
      "text/plain": [
       "array([ 1,  4,  7, 10, 13, 16, 19])"
      ]
     },
     "execution_count": 17,
     "metadata": {},
     "output_type": "execute_result"
    }
   ],
   "source": [
    "# Create an array that starts from the integer 1, ends at 20,incremented by 3\n",
    "array = np.arange(1,21,3)\n",
    "array"
   ]
  },
  {
   "cell_type": "code",
   "execution_count": 18,
   "id": "56eae053",
   "metadata": {},
   "outputs": [
    {
     "name": "stdout",
     "output_type": "stream",
     "text": [
      "[ 1  4  7 10 13 16 19]\n"
     ]
    }
   ],
   "source": [
    "c = np.arange(1, 20, 3, dtype=int)\n",
    "print(c)"
   ]
  },
  {
   "cell_type": "code",
   "execution_count": 19,
   "id": "6a422aa3",
   "metadata": {},
   "outputs": [
    {
     "name": "stdout",
     "output_type": "stream",
     "text": [
      "[ 1.  4.  7. 10. 13. 16. 19.]\n"
     ]
    }
   ],
   "source": [
    "c = np.arange(1, 20, 3, dtype=float)\n",
    "print(c)"
   ]
  },
  {
   "cell_type": "code",
   "execution_count": 15,
   "id": "fad851b6",
   "metadata": {},
   "outputs": [
    {
     "data": {
      "text/plain": [
       "array([ 1.,  3.,  5.,  7.,  9., 11., 13., 15., 17.])"
      ]
     },
     "execution_count": 15,
     "metadata": {},
     "output_type": "execute_result"
    }
   ],
   "source": [
    "np.arange(1,18,2, dtype='float')"
   ]
  },
  {
   "cell_type": "markdown",
   "id": "1e00346f",
   "metadata": {},
   "source": [
    "## Create an Empty NumPy Array"
   ]
  },
  {
   "cell_type": "code",
   "execution_count": 27,
   "id": "ae429842",
   "metadata": {},
   "outputs": [
    {
     "data": {
      "text/plain": [
       "array([ 2.5,  7.5, 12.5, 17.5])"
      ]
     },
     "execution_count": 27,
     "metadata": {},
     "output_type": "execute_result"
    }
   ],
   "source": [
    "empty_arr = np.empty(4)\n",
    "empty_arr"
   ]
  },
  {
   "cell_type": "code",
   "execution_count": 19,
   "id": "f41d0813",
   "metadata": {},
   "outputs": [
    {
     "data": {
      "text/plain": [
       "array([6.23042070e-307, 4.67296746e-307, 1.69121096e-306, 2.37666896e-312,\n",
       "       6.95211151e-310])"
      ]
     },
     "execution_count": 19,
     "metadata": {},
     "output_type": "execute_result"
    }
   ],
   "source": [
    "np.empty(5)"
   ]
  },
  {
   "cell_type": "markdown",
   "id": "81714718",
   "metadata": {},
   "source": [
    "**Note:---The empty array is actually not empty, it has some values in it.**"
   ]
  },
  {
   "cell_type": "markdown",
   "id": "5018d85b",
   "metadata": {},
   "source": [
    "## Create a 2-D NumPy Array"
   ]
  },
  {
   "cell_type": "code",
   "execution_count": 28,
   "id": "71466cbc",
   "metadata": {},
   "outputs": [
    {
     "data": {
      "text/plain": [
       "array([[ 5, 10, 15, 20],\n",
       "       [ 6, 12, 18, 24]])"
      ]
     },
     "execution_count": 28,
     "metadata": {},
     "output_type": "execute_result"
    }
   ],
   "source": [
    "# create a 2D array with 2 rows and 4 columns\n",
    "array1 = np.array([[5,10,15,20],\n",
    "                  [6,12,18,24]])\n",
    "array1"
   ]
  },
  {
   "cell_type": "markdown",
   "id": "6a64de66",
   "metadata": {},
   "source": [
    "## Create N-D Array with a Specified Value"
   ]
  },
  {
   "cell_type": "code",
   "execution_count": 31,
   "id": "9d83bc1b",
   "metadata": {},
   "outputs": [
    {
     "data": {
      "text/plain": [
       "array([[2, 2, 2],\n",
       "       [2, 2, 2],\n",
       "       [2, 2, 2]])"
      ]
     },
     "execution_count": 31,
     "metadata": {},
     "output_type": "execute_result"
    }
   ],
   "source": [
    "arr = np.full((3,3),2)\n",
    "arr"
   ]
  },
  {
   "cell_type": "markdown",
   "id": "a1dd7632",
   "metadata": {},
   "source": [
    "## Create Empty N-D NumPy Array"
   ]
  },
  {
   "cell_type": "code",
   "execution_count": 33,
   "id": "d68e799e",
   "metadata": {},
   "outputs": [
    {
     "name": "stdout",
     "output_type": "stream",
     "text": [
      "2D Array [[ 2.5  7.5]\n",
      " [12.5 17.5]]\n",
      "\n",
      " 3D Array [[[6.23042070e-307 4.67296746e-307]\n",
      "  [1.69121096e-306 6.23058707e-307]]\n",
      "\n",
      " [[2.22526399e-307 6.23053614e-307]\n",
      "  [7.56592338e-307 9.34588061e-307]]]\n"
     ]
    }
   ],
   "source": [
    "# create an empty 2D array with 2 rows and 2 columns\n",
    "arr1 = np.empty((2,2))\n",
    "print(f\"2D Array {arr1}\")\n",
    "\n",
    "# create an empty 3D array of shape (2, 2, 2)\n",
    "arr2 = np.empty((2,2,2))\n",
    "print(f\"\\n 3D Array {arr2}\")\n"
   ]
  },
  {
   "cell_type": "markdown",
   "id": "ca8b891f",
   "metadata": {},
   "source": [
    "## Create a 3-D NumPy Array"
   ]
  },
  {
   "cell_type": "code",
   "execution_count": 34,
   "id": "50d49dd9",
   "metadata": {},
   "outputs": [
    {
     "data": {
      "text/plain": [
       "array([[[ 0,  2,  3,  4],\n",
       "        [ 5,  6,  7,  8],\n",
       "        [ 9, 11, 11, 12]],\n",
       "\n",
       "       [[13, 14, 15, 16],\n",
       "        [17, 17, 19, 20],\n",
       "        [21, 22, 23, 24]]])"
      ]
     },
     "execution_count": 34,
     "metadata": {},
     "output_type": "execute_result"
    }
   ],
   "source": [
    "# create a 3D array with 2 \"slices\", each of 3 rows and 4 columns\n",
    "array1 = np.array([[[0, 2, 3, 4],\n",
    "                [5, 6, 7, 8],\n",
    "                [9, 11, 11, 12]],\n",
    "\n",
    "                [[13, 14, 15, 16],\n",
    "                 [17, 17, 19, 20],\n",
    "                 [21, 22, 23, 24]]])\n",
    "\n",
    "array1"
   ]
  },
  {
   "cell_type": "markdown",
   "id": "990f2687",
   "metadata": {},
   "source": [
    "## NumPy Data Types"
   ]
  },
  {
   "cell_type": "code",
   "execution_count": 36,
   "id": "ed9fc780",
   "metadata": {},
   "outputs": [
    {
     "name": "stdout",
     "output_type": "stream",
     "text": [
      "int32\n",
      "float64\n",
      "complex128\n"
     ]
    }
   ],
   "source": [
    "# create an array of  integers\n",
    "int_array = np.array([3, -2, 0, 1])\n",
    "\n",
    "# create an array of floating-point numbers\n",
    "float_array = np.array([0.7, 0.2, 0.3])\n",
    "\n",
    "# create an array of complex numbers\n",
    "complex_array = np.array([5+2j, 2+3j, 3+4j])\n",
    "\n",
    "# check the data type of int_array\n",
    "print(int_array.dtype)\n",
    "\n",
    "# check the data type of float_array\n",
    "print(float_array.dtype)\n",
    "\n",
    "# check the data type of complex_array\n",
    "print(complex_array.dtype)"
   ]
  },
  {
   "cell_type": "markdown",
   "id": "9225cda2",
   "metadata": {},
   "source": [
    "### Numpy Function"
   ]
  },
  {
   "cell_type": "code",
   "execution_count": 1,
   "id": "3577ed67",
   "metadata": {},
   "outputs": [],
   "source": [
    "import numpy as np"
   ]
  },
  {
   "cell_type": "markdown",
   "id": "748073a4",
   "metadata": {},
   "source": [
    "### np.eye()---------Create Diagonal Matrix\n",
    "- np.eye(5)  # Using single element \n",
    "- np.eye(3,5) # First element for row and second element for column"
   ]
  },
  {
   "cell_type": "code",
   "execution_count": 20,
   "id": "e6f73bd1",
   "metadata": {},
   "outputs": [
    {
     "data": {
      "text/plain": [
       "array([[1., 0., 0.],\n",
       "       [0., 1., 0.]])"
      ]
     },
     "execution_count": 20,
     "metadata": {},
     "output_type": "execute_result"
    }
   ],
   "source": [
    "array = np.eye(2,3)\n",
    "array"
   ]
  },
  {
   "cell_type": "code",
   "execution_count": 6,
   "id": "3e12605b",
   "metadata": {},
   "outputs": [
    {
     "data": {
      "text/plain": [
       "array([[1., 0., 0., 0., 0., 0., 0., 0., 0., 0.],\n",
       "       [0., 1., 0., 0., 0., 0., 0., 0., 0., 0.],\n",
       "       [0., 0., 1., 0., 0., 0., 0., 0., 0., 0.],\n",
       "       [0., 0., 0., 1., 0., 0., 0., 0., 0., 0.],\n",
       "       [0., 0., 0., 0., 1., 0., 0., 0., 0., 0.]])"
      ]
     },
     "execution_count": 6,
     "metadata": {},
     "output_type": "execute_result"
    }
   ],
   "source": [
    "arr = np.eye(5,10)\n",
    "arr"
   ]
  },
  {
   "cell_type": "markdown",
   "id": "f24052fe",
   "metadata": {},
   "source": [
    "### np.diag() #Create a indentity matrix"
   ]
  },
  {
   "cell_type": "code",
   "execution_count": 11,
   "id": "41ab30a6",
   "metadata": {},
   "outputs": [
    {
     "name": "stdout",
     "output_type": "stream",
     "text": [
      "[[1 2 3]\n",
      " [4 5 6]\n",
      " [7 8 9]]\n",
      "Digonal element of array is:[1 5 9]\n"
     ]
    }
   ],
   "source": [
    "arr1 = np.array([[1,2,3],[4,5,6],[7,8,9]])\n",
    "print(arr1)\n",
    "\n",
    "diag = np.diag(arr1)\n",
    "print(f\"Digonal element of array is:{diag}\")"
   ]
  },
  {
   "cell_type": "markdown",
   "id": "f888c7c1",
   "metadata": {},
   "source": [
    "### np.indices([3,3]) -------- First parameter for dimension and second element for indices"
   ]
  },
  {
   "cell_type": "markdown",
   "id": "af2d3d7e",
   "metadata": {},
   "source": [
    "* np.indices() will create a set of arrays which are stacked as 1-D array. is set of array is one per dimension with each representing variation of the dimension"
   ]
  },
  {
   "cell_type": "code",
   "execution_count": 20,
   "id": "d3efe67b",
   "metadata": {},
   "outputs": [
    {
     "data": {
      "text/plain": [
       "array([[[0, 0],\n",
       "        [1, 1],\n",
       "        [2, 2],\n",
       "        [3, 3]],\n",
       "\n",
       "       [[0, 1],\n",
       "        [0, 1],\n",
       "        [0, 1],\n",
       "        [0, 1]]])"
      ]
     },
     "execution_count": 20,
     "metadata": {},
     "output_type": "execute_result"
    }
   ],
   "source": [
    "arr2 = np.indices([4,2])\n",
    "arr2"
   ]
  }
 ],
 "metadata": {
  "kernelspec": {
   "display_name": "Python 3 (ipykernel)",
   "language": "python",
   "name": "python3"
  },
  "language_info": {
   "codemirror_mode": {
    "name": "ipython",
    "version": 3
   },
   "file_extension": ".py",
   "mimetype": "text/x-python",
   "name": "python",
   "nbconvert_exporter": "python",
   "pygments_lexer": "ipython3",
   "version": "3.11.5"
  }
 },
 "nbformat": 4,
 "nbformat_minor": 5
}

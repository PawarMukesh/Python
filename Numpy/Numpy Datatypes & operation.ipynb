{
 "cells": [
  {
   "cell_type": "markdown",
   "metadata": {
    "id": "3AS0qLTvZNaY"
   },
   "source": [
    "## **Packages**\n"
   ]
  },
  {
   "cell_type": "code",
   "execution_count": 1,
   "metadata": {
    "id": "zE16v0QjZXjQ"
   },
   "outputs": [],
   "source": [
    "import numpy as np"
   ]
  },
  {
   "cell_type": "markdown",
   "metadata": {
    "id": "n0Wa1H_GI4_g"
   },
   "source": [
    "**Note: Unlike lists, arrays can only store data of a similar type.**\n",
    "\n"
   ]
  },
  {
   "cell_type": "markdown",
   "metadata": {
    "id": "uAJ10VXHZ46g"
   },
   "source": [
    "# **Create Array Using Python List**"
   ]
  },
  {
   "cell_type": "code",
   "execution_count": null,
   "metadata": {
    "id": "_CB8gkZKZ1_a"
   },
   "outputs": [],
   "source": [
    "# create a list named list1\n",
    "list1 = [2, 4, 6, 8]"
   ]
  },
  {
   "cell_type": "code",
   "execution_count": null,
   "metadata": {
    "id": "WGRjd4iQaI7v"
   },
   "outputs": [],
   "source": [
    "# create numpy array using list1\n",
    "array = np.array(list1)"
   ]
  },
  {
   "cell_type": "code",
   "execution_count": null,
   "metadata": {
    "colab": {
     "base_uri": "https://localhost:8080/"
    },
    "id": "tS-MBTGcaPRg",
    "outputId": "65c8fafc-6168-4637-a325-612e049a66ec"
   },
   "outputs": [
    {
     "name": "stdout",
     "output_type": "stream",
     "text": [
      "[2 4 6 8]\n"
     ]
    }
   ],
   "source": [
    "print(array)"
   ]
  },
  {
   "cell_type": "markdown",
   "metadata": {
    "id": "ZIpYNV8zas7A"
   },
   "source": [
    "**Create an Array Using np.zeros()**\n"
   ]
  },
  {
   "cell_type": "code",
   "execution_count": null,
   "metadata": {
    "colab": {
     "base_uri": "https://localhost:8080/"
    },
    "id": "4SYjCprGa1ba",
    "outputId": "feef9c85-0a46-4f73-d14a-43c86b138744"
   },
   "outputs": [
    {
     "name": "stdout",
     "output_type": "stream",
     "text": [
      "[0. 0. 0. 0.]\n"
     ]
    }
   ],
   "source": [
    "# create an array with 4 elements filled with zeros\n",
    "array = np.zeros(4)\n",
    "print(array)"
   ]
  },
  {
   "cell_type": "markdown",
   "metadata": {
    "id": "f9aSSoI2H8AB"
   },
   "source": [
    "**Create an Array With np.arange()**"
   ]
  },
  {
   "cell_type": "code",
   "execution_count": null,
   "metadata": {
    "colab": {
     "base_uri": "https://localhost:8080/"
    },
    "id": "nkW8paN1aTMf",
    "outputId": "b82ccc39-c60d-4df7-d9f0-9d0c87959b5f"
   },
   "outputs": [
    {
     "name": "stdout",
     "output_type": "stream",
     "text": [
      "[0 1 2 3 4 5 6]\n"
     ]
    }
   ],
   "source": [
    "# create an array with values from 0 to 6\n",
    "array = np.arange(7)\n",
    "print(array)"
   ]
  },
  {
   "cell_type": "code",
   "execution_count": null,
   "metadata": {
    "colab": {
     "base_uri": "https://localhost:8080/"
    },
    "id": "_ezS1_-xbhfu",
    "outputId": "43e06055-6f2e-4a95-b6ef-3a546ef35127"
   },
   "outputs": [
    {
     "name": "stdout",
     "output_type": "stream",
     "text": [
      "[ 1  4  7 10 13 16 19]\n"
     ]
    }
   ],
   "source": [
    "# Create an array that starts from the integer 1, ends at 20,incremented by 3\n",
    "array = np.arange(1, 20, 3)\n",
    "print(array)"
   ]
  },
  {
   "cell_type": "code",
   "execution_count": null,
   "metadata": {
    "colab": {
     "base_uri": "https://localhost:8080/"
    },
    "id": "YxRcIXcjbxSd",
    "outputId": "20242b5e-1ff1-4493-fc76-76cbdb598d23"
   },
   "outputs": [
    {
     "name": "stdout",
     "output_type": "stream",
     "text": [
      "[ 1  4  7 10 13 16 19]\n"
     ]
    }
   ],
   "source": [
    "c = np.arange(1, 20, 3, dtype=int)\n",
    "print(c)"
   ]
  },
  {
   "cell_type": "code",
   "execution_count": null,
   "metadata": {
    "colab": {
     "base_uri": "https://localhost:8080/"
    },
    "id": "9x-W5og9cUKN",
    "outputId": "10bb8af5-4f62-46ba-a471-89f093bc0a95"
   },
   "outputs": [
    {
     "name": "stdout",
     "output_type": "stream",
     "text": [
      "[ 1.  4.  7. 10. 13. 16. 19.]\n"
     ]
    }
   ],
   "source": [
    "c = np.arange(1, 20, 3, dtype=float)\n",
    "print(c)"
   ]
  },
  {
   "cell_type": "markdown",
   "metadata": {
    "id": "w92h3G8dJiaK"
   },
   "source": [
    "**Create an Empty NumPy Array**\n"
   ]
  },
  {
   "cell_type": "code",
   "execution_count": null,
   "metadata": {
    "colab": {
     "base_uri": "https://localhost:8080/"
    },
    "id": "QwLbHrViiyX2",
    "outputId": "40df4c0c-4811-4883-cf9e-a3a7bfd47c7a"
   },
   "outputs": [
    {
     "name": "stdout",
     "output_type": "stream",
     "text": [
      "[1.e-323 2.e-323 3.e-323 4.e-323]\n"
     ]
    }
   ],
   "source": [
    "empty_arr = np.empty(4)\n",
    "print(empty_arr)"
   ]
  },
  {
   "cell_type": "markdown",
   "metadata": {
    "id": "8qMGLmnPJ4-C"
   },
   "source": [
    "Note:---The empty array is actually not empty, it has some values in it.\n",
    "\n",
    "It is because although we are creating an empty array, NumPy will try to add some value to it. The values stored in the array are arbitrary and have no significance"
   ]
  },
  {
   "cell_type": "markdown",
   "metadata": {
    "id": "chuXD0rCeByt"
   },
   "source": [
    "# **Create a 2-D NumPy Array**"
   ]
  },
  {
   "cell_type": "code",
   "execution_count": null,
   "metadata": {
    "id": "NjDnRdPRcajF"
   },
   "outputs": [],
   "source": [
    "# create a 2D array with 2 rows and 4 columns\n",
    "array1 = np.array([[1, 2, 3, 4],\n",
    "                  [5, 6, 7, 8]])"
   ]
  },
  {
   "cell_type": "code",
   "execution_count": null,
   "metadata": {
    "colab": {
     "base_uri": "https://localhost:8080/"
    },
    "id": "5Fe5DF5KdkEr",
    "outputId": "80e39776-cf4c-4c86-ffeb-804570346945"
   },
   "outputs": [
    {
     "name": "stdout",
     "output_type": "stream",
     "text": [
      "[[1 2 3 4]\n",
      " [5 6 7 8]]\n"
     ]
    }
   ],
   "source": [
    "print(array1)"
   ]
  },
  {
   "cell_type": "markdown",
   "metadata": {
    "id": "x31S8pz5Roeg"
   },
   "source": [
    "**Create N-D Array with a Specified Value**"
   ]
  },
  {
   "cell_type": "code",
   "execution_count": null,
   "metadata": {
    "colab": {
     "base_uri": "https://localhost:8080/"
    },
    "id": "UATqAffhRtTY",
    "outputId": "fc629e6a-db1d-49e8-93b7-307449b9593d"
   },
   "outputs": [
    {
     "name": "stdout",
     "output_type": "stream",
     "text": [
      "Array: [[5 5]\n",
      " [5 5]]\n"
     ]
    }
   ],
   "source": [
    "# Create a 2-D array with elements initialized to 5\n",
    "numpy_array = np.full((2, 2), 5)\n",
    "\n",
    "print(\"Array:\", numpy_array)"
   ]
  },
  {
   "cell_type": "markdown",
   "metadata": {
    "id": "6MF43zaKSHZg"
   },
   "source": [
    "**Create Empty N-D NumPy Array**"
   ]
  },
  {
   "cell_type": "code",
   "execution_count": null,
   "metadata": {
    "colab": {
     "base_uri": "https://localhost:8080/"
    },
    "id": "se8KhJk6SM8p",
    "outputId": "7dbae5d7-411d-4f2e-c3dd-54578bd642a5"
   },
   "outputs": [
    {
     "name": "stdout",
     "output_type": "stream",
     "text": [
      "2-D Array: \n",
      "[[1.e-323 2.e-323]\n",
      " [3.e-323 4.e-323]]\n",
      "\n",
      "3-D Array: \n",
      "[[[4.637837e-310 0.000000e+000]\n",
      "  [0.000000e+000 0.000000e+000]]\n",
      "\n",
      " [[0.000000e+000 0.000000e+000]\n",
      "  [0.000000e+000 0.000000e+000]]]\n"
     ]
    }
   ],
   "source": [
    "# create an empty 2D array with 2 rows and 2 columns\n",
    "array1 = np.empty((2, 2))\n",
    "\n",
    "print(\"2-D Array: \")\n",
    "print(array1)\n",
    "\n",
    "# create an empty 3D array of shape (2, 2, 2)\n",
    "array2 = np.empty((2, 2, 2))\n",
    "\n",
    "print(\"\\n3-D Array: \")\n",
    "print(array2)"
   ]
  },
  {
   "cell_type": "markdown",
   "metadata": {
    "id": "iMLFZowzeeaj"
   },
   "source": [
    "# Create a 3-D NumPy Array"
   ]
  },
  {
   "cell_type": "code",
   "execution_count": null,
   "metadata": {
    "id": "31TOXIJceTb7"
   },
   "outputs": [],
   "source": [
    "# create a 3D array with 2 \"slices\", each of 3 rows and 4 columns\n",
    "array1 = np.array([[[1, 2, 3, 4],\n",
    "                [5, 6, 7, 8],\n",
    "                [9, 10, 11, 12]],\n",
    "\n",
    "                [[13, 14, 15, 16],\n",
    "                 [17, 18, 19, 20],\n",
    "                 [21, 22, 23, 24]]])"
   ]
  },
  {
   "cell_type": "code",
   "execution_count": null,
   "metadata": {
    "colab": {
     "base_uri": "https://localhost:8080/"
    },
    "id": "sUE1L_jcemJp",
    "outputId": "e18cd188-b74a-4acb-ed54-e21fe61e80eb"
   },
   "outputs": [
    {
     "name": "stdout",
     "output_type": "stream",
     "text": [
      "[[[ 1  2  3  4]\n",
      "  [ 5  6  7  8]\n",
      "  [ 9 10 11 12]]\n",
      "\n",
      " [[13 14 15 16]\n",
      "  [17 18 19 20]\n",
      "  [21 22 23 24]]]\n"
     ]
    }
   ],
   "source": [
    "print(array1)"
   ]
  },
  {
   "cell_type": "markdown",
   "metadata": {
    "id": "M3gyCdvkSq5v"
   },
   "source": [
    "# **NumPy Data Types**\n",
    "To check the data type of a NumPy array, we can use the dtype attribute"
   ]
  },
  {
   "cell_type": "code",
   "execution_count": null,
   "metadata": {
    "colab": {
     "base_uri": "https://localhost:8080/"
    },
    "id": "0F_vw6QVSuK_",
    "outputId": "cebd918b-d92e-43f5-e8c3-82e9a9ea9dcc"
   },
   "outputs": [
    {
     "name": "stdout",
     "output_type": "stream",
     "text": [
      "int64\n",
      "float64\n",
      "complex128\n"
     ]
    }
   ],
   "source": [
    "# create an array of  integers\n",
    "int_array = np.array([-3, -1, 0, 1])\n",
    "\n",
    "# create an array of floating-point numbers\n",
    "float_array = np.array([0.1, 0.2, 0.3])\n",
    "\n",
    "# create an array of complex numbers\n",
    "complex_array = np.array([1+2j, 2+3j, 3+4j])\n",
    "\n",
    "# check the data type of int_array\n",
    "print(int_array.dtype)\n",
    "\n",
    "# check the data type of float_array\n",
    "print(float_array.dtype)\n",
    "\n",
    "# check the data type of complex_array\n",
    "print(complex_array.dtype)"
   ]
  },
  {
   "cell_type": "markdown",
   "metadata": {
    "id": "0onyeGV-faJ-"
   },
   "source": [
    "# **Finding size, shape and dimension**"
   ]
  },
  {
   "cell_type": "code",
   "execution_count": null,
   "metadata": {
    "colab": {
     "base_uri": "https://localhost:8080/"
    },
    "id": "DT7WC1rMfdDd",
    "outputId": "f701a8a5-b5a0-47a2-ead9-76a6b55d925d"
   },
   "outputs": [
    {
     "data": {
      "text/plain": [
       "3"
      ]
     },
     "execution_count": 35,
     "metadata": {},
     "output_type": "execute_result"
    }
   ],
   "source": [
    "array1.ndim"
   ]
  },
  {
   "cell_type": "code",
   "execution_count": null,
   "metadata": {
    "colab": {
     "base_uri": "https://localhost:8080/"
    },
    "id": "Ah7xkwqDflyO",
    "outputId": "6debe9a4-b1b2-4515-fd27-424d37edddfa"
   },
   "outputs": [
    {
     "data": {
      "text/plain": [
       "(2, 3, 4)"
      ]
     },
     "execution_count": 36,
     "metadata": {},
     "output_type": "execute_result"
    }
   ],
   "source": [
    "array1.shape"
   ]
  },
  {
   "cell_type": "code",
   "execution_count": null,
   "metadata": {
    "colab": {
     "base_uri": "https://localhost:8080/"
    },
    "id": "p5xtsBQ6fpvN",
    "outputId": "9baf6799-5447-4675-fc57-89908c6df964"
   },
   "outputs": [
    {
     "data": {
      "text/plain": [
       "24"
      ]
     },
     "execution_count": 37,
     "metadata": {},
     "output_type": "execute_result"
    }
   ],
   "source": [
    "array1.size"
   ]
  },
  {
   "cell_type": "code",
   "execution_count": null,
   "metadata": {
    "colab": {
     "base_uri": "https://localhost:8080/"
    },
    "id": "frt07O_6h_S7",
    "outputId": "fd7dc6c2-86c9-4689-fef7-5057f3f3f7c8"
   },
   "outputs": [
    {
     "name": "stdout",
     "output_type": "stream",
     "text": [
      "Enter a string: hello\n",
      "2\n"
     ]
    }
   ],
   "source": [
    "def l_vowels(user_s):\n",
    "    vowels = 'aeiou'\n",
    "    count = 0\n",
    "    for char in user_s:\n",
    "           if char in vowels:\n",
    "            count += 1\n",
    "    return count\n",
    "\n",
    "string = input(\"Enter a string: \")\n",
    "res = l_vowels(string)\n",
    "print(res)"
   ]
  },
  {
   "cell_type": "code",
   "execution_count": null,
   "metadata": {
    "colab": {
     "base_uri": "https://localhost:8080/"
    },
    "id": "MwLwALtD7YSL",
    "outputId": "0524c3f4-4d79-4069-ee67-bc5fb35d6259"
   },
   "outputs": [
    {
     "name": "stdout",
     "output_type": "stream",
     "text": [
      "Enter a number: 95\n"
     ]
    }
   ],
   "source": [
    "def p_even_num():\n",
    "    while True:\n",
    "        num = int(input(\"Enter a number: \"))\n",
    "        if num == 95:\n",
    "            break\n",
    "        if num % 2 == 0:\n",
    "            print(num)\n",
    "p_even_num()"
   ]
  },
  {
   "cell_type": "code",
   "execution_count": 30,
   "metadata": {
    "id": "BMYS28TA8SWT"
   },
   "outputs": [
    {
     "data": {
      "text/plain": [
       "chararray(['ab', 'ab', 'ab', 'ab', 'ab'], dtype='<U2')"
      ]
     },
     "execution_count": 30,
     "metadata": {},
     "output_type": "execute_result"
    }
   ],
   "source": [
    "arr = np.chararray((5), itemsize=2, unicode=True)\n",
    "arr[:] = 'abc'\n",
    "arr"
   ]
  },
  {
   "cell_type": "code",
   "execution_count": 25,
   "metadata": {},
   "outputs": [
    {
     "data": {
      "text/plain": [
       "chararray('', dtype='<U7')"
      ]
     },
     "execution_count": 25,
     "metadata": {},
     "output_type": "execute_result"
    }
   ],
   "source": [
    "arr = np.array('ab')\n",
    "arr = np.chararray(arr.shape, itemsize=7)\n",
    "arr"
   ]
  },
  {
   "cell_type": "code",
   "execution_count": 31,
   "metadata": {},
   "outputs": [
    {
     "data": {
      "text/plain": [
       "array([[0.01278133, 0.91978702, 0.04598853, 0.57450275],\n",
       "       [0.55646294, 0.20013755, 0.607486  , 0.55266992],\n",
       "       [0.33621964, 0.52806069, 0.20780277, 0.69572639]])"
      ]
     },
     "execution_count": 31,
     "metadata": {},
     "output_type": "execute_result"
    }
   ],
   "source": [
    "np.random.rand(3,4)"
   ]
  },
  {
   "cell_type": "code",
   "execution_count": 6,
   "metadata": {},
   "outputs": [
    {
     "data": {
      "text/plain": [
       "array([3, 3, 3, 3, 3, 3, 3, 3, 3, 3])"
      ]
     },
     "execution_count": 6,
     "metadata": {},
     "output_type": "execute_result"
    }
   ],
   "source": [
    "arr = np.repeat((5,2),5)\n",
    "arr[:] = 3\n",
    "arr"
   ]
  },
  {
   "cell_type": "code",
   "execution_count": 7,
   "metadata": {},
   "outputs": [
    {
     "data": {
      "text/plain": [
       "array([[0, 1, 2, 3, 4],\n",
       "       [5, 6, 7, 8, 9]])"
      ]
     },
     "execution_count": 7,
     "metadata": {},
     "output_type": "execute_result"
    }
   ],
   "source": [
    "arr = np.array(range(10))\n",
    "arr.reshape(2,5)"
   ]
  },
  {
   "cell_type": "code",
   "execution_count": 9,
   "metadata": {},
   "outputs": [
    {
     "name": "stdout",
     "output_type": "stream",
     "text": [
      "[1 2 3 4 5]\n",
      "Flip Array:  [5 4 3 2 1]\n",
      "Orginal Array: \n",
      " [[ 0  1  2]\n",
      " [ 3  4  5]\n",
      " [ 6  7  8]\n",
      " [ 9 10 11]]\n",
      "Flip 2D Array: \n",
      " [[11 10  9]\n",
      " [ 8  7  6]\n",
      " [ 5  4  3]\n",
      " [ 2  1  0]]\n"
     ]
    }
   ],
   "source": [
    "array = np.array(range(1,6))\n",
    "print(array)\n",
    "flip = np.flip(array)\n",
    "print(\"Flip Array: \",flip)\n",
    "\n",
    "# 2D array\n",
    "array1 = np.arange(12).reshape(4,3)\n",
    "print(\"Orginal Array: \\n\",array1)\n",
    "print(\"Flip 2D Array: \\n\",np.flip(array1))"
   ]
  },
  {
   "cell_type": "code",
   "execution_count": 11,
   "metadata": {},
   "outputs": [
    {
     "name": "stdout",
     "output_type": "stream",
     "text": [
      "Maximun no of array: 11\n",
      "Minimum no of array: 0\n"
     ]
    }
   ],
   "source": [
    "# Find mean and max form the array\n",
    "array2 = np.arange(12).reshape(4,3)\n",
    "print(f\"Maximun no of array: {np.max(array2)}\")\n",
    "print(f\"Minimum no of array: {np.min(array2)}\")"
   ]
  },
  {
   "cell_type": "code",
   "execution_count": 13,
   "metadata": {},
   "outputs": [
    {
     "name": "stdout",
     "output_type": "stream",
     "text": [
      "[[ 0  1  2]\n",
      " [ 3  4  5]\n",
      " [ 6  7  8]\n",
      " [ 9 10 11]]\n",
      "Multiply each element with specific no: [[ 0  2  4]\n",
      " [ 6  8 10]\n",
      " [12 14 16]\n",
      " [18 20 22]]\n"
     ]
    }
   ],
   "source": [
    "# Multiply each element with specific no\n",
    "array3 = np.arange(12).reshape(4,3)\n",
    "print(array3)\n",
    "\n",
    "print(\"Multiply each element with specific no:\",array3*2)"
   ]
  },
  {
   "cell_type": "code",
   "execution_count": 14,
   "metadata": {},
   "outputs": [
    {
     "name": "stdout",
     "output_type": "stream",
     "text": [
      "[[ 0  1  2]\n",
      " [ 3  4  5]\n",
      " [ 6  7  8]\n",
      " [ 9 10 11]]\n"
     ]
    }
   ],
   "source": [
    "array4 = np.arange(12)\n",
    "reshape = np.reshape(array4,(4,3))\n",
    "print(reshape)"
   ]
  },
  {
   "cell_type": "code",
   "execution_count": 10,
   "metadata": {},
   "outputs": [
    {
     "name": "stdout",
     "output_type": "stream",
     "text": [
      "[0 1 2 3 4 5 6 7 8 9]\n",
      "[False False False False False  True  True  True  True  True]\n"
     ]
    }
   ],
   "source": [
    "# Declare  2D array with 10 element and display the element which are > 5\n",
    "array5 = np.arange(10)\n",
    "print(array5)\n",
    "#print(array5 >= 5)\n",
    "\n",
    "\n",
    "# more = array5*(array5>=5)\n",
    "# print(more[more!=0])\n",
    "\n",
    "\n",
    "# print(array5[array5>5])"
   ]
  },
  {
   "cell_type": "code",
   "execution_count": 34,
   "metadata": {},
   "outputs": [
    {
     "name": "stdout",
     "output_type": "stream",
     "text": [
      "0\n",
      "2\n",
      "4\n",
      "6\n",
      "8\n",
      "10\n",
      "12\n",
      "14\n"
     ]
    }
   ],
   "source": [
    "# Create 1 D array and display the even no from array\n",
    "arr = np.arange(15)\n",
    "for i in arr:\n",
    "    if i%2==0:\n",
    "        print(i)"
   ]
  },
  {
   "cell_type": "code",
   "execution_count": 35,
   "metadata": {},
   "outputs": [
    {
     "name": "stdout",
     "output_type": "stream",
     "text": [
      "[ 0  2  4  6  8 10 12 14]\n"
     ]
    }
   ],
   "source": [
    "# Create 1 D array and display the even no from array\n",
    "arr = np.arange(15)\n",
    "mylist = []\n",
    "for i in arr:\n",
    "    if i%2==0:\n",
    "        mylist.append(i)\n",
    "print(np.array(mylist))"
   ]
  },
  {
   "cell_type": "code",
   "execution_count": 37,
   "metadata": {},
   "outputs": [
    {
     "data": {
      "text/plain": [
       "array([ 0,  2,  4,  6,  8, 10, 12, 14])"
      ]
     },
     "execution_count": 37,
     "metadata": {},
     "output_type": "execute_result"
    }
   ],
   "source": [
    "arr[arr%2==0]"
   ]
  },
  {
   "cell_type": "code",
   "execution_count": 45,
   "metadata": {},
   "outputs": [
    {
     "data": {
      "text/plain": [
       "array([  8, 100])"
      ]
     },
     "execution_count": 45,
     "metadata": {},
     "output_type": "execute_result"
    }
   ],
   "source": [
    "arr1 = np.array([1,145,11,8,91,100])\n",
    "even = arr1[arr1 %2!=1]\n",
    "even"
   ]
  },
  {
   "cell_type": "code",
   "execution_count": 46,
   "metadata": {},
   "outputs": [
    {
     "data": {
      "text/plain": [
       "(array([0, 1], dtype=int64),)"
      ]
     },
     "execution_count": 46,
     "metadata": {},
     "output_type": "execute_result"
    }
   ],
   "source": [
    "# Find index location\n",
    "np.where(even)"
   ]
  },
  {
   "cell_type": "code",
   "execution_count": 17,
   "metadata": {},
   "outputs": [
    {
     "name": "stdout",
     "output_type": "stream",
     "text": [
      "[0 1 2 3 4 5]\n",
      "(array([1, 2], dtype=int64),)\n"
     ]
    }
   ],
   "source": [
    "arr = np.array(range(6))\n",
    "\n",
    "print(arr)\n",
    "print(np.where(arr[arr%2==0]))"
   ]
  },
  {
   "cell_type": "code",
   "execution_count": 58,
   "metadata": {},
   "outputs": [
    {
     "data": {
      "text/plain": [
       "6"
      ]
     },
     "execution_count": 58,
     "metadata": {},
     "output_type": "execute_result"
    }
   ],
   "source": [
    "x = np.array(range(12)).reshape(3,4)\n",
    "x[1,2]"
   ]
  },
  {
   "cell_type": "code",
   "execution_count": null,
   "metadata": {},
   "outputs": [],
   "source": [
    "np.char.add()"
   ]
  }
 ],
 "metadata": {
  "colab": {
   "provenance": []
  },
  "kernelspec": {
   "display_name": "Python 3 (ipykernel)",
   "language": "python",
   "name": "python3"
  },
  "language_info": {
   "codemirror_mode": {
    "name": "ipython",
    "version": 3
   },
   "file_extension": ".py",
   "mimetype": "text/x-python",
   "name": "python",
   "nbconvert_exporter": "python",
   "pygments_lexer": "ipython3",
   "version": "3.11.5"
  }
 },
 "nbformat": 4,
 "nbformat_minor": 1
}

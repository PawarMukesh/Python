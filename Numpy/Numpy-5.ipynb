{
 "cells": [
  {
   "cell_type": "markdown",
   "id": "d2b0efd6",
   "metadata": {},
   "source": [
    "### IMPORT NECESSARY LIBRARY"
   ]
  },
  {
   "cell_type": "code",
   "execution_count": 10,
   "id": "c477418d",
   "metadata": {},
   "outputs": [],
   "source": [
    "import numpy as np"
   ]
  },
  {
   "cell_type": "markdown",
   "id": "5e766c1d",
   "metadata": {},
   "source": [
    "# Q 1. Write a Numpy porgram to find the dot product of two arrays of different dimensions "
   ]
  },
  {
   "cell_type": "code",
   "execution_count": 1,
   "id": "c7105623",
   "metadata": {},
   "outputs": [
    {
     "name": "stdout",
     "output_type": "stream",
     "text": [
      "First Array:\n",
      "[[1 2 3]\n",
      " [4 5 6]]\n",
      "Second Array: [7 8 9]\n",
      "Dot product of two array of different dimensions : [ 50 122]\n"
     ]
    }
   ],
   "source": [
    "# Import the library numpy \n",
    "import numpy as np \n",
    "\n",
    "# Create the two array with different dimensions \n",
    "array1 = np.array([[1,2,3],[4,5,6]])\n",
    "array2 = np.array([7,8,9])\n",
    "\n",
    "# Dot product of two arrays \n",
    "product = np.dot(array1,array2)\n",
    "\n",
    "# Display the result\n",
    "print(\"First Array:\")\n",
    "print(array1)\n",
    "print(\"Second Array:\", array2)\n",
    "print(\"Dot product of two array of different dimensions :\", product)"
   ]
  },
  {
   "cell_type": "markdown",
   "id": "6ed4ab12",
   "metadata": {},
   "source": [
    "# Q 2. Write a Numpy porgram to create a 3x3 array with random values and subtract the mean of each row from each element "
   ]
  },
  {
   "cell_type": "code",
   "execution_count": 8,
   "id": "28af583d",
   "metadata": {},
   "outputs": [
    {
     "name": "stdout",
     "output_type": "stream",
     "text": [
      "[[0.85197032 0.9028181  0.56647311]\n",
      " [0.83731562 0.76630492 0.23166484]\n",
      " [0.13853835 0.22346439 0.65342756]]\n",
      "Mean of each row :\n",
      "[[0.77375384]\n",
      " [0.61176179]\n",
      " [0.33847676]]\n",
      "Subtraction :\n",
      "[[-0.07821647 -0.12906426  0.20728073]\n",
      " [-0.22555383 -0.15454313  0.38009695]\n",
      " [ 0.19993842  0.11501238 -0.31495079]]\n"
     ]
    }
   ],
   "source": [
    "# Import the library Numpy \n",
    "import numpy as np\n",
    "\n",
    "# Create the 3x3 arrray with random values \n",
    "random_array = np.random.rand(3,3)\n",
    "\n",
    "# Display the array\n",
    "print(random_array)\n",
    "\n",
    "#Calculate the mean of each row \n",
    "row_mean = np.mean(random_array, axis = 1 , keepdims= True)\n",
    "\n",
    "# Subtraction the mean of each row from each element\n",
    "result_array= np.subtract(row_mean, random_array)\n",
    "\n",
    "# Display the result \n",
    "print(\"Mean of each row :\")\n",
    "print(row_mean)\n",
    "print(\"Subtraction :\")\n",
    "print(result_array)"
   ]
  },
  {
   "cell_type": "markdown",
   "id": "99e65ad0",
   "metadata": {},
   "source": [
    "# Q 3. Write a Numpy program to create a 5x5 array with random values and replace the minimum value with 0."
   ]
  },
  {
   "cell_type": "code",
   "execution_count": 12,
   "id": "83ade23b",
   "metadata": {},
   "outputs": [
    {
     "name": "stdout",
     "output_type": "stream",
     "text": [
      "Random Array :\n",
      "[[0.79266565 0.52139344 0.61414906 0.50129774 0.03037045]\n",
      " [0.034066   0.87496245 0.76271316 0.17861621 0.35178689]\n",
      " [0.59269285 0.5383442  0.8032234  0.16101401 0.51597769]\n",
      " [0.12979399 0.91513984 0.79092355 0.04195913 0.38010666]\n",
      " [0.41373706 0.23594297 0.27842459 0.65272461 0.44629704]]\n",
      "Minimun values: 0.030370448646427017\n",
      "Replace the minmum valus with 0 :\n",
      "[[0.79266565 0.52139344 0.61414906 0.50129774 0.        ]\n",
      " [0.034066   0.87496245 0.76271316 0.17861621 0.35178689]\n",
      " [0.59269285 0.5383442  0.8032234  0.16101401 0.51597769]\n",
      " [0.12979399 0.91513984 0.79092355 0.04195913 0.38010666]\n",
      " [0.41373706 0.23594297 0.27842459 0.65272461 0.44629704]]\n"
     ]
    }
   ],
   "source": [
    "# Import the library numpy \n",
    "import numpy as np \n",
    "\n",
    "# Create the 5x5 array with random values \n",
    "random_array = np.random.rand(5,5)\n",
    "\n",
    "# Display the array \n",
    "print(\"Random Array :\")\n",
    "print(random_array)\n",
    "\n",
    "#Find the minimum values \n",
    "min_value = np.min(random_array)\n",
    "\n",
    "# Dislpay the minimum values \n",
    "print(\"Minimun values:\", min_value)\n",
    "\n",
    "# Replace the minimum value with 0\n",
    "# Using the for loop\n",
    "for i in range(5):\n",
    "    for j in range(5):\n",
    "        if random_array[i, j ]== min_value:\n",
    "            random_array[i,j]=0\n",
    "            \n",
    "# Display the result\n",
    "print(\"Replace the minmum valus with 0 :\")\n",
    "print(random_array)"
   ]
  },
  {
   "cell_type": "code",
   "execution_count": 13,
   "id": "08d6edcc",
   "metadata": {},
   "outputs": [
    {
     "name": "stdout",
     "output_type": "stream",
     "text": [
      "Random Array :\n",
      "[[0.46099486 0.88546256 0.45100435 0.19321372 0.93942344]\n",
      " [0.32685317 0.52970919 0.55913316 0.11155585 0.04796022]\n",
      " [0.94073049 0.29761695 0.33750476 0.50045314 0.72724324]\n",
      " [0.35704569 0.88458973 0.3445261  0.51435986 0.21091235]\n",
      " [0.59481948 0.56190983 0.53370486 0.1512671  0.83831283]]\n",
      "Minimun values: 0.04796021648334303\n",
      "Replace the minmum valus with 0 :\n",
      "[[0.46099486 0.88546256 0.45100435 0.19321372 0.93942344]\n",
      " [0.32685317 0.52970919 0.55913316 0.11155585 0.        ]\n",
      " [0.94073049 0.29761695 0.33750476 0.50045314 0.72724324]\n",
      " [0.35704569 0.88458973 0.3445261  0.51435986 0.21091235]\n",
      " [0.59481948 0.56190983 0.53370486 0.1512671  0.83831283]]\n"
     ]
    }
   ],
   "source": [
    "# Import the library numpy \n",
    "import numpy as np \n",
    "\n",
    "# Create the 5x5 array with random values \n",
    "random_array = np.random.rand(5,5)\n",
    "\n",
    "# Display the array \n",
    "print(\"Random Array :\")\n",
    "print(random_array)\n",
    "\n",
    "#Find the minimum values \n",
    "min_value = np.min(random_array)\n",
    "\n",
    "# Dislpay the minimum values \n",
    "print(\"Minimun values:\", min_value)\n",
    "\n",
    "# Replace the minimum value with 0\n",
    "random_array[random_array == min_value]=0\n",
    "            \n",
    "# Display the result\n",
    "print(\"Replace the minmum valus with 0 :\")\n",
    "print(random_array)"
   ]
  },
  {
   "cell_type": "markdown",
   "id": "635de12b",
   "metadata": {},
   "source": [
    "# Q 4. Write a Numpy program to repeat all the elements three times of a given array of string "
   ]
  },
  {
   "cell_type": "code",
   "execution_count": 15,
   "id": "9265a612",
   "metadata": {},
   "outputs": [
    {
     "name": "stdout",
     "output_type": "stream",
     "text": [
      "Strig Array:\n",
      "['Apple' 'Banana' 'Mango' 'Orange']\n",
      "Repeat Array all elements three times :\n",
      "['Apple' 'Apple' 'Apple' 'Banana' 'Banana' 'Banana' 'Mango' 'Mango'\n",
      " 'Mango' 'Orange' 'Orange' 'Orange']\n"
     ]
    }
   ],
   "source": [
    "# Import the library numpy \n",
    "import numpy as np\n",
    "\n",
    "# Create the array of string \n",
    "string_array = np.array([\"Apple\", \"Banana\", \"Mango\", \"Orange\"])\n",
    "\n",
    "# Display the array \n",
    "print(\"Strig Array:\")\n",
    "print(string_array)\n",
    "\n",
    "# Repeat all the elements three times of a given array of string\n",
    "repeat_array = np.repeat(string_array,3)\n",
    "\n",
    "#Display the repeat array\n",
    "print(\"Repeat Array all elements three times :\")\n",
    "print(repeat_array)\n",
    "\n"
   ]
  },
  {
   "cell_type": "markdown",
   "id": "46229cf7",
   "metadata": {},
   "source": [
    "# Q 5. Write a NUmpy program to insert a space between character of all the elements of a given array."
   ]
  },
  {
   "cell_type": "code",
   "execution_count": 21,
   "id": "ed9266f3",
   "metadata": {},
   "outputs": [
    {
     "name": "stdout",
     "output_type": "stream",
     "text": [
      "Array :\n",
      "['Apple' 'Banana' 'Mango' 'Orange']\n",
      "A space between character of all elements of a given array:\n",
      "['A p p l e' 'B a n a n a' 'M a n g o' 'O r a n g e']\n"
     ]
    }
   ],
   "source": [
    "# Import the library numpy \n",
    "import numpy as np \n",
    "\n",
    "# Create the array of string\n",
    "array = np.array([\"Apple\", \"Banana\", \"Mango\", \"Orange\"])\n",
    "\n",
    "# Display the array\n",
    "print(\"Array :\")\n",
    "print(array)\n",
    "\n",
    "# To insert a space between character of all elements of a given array\n",
    "space_character_array = np.array([' '.join(list(word)) for word in array])\n",
    "\n",
    "# Display the array \n",
    "print(\"A space between character of all elements of a given array:\")\n",
    "print(space_character_array)"
   ]
  },
  {
   "cell_type": "markdown",
   "id": "bd205a75",
   "metadata": {},
   "source": [
    "# Q 6. Write a Numpy program to count the lowest index of \"P\" in a given array, element-wise.\n",
    "\n",
    "    Original Array:\n",
    "                    ['Python' 'PHP' 'JS''EXAMPLES' 'HTML']\n",
    "                    \n",
    "    count the lowest index of 'P':\n",
    "                        [0 0 -1 4 -1]"
   ]
  },
  {
   "cell_type": "code",
   "execution_count": 25,
   "id": "e85cc1e9",
   "metadata": {},
   "outputs": [
    {
     "name": "stdout",
     "output_type": "stream",
     "text": [
      "Original Array: ['Python' 'PHP' 'JS' 'EXAMPLES' 'HTML']\n",
      "Count the lowest index of P: [ 0  0 -1  4 -1]\n"
     ]
    }
   ],
   "source": [
    "# Import the library numpy \n",
    "import numpy as np\n",
    "\n",
    "# Original array \n",
    "original_array = np.array([\"Python\", \"PHP\",\"JS\",\"EXAMPLES\",\"HTML\"])\n",
    "\n",
    "# Display the original array \n",
    "print(\"Original Array:\", original_array)\n",
    "\n",
    "# Count the lowest index of \"P\" in a given array \n",
    "lowest_index = np.char.find(original_array, 'P')\n",
    "\n",
    "# Display the count the lowest index of \"P\"\n",
    "print(\"Count the lowest index of P:\", lowest_index)"
   ]
  },
  {
   "cell_type": "markdown",
   "id": "292064d5",
   "metadata": {},
   "source": [
    "# Q 7. Write a Numpy program to compute the mean, standard deviation and variance of a array "
   ]
  },
  {
   "cell_type": "code",
   "execution_count": 31,
   "id": "057f61ad",
   "metadata": {},
   "outputs": [
    {
     "name": "stdout",
     "output_type": "stream",
     "text": [
      "Array:\n",
      "[[1 2 3]\n",
      " [4 5 6]\n",
      " [7 8 9]]\n",
      "Mean of the array: 5.0\n",
      "Standard Deviation of the array: 2.581988897471611\n",
      "Variance of the array : 6.666666666666667\n"
     ]
    }
   ],
   "source": [
    "# Import the library numpy \n",
    "import numpy as np\n",
    "\n",
    "# Create the array \n",
    "array = np.array([[1,2,3],[4,5,6],[7,8,9]])\n",
    "\n",
    "# Display the array \n",
    "print(\"Array:\")\n",
    "print(array)\n",
    "\n",
    "# Calculate the mean of given array\n",
    "mean_array = np.mean(array)\n",
    "\n",
    "# Display the mean of array\n",
    "print(\"Mean of the array:\", mean_array)\n",
    "\n",
    "# Calculate the standard deviation of given array\n",
    "std_array = np.std(array)\n",
    "\n",
    "# Display the standard deviation of array ]\n",
    "print(\"Standard Deviation of the array:\", std_array)\n",
    "\n",
    "# Calculate the variance of given array\n",
    "variance_array = np.var(array)\n",
    "\n",
    "# Display the variacne of array \n",
    "print(\"Variance of the array :\",variance_array )"
   ]
  },
  {
   "cell_type": "markdown",
   "id": "f3b57704",
   "metadata": {},
   "source": [
    "# Q 8. Create a 1D array with values ranging from 0 to 9."
   ]
  },
  {
   "cell_type": "code",
   "execution_count": 33,
   "id": "8e7011db",
   "metadata": {},
   "outputs": [
    {
     "name": "stdout",
     "output_type": "stream",
     "text": [
      "[0 1 2 3 4 5 6 7 8 9]\n"
     ]
    }
   ],
   "source": [
    "# Import the library numpy \n",
    "import numpy as np\n",
    "\n",
    "# Create the 1D array \n",
    "array = np.arange(0,10)\n",
    "\n",
    "# Display the array\n",
    "print(array)"
   ]
  },
  {
   "cell_type": "markdown",
   "id": "8b9a6cbd",
   "metadata": {},
   "source": [
    "# Q 9.Extract all odd numbers from an array of 1-10.\n"
   ]
  },
  {
   "cell_type": "code",
   "execution_count": 1,
   "id": "efa72292",
   "metadata": {},
   "outputs": [
    {
     "name": "stdout",
     "output_type": "stream",
     "text": [
      "[1, 3, 5, 7, 9]\n"
     ]
    }
   ],
   "source": [
    "arr = range(1, 11)\n",
    "odds = [num for num in arr if num % 2 != 0]\n",
    "print(odds) "
   ]
  },
  {
   "cell_type": "markdown",
   "id": "e003b4f8",
   "metadata": {},
   "source": [
    "# Q 10.Calculate the sum of the diagonal elements of a 3x3 matrix."
   ]
  },
  {
   "cell_type": "code",
   "execution_count": 2,
   "id": "98971d64",
   "metadata": {},
   "outputs": [
    {
     "name": "stdout",
     "output_type": "stream",
     "text": [
      "15\n"
     ]
    }
   ],
   "source": [
    "matrix = [[1, 2, 3], [4, 5, 6], [7, 8, 9]]\n",
    "sum_diagonal = matrix[0][0] + matrix[1][1] + matrix[2][2]\n",
    "print(sum_diagonal)"
   ]
  },
  {
   "cell_type": "markdown",
   "id": "c2be93be",
   "metadata": {},
   "source": [
    "# Q 11.Create a 3x3 identity matrix."
   ]
  },
  {
   "cell_type": "code",
   "execution_count": 6,
   "id": "2c0a6499",
   "metadata": {},
   "outputs": [
    {
     "data": {
      "text/plain": [
       "[[1, 0, 0], [0, 1, 0], [0, 0, 1]]"
      ]
     },
     "execution_count": 6,
     "metadata": {},
     "output_type": "execute_result"
    }
   ],
   "source": [
    "matrix = [[1 if i == j else 0 for j in range(3)] for i in range(3)]\n",
    "matrix"
   ]
  },
  {
   "cell_type": "markdown",
   "id": "214567fc",
   "metadata": {},
   "source": [
    "# Q 12.Find the index of the maximum value in a 1 D array."
   ]
  },
  {
   "cell_type": "code",
   "execution_count": 7,
   "id": "d2da4691",
   "metadata": {},
   "outputs": [
    {
     "name": "stdout",
     "output_type": "stream",
     "text": [
      "3\n"
     ]
    }
   ],
   "source": [
    "arr = [4, 7, 2, 9, 1]\n",
    "max_value = max(arr)\n",
    "max_index = arr.index(max_value)\n",
    "print(max_index)"
   ]
  },
  {
   "cell_type": "markdown",
   "id": "1a2bc1e2",
   "metadata": {},
   "source": [
    "# Q 13.Count the number of occurrences of a specific value in an array,"
   ]
  },
  {
   "cell_type": "code",
   "execution_count": 8,
   "id": "6813d7df",
   "metadata": {},
   "outputs": [
    {
     "name": "stdout",
     "output_type": "stream",
     "text": [
      "3\n"
     ]
    }
   ],
   "source": [
    "arr = [3, 2, 4, 3, 5, 3]\n",
    "value = 3\n",
    "count = 0\n",
    "for num in arr:\n",
    "    if num == value:\n",
    "        count += 1\n",
    "print(count)"
   ]
  },
  {
   "cell_type": "markdown",
   "id": "ada92c53",
   "metadata": {},
   "source": [
    "# Q 14. Replace all negative values in an array with 0"
   ]
  },
  {
   "cell_type": "code",
   "execution_count": 9,
   "id": "f84b6d77",
   "metadata": {},
   "outputs": [
    {
     "name": "stdout",
     "output_type": "stream",
     "text": [
      "[0, 2, 0, 4, 0]\n"
     ]
    }
   ],
   "source": [
    "arr = [-1, 2, -3, 4, -5]\n",
    "for i in range(len(arr)):\n",
    "    if arr[i] < 0:\n",
    "        arr[i] = 0\n",
    "print(arr)"
   ]
  },
  {
   "cell_type": "markdown",
   "id": "04feb3d5",
   "metadata": {},
   "source": [
    "# Q 15.Create a random 2x2 matrix and compute its determinant"
   ]
  },
  {
   "cell_type": "code",
   "execution_count": 11,
   "id": "aa133ccd",
   "metadata": {},
   "outputs": [
    {
     "name": "stdout",
     "output_type": "stream",
     "text": [
      "0.07384032961317487\n"
     ]
    }
   ],
   "source": [
    "matrix = np.random.rand(2, 2)\n",
    "determinant = np.linalg.det(matrix)\n",
    "print(determinant)"
   ]
  },
  {
   "cell_type": "markdown",
   "id": "be108d4a",
   "metadata": {},
   "source": [
    "# Q 16.Calculate the square root of each element in a 1D array"
   ]
  },
  {
   "cell_type": "code",
   "execution_count": 12,
   "id": "d93587ab",
   "metadata": {},
   "outputs": [
    {
     "name": "stdout",
     "output_type": "stream",
     "text": [
      "[3. 2. 4.]\n"
     ]
    }
   ],
   "source": [
    "arr = [9, 4, 16]\n",
    "sqrt_arr = np.sqrt(arr)\n",
    "print(sqrt_arr)"
   ]
  },
  {
   "cell_type": "markdown",
   "id": "ef2a1082",
   "metadata": {},
   "source": [
    "# Q 17.Calculate the element-wise absolute values of an array"
   ]
  },
  {
   "cell_type": "code",
   "execution_count": 13,
   "id": "6d7ba76b",
   "metadata": {},
   "outputs": [
    {
     "name": "stdout",
     "output_type": "stream",
     "text": [
      "[1, 2, 3, 4]\n"
     ]
    }
   ],
   "source": [
    "arr = [-1, -2, 3, 4]\n",
    "absolute_values = [abs(num) for num in arr]\n",
    "print(absolute_values)"
   ]
  },
  {
   "cell_type": "markdown",
   "id": "56daa440",
   "metadata": {},
   "source": [
    "# Q 18.Compute the inverse of a 2x2 matrix"
   ]
  },
  {
   "cell_type": "code",
   "execution_count": 14,
   "id": "b8b0b83d",
   "metadata": {},
   "outputs": [
    {
     "name": "stdout",
     "output_type": "stream",
     "text": [
      "[[-1.  1.]\n",
      " [ 3. -2.]]\n"
     ]
    }
   ],
   "source": [
    "matrix = [[2, 1], [3, 1]]\n",
    "inverse = np.linalg.inv(matrix)\n",
    "print(inverse)"
   ]
  },
  {
   "cell_type": "markdown",
   "id": "dfad739b",
   "metadata": {},
   "source": [
    "# Q 19. Find the correlation coefficient between two arrays"
   ]
  },
  {
   "cell_type": "code",
   "execution_count": 15,
   "id": "d6fb01c0",
   "metadata": {},
   "outputs": [
    {
     "name": "stdout",
     "output_type": "stream",
     "text": [
      "0.2773500981126146\n"
     ]
    }
   ],
   "source": [
    "arr1 = [1, 2, 3, 4, 5]\n",
    "arr2 = [2, 4, 5, 4, 3]\n",
    "correlation = np.corrcoef(arr1, arr2)[0, 1]\n",
    "print(correlation)"
   ]
  },
  {
   "cell_type": "markdown",
   "id": "03beed6f",
   "metadata": {},
   "source": [
    "# Q 20.Create a 1D array and remove all duplicate values"
   ]
  },
  {
   "cell_type": "code",
   "execution_count": 16,
   "id": "e14e3937",
   "metadata": {},
   "outputs": [
    {
     "name": "stdout",
     "output_type": "stream",
     "text": [
      "[2, 1, 4, 3, 1, 5]\n",
      "[2, 1, 4, 3, 5]\n"
     ]
    }
   ],
   "source": [
    "arr = [2, 1, 4, 3, 1, 5]\n",
    "seen = set()\n",
    "unique_values = []\n",
    "for num in arr:\n",
    "    if num not in seen:\n",
    "        seen.add(num)\n",
    "        unique_values.append(num)\n",
    "print(arr)\n",
    "print(unique_values)"
   ]
  },
  {
   "cell_type": "markdown",
   "id": "462b270b",
   "metadata": {},
   "source": [
    "# Q 21.Create a 2D array and set all values above a certain threshold to that threshold, Threshold=0.5. (Create A random Array)"
   ]
  },
  {
   "cell_type": "code",
   "execution_count": 17,
   "id": "53e4f9a0",
   "metadata": {},
   "outputs": [
    {
     "name": "stdout",
     "output_type": "stream",
     "text": [
      "[[0.5        0.5        0.03394248 0.22427763]\n",
      " [0.5        0.5        0.5        0.46138058]\n",
      " [0.5        0.5        0.10513225 0.23828303]]\n"
     ]
    }
   ],
   "source": [
    "array_2d = np.random.rand(3, 4)\n",
    "threshold = 0.5\n",
    "array_2d[array_2d > threshold] = threshold\n",
    "print(array_2d)"
   ]
  },
  {
   "cell_type": "markdown",
   "id": "75322008",
   "metadata": {},
   "source": [
    "# Q 22.Create a 1 D array and set the values between 10 and 20 to 0"
   ]
  },
  {
   "cell_type": "code",
   "execution_count": 18,
   "id": "621b66ab",
   "metadata": {},
   "outputs": [
    {
     "name": "stdout",
     "output_type": "stream",
     "text": [
      "[ 4  6  2  0 23 22  9 25  0  8]\n"
     ]
    }
   ],
   "source": [
    "array_1d = np.random.randint(0, 30, 10)\n",
    "array_1d[(array_1d >= 10) & (array_1d <= 20)] = 0\n",
    "print(array_1d)"
   ]
  },
  {
   "cell_type": "markdown",
   "id": "9fc1ebf8",
   "metadata": {},
   "source": [
    "# Q 23.Create a 1 D array and append a new element to the end."
   ]
  },
  {
   "cell_type": "code",
   "execution_count": 20,
   "id": "7aaf981f",
   "metadata": {},
   "outputs": [
    {
     "name": "stdout",
     "output_type": "stream",
     "text": [
      "[ 0  1  2  3  4  5  6  7  8  9 42]\n"
     ]
    }
   ],
   "source": [
    "arr = np.arange(10)\n",
    "new_arr = np.append(arr, 42)\n",
    "print(new_arr)"
   ]
  },
  {
   "cell_type": "markdown",
   "id": "d01d1c35",
   "metadata": {},
   "source": [
    "# Q 24.Calculate the element-wise absolute difference between two arrays"
   ]
  },
  {
   "cell_type": "code",
   "execution_count": 21,
   "id": "8ec5aa83",
   "metadata": {},
   "outputs": [
    {
     "name": "stdout",
     "output_type": "stream",
     "text": [
      "[0.54229745 0.87723695 0.32058754 0.45857516 0.41838744]\n"
     ]
    }
   ],
   "source": [
    "array_a = np.random.rand(5)\n",
    "array_b = np.random.rand(5)\n",
    "abs_diff = np.abs(array_a - array_b)\n",
    "print(abs_diff)"
   ]
  },
  {
   "cell_type": "markdown",
   "id": "97971f34",
   "metadata": {},
   "source": [
    "# Q 25.Convert the elements of a 1 D array to strings"
   ]
  },
  {
   "cell_type": "code",
   "execution_count": 22,
   "id": "1004b81b",
   "metadata": {},
   "outputs": [
    {
     "name": "stdout",
     "output_type": "stream",
     "text": [
      "['0' '1' '2' '3' '4' '5' '6' '7' '8' '9' '42']\n"
     ]
    }
   ],
   "source": [
    "string_array = new_arr.astype(str)\n",
    "print(string_array)"
   ]
  },
  {
   "cell_type": "markdown",
   "id": "caf6cbe4",
   "metadata": {},
   "source": [
    "# Q 26.Check if all elements in a 1 D array are non-zero"
   ]
  },
  {
   "cell_type": "code",
   "execution_count": 23,
   "id": "9657e8c6",
   "metadata": {},
   "outputs": [
    {
     "name": "stdout",
     "output_type": "stream",
     "text": [
      "False\n"
     ]
    }
   ],
   "source": [
    "are_non_zero = np.all(new_arr != 0)\n",
    "print(are_non_zero)"
   ]
  },
  {
   "cell_type": "markdown",
   "id": "b84f5084",
   "metadata": {},
   "source": [
    "# Q 27.Calculate the pairwise Euclidean distance between two arrays.\n"
   ]
  },
  {
   "cell_type": "code",
   "execution_count": 27,
   "id": "f83be23f",
   "metadata": {},
   "outputs": [
    {
     "name": "stdout",
     "output_type": "stream",
     "text": [
      "0.4970524056819988\n"
     ]
    }
   ],
   "source": [
    "array_b = np.random.rand(3) \n",
    "array_c = np.random.rand(3)\n",
    "euclidean_distance = np.linalg.norm(array_b - array_c)\n",
    "print(euclidean_distance)"
   ]
  },
  {
   "cell_type": "markdown",
   "id": "e1acc01b",
   "metadata": {},
   "source": [
    "# Q 28.Create an 1D array and set the values between the 25th and 75th percentile T0 0.\n"
   ]
  },
  {
   "cell_type": "code",
   "execution_count": 28,
   "id": "dff34176",
   "metadata": {},
   "outputs": [
    {
     "name": "stdout",
     "output_type": "stream",
     "text": [
      "[0.56594634 0.         0.85975543 0.         0.         0.\n",
      " 0.         0.12170384 0.04448271 0.         0.         0.07749581\n",
      " 0.         0.         0.96820383 0.02974669 0.98689612 0.\n",
      " 0.89423553 0.04288587]\n"
     ]
    }
   ],
   "source": [
    "array_1d_percentile = np.random.rand(20)\n",
    "percentile_25, percentile_75 = np.percentile(array_1d_percentile, [25, 75])\n",
    "array_1d_percentile[(array_1d_percentile >= percentile_25) & (array_1d_percentile <= percentile_75)] = 0\n",
    "print(array_1d_percentile)"
   ]
  },
  {
   "cell_type": "markdown",
   "id": "a1bf6201",
   "metadata": {},
   "source": [
    "--------------------------------------------------------------------------------------------- THANK YOU -----------------------------------------------------------------------------------"
   ]
  }
 ],
 "metadata": {
  "kernelspec": {
   "display_name": "Python 3 (ipykernel)",
   "language": "python",
   "name": "python3"
  },
  "language_info": {
   "codemirror_mode": {
    "name": "ipython",
    "version": 3
   },
   "file_extension": ".py",
   "mimetype": "text/x-python",
   "name": "python",
   "nbconvert_exporter": "python",
   "pygments_lexer": "ipython3",
   "version": "3.12.4"
  }
 },
 "nbformat": 4,
 "nbformat_minor": 5
}

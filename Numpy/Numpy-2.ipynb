{
 "cells": [
  {
   "cell_type": "code",
   "execution_count": null,
   "id": "8c95d15a",
   "metadata": {},
   "outputs": [],
   "source": [
    "\"\"\" \n",
    "1. Create Two Array Perform 1. Addition using operator 2. Addition using function\n",
    "2 Create Two Array Perform 1. Subtraction using operator 2. Subtraction using function\n",
    "3. Create Two Array Perform 1, Multiplication using operator 2, Muftiplication using function\n",
    "4. Create Two Array Perform 1. Division using operator 2. Division using function\n",
    "5. Create Two Array Perform 1. Exponentiation using operator 2. Exponentiation using\n",
    "function\n",
    "6. Create Two Array Perform 1. Modulus using operator 2. Modulus using function\n",
    "7. Create & 1D array, Convert 1D array into a 2D array, transpose the 2D array.\n",
    "8. Create an Array with datalype as float, round the array to two decimal places.\n",
    "9, create a 1D array with 5 elements, calculate the median\n",
    "10, create a 1D array with 6 elements, calculate the median\n",
    "11 create a 2D array \n",
    "  1. compute median along horizontal axis.\n",
    "  2. compute median along vertical axis\n",
    "  3. compute median of entire array\n",
    "12. Create a array with element as Student Marks, compute the mean of marks\n",
    "11. create a 2D array \n",
    "  1. compute Mean along horizontal axis.\n",
    "  2, compute Mean along vertical axis\n",
    "  3. compute Mean of entire array\n",
    "14. Create a array with element as Student Marks, compute the Standard Deviation of marks.\n",
    "15. create a 2D array \n",
    "   1, compute Standard Deviation along horizontal axis.\n",
    "   2. compute Standard Deviation along vertical axis\n",
    "   3. compute Standard Deviation of entire array\n",
    "16. Create an array and find minimum and maximum value of array \"\"\""
   ]
  },
  {
   "cell_type": "code",
   "execution_count": 1,
   "id": "11f37f38",
   "metadata": {},
   "outputs": [],
   "source": [
    "import numpy as np"
   ]
  },
  {
   "cell_type": "markdown",
   "id": "e5708bee",
   "metadata": {},
   "source": [
    "#### 1. Create Two Array Perform \n",
    "* 1. Addition using operator \n",
    "* 2. Addition using function"
   ]
  },
  {
   "cell_type": "code",
   "execution_count": 5,
   "id": "e85f82f3",
   "metadata": {},
   "outputs": [
    {
     "name": "stdout",
     "output_type": "stream",
     "text": [
      "Addition of two array using operator:[11 15 19 23 27]\n",
      "Addition of two array using function:[11 15 19 23 27]\n"
     ]
    }
   ],
   "source": [
    "array1 = np.arange(10,20,2)\n",
    "array2 = np.arange(1,10,2)\n",
    "print(f\"Addition of two array using operator:{array1+array2}\")\n",
    "print(f\"Addition of two array using function:{np.add(array1,array2)}\")"
   ]
  },
  {
   "cell_type": "markdown",
   "id": "6e716bb7",
   "metadata": {},
   "source": [
    "#### 2 Create Two Array Perform \n",
    "* 1. Subtraction using operator \n",
    "* 2. Subtraction using function"
   ]
  },
  {
   "cell_type": "code",
   "execution_count": 10,
   "id": "9fd00f40",
   "metadata": {},
   "outputs": [
    {
     "name": "stdout",
     "output_type": "stream",
     "text": [
      "Subtraction of two array using operator:\n",
      "[101 111 121 131 141 151 161 171 181 191 201 211 221 231 241 251 261 271\n",
      " 281 291]\n",
      "Subtraction of two array using function:[99 99 99 99 99 99 99 99 99 99 99 99 99 99 99 99 99 99 99 99]\n"
     ]
    }
   ],
   "source": [
    "arr1 = np.arange(100,200,5)\n",
    "arr2 = np.arange(1,100,5)\n",
    "print(f\"Subtraction of two array using operator:\\n{arr1+arr2}\")\n",
    "print(f\"Subtraction of two array using function:{np.subtract(arr1,arr2)}\")"
   ]
  },
  {
   "cell_type": "markdown",
   "id": "3ab15dcf",
   "metadata": {},
   "source": [
    "#### 3. Create Two Array Perform \n",
    "* 1, Multiplication using operator \n",
    "* 2, Muftiplication using function"
   ]
  },
  {
   "cell_type": "code",
   "execution_count": 13,
   "id": "5f0f8918",
   "metadata": {},
   "outputs": [
    {
     "name": "stdout",
     "output_type": "stream",
     "text": [
      "Multiplication of two array using operator: \n",
      "[  100   630  1210  1840  2520  3250  4030  4860  5740  6670  7650  8680\n",
      "  9760 10890 12070 13300 14580 15910 17290 18720]\n",
      "Multiplication of two array using function: \n",
      "[  100   630  1210  1840  2520  3250  4030  4860  5740  6670  7650  8680\n",
      "  9760 10890 12070 13300 14580 15910 17290 18720]\n"
     ]
    }
   ],
   "source": [
    "print(f\"Multiplication of two array using operator: \\n{arr1*arr2}\")\n",
    "print(f\"Multiplication of two array using function: \\n{np.multiply(arr1,arr2)}\")"
   ]
  },
  {
   "cell_type": "markdown",
   "id": "b9039183",
   "metadata": {},
   "source": [
    "#### 4. Create Two Array Perform \n",
    "* 1. Division using operator \n",
    "* 2. Division using function"
   ]
  },
  {
   "cell_type": "code",
   "execution_count": 15,
   "id": "fa1f2806",
   "metadata": {},
   "outputs": [
    {
     "name": "stdout",
     "output_type": "stream",
     "text": [
      "Divison of two array using operator: \n",
      "[100.          17.5         10.           7.1875       5.71428571\n",
      "   4.80769231   4.19354839   3.75         3.41463415   3.15217391\n",
      "   2.94117647   2.76785714   2.62295082   2.5          2.3943662\n",
      "   2.30263158   2.22222222   2.15116279   2.08791209   2.03125   ]\n",
      "Divison of two array using function: \n",
      "[100.          17.5         10.           7.1875       5.71428571\n",
      "   4.80769231   4.19354839   3.75         3.41463415   3.15217391\n",
      "   2.94117647   2.76785714   2.62295082   2.5          2.3943662\n",
      "   2.30263158   2.22222222   2.15116279   2.08791209   2.03125   ]\n"
     ]
    }
   ],
   "source": [
    "print(f\"Divison of two array using operator: \\n{arr1/arr2}\")\n",
    "print(f\"Divison of two array using function: \\n{np.divide(arr1,arr2)}\")"
   ]
  },
  {
   "cell_type": "markdown",
   "id": "ae5f74d3",
   "metadata": {},
   "source": [
    "#### 5. Create Two Array Perform \n",
    "* 1. Exponentiation using operator \n",
    "* 2. Exponentiation using\n",
    "function"
   ]
  },
  {
   "cell_type": "code",
   "execution_count": 17,
   "id": "17162d30",
   "metadata": {},
   "outputs": [
    {
     "name": "stdout",
     "output_type": "stream",
     "text": [
      "Exponenation of two array using operator: \n",
      "[      2      64    7776 2097152]\n",
      "Exponenation of two array using function: \n",
      "[      2      64    7776 2097152]\n"
     ]
    }
   ],
   "source": [
    "arr3 = np.array([2,4,6,8])\n",
    "arr4 = np.array([1,3,5,7])\n",
    "print(f\"Exponenation of two array using operator: \\n{arr3**arr4}\")\n",
    "print(f\"Exponenation of two array using function: \\n{np.power(arr3,arr4)}\")"
   ]
  },
  {
   "cell_type": "markdown",
   "id": "89b75cdc",
   "metadata": {},
   "source": [
    "#### 6. Create Two Array Perform \n",
    "* 1. Modulus using operator \n",
    "* 2. Modulus using function"
   ]
  },
  {
   "cell_type": "code",
   "execution_count": 18,
   "id": "86314ddb",
   "metadata": {},
   "outputs": [
    {
     "name": "stdout",
     "output_type": "stream",
     "text": [
      "Exponenation of two array using operator: \n",
      "[0 1 1 1]\n",
      "Exponenation of two array using function: \n",
      "[0 1 1 1]\n"
     ]
    }
   ],
   "source": [
    "print(f\"Exponenation of two array using operator: \\n{arr3%arr4}\")\n",
    "print(f\"Exponenation of two array using function: \\n{np.mod(arr3,arr4)}\")"
   ]
  },
  {
   "cell_type": "markdown",
   "id": "1ea13034",
   "metadata": {},
   "source": [
    "#### 7. Create & 1D array, Convert 1D array into a 2D array, transpose the 2D array."
   ]
  },
  {
   "cell_type": "code",
   "execution_count": 23,
   "id": "b5360f9d",
   "metadata": {},
   "outputs": [
    {
     "name": "stdout",
     "output_type": "stream",
     "text": [
      "1D Array:[ 1  3  5  7  9 11 13 15 17 19 21 23]\n",
      "Convert into 2D Array: \n",
      " [[ 1  3  5  7]\n",
      " [ 9 11 13 15]\n",
      " [17 19 21 23]]\n",
      "Transpose 2D Array: \n",
      " [[ 1  9 17]\n",
      " [ 3 11 19]\n",
      " [ 5 13 21]\n",
      " [ 7 15 23]]\n"
     ]
    }
   ],
   "source": [
    "arr5 = np.arange(1,25,2)\n",
    "print(f\"1D Array:{arr5}\")\n",
    "\n",
    "convert_into_2d = np.reshape(arr5,(3,4))\n",
    "print(f\"Convert into 2D Array: \\n {convert_into_2d}\")\n",
    "\n",
    "tranpose_2d = np.transpose(convert_into_2d)\n",
    "print(f\"Transpose 2D Array: \\n {tranpose_2d}\")"
   ]
  },
  {
   "cell_type": "markdown",
   "id": "b11c8bee",
   "metadata": {},
   "source": [
    "#### 8. Create an Array with datatype as float, round the array to two decimal places."
   ]
  },
  {
   "cell_type": "code",
   "execution_count": 30,
   "id": "e65c382a",
   "metadata": {},
   "outputs": [
    {
     "name": "stdout",
     "output_type": "stream",
     "text": [
      "Array with data type as float:[10.2356  24.2456   0.45698] \n",
      "Round of the array to two decimal: [10.24 24.25  0.46]\n"
     ]
    }
   ],
   "source": [
    "arr6 = np.array([10.2356,24.2456,0.45698],dtype=np.float64)\n",
    "print(f\"Array with data type as float:{arr6} \")\n",
    "\n",
    "round_of = np.round(arr6, decimals=2)\n",
    "print(f\"Round of the array to two decimal: {round_of}\")\n"
   ]
  },
  {
   "cell_type": "markdown",
   "id": "ed21c51e",
   "metadata": {},
   "source": [
    "#### 9, create a 1D array with 5 elements, calculate the median\n"
   ]
  },
  {
   "cell_type": "code",
   "execution_count": 32,
   "id": "fe270b07",
   "metadata": {},
   "outputs": [
    {
     "name": "stdout",
     "output_type": "stream",
     "text": [
      "Array with five element: [0 1 2 3 4]\n",
      "Median: 2.0\n"
     ]
    }
   ],
   "source": [
    "arr7 = np.arange(5)\n",
    "print(f\"Array with five element: {arr7}\")\n",
    "print(f\"Median: {np.median(arr7)}\")"
   ]
  },
  {
   "cell_type": "markdown",
   "id": "725346c1",
   "metadata": {},
   "source": [
    "#### 10, create a 1D array with 6 elements, calculate the median"
   ]
  },
  {
   "cell_type": "code",
   "execution_count": 33,
   "id": "653f4a16",
   "metadata": {},
   "outputs": [
    {
     "name": "stdout",
     "output_type": "stream",
     "text": [
      "Array with five element: [10 11 12 13 14 15]\n",
      "Median: 12.5\n"
     ]
    }
   ],
   "source": [
    "arr8 = np.arange(10,16)\n",
    "print(f\"Array with five element: {arr8}\")\n",
    "print(f\"Median: {np.median(arr8)}\")"
   ]
  },
  {
   "cell_type": "markdown",
   "id": "261f317e",
   "metadata": {},
   "source": [
    "#### 11 create a 2D array \n",
    "  1. compute median along horizontal axis.\n",
    "  2. compute median along vertical axis\n",
    "  3. compute median of entire array"
   ]
  },
  {
   "cell_type": "code",
   "execution_count": 37,
   "id": "c035256d",
   "metadata": {},
   "outputs": [
    {
     "name": "stdout",
     "output_type": "stream",
     "text": [
      "2D Array: \n",
      " [[0 1 2]\n",
      " [3 4 5]\n",
      " [6 7 8]]\n",
      "Median along horizontal axis:[1. 4. 7.]\n",
      "Median along vertical axis:[3. 4. 5.]\n",
      "Median of array: 4.0\n"
     ]
    }
   ],
   "source": [
    "arr9 = np.arange(9).reshape(3,3)\n",
    "print(f\"2D Array: \\n {arr9}\")\n",
    "\n",
    "# Compute median along horizontal axis\n",
    "horizontal_axis = np.median(arr9,axis=1) \n",
    "print(f\"Median along horizontal axis:{horizontal_axis}\")\n",
    "\n",
    "# Compute median along vertical axis\n",
    "vertical_axis = np.median(arr9,axis=0) \n",
    "print(f\"Median along vertical axis:{vertical_axis}\")\n",
    "\n",
    "# Median of entire array\n",
    "median = np.median(arr9)\n",
    ",print(f\"Median of array: {median}\")"
   ]
  },
  {
   "cell_type": "markdown",
   "id": "90f72f73",
   "metadata": {},
   "source": [
    "#### 12. Create a array with element as Student Marks, compute the mean of marks,"
   ]
  },
  {
   "cell_type": "code",
   "execution_count": 38,
   "id": "61e629e6",
   "metadata": {},
   "outputs": [
    {
     "name": "stdout",
     "output_type": "stream",
     "text": [
      "Mean of student marks: 78.66666666666667\n"
     ]
    }
   ],
   "source": [
    "student_marks = np.array([87,78,74,82,91,60])\n",
    "print(f\"Mean of student marks: {np.mean(student_marks)}\")"
   ]
  },
  {
   "cell_type": "markdown",
   "id": "b6584e40",
   "metadata": {},
   "source": [
    "####  13. create a 2D array \n",
    "  1. compute Mean along horizontal axis.\n",
    "  2. compute Mean along vertical axis\n",
    "  3. compute Mean of entire array"
   ]
  },
  {
   "cell_type": "code",
   "execution_count": 4,
   "id": "7ecf3680",
   "metadata": {},
   "outputs": [
    {
     "name": "stdout",
     "output_type": "stream",
     "text": [
      "2D Array: \n",
      " [[ 0  1  2]\n",
      " [ 3  4  5]\n",
      " [ 6  7  8]\n",
      " [ 9 10 11]\n",
      " [12 13 14]]\n",
      "Mean along horizontal axis:[ 1.  4.  7. 10. 13.]\n",
      "Mean along vertical axis:[6. 7. 8.]\n",
      "mean of array: 7.0\n"
     ]
    }
   ],
   "source": [
    "arr10 = np.arange(15).reshape(5,3)\n",
    "print(f\"2D Array: \\n {arr10}\")\n",
    "\n",
    "# Compute mean along horizontal axis\n",
    "horizontal_axis_mean = np.mean(arr10,axis=1) \n",
    "print(f\"Mean along horizontal axis:{horizontal_axis_mean}\")\n",
    "\n",
    "# Compute mean along vertical axis\n",
    "vertical_axis_mean = np.mean(arr10,axis=0) \n",
    "print(f\"Mean along vertical axis:{vertical_axis_mean}\")\n",
    "\n",
    "# mean of entire array\n",
    "mean = np.mean(arr10)\n",
    "print(f\"mean of array: {mean}\")"
   ]
  },
  {
   "cell_type": "markdown",
   "id": "09b507f5",
   "metadata": {},
   "source": [
    "#### 14. Create a array with element as Student Marks, compute the Standard Deviation of marks."
   ]
  },
  {
   "cell_type": "code",
   "execution_count": 5,
   "id": "933e7ec4",
   "metadata": {},
   "outputs": [
    {
     "name": "stdout",
     "output_type": "stream",
     "text": [
      "Standard Deviation of student marks:10.027739304327548\n"
     ]
    }
   ],
   "source": [
    "stud_marks = np.array([87,78,74,82,91,60])\n",
    "print(f\"Standard Deviation of student marks:{np.std(stud_marks)}\")"
   ]
  },
  {
   "cell_type": "markdown",
   "id": "da4ff634",
   "metadata": {},
   "source": [
    "### 15. create a 2D array \n",
    "   1. compute Standard Deviation along horizontal axis.\n",
    "   2. compute Standard Deviation along vertical axis\n",
    "   3. compute Standard Deviation of entire array"
   ]
  },
  {
   "cell_type": "code",
   "execution_count": 6,
   "id": "764c83cb",
   "metadata": {},
   "outputs": [
    {
     "name": "stdout",
     "output_type": "stream",
     "text": [
      "2D Array: \n",
      " [[ 0  1  2]\n",
      " [ 3  4  5]\n",
      " [ 6  7  8]\n",
      " [ 9 10 11]\n",
      " [12 13 14]]\n",
      "STD along horizontal axis:[0.81649658 0.81649658 0.81649658 0.81649658 0.81649658]\n",
      "STD along vertical axis:[4.24264069 4.24264069 4.24264069]\n",
      "STD of array: 4.320493798938574\n"
     ]
    }
   ],
   "source": [
    "arr11 = np.arange(15).reshape(5,3)\n",
    "print(f\"2D Array: \\n {arr11}\")\n",
    "\n",
    "# Compute std along horizontal axis\n",
    "horizontal_axis_std = np.std(arr11,axis=1) \n",
    "print(f\"STD along horizontal axis:{horizontal_axis_std}\")\n",
    "\n",
    "# Compute mean along vertical axis\n",
    "vertical_axis_std = np.std(arr11,axis=0) \n",
    "print(f\"STD along vertical axis:{vertical_axis_std}\")\n",
    "\n",
    "# mean of entire array\n",
    "std = np.std(arr11)\n",
    "print(f\"STD of array: {std}\")"
   ]
  },
  {
   "cell_type": "markdown",
   "id": "f093540e",
   "metadata": {},
   "source": [
    "#### 16. Create an array and find minimum and maximum value of array "
   ]
  },
  {
   "cell_type": "code",
   "execution_count": 7,
   "id": "41dac9b5",
   "metadata": {},
   "outputs": [
    {
     "name": "stdout",
     "output_type": "stream",
     "text": [
      "2D Array: \n",
      " [[ 0  1  2]\n",
      " [ 3  4  5]\n",
      " [ 6  7  8]\n",
      " [ 9 10 11]\n",
      " [12 13 14]]\n",
      "Maximum value of array: 14\n",
      "Minimum value of array: 0\n"
     ]
    }
   ],
   "source": [
    "arr12 = np.arange(15).reshape(5,3)\n",
    "print(f\"2D Array: \\n {arr11}\")\n",
    "print(f\"Maximum value of array: {np.max(arr12)}\")\n",
    "print(f\"Minimum value of array: {np.min(arr12)}\")"
   ]
  },
  {
   "cell_type": "code",
   "execution_count": null,
   "id": "d832840c",
   "metadata": {},
   "outputs": [],
   "source": []
  }
 ],
 "metadata": {
  "kernelspec": {
   "display_name": "Python 3 (ipykernel)",
   "language": "python",
   "name": "python3"
  },
  "language_info": {
   "codemirror_mode": {
    "name": "ipython",
    "version": 3
   },
   "file_extension": ".py",
   "mimetype": "text/x-python",
   "name": "python",
   "nbconvert_exporter": "python",
   "pygments_lexer": "ipython3",
   "version": "3.12.4"
  }
 },
 "nbformat": 4,
 "nbformat_minor": 5
}

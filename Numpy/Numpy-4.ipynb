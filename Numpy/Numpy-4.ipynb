{
 "cells": [
  {
   "cell_type": "code",
   "execution_count": null,
   "id": "6956592a",
   "metadata": {},
   "outputs": [],
   "source": [
    "\"\"\" 1. Create Array Using Python List. [2, 4, 6, 8]\n",
    "\n",
    "2. Create An Array by Directly Passing element\n",
    "\n",
    "3. Create an array with 4 elements filled with zeros\n",
    "\n",
    "4. Create an array filled with values 1\n",
    "\n",
    "5. Create an array with values from 0 to 4.\n",
    "\n",
    "6. Create an array with values from 1 to 8 with a step of 27. Generate an array of 5 random numbers.\n",
    "\n",
    "7. Generate an array of 5 random numbers.\n",
    "\n",
    "8. Create an empty array of length 4.\n",
    "\n",
    "9. Create a 2D array with 2 rows and 4 columns\n",
    "\n",
    "10. Create a 3D array with 2 \"slices\", each of 3 rows and 4 columns (also use Type() function)\n",
    "\n",
    "11. Create a 2-D array with elements initialized to 5\n",
    "\n",
    "12. create an array of integers, floating Points, Complex Number.\n",
    "\n",
    "13. create an array of integers. convert data type of int_array to float.\n",
    "\n",
    "14. create a 2-D array\n",
    "\n",
    "    1. check the dimension of array\n",
    "    2. return total number of elements in array\n",
    "    3. return a tuple that gives size of array in each dimension\n",
    "    4. check the data type of array\n",
    "    5. Check memory address of array\n",
    "\n",
    "15. Create array of element [1, 3, 5, 7, 9)\n",
    "    1. Access 1 ^ e * 3 ^ (e') * 0.5 ^ e element\n",
    "    2. Change the value of 1 deg element as 12 and 3 ^ * element as 14\n",
    "    3. Access Last element, Second-Last Element\n",
    "    4. Modify Last element, Second-Last Element\n",
    "\n",
    "16. Create 2-D array [ [1, 3, 5, 7], [9, 11, 13, 15], [2, 4, 6, 8l]\n",
    "    1. access the element at the second row and fourth column\n",
    "    2. access the element at the first row and second column\"\"\""
   ]
  },
  {
   "cell_type": "code",
   "execution_count": 2,
   "id": "aa67dd30",
   "metadata": {},
   "outputs": [],
   "source": [
    "import numpy as np"
   ]
  },
  {
   "cell_type": "code",
   "execution_count": 3,
   "id": "f1498ffb",
   "metadata": {},
   "outputs": [
    {
     "name": "stdout",
     "output_type": "stream",
     "text": [
      "Array Using Python List: [2 4 6 8]\n"
     ]
    }
   ],
   "source": [
    "#  1. Create Array Using Python List. [2, 4, 6, 8]\n",
    "list1 = [2,4,6,8]\n",
    "array = np.array(list1)\n",
    "print(f\"Array Using Python List: {array}\")"
   ]
  },
  {
   "cell_type": "code",
   "execution_count": 4,
   "id": "615001a4",
   "metadata": {},
   "outputs": [
    {
     "name": "stdout",
     "output_type": "stream",
     "text": [
      "Array: [ 2  4  6  8 10]\n"
     ]
    }
   ],
   "source": [
    "# 2. Create An Array by Directly Passing element\n",
    "arr = np.array([2,4,6,8,10])\n",
    "print(f\"Array: {arr}\")"
   ]
  },
  {
   "cell_type": "code",
   "execution_count": 5,
   "id": "b8347c22",
   "metadata": {},
   "outputs": [
    {
     "name": "stdout",
     "output_type": "stream",
     "text": [
      "Array with all zeros: [0. 0. 0. 0.]\n"
     ]
    }
   ],
   "source": [
    "# 3. Create an array with 4 elements filled with zeros\n",
    "zero_array = np.zeros(4)\n",
    "print(f\"Array with all zeros: {zero_array}\")"
   ]
  },
  {
   "cell_type": "code",
   "execution_count": 6,
   "id": "c30df458",
   "metadata": {},
   "outputs": [
    {
     "name": "stdout",
     "output_type": "stream",
     "text": [
      "Array with all ones: [1. 1. 1. 1.]\n"
     ]
    }
   ],
   "source": [
    "# 4. Create an array filled with values 1\n",
    "ones_array = np.ones(4)\n",
    "print(f\"Array with all ones: {ones_array}\")"
   ]
  },
  {
   "cell_type": "code",
   "execution_count": 7,
   "id": "0a3ec259",
   "metadata": {},
   "outputs": [
    {
     "name": "stdout",
     "output_type": "stream",
     "text": [
      "Array with 0 to 4 values: [0 1 2 3]\n"
     ]
    }
   ],
   "source": [
    "# 5. Create an array with values from 0 to 4.\n",
    "array1 = np.arange(0,4)\n",
    "print(f\"Array with 0 to 4 values: {array1}\")"
   ]
  },
  {
   "cell_type": "code",
   "execution_count": 10,
   "id": "e4ffbd41",
   "metadata": {},
   "outputs": [
    {
     "name": "stdout",
     "output_type": "stream",
     "text": [
      "Random Array: [1 3 5 7]\n"
     ]
    }
   ],
   "source": [
    "# 6. Create an array with values from 1 to 8 with a step of 27. \n",
    "array2 = np.arange(1,8,2)\n",
    "print(f\"Random Array: {array2}\")"
   ]
  },
  {
   "cell_type": "code",
   "execution_count": 11,
   "id": "d3e76dcc",
   "metadata": {},
   "outputs": [
    {
     "name": "stdout",
     "output_type": "stream",
     "text": [
      "Random Array: [0.83125027 0.97073346 0.17211946 0.21165776 0.10501334]\n"
     ]
    }
   ],
   "source": [
    "# Generate an array of 5 random numbers.\n",
    "random = np.random.random(5)\n",
    "print(f\"Random Array: {random}\")"
   ]
  },
  {
   "cell_type": "code",
   "execution_count": 12,
   "id": "f2345ae6",
   "metadata": {},
   "outputs": [
    {
     "name": "stdout",
     "output_type": "stream",
     "text": [
      "Empty array with shape:[1. 1. 1. 1.]\n"
     ]
    }
   ],
   "source": [
    "# 8. Create an empty array of length 4.\n",
    "empty = np.empty(4)\n",
    "print(f\"Empty array with shape:{empty}\")"
   ]
  },
  {
   "cell_type": "code",
   "execution_count": 13,
   "id": "1133e26f",
   "metadata": {},
   "outputs": [
    {
     "name": "stdout",
     "output_type": "stream",
     "text": [
      "[[1 2 3 4]\n",
      " [5 6 7 8]]\n"
     ]
    }
   ],
   "source": [
    "# 9. Create a 2D array with 2 rows and 4 columns\n",
    "array2d = np.array([[1,2,3,4],[5,6,7,8]])\n",
    "print(array2d)"
   ]
  },
  {
   "cell_type": "code",
   "execution_count": 35,
   "id": "5052a58b",
   "metadata": {},
   "outputs": [
    {
     "name": "stdout",
     "output_type": "stream",
     "text": [
      "Type: <class 'numpy.ndarray'>\n"
     ]
    },
    {
     "data": {
      "text/plain": [
       "array([[[0, 0, 0, 0],\n",
       "        [0, 0, 0, 0],\n",
       "        [0, 0, 0, 0]],\n",
       "\n",
       "       [[0, 0, 0, 0],\n",
       "        [0, 0, 0, 0],\n",
       "        [0, 0, 0, 0]]])"
      ]
     },
     "execution_count": 35,
     "metadata": {},
     "output_type": "execute_result"
    }
   ],
   "source": [
    "# 10. Create a 3D array with 2 \"slices\", each of 3 rows and 4 columns (also use Type() function)\n",
    "array3d_with_two_slices = np.zeros((2,3,4),int)\n",
    "print(f\"Type: {type(array3d_with_two_slices)}\")\n",
    "array3d_with_two_slices\n"
   ]
  },
  {
   "cell_type": "code",
   "execution_count": 33,
   "id": "da4e6ad8",
   "metadata": {},
   "outputs": [
    {
     "name": "stdout",
     "output_type": "stream",
     "text": [
      "2D Array with all element 5: \n",
      "[[5 5 5]\n",
      " [5 5 5]\n",
      " [5 5 5]]\n",
      "Dimenesion of array: 2\n"
     ]
    }
   ],
   "source": [
    "#  11. Create a 2-D array with elements initialized to 5\n",
    "array_2d = np.ones((3,3),int)\n",
    "print(f\"2D Array with all element 5: \\n{array_2d*5}\")\n",
    "print(f\"Dimenesion of array: {array_2d.ndim}\")"
   ]
  },
  {
   "cell_type": "code",
   "execution_count": 37,
   "id": "93d7110b",
   "metadata": {},
   "outputs": [
    {
     "name": "stdout",
     "output_type": "stream",
     "text": [
      "Array Fill with all integer values: [1 1 1 1 1]\n",
      "Array fill with all float values: [1. 1. 1. 1. 1.]\n",
      "Array fill with all complex vales: [1.+0.j 1.+0.j 1.+0.j 1.+0.j 1.+0.j]\n"
     ]
    }
   ],
   "source": [
    "# 12. create an array of integers, floating Points, Complex Number\n",
    "intarr = np.ones(5, int)\n",
    "print(f\"Array Fill with all integer values: {intarr}\")\n",
    "\n",
    "floatarr = np.ones(5)\n",
    "print(f\"Array fill with all float values: {floatarr}\")\n",
    "\n",
    "complexarr = np.ones(5,complex)\n",
    "print(f\"Array fill with all complex vales: {complexarr}\")"
   ]
  },
  {
   "cell_type": "code",
   "execution_count": 39,
   "id": "92c4bb9a",
   "metadata": {},
   "outputs": [
    {
     "data": {
      "text/plain": [
       "array([1., 2., 3., 4., 5., 6., 7., 8., 9.])"
      ]
     },
     "execution_count": 39,
     "metadata": {},
     "output_type": "execute_result"
    }
   ],
   "source": [
    "#  13. create an array of integers. convert data type of int_array to float.\n",
    "arrint = np.arange(1,10, dtype=float)\n",
    "arrint"
   ]
  },
  {
   "cell_type": "code",
   "execution_count": 54,
   "id": "ff2ef6fe",
   "metadata": {},
   "outputs": [
    {
     "name": "stdout",
     "output_type": "stream",
     "text": [
      "2D array: \n",
      "[[0 1 2]\n",
      " [3 4 5]]\n",
      "Dimension of array:2\n",
      "Length of the array: 6\n",
      "Shape of the array: (4,)\n",
      "Data type of arryay: <class 'numpy.ndarray'>\n",
      "Memory address of array: 1390421981296\n"
     ]
    }
   ],
   "source": [
    "# 14. create a 2-D array\n",
    "array3 = np.arange(6).reshape(2,3)\n",
    "print(f\"2D array: \\n{array3}\")\n",
    "\n",
    "#  1. check the dimension of array\n",
    "print(f\"Dimension of array:{array3.ndim}\")\n",
    "\n",
    "#   2. return total number of elements in array\n",
    "print(f\"Length of the array: {array3.size}\")\n",
    "\n",
    "#   3. return a tuple that gives size of array in each dimension\n",
    "print(f\"Shape of the array: {array.shape}\")\n",
    "\n",
    "#   4. check the data type of array\n",
    "print(f\"Data type of arryay: {type(array3)}\")\n",
    "\n",
    "#   5. Check memory address of array\n",
    "print(f\"Memory address of array: {id(array)}\")\n"
   ]
  },
  {
   "cell_type": "code",
   "execution_count": 58,
   "id": "a5d8260f",
   "metadata": {},
   "outputs": [
    {
     "name": "stdout",
     "output_type": "stream",
     "text": [
      "[1 3 5 7 9]\n",
      "Accessing the First element: 1, Accessing the third element: 5 , Accessing the fifth element: 9\n",
      "[12  3 14  7  9]\n",
      "Access last element: 8 Second last element: 7\n",
      "Modify Last element, Second-Last Element: [12  3 14  2  1]\n"
     ]
    }
   ],
   "source": [
    "# 15. Create array of element [1, 3, 5, 7, 9]\n",
    "array4 = np.array([1, 3, 5, 7, 9])\n",
    "print(array4)\n",
    "\n",
    "#   1. Access first, third and 5th element\n",
    "print(f\"Accessing the First element: {array4[0]}, Accessing the third element: {array4[2]} , Accessing the fifth element: {array4[4]}\")\n",
    "\n",
    "#   2. Change the value of 1 element as 12 and 3 element as 14\n",
    "array4[0], array4[2] = 12, 14\n",
    "print(array4)\n",
    "\n",
    "#  3. Access Last element, Second-Last Element\n",
    "print(f\"Access last element: {array[-1]} Second last element: {array4[-2]}\")\n",
    "\n",
    "#  4. Modify Last element, Second-Last Element\n",
    "array4[-1], array4[-2] = 1, 2\n",
    "print(f\"Modify Last element, Second-Last Element: {array4}\")"
   ]
  },
  {
   "cell_type": "code",
   "execution_count": 65,
   "id": "3e71f58c",
   "metadata": {},
   "outputs": [
    {
     "name": "stdout",
     "output_type": "stream",
     "text": [
      "2D array: \n",
      " [[ 1  3  5  7]\n",
      " [ 9 11 13 15]\n",
      " [ 2  4  6  8]]\n",
      "Access the element at the second row and fourth column: 15\n",
      "Access the element at the first row and second column: 3\n"
     ]
    }
   ],
   "source": [
    "# 16. Create 2-D array \n",
    "array5 = np.array([ [1, 3, 5, 7], [9, 11, 13, 15], [2, 4, 6, 8]])\n",
    "print(f\"2D array: \\n {array5}\")\n",
    "\n",
    "#   1. access the element at the second row and fourth column\n",
    "print(f\"Access the element at the second row and fourth column: {array5[1][3]}\")\n",
    "\n",
    "#   2. access the element at the first row and second column\n",
    "print(f\"Access the element at the first row and second column: {array5[0][1]}\")"
   ]
  },
  {
   "cell_type": "code",
   "execution_count": null,
   "id": "1ca664ff",
   "metadata": {},
   "outputs": [],
   "source": []
  }
 ],
 "metadata": {
  "kernelspec": {
   "display_name": "Python 3 (ipykernel)",
   "language": "python",
   "name": "python3"
  },
  "language_info": {
   "codemirror_mode": {
    "name": "ipython",
    "version": 3
   },
   "file_extension": ".py",
   "mimetype": "text/x-python",
   "name": "python",
   "nbconvert_exporter": "python",
   "pygments_lexer": "ipython3",
   "version": "3.12.4"
  }
 },
 "nbformat": 4,
 "nbformat_minor": 5
}

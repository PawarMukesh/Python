{
 "cells": [
  {
   "cell_type": "markdown",
   "id": "206dd29b",
   "metadata": {},
   "source": [
    "### Q 1. Declare the numpy array of 1-D and find the comman elements from these array"
   ]
  },
  {
   "cell_type": "code",
   "execution_count": 1,
   "id": "29907986",
   "metadata": {},
   "outputs": [],
   "source": [
    "import numpy as np"
   ]
  },
  {
   "cell_type": "code",
   "execution_count": 7,
   "id": "5c67141d",
   "metadata": {},
   "outputs": [
    {
     "name": "stdout",
     "output_type": "stream",
     "text": [
      "[1 2 3 4 8 9]\n"
     ]
    }
   ],
   "source": [
    "array1 = np.array([1,1,2,1,3,4,4,4,4,8,9])\n",
    "array2 = np.copy(array)\n",
    "\n",
    "# Get comman element\n",
    "comman_element = np.intersect1d(array1, array2)\n",
    "\n",
    "# print the comman element array\n",
    "print(comman_element)"
   ]
  },
  {
   "cell_type": "markdown",
   "id": "32d6b763",
   "metadata": {},
   "source": [
    "### Q 2. Declare a numpy array(1-D) and create another array 1-D  which contains element of first array in reverse order\n",
    "\n",
    "* e.g arr1 = [1,2,3,4,5]\n",
    "* The second array should be [5,4,3,2,1]"
   ]
  },
  {
   "cell_type": "code",
   "execution_count": 8,
   "id": "cdb7124d",
   "metadata": {},
   "outputs": [
    {
     "name": "stdout",
     "output_type": "stream",
     "text": [
      "First Array:[1 2 3 4 5]\n",
      "Reverse Second Array: [5 4 3 2 1]\n"
     ]
    }
   ],
   "source": [
    "# First array\n",
    "arr1 = np.array([1,2,3,4,5])\n",
    "\n",
    "# Second array in reverse order\n",
    "reverse_array = arr1[::-1]\n",
    "\n",
    "print(f\"First Array:{arr1}\")\n",
    "print(f\"Reverse Second Array: {reverse_array}\")"
   ]
  },
  {
   "cell_type": "code",
   "execution_count": null,
   "id": "cefaeafa",
   "metadata": {},
   "outputs": [],
   "source": []
  }
 ],
 "metadata": {
  "kernelspec": {
   "display_name": "Python 3 (ipykernel)",
   "language": "python",
   "name": "python3"
  },
  "language_info": {
   "codemirror_mode": {
    "name": "ipython",
    "version": 3
   },
   "file_extension": ".py",
   "mimetype": "text/x-python",
   "name": "python",
   "nbconvert_exporter": "python",
   "pygments_lexer": "ipython3",
   "version": "3.12.4"
  }
 },
 "nbformat": 4,
 "nbformat_minor": 5
}

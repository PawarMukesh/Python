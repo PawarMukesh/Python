{
 "cells": [
  {
   "cell_type": "markdown",
   "id": "112c7235",
   "metadata": {},
   "source": [
    "# Function\n",
    "- Small program within program\n",
    "- A function is self contain block, set of rules and instruction to perform some operation\n",
    "-A function is named block"
   ]
  },
  {
   "cell_type": "markdown",
   "id": "2f33c3de",
   "metadata": {},
   "source": [
    "## Advantage of function\n",
    "1. Modularity\n",
    "2. Reusability\n",
    "3. Redability\n",
    "4. Efficiency"
   ]
  },
  {
   "cell_type": "markdown",
   "id": "16c46641",
   "metadata": {},
   "source": [
    "## Types of Function\n",
    "**1. Pre-defined function:**\n",
    "- The function provide by python are called pre-defined or inbuild function\n",
    "\n",
    "**2. User Define function:**\n",
    "- the function build by programmer is called user define function"
   ]
  },
  {
   "cell_type": "markdown",
   "id": "e578e374",
   "metadata": {},
   "source": [
    "## Different way to return function\n",
    "**1.Function with argument without return value**\n",
    "\n",
    "**2.Function with argument with return value**\n",
    "- Argument or parameters are called local variables\n",
    "\n",
    "**3.Function without argument and without return value**\n",
    "- Function without argument cannot receive any value or function without arument\n",
    "\n",
    "**4.Function without agrument with return value**"
   ]
  },
  {
   "cell_type": "markdown",
   "id": "b8f3e9d0",
   "metadata": {},
   "source": [
    "# 1.Function Without argument"
   ]
  },
  {
   "cell_type": "code",
   "execution_count": 1,
   "id": "d9fd9528",
   "metadata": {},
   "outputs": [
    {
     "name": "stdout",
     "output_type": "stream",
     "text": [
      "This is a function\n"
     ]
    }
   ],
   "source": [
    "# Function creation\n",
    "\n",
    "def sayHello(): # Function defination..5333333333333333333333.0000000\n",
    "    print(\"This is a function\")\n",
    "    \n",
    "# Function calling \n",
    "sayHello()"
   ]
  },
  {
   "cell_type": "code",
   "execution_count": 4,
   "id": "09cb2ecf",
   "metadata": {},
   "outputs": [
    {
     "name": "stdout",
     "output_type": "stream",
     "text": [
      "* * * * * * * * * * * * * * * * * * * * \n"
     ]
    }
   ],
   "source": [
    "def drawLine():\n",
    "    for i in range(20):\n",
    "        print('*',end=' ')\n",
    "    print()\n",
    "    \n",
    "drawLine()"
   ]
  },
  {
   "cell_type": "markdown",
   "id": "93f7ae13",
   "metadata": {},
   "source": [
    "## Local Variable\n",
    "- A variable declare inside the function"
   ]
  },
  {
   "cell_type": "code",
   "execution_count": 5,
   "id": "1988f526",
   "metadata": {},
   "outputs": [
    {
     "name": "stdout",
     "output_type": "stream",
     "text": [
      "100 200\n"
     ]
    }
   ],
   "source": [
    "def fun1():\n",
    "    x=100 # Local variable\n",
    "    y=200 # Local variable\n",
    "    print(x, y)\n",
    "    \n",
    "    \n",
    "fun1() # Calling function"
   ]
  },
  {
   "cell_type": "code",
   "execution_count": 6,
   "id": "97559dcc",
   "metadata": {},
   "outputs": [
    {
     "data": {
      "text/plain": [
       "100"
      ]
     },
     "execution_count": 6,
     "metadata": {},
     "output_type": "execute_result"
    }
   ],
   "source": [
    "def fun1():\n",
    "    x=100\n",
    "    return x\n",
    "\n",
    "fun1()"
   ]
  },
  {
   "cell_type": "code",
   "execution_count": 7,
   "id": "700713a1",
   "metadata": {},
   "outputs": [
    {
     "ename": "NameError",
     "evalue": "name 'x' is not defined",
     "output_type": "error",
     "traceback": [
      "\u001b[1;31m---------------------------------------------------------------------------\u001b[0m",
      "\u001b[1;31mNameError\u001b[0m                                 Traceback (most recent call last)",
      "\u001b[1;32m~\\AppData\\Local\\Temp\\ipykernel_28384\\2717407207.py\u001b[0m in \u001b[0;36m<module>\u001b[1;34m\u001b[0m\n\u001b[0;32m      2\u001b[0m     \u001b[0mprint\u001b[0m\u001b[1;33m(\u001b[0m\u001b[0mx\u001b[0m\u001b[1;33m)\u001b[0m\u001b[1;33m\u001b[0m\u001b[1;33m\u001b[0m\u001b[0m\n\u001b[0;32m      3\u001b[0m \u001b[1;33m\u001b[0m\u001b[0m\n\u001b[1;32m----> 4\u001b[1;33m \u001b[0mfun2\u001b[0m\u001b[1;33m(\u001b[0m\u001b[1;33m)\u001b[0m\u001b[1;33m\u001b[0m\u001b[1;33m\u001b[0m\u001b[0m\n\u001b[0m",
      "\u001b[1;32m~\\AppData\\Local\\Temp\\ipykernel_28384\\2717407207.py\u001b[0m in \u001b[0;36mfun2\u001b[1;34m()\u001b[0m\n\u001b[0;32m      1\u001b[0m \u001b[1;32mdef\u001b[0m \u001b[0mfun2\u001b[0m\u001b[1;33m(\u001b[0m\u001b[1;33m)\u001b[0m\u001b[1;33m:\u001b[0m\u001b[1;33m\u001b[0m\u001b[1;33m\u001b[0m\u001b[0m\n\u001b[1;32m----> 2\u001b[1;33m     \u001b[0mprint\u001b[0m\u001b[1;33m(\u001b[0m\u001b[0mx\u001b[0m\u001b[1;33m)\u001b[0m\u001b[1;33m\u001b[0m\u001b[1;33m\u001b[0m\u001b[0m\n\u001b[0m\u001b[0;32m      3\u001b[0m \u001b[1;33m\u001b[0m\u001b[0m\n\u001b[0;32m      4\u001b[0m \u001b[0mfun2\u001b[0m\u001b[1;33m(\u001b[0m\u001b[1;33m)\u001b[0m\u001b[1;33m\u001b[0m\u001b[1;33m\u001b[0m\u001b[0m\n",
      "\u001b[1;31mNameError\u001b[0m: name 'x' is not defined"
     ]
    }
   ],
   "source": [
    "def fun2():\n",
    "    print(x)  # Can-not use local variable outside of function\n",
    "    \n",
    "fun2()"
   ]
  },
  {
   "cell_type": "markdown",
   "id": "9424f691",
   "metadata": {},
   "source": [
    "## Globel variable\n",
    "- A variable declare outside of function is called as globel variable"
   ]
  },
  {
   "cell_type": "code",
   "execution_count": 9,
   "id": "65ad4fb4",
   "metadata": {},
   "outputs": [
    {
     "name": "stdout",
     "output_type": "stream",
     "text": [
      "10 20\n",
      "10 20\n"
     ]
    }
   ],
   "source": [
    "a=10\n",
    "b=20\n",
    "\n",
    "def fun1():\n",
    "    print(a, b)\n",
    "    \n",
    "    \n",
    "def fun2():\n",
    "    print(a, b)\n",
    "  \n",
    "# Function calling\n",
    "fun1()\n",
    "\n",
    "fun2()"
   ]
  },
  {
   "cell_type": "code",
   "execution_count": 15,
   "id": "ea342631",
   "metadata": {},
   "outputs": [
    {
     "name": "stdout",
     "output_type": "stream",
     "text": [
      "Enter n1 value: 5\n",
      "Enter n2 value: 2\n",
      "1.Sum of 5 and 2 is 7\n",
      "2.Subtraction of 5 and 2 is 3\n",
      "3.Multiplication of 5 and 2 is 10\n",
      "4.Division of 5 and 2 is 2.5\n"
     ]
    }
   ],
   "source": [
    "n1=int(input(\"Enter n1 value: \"))\n",
    "n2=int(input(\"Enter n2 value: \"))\n",
    "\n",
    "def add():\n",
    "    print(f\"1.Sum of {n1} and {n2} is {n1+n2}\")\n",
    "    \n",
    "def subtract():\n",
    "    print(f\"2.Subtraction of {n1} and {n2} is {n1-n2}\")\n",
    "    \n",
    "def multply():\n",
    "    print(f\"3.Multiplication of {n1} and {n2} is {n1*n2}\")\n",
    "    \n",
    "def division():\n",
    "    print(f\"4.Division of {n1} and {n2} is {n1/n2}\")\n",
    "    \n",
    "    \n",
    "# Function calling\n",
    "add()\n",
    "\n",
    "subtract()\n",
    "\n",
    "multply()\n",
    "\n",
    "division()\n",
    "    "
   ]
  },
  {
   "cell_type": "code",
   "execution_count": 19,
   "id": "6cce79dc",
   "metadata": {},
   "outputs": [
    {
     "name": "stdout",
     "output_type": "stream",
     "text": [
      "100\n",
      "200\n",
      "800\n",
      "600\n",
      "100\n"
     ]
    }
   ],
   "source": [
    "x=100 # Global variable\n",
    "def fun1():\n",
    "    y=200 # local variable\n",
    "    print(x)\n",
    "    print(y)\n",
    "    \n",
    "def fun2():\n",
    "    x=400 # Create local variable with name x\n",
    "    y=600 # Create local variable with name y\n",
    "    x=800 # update local variable x to 800\n",
    "    print(x)\n",
    "    print(y)\n",
    "\n",
    "def fun3():\n",
    "    print(x)\n",
    "\n",
    "# Calling function\n",
    "\n",
    "fun1()\n",
    "\n",
    "fun2()\n",
    "\n",
    "fun3()"
   ]
  },
  {
   "cell_type": "markdown",
   "id": "e31d5934",
   "metadata": {},
   "source": [
    "### Global keyword\n",
    "- The global keyword is used to create global variables from a no-global scope, e.g. inside a function."
   ]
  },
  {
   "cell_type": "code",
   "execution_count": 20,
   "id": "e8b21d3c",
   "metadata": {},
   "outputs": [
    {
     "name": "stdout",
     "output_type": "stream",
     "text": [
      "100\n",
      "300\n",
      "600\n"
     ]
    }
   ],
   "source": [
    "x=100\n",
    "def fun1():\n",
    "    print(x)  # Accessing global variable\n",
    "    \n",
    "def fun2():\n",
    "    x=300 # local  variable\n",
    "    print(x)\n",
    "    \n",
    "def fun3():\n",
    "    global x # Global variable\n",
    "    x=600\n",
    "    print(x)\n",
    "    \n",
    "fun1()\n",
    "\n",
    "fun2()\n",
    "\n",
    "fun3()"
   ]
  },
  {
   "cell_type": "code",
   "execution_count": 24,
   "id": "9cd2e362",
   "metadata": {},
   "outputs": [
    {
     "name": "stdout",
     "output_type": "stream",
     "text": [
      "Enter base of the traingle: 5\n",
      "Enter height of the traingle: 2\n",
      "Area of triangle with 5.0 & 2.0 is 5.0\n"
     ]
    }
   ],
   "source": [
    "\"\"\" Find area of traingle\n",
    " \"\"\"\n",
    "\n",
    "base=0.0\n",
    "height=0.0\n",
    "\n",
    "def read():\n",
    "    global base, height\n",
    "    base=float(input(\"Enter base of the traingle: \"))\n",
    "    height=float(input(\"Enter height of the traingle: \"))\n",
    "\n",
    "def find_area():\n",
    "    area=0.5*base*height\n",
    "    print(f\"Area of triangle with {base} & {height} is {area}\")\n",
    "\n",
    "read()\n",
    "\n",
    "find_area()"
   ]
  },
  {
   "cell_type": "markdown",
   "id": "e2ffd03b",
   "metadata": {},
   "source": [
    "# 2.Function with argument with return value\n",
    "- Argument or parameters are called local variables\n"
   ]
  },
  {
   "cell_type": "markdown",
   "id": "f4647f15",
   "metadata": {},
   "source": [
    "**Four types of arguments**\n",
    "1. Function with required argument\n",
    "\n",
    "2. Function with default argument\n",
    "\n",
    "3. Function with variable length argument\n",
    "\n",
    "4. Function with keyword argument"
   ]
  },
  {
   "cell_type": "code",
   "execution_count": null,
   "id": "9011fa21",
   "metadata": {},
   "outputs": [],
   "source": []
  }
 ],
 "metadata": {
  "kernelspec": {
   "display_name": "Python 3 (ipykernel)",
   "language": "python",
   "name": "python3"
  },
  "language_info": {
   "codemirror_mode": {
    "name": "ipython",
    "version": 3
   },
   "file_extension": ".py",
   "mimetype": "text/x-python",
   "name": "python",
   "nbconvert_exporter": "python",
   "pygments_lexer": "ipython3",
   "version": "3.9.13"
  }
 },
 "nbformat": 4,
 "nbformat_minor": 5
}

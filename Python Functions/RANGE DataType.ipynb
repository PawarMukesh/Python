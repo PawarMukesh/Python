{
 "cells": [
  {
   "cell_type": "markdown",
   "id": "5712f859",
   "metadata": {},
   "source": [
    "# Range DataType"
   ]
  },
  {
   "cell_type": "markdown",
   "id": "b5736946",
   "metadata": {},
   "source": [
    "**Print all Even numbers in range** "
   ]
  },
  {
   "cell_type": "code",
   "execution_count": 18,
   "id": "e64d4d00",
   "metadata": {},
   "outputs": [
    {
     "name": "stdout",
     "output_type": "stream",
     "text": [
      "Enter the start:1\n",
      "Enter the stop:30\n",
      "2 4 6 8 10 12 14 16 18 20 22 24 26 28 "
     ]
    }
   ],
   "source": [
    "start = int(input(\"Enter the start:\"))\n",
    "Stop = int(input(\"Enter the stop:\"))\n",
    "r=range(start,Stop)\n",
    "for no in r:\n",
    "    if no%2==0:\n",
    "        print(no, end=' ')"
   ]
  },
  {
   "cell_type": "markdown",
   "id": "17c5df5f",
   "metadata": {},
   "source": [
    "**Print all Odd numbers in range**"
   ]
  },
  {
   "cell_type": "code",
   "execution_count": 16,
   "id": "7f26ea22",
   "metadata": {},
   "outputs": [
    {
     "name": "stdout",
     "output_type": "stream",
     "text": [
      "Enter the start:1\n",
      "Enter the stop:10\n",
      "1\n",
      "3\n",
      "5\n",
      "7\n",
      "9\n"
     ]
    }
   ],
   "source": [
    "start = int(input(\"Enter the start:\"))\n",
    "Stop = int(input(\"Enter the stop:\"))\n",
    "r=range(start,Stop)\n",
    "for no in r:\n",
    "    if no%2!=0:\n",
    "        print(no)"
   ]
  },
  {
   "cell_type": "markdown",
   "id": "78bf533e",
   "metadata": {},
   "source": [
    "**Write a program to print a table of input number**"
   ]
  },
  {
   "cell_type": "code",
   "execution_count": 20,
   "id": "e36fcc76",
   "metadata": {},
   "outputs": [
    {
     "name": "stdout",
     "output_type": "stream",
     "text": [
      "Enter the table number:5\n",
      "5 x 1 = 5\n",
      "5 x 2 = 10\n",
      "5 x 3 = 15\n",
      "5 x 4 = 20\n",
      "5 x 5 = 25\n",
      "5 x 6 = 30\n",
      "5 x 7 = 35\n",
      "5 x 8 = 40\n",
      "5 x 9 = 45\n",
      "5 x 10 = 50\n"
     ]
    }
   ],
   "source": [
    "table = int(input(\"Enter the table number:\"))\n",
    "for i in range(1,11):\n",
    "    p=table*i\n",
    "    print(table,\"x\",i,\"=\",p)"
   ]
  },
  {
   "cell_type": "code",
   "execution_count": null,
   "id": "84be6a43",
   "metadata": {},
   "outputs": [],
   "source": []
  }
 ],
 "metadata": {
  "kernelspec": {
   "display_name": "Python 3 (ipykernel)",
   "language": "python",
   "name": "python3"
  },
  "language_info": {
   "codemirror_mode": {
    "name": "ipython",
    "version": 3
   },
   "file_extension": ".py",
   "mimetype": "text/x-python",
   "name": "python",
   "nbconvert_exporter": "python",
   "pygments_lexer": "ipython3",
   "version": "3.9.13"
  }
 },
 "nbformat": 4,
 "nbformat_minor": 5
}

{
 "cells": [
  {
   "cell_type": "markdown",
   "id": "68d697ab",
   "metadata": {},
   "source": [
    "# Lambda Function\n",
    "* Lambada is a anonymous  function it take any no of argument but it take only one expression"
   ]
  },
  {
   "cell_type": "markdown",
   "id": "d453e090",
   "metadata": {},
   "source": [
    "**Lambda function without argument**"
   ]
  },
  {
   "cell_type": "code",
   "execution_count": 6,
   "id": "bfb2a833",
   "metadata": {},
   "outputs": [
    {
     "data": {
      "text/plain": [
       "<function __main__.<lambda>()>"
      ]
     },
     "execution_count": 6,
     "metadata": {},
     "output_type": "execute_result"
    }
   ],
   "source": [
    "without = lambda : print(\"Lambda function without argument\")\n",
    "without"
   ]
  },
  {
   "cell_type": "code",
   "execution_count": null,
   "id": "e1ad5269",
   "metadata": {},
   "outputs": [],
   "source": []
  }
 ],
 "metadata": {
  "kernelspec": {
   "display_name": "Python 3 (ipykernel)",
   "language": "python",
   "name": "python3"
  },
  "language_info": {
   "codemirror_mode": {
    "name": "ipython",
    "version": 3
   },
   "file_extension": ".py",
   "mimetype": "text/x-python",
   "name": "python",
   "nbconvert_exporter": "python",
   "pygments_lexer": "ipython3",
   "version": "3.9.13"
  }
 },
 "nbformat": 4,
 "nbformat_minor": 5
}
